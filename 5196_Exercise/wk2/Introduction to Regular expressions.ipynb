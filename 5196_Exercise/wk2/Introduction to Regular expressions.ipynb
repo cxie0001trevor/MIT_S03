{
 "cells": [
  {
   "cell_type": "markdown",
   "metadata": {},
   "source": [
    "# Introduction to Regular Expressions\n",
    "\n",
    "Getting a specific piece of text from a large block of text is a very challenging problem in parsing data.\n",
    "In various programming languages there are built-in string functions available for \n",
    "searching and replacing. For example, the [common string operations](https://docs.python.org/2/library/string.html) built in Python. \n",
    "However, these methods are limited to simplest cases. For example, the `string.find()` method in Python \n",
    "returns the lowest index of the matched substring in a given string.\n",
    "In more complex cases, such as data validation, where you are going to test an string to see if a telephone number pattern occurs within the string, it could result in code containing a stack of \n",
    "`if` statements by using different Python's built-in string functions.\n",
    "To simplify the code and make it more readable, you might need to move up to [regular expressions](https://en.wikipedia.org/wiki/Regular_expression). So what is a regular expression?\n",
    "\n",
    "> \"A regular expression is a pattern which specifies a set of strings of characters; it is said to match certain strings.\"--- Ken Thompson\n",
    "\n",
    "If you've ever typed `cp *.ipynb ../module_2/` at the UNIX command prompt, or entered \"match?\" into a web-based search engine, you've already used a simple regular expression. In the first instance, you've copied all the files which end with file extension \".ipynb\" (as opposed to copying them one by one); in the second, you've conducted a search not only for \"match,\" but also for \"matches\", \"matching\", \"matched\", and \"matcher\" all at once.\n",
    "Using a well-crafted regular expression, you can easily search through a large number of text files, searching for words ending with \"ed\", replace the .html suffix with a .xml suffix, and then change all the lower case characters to upper case. \n",
    "\n",
    "Regular expressions (Regex) are all about matching and finding patterns in text, from simple patterns to the very complex ones.\n",
    "For instance, they can be simple as this:\n",
    "```python\n",
    "    \\d\n",
    "```\n",
    "A character shorthand that matches any digit from 0 to 9.\n",
    "They can also be something a bit more complicated like \n",
    "```python\n",
    "(19|20)\\d\\d[- /.](0[1-9]|1[012])[- /.](0[1-9]|[12][0-9]|3[01])\n",
    "```\n",
    "which is where we will wind up at the end of this chapter: a fairly robust regular expression\n",
    "that matches a date in yyyy-mm-dd format from between 1900-01-01 and 2099-12-31, with a choice of four separators, which are '-', ' ', '/' and '.'. This regular expression can be visualised as\n",
    "\n",
    "<img src=\"img_1.png\">\n",
    "\n",
    "If you are an experienced Regex user, this seems simple and straightforward.\n",
    "However, if you are new to Regex or aren't exprienced enough, it takes a while to understand it. \n",
    "Don't worry if you don't get how that all works. \n",
    "We will show you how to develop regular expressions step-by-step in this chapter.\n",
    "If you just follow the examples, writing regular expression will eventually turn out to be not \n",
    "that hard.\n",
    "- - -"
   ]
  },
  {
   "cell_type": "code",
   "execution_count": 1,
   "metadata": {},
   "outputs": [
    {
     "name": "stdout",
     "output_type": "stream",
     "text": [
      "sys.version_info(major=3, minor=6, micro=3, releaselevel='final', serial=0)\n"
     ]
    }
   ],
   "source": [
    "import sys\n",
    "print (sys.version_info)"
   ]
  },
  {
   "cell_type": "markdown",
   "metadata": {},
   "source": [
    "## 1. Get Started with Regular Expressions\n",
    "As a powerful way of searching, replacing, and parsing text with complex patterns of characters, regular expressions are the most significant tools in data parsing. They figure into all kinds of text-manipulation tasks. Searching and search-and-replace are among the most common uses. Regular expressions tend to be easier to write than they are to read. This is less of a problem if you are the only one who ever needs to maintain them. But if several people need to, the syntax can turn into more of a hindrance than an aid. For example,\n",
    "```python\n",
    "    ^(|(([A-Za-z0-9]+_+)|([A-Za-z0-9]+\\-+)|([A-Za-z0-9]+\\.+)|([A-Za-z0-9]+\\++))*[A-Za-z0-9]+@((\\w+\\-+)|(\\w+\\.))*\\w{1,63}\\.[a-zA-Z]{2,6})$\n",
    "```\n",
    "is a regular expression for validating email addresses.\n",
    "Please don't try to parse it yourself, \n",
    "since an experienced regular expression user might take a while to parse it.\n",
    "In this section, we will first go through some good introductory materials of regular expressions,\n",
    "and then show you some fundamentals of how to use regular expressions in search text.\n",
    "\n",
    "There are a couple of good online materials that introduce regular expressions in Python. \n",
    "We strongly suggest that you study this chapter together with these materials. \n",
    "They are \n",
    "* [Regular Expression HOWTO](https://docs.python.org/2/howto/regex.html) from Python's office website: An introductory tutorial to using regular expressions in Python with the `re` module. 📖\n",
    "* [Regular Expressions](http://www.diveintopython3.net/regular-expressions.html), chapter 5 of \"**Dive into Python 3**\": A series of examples inspired by real world problems are used to show you how to generate regular expressions for parsing street name, Roman numerals, and phone numbers. 📖\n",
    "\n",
    "The complete list of meta-characters and their behaviour in the context of regular expressions can be found [here](https://docs.python.org/2/library/re.html). Besides, there is an alternative material if you would like to view, which is \n",
    "\n",
    "* [RegexOne](http://regexone.com): An interactive tutorial on learning regular expressions with simple exercises.\n",
    "\n",
    "Before we go through some basics of regular expressions in python, we would like to point out [RegExr](http://regexr.com) by Grant Skinner. It is an online tool to learn, build, & test regular expressions. RegExr provides us with syntax highlighting, contextual help, video tutorial, reference, and searchable community patterns.\n",
    "You will find a lot of good information in the six tabs provides on its website. In addition, pop-ups appear when you hover over the regular expression or target text in RegExr, giving you helpful information linking you between a regular expression and the corresponding matches in text. \n",
    "These resources are one of the reasons why RegExr is among our favourite online Regex checkers."
   ]
  },
  {
   "cell_type": "markdown",
   "metadata": {},
   "source": [
    "### 1.1. Matching String Literals\n",
    "Matching strings with one or more literal characters, called string literals, is similar to the way you might do a search in a word editor or when submitting a keyword to a search engine. When you search for a string of text, you are searching with a string literal.\n",
    "Let's start with a very simple scenario. \n",
    "If we have a sentence like\n",
    "```\n",
    "    Today is 26 jan 2016, not 25 Jan 2016.\n",
    "```\n",
    "And want to see if the string contains the word `Jan`  using a Python regular expression,\n",
    "we'd use the following"
   ]
  },
  {
   "cell_type": "code",
   "execution_count": 2,
   "metadata": {},
   "outputs": [
    {
     "name": "stdout",
     "output_type": "stream",
     "text": [
      "<_sre.SRE_Match object; span=(29, 32), match='Jan'>\n"
     ]
    }
   ],
   "source": [
    "import re # The Regular Expressions library\n",
    "str = \"Today is 26 jan 2016, not 25 Jan 2016.\" \n",
    "s = re.search(\"Jan\", str)\n",
    "print (s)"
   ]
  },
  {
   "cell_type": "markdown",
   "metadata": {},
   "source": [
    "The simple pattern used above is just something like 'J' followed by 'a' followed by 'n' (i.e., 'Jan').\n",
    "The `search()` method scans through the string, looking for any location where 'Jan' appears. If a match is found, a match object instance corresponding to the first match is returned. Our search was successful, as the code prints out the match object\n",
    "as \n",
    "```\n",
    "    <_sre.SRE_Match object at 0x103ed47e8>\n",
    "```\n",
    "This is Python's way of saying 'True' or 'Yes'. If no match is found, it will print out 'None'. \n",
    "For example, try the following "
   ]
  },
  {
   "cell_type": "code",
   "execution_count": 3,
   "metadata": {},
   "outputs": [
    {
     "name": "stdout",
     "output_type": "stream",
     "text": [
      "None\n"
     ]
    }
   ],
   "source": [
    "print (re.search(\"Feb\", str))"
   ]
  },
  {
   "cell_type": "markdown",
   "metadata": {},
   "source": [
    "The returned match object contains information about the match: where it starts and ends, the substring it matched, and more. You can query the match object for information about the matching string. The most important ones are:"
   ]
  },
  {
   "cell_type": "code",
   "execution_count": 4,
   "metadata": {},
   "outputs": [
    {
     "name": "stdout",
     "output_type": "stream",
     "text": [
      "Jan\n",
      "29\n",
      "32\n",
      "(29, 32)\n"
     ]
    }
   ],
   "source": [
    "print (s.group())\n",
    "print (s.start()) \n",
    "print (s.end())\n",
    "print (s.span())"
   ]
  },
  {
   "cell_type": "markdown",
   "metadata": {},
   "source": [
    "The `group()` method returns the string \"Jan\" matched by the regular expression. \n",
    "The `start()` method returns the starting position of \"Jan\", which is equal to the index of 'J' in the whole string.\n",
    "Go ahead, count the characters in \"Today is 18 Jan 2016.\", starting at \"T\", then try:\n",
    "```python\n",
    "   str.index('J')\n",
    "```\n",
    "It should give the same integer as that given by `s.start()`. \n",
    "The `end()` method returns the ending position of the match, \n",
    "and the span() method returns a tuple containing the (start, end) positions.\n",
    "This scenario is so simple that you don't need a regular expression.\n",
    "Instead, you can use a string function, `find()`, which gives you the start position of the target string."
   ]
  },
  {
   "cell_type": "code",
   "execution_count": 5,
   "metadata": {},
   "outputs": [
    {
     "data": {
      "text/plain": [
       "29"
      ]
     },
     "execution_count": 5,
     "metadata": {},
     "output_type": "execute_result"
    }
   ],
   "source": [
    "str.find(\"Jan\")"
   ]
  },
  {
   "cell_type": "markdown",
   "metadata": {},
   "source": [
    "How about finding both \"Jan\" and \"jan\"? \n",
    "The `find()` method can only find the first match of a given regular expression. \n",
    "There are two pattern methods that return all of the matches for a pattern encoded in a given regular expression. \n",
    "They are `findall()` and `finditer()`.\n",
    "The former returns a list of matching strings, \n",
    "and the latter returns a sequence of match object instances as an iterator. \n",
    "Let's try"
   ]
  },
  {
   "cell_type": "code",
   "execution_count": 6,
   "metadata": {},
   "outputs": [
    {
     "name": "stdout",
     "output_type": "stream",
     "text": [
      "['Jan']\n",
      "Jan\n",
      "(29, 32)\n"
     ]
    }
   ],
   "source": [
    "print (re.findall(\"Jan\", str))\n",
    "for m in re.finditer(\"Jan\", str):\n",
    "    print (m.group())\n",
    "    print (m.span())"
   ]
  },
  {
   "cell_type": "markdown",
   "metadata": {},
   "source": [
    "However, using \"Jan\" can find the one with uppercase \"J\", but not the one with lowercase 'j'. \n",
    "The reason is that string matching is case-sensitive in regular expressions. \n",
    "If you want to match both lower- and uppercase, you can: \n",
    "1. Convert all the characters in the string into either lower- or uppercase ones, then use either `re.findall(\"jan\", str)` or `re.findall(\"JAN\", str)` respectively to find the two appearances of \"Jan\",\n",
    "2. Update our regular expression to account for both 'J' and 'j', and retrieve both \"jan\" and \"Jan\" in their original form, like: \n",
    "```python\n",
    "    [Jj]an\n",
    "```\n",
    "where '[ ]' indicates a set of characters, and '[Jj]' will match 'J' or 'j', which is also known as a character class."
   ]
  },
  {
   "cell_type": "code",
   "execution_count": 7,
   "metadata": {},
   "outputs": [
    {
     "data": {
      "text/plain": [
       "['jan', 'Jan']"
      ]
     },
     "execution_count": 7,
     "metadata": {},
     "output_type": "execute_result"
    }
   ],
   "source": [
    "re.findall(r\"[Jj]an\", str)"
   ]
  },
  {
   "cell_type": "markdown",
   "metadata": {},
   "source": [
    "Our second choice is to use grouping in regular expressions. For multiple options we place them in brackets () and separate them by a pipe |. So we could use:"
   ]
  },
  {
   "cell_type": "code",
   "execution_count": 8,
   "metadata": {},
   "outputs": [
    {
     "data": {
      "text/plain": [
       "['jan', 'Jan']"
      ]
     },
     "execution_count": 8,
     "metadata": {},
     "output_type": "execute_result"
    }
   ],
   "source": [
    "re.findall(r\"(Jan|jan)\", str)"
   ]
  },
  {
   "cell_type": "markdown",
   "metadata": {},
   "source": [
    "Let's move one-step further to find all the words with only alphabetic characters using only regular expressions. \n",
    "It is not feasible to use grouping to enumerate all the possible words. \n",
    "Instead, we are going to use '[ ]' together with '+'.\n",
    "You have seen '[ ]' above. '+' means matching 1 or more repetitions of the preceding regular expression. \n",
    "For example,\n",
    "'an+' will match ‘a’ followed by any non-zero number of ‘n’s; \n",
    "it will not match just ‘a’. \n",
    "To match non-zero numbers of either lower- or uppercase characters, we derive the following regular expression:"
   ]
  },
  {
   "cell_type": "code",
   "execution_count": 9,
   "metadata": {},
   "outputs": [
    {
     "data": {
      "text/plain": [
       "['Today', 'is', 'jan', 'not', 'Jan']"
      ]
     },
     "execution_count": 9,
     "metadata": {},
     "output_type": "execute_result"
    }
   ],
   "source": [
    "re.findall(r\"[a-zA-Z]+\", str)"
   ]
  },
  {
   "cell_type": "markdown",
   "metadata": {},
   "source": [
    "In the example above, we represent a range of characters by giving two characters separated by a '-'. For example [a-z] will match any lowercase ASCII letters, and [A-Z] will match any uppercase ASCII letters. Put the two together, we derive the regular expression that matches any lower- or uppercase letters."
   ]
  },
  {
   "cell_type": "markdown",
   "metadata": {},
   "source": [
    "### 1.2. Matching Digits\n",
    "There are several ways to represent digits in regular expressions:\n",
    "* [0-9]: A range that matches the range of digits 0 through 9, which is the same as \"[0123456789]\".\n",
    "* \\d: A character shorthand to match the digits, which is pre-defined in most regular expression engines.\n",
    "It is equivalent to [0-9].\n",
    "\n",
    "Note that the character shorthand for digits is shorter and simpler, \n",
    "but it doesn’t have the power or flexibility of the range. \n",
    "With a range, you can pick the exact digits you want to match. \n",
    "For example, if you want to match a sequence of the binary digits, like '0010101011', \n",
    "you would use\n",
    "```python\n",
    "    [01]+\n",
    "```\n",
    "\n",
    "To match numbers that have more than one digit, for example, '12' and '123',\n",
    "you can repeat either representation as many times as you want, like\n",
    "* [0-9][0-9] or \\d\\d matches two-digits numbers from 00 to 99.\n",
    "* [0-9][0-9][0-9] or \\d\\d\\d matches three digits numbers from 000 to 999.\n",
    "\n",
    "However, the above approach gets redundant if you try to match '100000' for example.\n",
    "In this case, we can specify the number of occurrences of those digits by using \n",
    "curly brackets, like:  \n",
    "* [0-9]{2} or \\d{2} that matches numbers from 00 to 99.\n",
    "* \\d{1,3} that matches numbers from 0 to 999.\n",
    "\n",
    "Let's try to extract year for the give string,"
   ]
  },
  {
   "cell_type": "code",
   "execution_count": 10,
   "metadata": {},
   "outputs": [
    {
     "name": "stdout",
     "output_type": "stream",
     "text": [
      "2016\n"
     ]
    }
   ],
   "source": [
    "s = re.search(r'\\d{4}', str) \n",
    "print(s.group()) "
   ]
  },
  {
   "cell_type": "markdown",
   "metadata": {},
   "source": [
    "### Concept of Grouping\n",
    "As we discussed before, the `search()` method returns the first match found in the string.\n",
    "However, if search stops when it finds the first occurrence, what is the point of group?\n",
    "\n",
    "Regular expressions allow us to not just match text but also to extract information for further processing. This is done by defining groups of characters and capturing them using the special parentheses, i.e., ( and ) meta-characters. Any sub-pattern inside a pair of parentheses will be captured as a group.\n",
    "Let's try to find a pair of words separated by a white space in the following simple\n",
    "string\n",
    "```python\n",
    "    Isaac Newton, Data Scientist\n",
    "```\n",
    "The regular expression we are going to use is \n",
    "```python\n",
    "    ([a-zA-Z]+) ([a-zA-Z]+)\n",
    "```\n",
    "It uses two groups. One is used to match the first word in the pair and another matches\n",
    "the second word. Note that there is a white space between the two groups."
   ]
  },
  {
   "cell_type": "code",
   "execution_count": 11,
   "metadata": {},
   "outputs": [
    {
     "name": "stdout",
     "output_type": "stream",
     "text": [
      "Isaac Newton\n",
      "Isaac\n",
      "Newton\n"
     ]
    }
   ],
   "source": [
    "m = re.match(r\"([a-zA-Z]+) ([a-zA-Z]+)\", \"Isaac Newton, Data Scientist\")\n",
    "print(m.group(0) + \"\\n\" + m.group(1)  + \"\\n\" + m.group(2))"
   ]
  },
  {
   "cell_type": "markdown",
   "metadata": {},
   "source": [
    "As you can see, `m.group(0)` returns the entire match. `m.group(1)` returns the match of the first parenthesized subgroup. And `m.group(2)` returns the match of the second parenthesized subgroup.\n",
    "You can also retrieve the two groups by using the `groups()` methods as"
   ]
  },
  {
   "cell_type": "code",
   "execution_count": 12,
   "metadata": {},
   "outputs": [
    {
     "data": {
      "text/plain": [
       "('Isaac', 'Newton')"
      ]
     },
     "execution_count": 12,
     "metadata": {},
     "output_type": "execute_result"
    }
   ],
   "source": [
    "m.groups()"
   ]
  },
  {
   "cell_type": "markdown",
   "metadata": {},
   "source": [
    "In Python regular expressions, you can also name each group in a regular expression using \n",
    "```python\n",
    "    (?P<name>...)\n",
    "```\n",
    "The substring matched by the group is accessible via the symbolic group name 'name'.\n",
    "For example,"
   ]
  },
  {
   "cell_type": "code",
   "execution_count": 13,
   "metadata": {},
   "outputs": [
    {
     "data": {
      "text/plain": [
       "{'first_name': 'Isaac', 'last_name': 'Newton'}"
      ]
     },
     "execution_count": 13,
     "metadata": {},
     "output_type": "execute_result"
    }
   ],
   "source": [
    "m = re.match(r\"(?P<first_name>[a-zA-Z]+) (?P<last_name>[a-zA-Z]+)\", \"Isaac Newton\")\n",
    "m.groupdict()"
   ]
  },
  {
   "cell_type": "markdown",
   "metadata": {},
   "source": [
    "The method used in the example, \n",
    "```python\n",
    "    groupdict()\n",
    "```\n",
    "returns a dict object which the keys are set inside the < > as parameters, and values are the strings matched by the Regex. "
   ]
  },
  {
   "cell_type": "markdown",
   "metadata": {},
   "source": [
    "### 1.3 More on Regular Expression Syntax\n",
    "We have shown you how to match words and digits in the previous two sections. Here we would like to list some meta-characters that are used very often in regular expressions:\n",
    "* \\D: Matches characters that are not digits, which is equivalent to [^0-9] or [^\\d].\n",
    "* \\w: Matches any alphanumeric character, which is equivalent to [a-zA-Z0-9].\n",
    "* \\W: Matches any non-alphanumeric character; which is equivalent to [^a-zA-Z0-9] or [^\\w].\n",
    "* \\s: Matches any whitespace character; which is equivalent to [ \\t\\n\\r\\f\\v], where \\t indicates taps, \\n  line feeds, \\r carriage returns, \\f form feeds and \\v vertical tabs.\n",
    "* \\S: Matches any non-whitespace character; which is equivalent to  [^ \\t\\n\\r\\f\\v]."
   ]
  },
  {
   "cell_type": "markdown",
   "metadata": {},
   "source": [
    "### 1.4. Raw Strings in Python Regular Expressions\n",
    "We have been using 'r' in our regular expressions, what does it mean?\n",
    "It is Python's raw string notation for regular expressions.\n",
    "It has been used to work around the backslash plague.\n",
    "\n",
    "In regular expressions the backslash character ('\\')  is often used to escape characters that otherwise have a special meaning, such as newline, backslash itself, or the quote character. For example, to match a literal backslash, one has to write '\\\\\\\\\\\\\\\\' as the regular expression string. This is because the regular expression must be '\\\\\\\\', and each backslash must be expressed as '\\\\\\\\' inside a regular Python string literal. Let's assume that you would like find all the LaTeX commands in a given LaTeX file. Those commands always start with a backslash, like '\\\\usepackage',\n",
    "'\\\\section', '\\\\title', etc. The regular expression without raw string notation is:\n",
    "```python\n",
    "    \\\\\\\\\\\\w+\n",
    "```\n",
    "Refer to the previous section for the meaning of \"\\w\".\n",
    "In contrast, one can prefiex the string literals with a letter 'r' or 'R' to form a raw string notation, which tells \n",
    "the regular expression engine not to handle backslashes in any special way. With the raw string notation, the regular expression above can be simplified to \n",
    "```python\n",
    "    r\"\\\\\\w+\"\n",
    "```\n",
    "Let's try them out:"
   ]
  },
  {
   "cell_type": "code",
   "execution_count": 57,
   "metadata": {},
   "outputs": [
    {
     "name": "stdout",
     "output_type": "stream",
     "text": [
      "\\section\n",
      "\\section\n",
      "('123', 'abc')\n"
     ]
    }
   ],
   "source": [
    "m1 = re.match(\"\\\\\\\\\\w+\", \"\\section\")\n",
    "print (m1.group())\n",
    "m2 = re.match(r\"\\\\\\w+\", \"\\section\")\n",
    "print (m2.group())\n",
    "m3 = re.match(\"(\\\\d+) (\\\\w+)\",\"123 abc\")\n",
    "print (m3.groups())"
   ]
  },
  {
   "cell_type": "markdown",
   "metadata": {},
   "source": [
    "## Explanation\n",
    "Regex: \n",
    "```Python\n",
    "\\\\\\w+ # Regular Expression\n",
    "```\n",
    "```Python\n",
    "\\w+  # More than 1 English chars occur.\n",
    "```\n",
    "```Python\n",
    "\\\\   # Backslash without special nature.\n",
    "```\n",
    "Thus: 1st & 3rd backslash need to be doubleas both are metacharacters.\n",
    "\n",
    "Python String literal: \n",
    "```Python\n",
    "\\\\ + \\\\\\w+ = \\\\\\\\\\w+ \n",
    "# For Regex, each metacharacter backslash need to be double\n",
    "```"
   ]
  },
  {
   "cell_type": "markdown",
   "metadata": {},
   "source": [
    "The two lines of matching code above are functionally identical. But it is easy to interpret the regular expression using raw string notation. Therefore, when writing regular expression in Python, it is recommended that you use raw strings instead of regular Python strings. \n",
    "\n",
    "- - -"
   ]
  },
  {
   "cell_type": "markdown",
   "metadata": {
    "collapsed": true
   },
   "source": [
    "## 2. Case Study: Parsing Dates with Regular Expressions\n",
    "After reading chapter 5 of \"**Dive into Python 3**\", \n",
    "you have learnt how to deal with street addresses, Roman numerals, and phone numbers with regular expressions. \n",
    "This section will further show you how to parse dates in simple data formats, \n",
    "e.g., mm/dd/yyyy, and dd/mm/yyyy. You might think that something as conceptually trivial as a date should be an easy job for a regular expression. But it isn’t, for reasons like: \n",
    "* The problem of leading zeros: humans are very sloppy with writing dates. Sometimes we omit the leading zeros, and write dates like \"1/1/2016\" and \"1/01/2016\". Therefore, should the regular expression for dates allow leading zeros to be omitted?\n",
    "* Different date delimiters: besides forward slashes, we can also use white spaces, or hyphens to separate day, month and year.\n",
    "* Matching a given range of numbers: regular expressions don't deal directly with numbers and don't understand the numerical meanings that humans assign to strings of digits. They treat numbers, like 123, as strings of characters displayed as digits, 1, 2, and 3. Therefore, we cannot tell a regular expression to match a given range of numbers directly. For instance, to match months that are in a range from 1 to 12 and to match days from 1 to 31.\n",
    "\n",
    "Therefore, you have to choose how simple or how accurate you want your regular expression to be.\n",
    "If you already know your text doesn’t contain any invalid dates, you could use a trivial regex such as\n",
    "```python\n",
    "    r\"\\d{2}/\\d{2}/\\d{4}\"\n",
    "```\n",
    "The fact that this matches things like 00/00/0000 is irrelevant if those don’t occur in your text.\n",
    "In most cases, you won't know whether your text has invalid dates or not. \n",
    "\n",
    "So given that a basic date is day, month and year, and are all digits, which of the three is easiest to parse with regular expressions?\n",
    "Give month a try. First define our own method 'month' which accepts a pattern and a month (both text) as arguments and reports if there is a match:"
   ]
  },
  {
   "cell_type": "code",
   "execution_count": 59,
   "metadata": {
    "collapsed": true
   },
   "outputs": [],
   "source": [
    "def month(pattern, m):\n",
    "    if re.match(pattern, m):\n",
    "        print (m + \" is a month\")\n",
    "    else:\n",
    "        print (m + \" is NOT a month\")"
   ]
  },
  {
   "cell_type": "markdown",
   "metadata": {},
   "source": [
    "It seems that it is trivial to write a regular expression to match the 12 months from 1 to 12 with or without \n",
    "leading zeros. \n",
    "Let's first assume that all months are represented by two digits. \n",
    "In other words, we append a zero to the left if the month is in between January to September. \n",
    "The simplest regular expression one can think could be\n",
    "```python\n",
    "    r\"\\d\\d\"\n",
    "```\n",
    "Try it out,"
   ]
  },
  {
   "cell_type": "code",
   "execution_count": 60,
   "metadata": {},
   "outputs": [
    {
     "name": "stdout",
     "output_type": "stream",
     "text": [
      "12 is a month\n",
      "03 is a month\n",
      "00 is a month\n",
      "13 is a month\n",
      "3 is NOT a month\n"
     ]
    }
   ],
   "source": [
    "month(r'\\d\\d', \"12\")\n",
    "month(r\"\\d\\d\", \"03\")\n",
    "month(r\"\\d\\d\", \"00\")\n",
    "month(r\"\\d\\d\", \"13\")\n",
    "month(r\"\\d\\d\", \"3\")"
   ]
  },
  {
   "cell_type": "markdown",
   "metadata": {},
   "source": [
    "The regular expression we used matches exactly two-digit numbers from 00 to 99. \n",
    "Although it can match all the months represented by two digits, the problems are that \n",
    "* It cannot match months represented by a single digit, e.g., 1 (January), 2 (February), etc.\n",
    "* It matches numbers that do not represent any month. \n",
    "  So one does need to validate the given number to make sure it is in the right range.\n",
    "\n",
    "Tackling the first problem, we can use curly brackets `{m, n}` to specify the minimum and maximum occurrences of digits. A month can have at least one digit and at most two digits. \n",
    "So the regular expression should look like\n",
    "```python\n",
    "    r\"\\d{1,2}\"\n",
    "```"
   ]
  },
  {
   "cell_type": "code",
   "execution_count": 61,
   "metadata": {},
   "outputs": [
    {
     "name": "stdout",
     "output_type": "stream",
     "text": [
      "03 is a month\n",
      "3 is a month\n",
      "00 is a month\n",
      "0 is a month\n",
      "13 is a month\n"
     ]
    }
   ],
   "source": [
    "month(r\"\\d{1,2}\", \"03\") \n",
    "month(r\"\\d{1,2}\", \"3\") \n",
    "month(r\"\\d{1,2}\", \"00\") \n",
    "month(r\"\\d{1,2}\", \"0\")\n",
    "month(r\"\\d{1,2}\", \"13\")"
   ]
  },
  {
   "cell_type": "markdown",
   "metadata": {},
   "source": [
    "However, this regular expression still matches invalid months, such as \"00\", \"0\" and \"13\".\n",
    "The months must be restricted to numbers between 1 and 12.\n",
    "We use alternation inside a group to match various pairs of digits to form a range of one- or two-digit numbers."
   ]
  },
  {
   "cell_type": "code",
   "execution_count": 64,
   "metadata": {},
   "outputs": [
    {
     "name": "stdout",
     "output_type": "stream",
     "text": [
      "3 is a month\n",
      "0 is NOT a month\n",
      "01 is NOT a month\n"
     ]
    }
   ],
   "source": [
    "month(r\"([1-9]|1[0-2])\", \"3\") \n",
    "month(r\"([1-9]|1[0-2])\", \"0\") \n",
    "month(r\"([1-9]|1[0-2])\", \"01\") "
   ]
  },
  {
   "cell_type": "markdown",
   "metadata": {},
   "source": [
    "In the above code `[1-9]` matches months that can be represented by a single digit, and `1[0-2]` matches October, November and December. Let's further update the regular expression to allow leading zeros by adding `0?`:"
   ]
  },
  {
   "cell_type": "code",
   "execution_count": 65,
   "metadata": {},
   "outputs": [
    {
     "name": "stdout",
     "output_type": "stream",
     "text": [
      "03 is a month\n"
     ]
    }
   ],
   "source": [
    "month(r\"(0?[1-9]|1[0-2])\", \"03\")"
   ]
  },
  {
   "cell_type": "markdown",
   "metadata": {},
   "source": [
    "It seems that we have constructed a regular expression that can handle months represented by either one- or two-digits numbers. But sooner or later you will find the following problem: "
   ]
  },
  {
   "cell_type": "code",
   "execution_count": 90,
   "metadata": {},
   "outputs": [
    {
     "name": "stdout",
     "output_type": "stream",
     "text": [
      "05 is a month\n",
      "99 is a month\n"
     ]
    }
   ],
   "source": [
    "pattern = r\"(0?[1-9]|1[0-2])\"\n",
    "month(pattern, \"05\") \n",
    "month(pattern, \"99\") "
   ]
  },
  {
   "cell_type": "markdown",
   "metadata": {},
   "source": [
    "## Why?\n",
    "\n",
    "Some of these patterns seem right but don't always work. \n",
    "Regular expressions are quite specific, like mini programs.\n",
    "You have to get them right and then they will very effectively block everything that doesn't match.\n",
    "We very specifically say what we want, as opposed to listing all the exceptions we don't want.\n",
    "which is easier?\n",
    "For example testing all exceptions, case by case:\n",
    "* is the input empty (and this in itself is trouble, one space or two? ' ', tab, CR, LF etc.)\n",
    "* is the input the correct type (character, number etc.)\n",
    "* the correct format\n",
    "* correct range\n",
    "* positive, negative\n",
    "* uppercase, lowercase, etc.\n",
    "\n",
    "## Greediness & Laziness\n",
    "Watch out for the difference between greediness & laziness in regular expressions. \n",
    "Greediness means match longest possible string.\n",
    "Laziness means match shortest possible string. \n",
    "Or, put another way, laziness will stop as soon as the condition is satisfied, \n",
    "but greediness means it will stop only once the condition is not satisfied any more - this is quite different.\n",
    "\n",
    "## Start & End Anchor\n",
    "Consider also Start of String and End of String anchors. The caret ^ matches the position before the first character in the string. Applying \"^a\" to \"abc\" matches the whole string. \"^b\" does not match \"abc\" at all, because the b cannot be matched right after the start of the string, matched by ^. Similarly, $ matches right after the last character in the string.\n",
    "\n",
    "So here's what we want:\n",
    "```python\n",
    "    r\"^(0?[1-9]|1[0-2])$\" \n",
    "```\n",
    "Let's test it now:"
   ]
  },
  {
   "cell_type": "code",
   "execution_count": 91,
   "metadata": {
    "collapsed": true
   },
   "outputs": [],
   "source": [
    "pattern =  r\"^(0?[1-9]|1[0-2])$\" "
   ]
  },
  {
   "cell_type": "code",
   "execution_count": 92,
   "metadata": {},
   "outputs": [
    {
     "name": "stdout",
     "output_type": "stream",
     "text": [
      "03 is a month\n",
      "0 is NOT a month\n",
      "033 is NOT a month\n",
      "003 is NOT a month\n",
      "99 is NOT a month\n",
      "13 is NOT a month\n"
     ]
    }
   ],
   "source": [
    "month(pattern,\"03\") \n",
    "month(pattern,\"0\")\n",
    "month(pattern,\"033\")\n",
    "month(pattern,\"003\")\n",
    "month(pattern,\"99\")\n",
    "month(pattern,\"13\")"
   ]
  },
  {
   "cell_type": "markdown",
   "metadata": {},
   "source": [
    "Similarly, you can write regular expressions to validate days. \n",
    "We will leave this for you to do as an exercise.\n",
    "Next, we are going to show you the regular expressions for handling years in 20th and 21st centuries. \n",
    "These years are between 1900 and 2099.\n",
    "The first two digits are either 19 or 20, which can be captured by a group alternating between these two numbers\n",
    "```python\n",
    "    (19|20)\n",
    "```\n",
    "Each of the last two digits contains numbers between 0 and 9, which can be easily captured by\n",
    "```\n",
    "    \\d{2}\n",
    "```\n",
    "Put them together and we have\n",
    "```\n",
    "    r\"(19|20)\\d{2}\"\n",
    "```"
   ]
  },
  {
   "cell_type": "code",
   "execution_count": 74,
   "metadata": {},
   "outputs": [
    {
     "name": "stdout",
     "output_type": "stream",
     "text": [
      "1800 is NOT a year\n",
      "1900 is a year\n",
      "2099 is a year\n",
      "2100 is NOT a year\n"
     ]
    }
   ],
   "source": [
    "def year(pattern, m):\n",
    "    if re.match(pattern, m):\n",
    "        print (m + \" is a year\")\n",
    "    else:\n",
    "        print (m + \" is NOT a year\")\n",
    "\n",
    "pattern = r\"(19|20)\\d{2}\"\n",
    "year(pattern, \"1800\")\n",
    "year(pattern, \"1900\")\n",
    "year(pattern, \"2099\")\n",
    "year(pattern, \"2100\")"
   ]
  },
  {
   "cell_type": "markdown",
   "metadata": {},
   "source": [
    "## Exercise: Validate Days"
   ]
  },
  {
   "cell_type": "code",
   "execution_count": 84,
   "metadata": {},
   "outputs": [
    {
     "name": "stdout",
     "output_type": "stream",
     "text": [
      "32 is Not a day.\n"
     ]
    }
   ],
   "source": [
    "def days(pattern, d):\n",
    "    if re.match(pattern, d) and int(d)<32 and d != '00':\n",
    "        print(d + \" is a day.\")\n",
    "    else:\n",
    "        print(d + \" is Not a day.\")\n",
    "\n",
    "pattern =r'(^[0-3]?|\\d$)'\n",
    "days(pattern,'32')"
   ]
  },
  {
   "cell_type": "markdown",
   "metadata": {},
   "source": [
    "Dealing with leap years is not trivial. Can one write a regular expression that can distinguish days in February in either leap years or non-leap years? It is easy to write regular expressions to match February 29th regardless of the year. Allowing February 29th only in leap years would require us to spell out all the years that are leap years, and all the years that aren’t. Therefore, it seems that regular expressions are not a good choice here. Handling leap years require an extra bit of code. Maybe it's better to do it in two stages:\n",
    "1. Does it look like a date? (use regex), then\n",
    "2. is it a date? (code, e.g. convert to numeric then > 0 and < 13)\n",
    "\n",
    "For example, the regular expression we found here:\n",
    "```python\n",
    "    r'(19|20)\\d\\d[- /.](0[1-9]|1[012])[- /.](0[1-9]|[12][0-9]|3[01])'\n",
    "```\n",
    "matches a date in traditional date format from between 1900-01-01 and 2099-12-31, with a choice of four separators.\n",
    "However, there are dates that match the regular expression but aren't valid.\n",
    "For example,"
   ]
  },
  {
   "cell_type": "code",
   "execution_count": 85,
   "metadata": {},
   "outputs": [
    {
     "name": "stdout",
     "output_type": "stream",
     "text": [
      "2016-02-31 is a year\n"
     ]
    }
   ],
   "source": [
    "pattern = r'(19|20)\\d\\d[- /.](0[1-9]|1[012])[- /.](0[1-9]|[12][0-9]|3[01])'\n",
    "year(pattern, \"2016-02-31\") "
   ]
  },
  {
   "cell_type": "markdown",
   "metadata": {},
   "source": [
    "It is impossible for February in any year can have more than 29 days. Instead of using regular expressions to validate \n",
    "dates, you can also use Python's `datetime` module. If a given date string cannot be converted to a Python Date object, then the date wouldn't be valid."
   ]
  },
  {
   "cell_type": "code",
   "execution_count": 94,
   "metadata": {},
   "outputs": [
    {
     "name": "stdout",
     "output_type": "stream",
     "text": [
      "2016-02-03 00:00:00\n"
     ]
    }
   ],
   "source": [
    "# use python datetime libraries\n",
    "import datetime as dt\n",
    "today = \"2016-02-3\"\n",
    "mydt = dt.datetime.strptime(today, '%Y-%m-%d')\n",
    "print(mydt)"
   ]
  },
  {
   "cell_type": "markdown",
   "metadata": {},
   "source": [
    "Therefore, \n",
    "if you get regular expressions right, they can be very useful as anything that doesn't match the pattern will get blocked. However, getting them wrong will result in many problems.\n",
    "- - -"
   ]
  },
  {
   "cell_type": "markdown",
   "metadata": {
    "collapsed": true
   },
   "source": [
    "## 3. Summary\n",
    "This chapter has discussed the fundamentals of regular expressions.\n",
    "You have learnt how to develop regular expressions for handling street addresses, Roman numerals, phone numbers, and dates. Regular expressions may not be suitable for dealing with complex XML files but the basic idea that a regular expression can block anything that doesn't match is both useful and powerful. You might use regular expressions, for example, as the basis for a short program that filters incoming spam in your email. In this case, the program might use a regular expression to determine whether the name of a known spammer appeared in the \"From:\" line of the email. Email filtering programs, in fact, very often use regular expressions for exactly this type of operation. You will further learn regular expressions in Module 6 on text pre-processing. It is worth noting that regular expressions are not specific to Python. Many other programming languages also provide regular expression capabilities, for example, Perl, Java, Ruby, etc. Finally, do you think it's possibly to do Data Wrangling without regular expressions?\n",
    "- - -\n",
    "\n",
    "## 4. Exercises\n",
    "1.  Write a regular expression to match negative numbers and real-valued numbers, such as -1,023, -10.00, 10.393, and 0.234.\n",
    "1.  Write and test regular expressions for validating days. \n",
    "    1. Just worry about 0 to 31 by assuming all the months can have 31 days\n",
    "    2. Deal with 29, 30 or 31 days, where we distinguish months having 30 days, those having 31 days and assume February always has 29 by treating every year as a leap year.\n",
    "2.  Write regular expressions that can handle date format dd/mm/yyyy, deal with 29, 30, and 31 (as in Exercise 2), \n",
    "    and make the matched day, month and year accessible with group names.\n",
    "- - -"
   ]
  },
  {
   "cell_type": "code",
   "execution_count": null,
   "metadata": {
    "collapsed": true
   },
   "outputs": [],
   "source": []
  }
 ],
 "metadata": {
  "anaconda-cloud": {},
  "kernelspec": {
   "display_name": "Python 3",
   "language": "python",
   "name": "python3"
  },
  "language_info": {
   "codemirror_mode": {
    "name": "ipython",
    "version": 3
   },
   "file_extension": ".py",
   "mimetype": "text/x-python",
   "name": "python",
   "nbconvert_exporter": "python",
   "pygments_lexer": "ipython3",
   "version": "3.6.3"
  },
  "name": "1. Parsing with Regular expressions.ipynb"
 },
 "nbformat": 4,
 "nbformat_minor": 1
}
