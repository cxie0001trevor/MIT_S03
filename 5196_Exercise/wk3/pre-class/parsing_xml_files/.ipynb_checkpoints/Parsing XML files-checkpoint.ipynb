{
 "cells": [
  {
   "cell_type": "markdown",
   "metadata": {
    "collapsed": true
   },
   "source": [
    "# Parsing XML Files\n",
    "\n",
    "[XML](https://www.w3.org/XML/), Extensible Markup Language, is a markup language much like HTML.\n",
    "It is a simple and flexible data format that defines a set of rules for encoding documents in a way that \n",
    "is both human and machine readable. As a self-descriptive markup language, XML plays an important role in many information systems. It stores data in plain text format, which provides a platform-independent way of storing, transporting, and sharing data. In this chapter we are going to learn how to parse and extract data from XML files with Python.\n",
    "\n",
    "\n",
    "First and foremost, you will need to have some basic understanding about XML.\n",
    "There are a lot of good introductory materials freely available online. \n",
    "We suggest the following two sections of Chapter 12 in \"**Dive Into Python 3**\":\n",
    "* [12.2 A 5-Minute Crash Course in XML](http://www.diveintopython3.net/xml.html#xml-intro) 📖\n",
    "* [12.3 The Structure Of An Atom Feed](http://www.diveintopython3.net/xml.html#xml-structure) 📖\n",
    "\n",
    "If you are quite familiar with XML, you can skip the above materials and jump directly into the parsing sections.\n",
    "\n",
    "XML files are not as easy as the CSV or JSON files to preview and understand.\n",
    "The data we are going to parse is the XML version for the \"Melbourne bike share\" dataset downloaded from\n",
    "[data.gov.au](https://data.melbourne.vic.gov.au/Transport-Movement/Melbourne-bike-share/tdvh-n9dv).\n",
    "\n",
    "Let's first open the file in your favorite editor to preview it. Note that it is always necessary to inspect the file before we parse it, as the inspection can give an idea of what the format of the file is, what information it stores, etc. If you scroll through the opened file, you will find that the data has been encompassed in XML syntax, using things called tags. The following figure shows a snippet of the data.\n",
    "\n",
    "![](./xml_example.png)\n",
    "\n",
    "After inspecting the file, you should find that data values can be stored in two places in an XML file, which are:\n",
    "* in between two tags, for example, \n",
    "    ```html\n",
    "        <featurename>Harbour Town - Docklands Dve - Docklands</featurename>\n",
    "    ```\n",
    "    where the value is \"Harbour Town - Docklands Dve - Docklands\" for the <featurename> tag.\n",
    "* as an attribute of a tag, for example\n",
    "    ```html\n",
    "        <coordinates human_address=\"{&quot;address&quot;:&quot;&quot;,&quot;city&quot;:&quot;&quot;\n",
    "        ,&quot;state&quot;:&quot;&quot;,&quot;zip&quot;:&quot;&quot;}\" \n",
    "        latitude=\"-37.814022\" longitude=\"144.939521\" needs_recoding=\"false\"/>\n",
    "    ```\n",
    "    where the value of latitude is -37.814022 and longitude is 144.939521. \n",
    "\n",
    "The attributes in XML store rich information about a specific tag.\n",
    "Comparing XML with JSON, you will find that the XML tags and attributes hold data in \n",
    "a similar way to the JSON keys. \n",
    "The advantage of XML is that each tag in XML can hold more than one attribute, and\n",
    "more values can be stored in one node. See the \"coordinate\" tag above.\n",
    "\n",
    "Now, how can we extract data stored either in between tags or as attributes?\n",
    "The goal is to parse the XML file, extract relevant information, and store the information in Pandas DataFrame that looks like\n",
    "![](./parsed_xml.png)\n",
    "\n",
    "In the following sections, we will demonstrate the process of loading and exploring a XML file, extracting\n",
    "data from the XML file and storing the data in Pandas DataFrame.\n",
    "* * * "
   ]
  },
  {
   "cell_type": "markdown",
   "metadata": {},
   "source": [
    "## 1. Loading and Exploring an XML file\n",
    "\n",
    "Python can parse XML files in many ways.\n",
    "You can find several Python libraries for parsing XML from \n",
    "[\" XML Processing Modules\"](https://docs.python.org/2/library/xml.html).\n",
    "Here we will show you how to use the following Python libraries\n",
    "to parse our XML file.\n",
    "* ElementTree\n",
    "* lxml\n",
    "* beautifulsoup\n",
    "\n",
    "There are a couple of good materials worth reading\n",
    "* The office ElementTree [API](https://docs.python.org/2/library/xml.etree.elementtree.html#module-xml.etree.ElementTree) documentation, which provides not only the API reference but also a short tutorial on using ElementTree. 📖\n",
    "* [Parsing XML](http://www.diveintopython3.net/xml.html#xml-parse), Section 12.4 in Chapter 12 of \"**Dive into Python**\" does a good job on elaborating the process of parsing an example XML file with ElementsTree. 📖\n",
    "\n",
    "If you are a visual learner, we suggest the following YouTube video\n",
    "* [Parsing XML files in Python](https://www.youtube.com/watch?v=c2qlCZhkwtE)\n",
    "\n",
    "We strongly suggest that you read these materials, although we are going to reproduce some of their content\n",
    "along with our own XML file.\n",
    "\n",
    "Let's start with ElementTree. \n",
    "There are several ways to import the data, which depends on how the data is stored.\n",
    "Here we will read the file from disk."
   ]
  },
  {
   "cell_type": "code",
   "execution_count": null,
   "metadata": {
    "collapsed": false
   },
   "outputs": [],
   "source": [
    "import xml.etree.ElementTree as etree    \n",
    "tree = etree.parse(\"./Melbourne_bike_share.xml\")  "
   ]
  },
  {
   "cell_type": "markdown",
   "metadata": {},
   "source": [
    "In the ElementTree API, an element object is designed to store data in a hierarchical structure according to the XML tag structure.\n",
    "Each element has a number of properties associated with it, for example, a tag, a text string,\n",
    "a set of attributes and a set of child elements.\n",
    "The <font color=\"blue\">parse()</font> function is one of the entry points of the ElementTree library.\n",
    "It parses the entire XML document at once into an ElementTree object that contains a hierarchy of Element objects. \n",
    "see [\"How ElementTree represents XML\"](http://infohost.nmt.edu/tcc/help/pubs/pylxml/web/etree-view.html). 📖\n",
    "\n",
    "The first element in every XML document is called the root element,\n",
    "and an XML document can only have one root.\n",
    "However, the returning ElementTree object is not the root element. \n",
    "Instead, it represents the entire document.\n",
    "To get a reference to the root element, call <font color=\"blue\">getroot()</font> method."
   ]
  },
  {
   "cell_type": "code",
   "execution_count": null,
   "metadata": {
    "collapsed": false
   },
   "outputs": [],
   "source": [
    "root = tree.getroot()     \n",
    "root.tag"
   ]
  },
  {
   "cell_type": "markdown",
   "metadata": {},
   "source": [
    "As expected, the root element is the <font color='orange'>response</font> element. See the original XML file.\n",
    "You can also check the number of children of the root element by typing\n",
    "```python\n",
    "    len(root)\n",
    "```\n",
    "It will give you one. To get the only child, one can use the <font color=\"blue\">getchildren()</font> method.\n",
    "But it will result in a warning message\n",
    "that looks like \n",
    "```python\n",
    "    /Users/land/anaconda/lib/python2.7/site-packages/ipykernel/__main__.py:2: DeprecationWarning: This method \n",
    "    will be removed in future versions.  Use 'list(elem)' or iteration over elem instead.\n",
    "    from ipykernel import kernelapp as app.\n",
    "```\n",
    "This is because the method has already been deprecated in Python 2.7.\n",
    "Indeed, an element acts like a list in the ElementTree API.\n",
    "The items of the list are the element’s children."
   ]
  },
  {
   "cell_type": "code",
   "execution_count": null,
   "metadata": {
    "collapsed": false
   },
   "outputs": [],
   "source": [
    "for child in root:           \n",
    "    print (child)"
   ]
  },
  {
   "cell_type": "markdown",
   "metadata": {},
   "source": [
    "The <font color='orange'>root</font> list only contains its direct children elements. The children elements of each entry in the list are not included. \n",
    "\n",
    "Each element can also have its own set of attributes. The <font color=\"orange\">attrib</font> property of an element is a mutable \n",
    "Python dictionary. \n",
    "Does the root have attributes? Let's check it out."
   ]
  },
  {
   "cell_type": "code",
   "execution_count": null,
   "metadata": {
    "collapsed": false
   },
   "outputs": [],
   "source": [
    "root.attrib"
   ]
  },
  {
   "cell_type": "markdown",
   "metadata": {},
   "source": [
    "It returns a empty dictionary. \n",
    "So far, the element tree seems to be empty.\n",
    "Now you need to <font color='red'>either examine the original xml to discover the structure,\n",
    "or further traverse the element hierarchy by iteratively printing out all the elements and \n",
    "data contained therein </font>.\n",
    "The <font color='orange'>root</font> element has only one child.\n",
    "It can be accessed by index, for example:\n",
    "```python\n",
    "    root[0]\n",
    "```\n",
    "A FOR loop can be used to print out all the children of <font color='orange'>root[0]</font>."
   ]
  },
  {
   "cell_type": "code",
   "execution_count": null,
   "metadata": {
    "collapsed": false
   },
   "outputs": [],
   "source": [
    "print (\"the total number of rows: \", len(root[0]))"
   ]
  },
  {
   "cell_type": "code",
   "execution_count": null,
   "metadata": {
    "collapsed": false,
    "scrolled": true
   },
   "outputs": [],
   "source": [
    "for child in root[0]:\n",
    "    print (child)"
   ]
  },
  {
   "cell_type": "markdown",
   "metadata": {},
   "source": [
    "The tag of each child is the same, called 'row', which stores information about one bike station.\n",
    "Let's keep on retrieving the children of these rows. Instead of doing that for \n",
    "all the rows, we retrieve the children of <font color=\"orange\">root[0][0]</font> and that should correspond to the first record."
   ]
  },
  {
   "cell_type": "code",
   "execution_count": null,
   "metadata": {
    "collapsed": false
   },
   "outputs": [],
   "source": [
    "for child in  root[0][0]:\n",
    "    print (child)"
   ]
  },
  {
   "cell_type": "markdown",
   "metadata": {},
   "source": [
    "Fortunately, the tags of the retrieved child elements correspond to the column names in the DataFrame.\n",
    "Thus, all the tags storing the data we want have been found. \n",
    "To confirm it you can inspect the original XML file \n",
    "or simply look at the figure shown in Section 1. \n",
    "Another way of exploring the element hierarchy is to use the iteration function of ElementTree, `iter()`.\n",
    "The iterator loops over all elements in the tree, in section order.\n",
    "Each element is represented as a Python tuple, where the first entry is a tag,\n",
    "the second is the text, and the last is a dictionary of attributes."
   ]
  },
  {
   "cell_type": "code",
   "execution_count": null,
   "metadata": {
    "collapsed": false
   },
   "outputs": [],
   "source": [
    "for elem in tree.iter():\n",
    "    print (elem.tag, elem.text, elem.attrib)"
   ]
  },
  {
   "cell_type": "markdown",
   "metadata": {},
   "source": [
    "Besides ElementTree, there are other Python libraries that can be used to parse XML files.\n",
    "Here we show two of them, which are **`lxml`** and **`BeautifulSoup`**.\n",
    "\n",
    "### 1.1 The lxml package\n",
    "[**`lxml`**](http://lxml.de) is an open source third-party library that builds on top of two C libraries \n",
    "libxml2 and libxslt.\n",
    "It is mostly compatible but superior to the well-known ElementTree API.\n",
    "To study **`lxml`** in detail, you should refer to:\n",
    "* [the lxml.etree tutorial](http://lxml.de/tutorial.html), a tutorial on XML processing with lxml.etree.\n",
    "* and [Going Further With lxml](http://www.diveintopython3.net/xml.html#xml-lxml), Section 12.6 in Chapter 12 of \"**Dive into Python 3**\". 📖 \n",
    "\n",
    "Here we are going to briefly show you how to extract the text content of an element tree\n",
    "using **XPath**.\n",
    "**XPath** allows you to extract the separate text chunks into a list:"
   ]
  },
  {
   "cell_type": "code",
   "execution_count": null,
   "metadata": {
    "collapsed": false,
    "scrolled": true
   },
   "outputs": [],
   "source": [
    "from lxml import etree\n",
    "ltree = etree.parse(\"./Melbourne_bike_share.xml\")\n",
    "for el in ltree.xpath('descendant-or-self::text()'):\n",
    "    print (el)"
   ]
  },
  {
   "cell_type": "markdown",
   "metadata": {},
   "source": [
    "In the <font color='blue'>xpath()</font> function,\n",
    "the <font color='orange'>descendant-or-self::</font> is an axis selector that limits the search to the context node, its children, their children, and so on out to the leaves of the tree. The <font color = 'blue'>text()</font> function selects only text nodes, discarding any elements, comments, and other non-textual content. The return value is a list of strings.\n",
    "Read [XPath processing](http://infohost.nmt.edu/tcc/help/pubs/pylxml/web/xpath.html) 📖 for a short introduction\n",
    "to `xpath` and [W3C's website on Xpath](http://www.w3.org/TR/xpath/) for a detailed introduction to XPath.\n",
    "Note that <font color='blue'>lxml</font> is significantly faster than the built-in <font color='blue'>ElementTree</font> library on parsing large xml documents.\n",
    "If your XML files are very large, you should consider using <font color='blue'>lxml</font>.\n",
    "\n",
    "### 1.2 The Beautiful Soup Pacakge\n",
    "[Beautiful Soup](http://www.crummy.com/software/BeautifulSoup/) is an another Python library for pulling data out of HTML and XML files. It provides Pythonic idioms for iterating, searching, and modifying the parsed tree.\n",
    "We begin by reading in our XML file and creating a Beautiful Soup object with the BeautifulSoup function. In regard to the assessment, we suggest the use of beautiful soup."
   ]
  },
  {
   "cell_type": "code",
   "execution_count": null,
   "metadata": {
    "collapsed": false
   },
   "outputs": [],
   "source": [
    "from bs4 import BeautifulSoup\n",
    "btree = BeautifulSoup(open(\"./Melbourne_bike_share.xml\"),\"lxml-xml\") "
   ]
  },
  {
   "cell_type": "markdown",
   "metadata": {},
   "source": [
    "There are two different ways of passing an XML document into the BeautifulSoup constructor.\n",
    "One is to pass in a string, another is to parse an open filehandle. the above example follows the second approach.\n",
    "The second argument is the parser to be used to parse the document.\n",
    "Beautiful Soup presents the same interface to a number of different parsers, but each parser is different. Different parsers will create different parsed trees from the same document."
   ]
  },
  {
   "cell_type": "code",
   "execution_count": null,
   "metadata": {
    "collapsed": false
   },
   "outputs": [],
   "source": [
    "print(btree.prettify())"
   ]
  },
  {
   "cell_type": "markdown",
   "metadata": {},
   "source": [
    "The soup object contains all of the XML content in the original document.\n",
    "The XML tags contained in the angled brackets provide structural information (and sometimes formatting).\n",
    "If you were to take a moment to print out the parsed tree, you would find Beautiful Soup did a good job.\n",
    "It provides a structural representation of the original XML document. \n",
    "Now it is easy for you to eyeball the document and the tags or attributes containing the data we want. <font color=\"red\">We will stop here and leave the extraction of the data with Beautiful Soup as a simple exercise for you.</font>\n",
    "The documentation of how to use Beautiful Soup can be found [here](https://www.crummy.com/software/BeautifulSoup/bs4/doc/).\n",
    "\n",
    "* * *"
   ]
  },
  {
   "cell_type": "markdown",
   "metadata": {},
   "source": [
    "## 2. Extracting XML data into DataFrame\n",
    "So far we have loaded XML into an element tree and have also found all the tags that contain the data we want. \n",
    "We have worked with our XML file in a top-down fashion, starting with the root element, \n",
    "then getting its child elements, and so on. \n",
    "We have also gained a brief idea of **lxml** and **beautiful soup**.\n",
    "This section will show you how to extract the data from all the tags and put it into Pandas DataFrame, a common\n",
    "and standard storage structure we used in the previous chapter. \n",
    "This structure will also be used in the following chapters. \n",
    "Before we walk through the extracting process, please read: \n",
    "* [Searching For Nodes Within An XML Document](http://www.diveintopython3.net/xml.html#xml-find) Section 12.5 in Chapter 12 of \"**Dive into Python 3**\". 📖 \n",
    "\n",
    "Let's first just look at one tag, i.e., '*featurename*'.\n",
    "Since we don't know where it is, the code should loop over all the elements in the tree.\n",
    "To produce a simple list of the featurenames, the logic could be simplified using \n",
    "`findall()` to look for all the elements with tag name '*featurename*'.\n",
    "Both the ElementTree and the Element classes implement `findall(match)` function.\n",
    "The one implemented by the ElementTree class finds all the matched subelements starting from root.\n",
    "The other implemented by the Element finds those sub-elements starting from a given Element in the tree.\n",
    "All the matched elements returned by the function are stored in a list.\n",
    "The `match` argument should take values on either tag names or paths to specific tags.\n",
    "Try \n",
    "```python\n",
    "    tree.findall('featurename')\n",
    "```\n",
    "and \n",
    "```python\n",
    "    tree.findall('row/featurename')\n",
    "```\n",
    "What did you get?\n",
    "\n",
    "The '*featurename*' tag is not the child or grandchild of the root element.\n",
    "In order to get all the '*featurename*', \n",
    "we should first figure out the path from the root to the '*featurename*' tag.\n",
    "By looking at the original file or basing on what we learnt from the previous section, we know the path is\n",
    "```html\n",
    "    row/row/featurename\n",
    "```\n",
    "Thus,"
   ]
  },
  {
   "cell_type": "code",
   "execution_count": null,
   "metadata": {
    "collapsed": false,
    "scrolled": true
   },
   "outputs": [],
   "source": [
    "elements = tree.findall('row/row/featurename')\n",
    "elements"
   ]
  },
  {
   "cell_type": "markdown",
   "metadata": {},
   "source": [
    "The above list should contain 50 Elements corresponding to '*featurename*'.\n",
    "As you may notice, the items returned by <font color=\"blue\">findall()</font> are Element objects, each representing a node in the\n",
    "XML parse tree. \n",
    "What we want is the data stored in those objects.\n",
    "To pull out the data, we can access the element properpties: tag, attrib and text."
   ]
  },
  {
   "cell_type": "code",
   "execution_count": null,
   "metadata": {
    "collapsed": false,
    "scrolled": true
   },
   "outputs": [],
   "source": [
    "featurename = [elem.text for elem in elements]\n",
    "featurename"
   ]
  },
  {
   "cell_type": "markdown",
   "metadata": {},
   "source": [
    "You might wonder whether there is another way to extract the text stored in the '*featurename*' tag.\n",
    "It might be possible that the structure of an XML file is quite complex (more complex that our example XML file) \n",
    "and it is not easy to figure out the path. \n",
    "There are other ways to search for descendant elements, i.e., children, grandchildrens, \n",
    "and any element at any nesting level. \n",
    "Using the same function, <font color = 'blue'>findall()</font>, we can construct an XPath argument to look for all\n",
    "'*featurename*' elements."
   ]
  },
  {
   "cell_type": "code",
   "execution_count": null,
   "metadata": {
    "collapsed": false,
    "scrolled": true
   },
   "outputs": [],
   "source": [
    "tree.findall('.//featurename')"
   ]
  },
  {
   "cell_type": "markdown",
   "metadata": {},
   "source": [
    "It is very similar to the previous example, except for the two forward slashes at the beginning of the query.\n",
    "The two forward slashes are short for <font color='orange'>/descendant-or-self::node()/</font>. \n",
    "Here <font color='orange'>.//featurename</font> selects any 'featurename' element in the XML document. \n",
    "Similarly, we can extract the text with <font color='orange'>Element.text</font>.\n",
    "\n",
    "Remember that to visit the elements in the XML document in order, \n",
    "you can use <font color='blue'>iter()</font> to create an iterator that iterates over all the ElementTree instances in a tree.\n",
    "We have shown you how to explore the element hierarchy with this iteration fucntion.\n",
    "Here you are going to learn how to find specifc elements.\n",
    "[ElementTree's API](https://docs.python.org/2/library/xml.etree.elementtree.html#xml.etree.ElementTree.Element.findall)\n",
    "shows that <font color='blue'>iter()</font> function can take an argument <font color='blue'>tag</font>.\n",
    "If the tag is specified, the iterator loops over all elements in the tree and returns \n",
    "a list of elements having the specified tag."
   ]
  },
  {
   "cell_type": "code",
   "execution_count": null,
   "metadata": {
    "collapsed": false,
    "scrolled": true
   },
   "outputs": [],
   "source": [
    "featurename = [] \n",
    "for elem in tree.iter(tag = 'featurename'):\n",
    "   featurename.append(elem.text) \n",
    "featurename"
   ]
  },
  {
   "cell_type": "markdown",
   "metadata": {
    "collapsed": false
   },
   "source": [
    "The code pulls out data from all elements with a tag equal to '*featurename*', and stores the text in a list.\n",
    "Similarly, you can retrieve data from elements having the following tags: 'id', 'terminalname', 'nbbikes',\n",
    "'nbemptydoc', and 'uploaddate' as follows. Note that we only print out the first 10 records of the retrieved data."
   ]
  },
  {
   "cell_type": "code",
   "execution_count": null,
   "metadata": {
    "collapsed": false
   },
   "outputs": [],
   "source": [
    "id = [] \n",
    "for elem in tree.iter(tag='id'):\n",
    "       id.append(elem.text) \n",
    "id[:10]"
   ]
  },
  {
   "cell_type": "code",
   "execution_count": null,
   "metadata": {
    "collapsed": false
   },
   "outputs": [],
   "source": [
    "terminalname = []\n",
    "for elem in tree.iter(tag='terminalname'):\n",
    "       terminalname.append(elem.text) \n",
    "terminalname[:10]"
   ]
  },
  {
   "cell_type": "code",
   "execution_count": null,
   "metadata": {
    "collapsed": false
   },
   "outputs": [],
   "source": [
    "nbbikes = []\n",
    "for elem in tree.iter(tag='nbbikes'):\n",
    "       nbbikes.append(elem.text)  \n",
    "nbbikes[:10]"
   ]
  },
  {
   "cell_type": "code",
   "execution_count": null,
   "metadata": {
    "collapsed": false
   },
   "outputs": [],
   "source": [
    "nbemptydoc  = []\n",
    "for elem in tree.iter(tag='nbemptydoc'):\n",
    "       nbemptydoc.append(elem.text) \n",
    "nbemptydoc[:10]"
   ]
  },
  {
   "cell_type": "code",
   "execution_count": null,
   "metadata": {
    "collapsed": false
   },
   "outputs": [],
   "source": [
    "uploaddate = []\n",
    "for elem in tree.iter(tag='uploaddate'):\n",
    "       uploaddate.append(elem.text)  \n",
    "uploaddate[:10]"
   ]
  },
  {
   "cell_type": "markdown",
   "metadata": {},
   "source": [
    "As mentioned in the introduction section, latitudes and longitudes\n",
    "are stored as attributes in 'coordinates' elements. \n",
    "Extracting them needs to access specific attributes that corresponds\n",
    "to latitude and longitude.\n",
    "Recall that attributes are dictionaries. \n",
    "To extract a specific attribute value, you can use the \n",
    "square brackets along with the attribute name as the key to obtain\n",
    "its value.\n",
    "Let's first extract all the latitudes and longitudes and store them in two lists,\n",
    "\"lat\" and \"lon\" respectively."
   ]
  },
  {
   "cell_type": "code",
   "execution_count": null,
   "metadata": {
    "collapsed": false
   },
   "outputs": [],
   "source": [
    "lat = []\n",
    "lon = []\n",
    "for elem in tree.iter(tag='coordinates'):\n",
    "    lat.append(elem.attrib['latitude'])\n",
    "    lon.append(elem.attrib['longitude'])\n",
    "print (lat[0:10])\n",
    "print (lon[0:10])"
   ]
  },
  {
   "cell_type": "markdown",
   "metadata": {},
   "source": [
    "The last step is to store the extracted data into Pandas DataFrame.\n",
    "There are multiple ways of constructing a DataFrame object. \n",
    "Here you are going to generate a DataFrame by passing a Python dictionary to DataFrame's constructor\n",
    "and setting the index to IDs."
   ]
  },
  {
   "cell_type": "code",
   "execution_count": null,
   "metadata": {
    "collapsed": false
   },
   "outputs": [],
   "source": [
    "import pandas as pd \n",
    "dataDict = {}\n",
    "dataDict['Featurename'] = featurename\n",
    "dataDict['TerminalName'] = terminalname\n",
    "dataDict['NBBikes'] = nbbikes\n",
    "dataDict['NBEmptydoc'] = nbemptydoc\n",
    "dataDict['UploadDate'] = uploaddate\n",
    "dataDict['lat'] = lat\n",
    "dataDict['lon'] = lon\n",
    "df = pd.DataFrame(dataDict, index = id)\n",
    "df.index.name = 'ID'\n",
    "df.head()"
   ]
  },
  {
   "cell_type": "markdown",
   "metadata": {
    "collapsed": false
   },
   "source": [
    "Pandas DataFrame has automatically sorted the columns according the alphabetic order of column names. \n",
    "You can change the order and make the dataframe look exactly the same as the one you got in Chapter 2. It can be easily done by specifying the value of the `columns` argument in the DataFrame constructor.\n",
    "As a simple exercise, you are going to tidy up the dates, as we have done in Chapter 2.\n",
    "* * *"
   ]
  },
  {
   "cell_type": "markdown",
   "metadata": {
    "collapsed": true
   },
   "source": [
    "## 3. Summary\n",
    "In this chapter we have shown you the process of extracting data from XML files with Python built-in libraries and briefly introduced two open source third-party libraries, i.e., lxml and Beautiful Soup. Together with the previous\n",
    "chapter, you have learnt how to extract data from CSV, JSON and XML files, \n",
    "the three common machine-readable formats. \n",
    "Being able to handle these formats with Python and related libraries is one of the must-have skills for a \n",
    "data wrangler. \n",
    "* * *"
   ]
  },
  {
   "cell_type": "code",
   "execution_count": null,
   "metadata": {
    "collapsed": true
   },
   "outputs": [],
   "source": []
  }
 ],
 "metadata": {
  "kernelspec": {
   "display_name": "Python [conda env:py36]",
   "language": "python",
   "name": "conda-env-py36-py"
  },
  "language_info": {
   "codemirror_mode": {
    "name": "ipython",
    "version": 3
   },
   "file_extension": ".py",
   "mimetype": "text/x-python",
   "name": "python",
   "nbconvert_exporter": "python",
   "pygments_lexer": "ipython3",
   "version": "3.6.4"
  },
  "name": "3. Parsing XML files.ipynb"
 },
 "nbformat": 4,
 "nbformat_minor": 0
}
