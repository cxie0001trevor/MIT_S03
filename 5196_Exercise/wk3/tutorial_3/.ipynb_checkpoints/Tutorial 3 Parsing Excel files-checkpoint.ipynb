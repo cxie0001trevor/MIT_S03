{
 "cells": [
  {
   "cell_type": "markdown",
   "metadata": {
    "collapsed": true
   },
   "source": [
    "# Tutorial 3 Parsing Excel Files\n",
    "\n",
    "So far, you have learnt how to work with data in the formats that are machine readable, \n",
    "such as CSV, JSON and XML. \n",
    "The approaches used to import data in those formats are generally standard. \n",
    "However, not all data can easily be imported into Python or other programming languages without \n",
    "a fair amount of work.\n",
    "For example, with data stored in spreadsheets and PDFs. \n",
    "In these circumstances, data is generated purely for human consumption.\n",
    "The person who generated the data often tries to make it easily readable for human, \n",
    "disregarding the importance of releasing it in a machine readable format. \n",
    "\n",
    "We will provide some generic instructions on how to scrape data from excel files. \n",
    "You will find that the scraping process becomes much more difficult and time-consuming. \n",
    "But the ultimate goal stays the same, i.e., extracting data and converting it into a machine readable format. \n",
    "* * *\n",
    "\n",
    "## 1. Introduction to Excel\n",
    "\n",
    "Excel is a popular spreadsheet application originally \n",
    "developed for Windows. \n",
    "You can also find free alternatives that run on Mac OS and Linux,\n",
    "for example, LibreOffice Calc and OpenOffice Calc can both work with Excel files.\n",
    "An Excel document is also called a workbook. \n",
    "It is usually saved in a file with either .xlsx extension or .xls extension, \n",
    "depending on the Excel version you use.\n",
    "A workbook can contain multiple worksheets, each of which is a grid of cells\n",
    "where you keep and manipulate the data. \n",
    "Those cells are arranged in numbered rows and letter-named columns.\n",
    "Excel can display not only tabular data but also data like line graphs, histograms and charts.\n",
    "It also provides a set of data analysis functions for statistical, engineering and financial needs.\n",
    "Presumably, most of you know what a Excel file looks like. \n",
    "If not, please find some Excel files online and have a look or open the Excel file used in this tutorial.\n",
    "\n",
    "There are many ways of manipulating data stored in Excel spreadsheets. \n",
    "For instance, \n",
    "\"[Working with Excel Files in Python](http://www.python-excel.org/)\" contains pointers to \n",
    "the best information available about working with Excel files in Python. \n",
    "The website lists the following Python packages that deal with Excel:\n",
    "\n",
    "* `openpyxl`: Reads/writes Excel 2010 xlsx/xlsm/xltx/xltm files.\n",
    "* `xlsxwriter`: write text, numbers, formulas and hyperlinks to multiple worksheets in an Excel 2007+ XLSX file.\n",
    "* `xlrd`: Extracts data from Excel files (.xls and .xlsx, versions 2.0 onwards).\n",
    "* `xlwt`: Writes and formats Excel files compatible with Microsoft Excel versions 95 to 2003.\n",
    "* `xlutils`: Contains a set of advanced tools for manipulating Excel files (requires `xlrd` and `xlwt`).\n",
    "\n",
    "You would need to install each separately if you want to use them;\n",
    "however, in this tutorial we will use Pandas `ExcelFile` class that requires `xlrd` to demonstrate how to \n",
    "parse Excel files.\n",
    "\n",
    "Some tutorials on working with Excel files that might be of your interest:\n",
    "* [Working with Excel Spreadsheets](https://automatetheboringstuff.com/chapter12/): It utilizes openyxl to read\n",
    "data from spreadsheets. Read the following sections:\n",
    "    * Reading Excel Documents 📖\n",
    "    * Project: Reading Data from a Spreadsheet 📖\n",
    "* [How to read Excel files with Python (xlrd tutorial)](https://www.youtube.com/watch?v=p0DNcTnreuY): \n",
    "a Youtube video on extracting data from a simple Excel file. (Optional)\n",
    "\n",
    "\n",
    "This tutorial will use a running example to show\n",
    "you how to extract data from Excel spreadsheets step-by-step using Pandas.\n",
    "The example we use in this tutorial is \"[Table 2: Nutrition](http://www.unicef.org/sowc2014/numbers/documents/excel/SOWC%202014%20Stat%20Tables_Table%202.xlsx)\" from Unicef's report on \n",
    "[The State of the Worlds Children](http://www.unicef.org/sowc2014/numbers/) for 2014.\n",
    "The download link is located at the bottom of the webpage. \n",
    "Please download the Excel file, and store it in the same folder as where \n",
    "the notebook located.\n",
    "\n",
    "Our task is to extract the statistic data table on the child's issues of \n",
    "underweight, stunting, wasting and overweight prevalence in different countries.\n",
    "* * *"
   ]
  },
  {
   "cell_type": "markdown",
   "metadata": {},
   "source": [
    "## 2. Parsing Excel with Pandas\n",
    "In this section we will walk through the process of parsing our example Excel file with Pandas.\n",
    "A short tutorial on how to use Pandas `read_excel` function and the ExcelFile class  can \n",
    "be found at Pandas [webpage on IO](http://pandas.pydata.org/pandas-docs/stable/io.html#io-excel-reader). 📖  (Just read the section \"Reading Excel Files\".)\n",
    "\n",
    "Before we start parsing our Excel file, \n",
    "we need to first make sure the Python package `xlrd` is installed, \n",
    "as Pandas `ExcelFile` class makes use of `xlrd`. \n",
    "The `xlrd` package can be run on Linux and Mac as well as Windows.\n",
    "Here we assume you use either Linux or Mac. \n",
    "If you use Anaconda, you do not need to worry about this, \n",
    "as Anaconda includes the most popular Python packages for data analysis, including `xlrd`. \n",
    "Otherwise, you might need to install `xlrd` in order to run `read_excel`. \n",
    "To install `xlrd`, you can use [pip](https://pypi.python.org/pypi/pip), \n",
    "a Python package management system. \n",
    "In your command line, simply type\n",
    "```shell\n",
    "    pip install xlrd\n",
    "```\n",
    "\n",
    "Now to start our script, \n",
    "we need to import Pandas \n",
    "and open our Excel file by creating a Pandas `ExcelFile` object. \n",
    "    "
   ]
  },
  {
   "cell_type": "code",
   "execution_count": null,
   "metadata": {
    "collapsed": false
   },
   "outputs": [],
   "source": [
    "import pandas as pd\n",
    "excel_data = pd.ExcelFile('SOWC 2014 Stat Tables_Table 2.xlsx')\n",
    "excel_data"
   ]
  },
  {
   "cell_type": "markdown",
   "metadata": {},
   "source": [
    "By running the code above, we have loaded the Excel file as a Pandas' ExcelFile object into Python. \n",
    "\n",
    "Are we ready to parse our Excel File? Before starting to parse the file,\n",
    "we probably need to ask ourselves a couple of questions. For instance,\n",
    "* How many sheets does our Excel file have?\n",
    "* Which data sheet does contain our data? What is the name of the sheet? Or what is the index of the sheet?"
   ]
  },
  {
   "cell_type": "markdown",
   "metadata": {
    "collapsed": true
   },
   "source": [
    "Unlike CSV files, an Excel file can have multiple worksheets.\n",
    "For example, our Excel file contains two worksheets, one contains data notes,\n",
    "and the other contains the data we want.\n",
    "In order to get our data, we will just pull the sheet with the data we want.\n",
    "\n",
    "If your Excel file has a couple of worksheets and you can guess the index of \n",
    "the worksheet that contains the data you want, or you have been told from which\n",
    "worksheet you are going to extract data, you can directly use Panda's \n",
    "[`read_excel`](http://pandas.pydata.org/pandas-docs/stable/generated/pandas.read_excel.html#pandas.read_excel) \n",
    "fuction\n",
    "```python\n",
    "    pandas.read_excel()\n",
    "```\n",
    "This function reads an Excel table in a given worksheet into a Pandas DataFrame, \n",
    "where you can start further manipulating the data.\n",
    "\n",
    "However, in some cases, particularly while an Excel file has a lot of worksheets,\n",
    "it might be good to view all the sheets by their names.\n",
    "So, let's check out what the names of the sheets we have in our Excel file are:"
   ]
  },
  {
   "cell_type": "code",
   "execution_count": null,
   "metadata": {
    "collapsed": false
   },
   "outputs": [],
   "source": [
    "excel_data.sheet_names"
   ]
  },
  {
   "cell_type": "markdown",
   "metadata": {},
   "source": [
    "There are two worksheets in our Excel file.\n",
    "The one that we are looking for is \"Table 2 \". \n",
    "So, let's read the second worksheet into a Pandas DataFrame.\n",
    "Note that there is an extra space in the worksheet name.\n",
    "Without this space, running the following parsing code \n",
    "will result in the following error\n",
    "```\n",
    "    XLRDError: No sheet named <'Table 2'>\n",
    "```"
   ]
  },
  {
   "cell_type": "code",
   "execution_count": null,
   "metadata": {
    "collapsed": false,
    "scrolled": false
   },
   "outputs": [],
   "source": [
    "df = excel_data.parse('Table 2 ')\n",
    "df.head()\n",
    "#df.shape"
   ]
  },
  {
   "cell_type": "markdown",
   "metadata": {
    "collapsed": false,
    "scrolled": false
   },
   "source": [
    "We have loaded the target worksheet into Python. \n",
    "There are 322 rows and 28 columns (You can use `df.shape` to \n",
    "see the dimensionality of the DataFrame).\n",
    "\n",
    "If you scroll through the output, you will notice that the loaded data table is quite messy.\n",
    "The messiness includes\n",
    "* Rows only contain missing values that are indicated by NaN in Pandas DataFrame.\n",
    "* Column heads are in three languages, i.e., English, French and Spanish.\n",
    "* Column heads in one language spread over multiple rows.\n",
    "* Country names also appear in three languages.\n",
    "* Notes shown in the original Excel file appear in rows towards the end of the data frame.\n",
    "\n",
    "Remember that our goal is to extract the data table in English. \n",
    "It is clear that we need to further process the data frame. \n",
    "For demonstration purpose,\n",
    "we will try to keep the example as simple as possible,\n",
    "so we will not extract column heads here. \n",
    "Instead, if you are interested in programmatically extracting column heads, \n",
    "you can try it by yourself. \n"
   ]
  },
  {
   "cell_type": "markdown",
   "metadata": {},
   "source": [
    "### Task 1 Drop useless columns and rows\n",
    "\n",
    "We will start with removing country names in French and Spanish, \n",
    "which corresponds to remove **two columns, labeled \"Unnamed: 1\" and \"Unnamed: 2\" ** in our data frame.\n",
    "To do this, we are going to use DataFrame's [`drop()`](http://pandas.pydata.org/pandas-docs/stable/generated/pandas.DataFrame.drop.html) function, \n",
    "which returns a new object with labels in requested axis removed.\n",
    "We will frequently use this function later in this section.\n",
    "\n",
    "Have a try now:\n"
   ]
  },
  {
   "cell_type": "code",
   "execution_count": null,
   "metadata": {
    "collapsed": false
   },
   "outputs": [],
   "source": []
  },
  {
   "cell_type": "markdown",
   "metadata": {
    "collapsed": false
   },
   "source": [
    "Now you should have 26 columns.\n",
    "Next we are going to remove all the rows and columns that are empty, i.e., only contains NaNs. We will need to use [dropna()](http://pandas.pydata.org/pandas-docs/stable/generated/pandas.DataFrame.dropna.html) function.\n",
    "\n",
    "Fill you code here:"
   ]
  },
  {
   "cell_type": "code",
   "execution_count": null,
   "metadata": {
    "collapsed": false
   },
   "outputs": [],
   "source": []
  },
  {
   "cell_type": "markdown",
   "metadata": {
    "collapsed": false
   },
   "source": [
    "\n",
    "The printout shows that the very first column in the data frame only contains NaNs.\n",
    "These NaNs are row indices. We would like to work with row index to delete other useless rows, hence we need to reset the row indices with a list of integers."
   ]
  },
  {
   "cell_type": "code",
   "execution_count": null,
   "metadata": {
    "collapsed": false,
    "scrolled": true
   },
   "outputs": [],
   "source": [
    "df.index = range(len(df.index))\n",
    "df.head()"
   ]
  },
  {
   "cell_type": "markdown",
   "metadata": {
    "collapsed": false
   },
   "source": [
    "After resetting all the row indices, and if you print out the\n",
    "first 15 rows using the slicing method:\n",
    "```\n",
    "    df[:15]\n",
    "```\n",
    "You will find that the data we want starts from row index 9.\n",
    "The first 9 rows contain column heads in three different languages.\n",
    "As we mentioned before, to keep our script simple, we will not extract column heads here,\n",
    "rather we will delete them.\n",
    "\n",
    "Similarly, if we print out the last 50 rows,\n",
    "```\n",
    "    df[-50:]\n",
    "```\n",
    "The data we want ends at row 205. \n",
    "Therefore, we need to delete the first 9 rows and the \n",
    "last 39 rows, and then reindex all the rows left.\n",
    "\n",
    "\n",
    "To do this task you will need to use [drop()](http://pandas.pydata.org/pandas-docs/stable/generated/pandas.DataFrame.drop.html) function"
   ]
  },
  {
   "cell_type": "code",
   "execution_count": null,
   "metadata": {
    "collapsed": false,
    "scrolled": true
   },
   "outputs": [],
   "source": []
  },
  {
   "cell_type": "markdown",
   "metadata": {
    "collapsed": false
   },
   "source": [
    "###  Task 2 Set country index\n",
    "\n",
    "\n",
    "So far we have extracted all the records (or rows) for 196 countries in our Excel file. \n",
    "Let's set the country names as row indices, and reset the column labels.\n",
    "\n",
    "Note that all country names are stored in the column \"TABLE 2. NUTRITION\". You also need to drop the column after indexing."
   ]
  },
  {
   "cell_type": "code",
   "execution_count": null,
   "metadata": {
    "collapsed": false,
    "scrolled": true
   },
   "outputs": [],
   "source": []
  },
  {
   "cell_type": "markdown",
   "metadata": {},
   "source": [
    "We will re index the column names again to make the dataframe easy to work with."
   ]
  },
  {
   "cell_type": "code",
   "execution_count": null,
   "metadata": {
    "collapsed": false
   },
   "outputs": [],
   "source": [
    "# Reindex columns\n",
    "#\n",
    "df.columns = list(range(len(df.columns))) \n",
    "df"
   ]
  },
  {
   "cell_type": "markdown",
   "metadata": {},
   "source": [
    "### Task 3 Tidy up all columns \n",
    "\n",
    "However, those records are still messy. \n",
    "As you can see in the printout, there are a lot of NaNs, \n",
    "and cell values with both numbers and letters (e.g., \"6 x\", \" 39 x,y\",) spread over two columns.\n",
    "Therefore, we need to merge every two columns together. \n",
    "\n",
    "How can we do that?\n",
    "\n",
    "Let us have a look at the first 10 rows and 2 columns."
   ]
  },
  {
   "cell_type": "code",
   "execution_count": null,
   "metadata": {
    "collapsed": false,
    "scrolled": true
   },
   "outputs": [],
   "source": [
    "df.iloc[:10, :2]\n",
    "#type(df.iloc[0,1])\n",
    "#type(df.iloc[0,2])\n",
    "#df.dtypes"
   ]
  },
  {
   "cell_type": "markdown",
   "metadata": {},
   "source": [
    "A close look at the printout will give you the following patterns:\n",
    "* If the cell contains only a float or '-', the corresponding cell value in the odd-numbered column is \"NaN\". \n",
    "See the rows labeled \"**Afghanistan**``\", \"**Albania**\", etc.\n",
    "* If the original cell contains a float and a couple of letters, the cell in the even-numbered column contains the float, and the one in the odd-numbered column contains the letters. \n",
    "See the rows labeled \"**Algeria**\", \"**Angola**\". etc.\n",
    "\n",
    "Assume that we are going to merge the two cells containing a float and letters respectively.\n",
    "We need a FOR loop iterating over either odd- or even-numbered columns.\n",
    "Within this FOR loop, another FOR loop is needed to iterate over rows.\n",
    "For each row, we check if the cell in the odd-numbered column contains NaN.\n",
    "If it does, we then merge it with the cell in the corresponding even-numbered column on the left.\n",
    "\n",
    "Have a try now:"
   ]
  },
  {
   "cell_type": "code",
   "execution_count": null,
   "metadata": {
    "collapsed": false
   },
   "outputs": [],
   "source": []
  },
  {
   "cell_type": "markdown",
   "metadata": {
    "collapsed": false
   },
   "source": [
    "The next step is to remove the odd-numbered columns in the data frame, as they are redundant now.\n",
    "To do this, we are going to use DataFrame's `drop()` function again as follows"
   ]
  },
  {
   "cell_type": "code",
   "execution_count": null,
   "metadata": {
    "collapsed": false,
    "scrolled": true
   },
   "outputs": [],
   "source": [
    "for col_idx in range(1, 24, 2): \n",
    "        df.drop(col_idx, 1, inplace = True)\n",
    "df"
   ]
  },
  {
   "cell_type": "markdown",
   "metadata": {
    "collapsed": false
   },
   "source": [
    "Now the data is in a pretty good shape aside from the column heads. \n",
    "We can reindex all the columns with integers, or you can extract \n",
    "the column heads from the Excel file using either manual or programmatic method.\n",
    "Here we are going to use integers."
   ]
  },
  {
   "cell_type": "code",
   "execution_count": null,
   "metadata": {
    "collapsed": false,
    "scrolled": true
   },
   "outputs": [],
   "source": [
    "df.columns = range(len(df.columns))\n",
    "df.head()"
   ]
  },
  {
   "cell_type": "markdown",
   "metadata": {},
   "source": [
    "One more work to do, rename all columns."
   ]
  },
  {
   "cell_type": "code",
   "execution_count": null,
   "metadata": {
    "collapsed": false
   },
   "outputs": [],
   "source": []
  },
  {
   "cell_type": "markdown",
   "metadata": {
    "collapsed": false
   },
   "source": [
    "Finally, we have extracted the data table from our Excel file, and put it into a Pandas DataFrame.\n",
    "The DataFrame has 197 rows and 12 columns, where rows correspond to records for individual countries\n",
    "and columns are variables (or attributes). \n",
    "Our last step is to save the data table in a CSV file."
   ]
  },
  {
   "cell_type": "code",
   "execution_count": null,
   "metadata": {
    "collapsed": false,
    "scrolled": true
   },
   "outputs": [],
   "source": [
    "df.to_csv('en_final_table_2.csv')"
   ]
  },
  {
   "cell_type": "markdown",
   "metadata": {},
   "source": [
    "What is the problem you get? Let's check the type of some values in the DataFrame using\n",
    "```\n",
    "    type(df.iloc[i,j])\n",
    "```\n",
    "where i indicates row index, and j indicates column index.\n",
    "You will find that DataFrame's `read_excel` method has parsed all strings and special characters,\n",
    "like '-', into Unicode objects.\n",
    "If you print the DataFrame, however, you'll get the printed version of the Unicode.\n",
    "In contrast, printing a value in a specific location, for example, \n",
    "```python\n",
    "    df.iloc[0,0]\n",
    "```\n",
    "gives you the original Unicode,\n",
    "```\n",
    "    u'\\u2013'\n",
    "```\n",
    "Therefore, you need to specify the encoding method while saving\n",
    "the DataFrame into a CSV file."
   ]
  },
  {
   "cell_type": "code",
   "execution_count": null,
   "metadata": {
    "collapsed": false
   },
   "outputs": [],
   "source": [
    "df.to_csv('./en_final_table_2.csv', sep='\\t', encoding='utf-32')"
   ]
  },
  {
   "cell_type": "markdown",
   "metadata": {},
   "source": [
    "## 3. Summary\n",
    "Compared with the three formats discussed previously, \n",
    "Excel files are not meant to be read by programming languages, but they can still be parsed with a bit more effort. \n",
    "In this tutorial, you have learnt how to extract data from an Excel file and save\n",
    "the extracted data in a CSV file using Pandas ExcelFile class and various\n",
    "methods for manipulating DataFrame.\n",
    "\n",
    "## 4. Exercise \n",
    "1. In the introduction, we have mentioned a couple of Python libraries that can be \n",
    "use to manipulate Excel files. Here we suggest that you download and install `openpyxl`,\n",
    "and try to write your own Python script to parse the same Excel file, and store the data in the\n",
    "same format as in Section 2."
   ]
  },
  {
   "cell_type": "code",
   "execution_count": null,
   "metadata": {
    "collapsed": true
   },
   "outputs": [],
   "source": []
  }
 ],
 "metadata": {
  "kernelspec": {
   "display_name": "Python [default]",
   "language": "python",
   "name": "python2"
  },
  "language_info": {
   "codemirror_mode": {
    "name": "ipython",
    "version": 2
   },
   "file_extension": ".py",
   "mimetype": "text/x-python",
   "name": "python",
   "nbconvert_exporter": "python",
   "pygments_lexer": "ipython2",
   "version": "2.7.13"
  }
 },
 "nbformat": 4,
 "nbformat_minor": 0
}
