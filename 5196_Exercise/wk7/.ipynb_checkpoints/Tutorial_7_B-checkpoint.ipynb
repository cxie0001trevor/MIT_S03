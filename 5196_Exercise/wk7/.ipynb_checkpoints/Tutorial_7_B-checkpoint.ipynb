{
 "cells": [
  {
   "cell_type": "markdown",
   "metadata": {},
   "source": [
    "# Tutorial 7 B: Merging DataFrames"
   ]
  },
  {
   "cell_type": "markdown",
   "metadata": {},
   "source": [
    "This part discusses the basic and essential practical steps for integrating data from various sources.\n",
    "\n",
    "Dealing with data from different sources requires essentially the integration between these sources to have a full information view. For example, if you collect data about house pricing separately in each suburb, you might need to \"**concatenate**\" data together to get a view of the house prices all over Victoria and even Australia. However, each data collection **might have different attributes**. How to merge them together to get a complete yet precise (with no duplication) presentation of the whole collection? Consider another example for sales department, when you have customer details in one table and product details in another table. How can we use Python (`pandas` library) to execute the join between the two `DataFrame` and manage the many to many relationship. This is exactly about implementing database techniques for merging tables using python on a general data.\n",
    "\n",
    "Panda library has offered methods to manage the data integration task. In the following, we will discuss each method with examples. \n",
    "\n",
    "There are **four ways** to merge/combine between different DataFrames in pandas: concatenating, appending, merging and joining. Each has its own use cases and best practice. We present **concatenating** and **appending** in this tutorial, the other two methods will be discussed in the next tutorial. In all of these methods, we assume data is fetched or scrapped from the web (as explained in the Part A) or it is stored locally on the machine. We also assume that the data from each source is stored in a DataFrame structure. We start first with the easiest way for merging DataFrame with concatenating.\n",
    "\n",
    "## Methods for integrating data with Pandas:\n",
    "\n",
    "## 1. Concatenating:\n",
    "This refers to gluing together data from different DataFrames by **stacking them either vertically or side by side**. Consider the following example.\n"
   ]
  },
  {
   "cell_type": "markdown",
   "metadata": {},
   "source": [
    "### Create a dataframe"
   ]
  },
  {
   "cell_type": "code",
   "execution_count": 1,
   "metadata": {},
   "outputs": [
    {
     "data": {
      "text/html": [
       "<div>\n",
       "<style scoped>\n",
       "    .dataframe tbody tr th:only-of-type {\n",
       "        vertical-align: middle;\n",
       "    }\n",
       "\n",
       "    .dataframe tbody tr th {\n",
       "        vertical-align: top;\n",
       "    }\n",
       "\n",
       "    .dataframe thead th {\n",
       "        text-align: right;\n",
       "    }\n",
       "</style>\n",
       "<table border=\"1\" class=\"dataframe\">\n",
       "  <thead>\n",
       "    <tr style=\"text-align: right;\">\n",
       "      <th></th>\n",
       "      <th>First_Name</th>\n",
       "      <th>Last_Name</th>\n",
       "      <th>Student_ID</th>\n",
       "    </tr>\n",
       "  </thead>\n",
       "  <tbody>\n",
       "    <tr>\n",
       "      <th>1</th>\n",
       "      <td>A1</td>\n",
       "      <td>B1</td>\n",
       "      <td>1</td>\n",
       "    </tr>\n",
       "    <tr>\n",
       "      <th>2</th>\n",
       "      <td>A2</td>\n",
       "      <td>B2</td>\n",
       "      <td>2</td>\n",
       "    </tr>\n",
       "    <tr>\n",
       "      <th>3</th>\n",
       "      <td>A3</td>\n",
       "      <td>B3</td>\n",
       "      <td>3</td>\n",
       "    </tr>\n",
       "    <tr>\n",
       "      <th>4</th>\n",
       "      <td>A4</td>\n",
       "      <td>B4</td>\n",
       "      <td>4</td>\n",
       "    </tr>\n",
       "  </tbody>\n",
       "</table>\n",
       "</div>"
      ],
      "text/plain": [
       "  First_Name Last_Name Student_ID\n",
       "1         A1        B1          1\n",
       "2         A2        B2          2\n",
       "3         A3        B3          3\n",
       "4         A4        B4          4"
      ]
     },
     "execution_count": 1,
     "metadata": {},
     "output_type": "execute_result"
    }
   ],
   "source": [
    "#Import module\n",
    "import pandas as pd\n",
    "\n",
    "# Create a dataframe\n",
    "df1= pd.DataFrame({'Student_ID': ['1', '2', '3', '4'],\n",
    "                      'First_Name': ['A1','A2','A3','A4'],\n",
    "                    'Last_Name': ['B1', 'B2', 'B3', 'B4']},\n",
    "                  index=[1,2,3,4])\n",
    "df1"
   ]
  },
  {
   "cell_type": "markdown",
   "metadata": {},
   "source": [
    "### Create a second dataframe\n"
   ]
  },
  {
   "cell_type": "code",
   "execution_count": 2,
   "metadata": {},
   "outputs": [
    {
     "data": {
      "text/html": [
       "<div>\n",
       "<style scoped>\n",
       "    .dataframe tbody tr th:only-of-type {\n",
       "        vertical-align: middle;\n",
       "    }\n",
       "\n",
       "    .dataframe tbody tr th {\n",
       "        vertical-align: top;\n",
       "    }\n",
       "\n",
       "    .dataframe thead th {\n",
       "        text-align: right;\n",
       "    }\n",
       "</style>\n",
       "<table border=\"1\" class=\"dataframe\">\n",
       "  <thead>\n",
       "    <tr style=\"text-align: right;\">\n",
       "      <th></th>\n",
       "      <th>First_Name</th>\n",
       "      <th>Last_Name</th>\n",
       "      <th>Student_ID</th>\n",
       "    </tr>\n",
       "  </thead>\n",
       "  <tbody>\n",
       "    <tr>\n",
       "      <th>4</th>\n",
       "      <td>A4</td>\n",
       "      <td>B4</td>\n",
       "      <td>4</td>\n",
       "    </tr>\n",
       "    <tr>\n",
       "      <th>5</th>\n",
       "      <td>A5</td>\n",
       "      <td>B5</td>\n",
       "      <td>5</td>\n",
       "    </tr>\n",
       "    <tr>\n",
       "      <th>6</th>\n",
       "      <td>A6</td>\n",
       "      <td>B6</td>\n",
       "      <td>6</td>\n",
       "    </tr>\n",
       "    <tr>\n",
       "      <th>7</th>\n",
       "      <td>A7</td>\n",
       "      <td>B7</td>\n",
       "      <td>7</td>\n",
       "    </tr>\n",
       "    <tr>\n",
       "      <th>8</th>\n",
       "      <td>A8</td>\n",
       "      <td>b8</td>\n",
       "      <td>8</td>\n",
       "    </tr>\n",
       "  </tbody>\n",
       "</table>\n",
       "</div>"
      ],
      "text/plain": [
       "  First_Name Last_Name Student_ID\n",
       "4         A4        B4          4\n",
       "5         A5        B5          5\n",
       "6         A6        B6          6\n",
       "7         A7        B7          7\n",
       "8         A8        b8          8"
      ]
     },
     "execution_count": 2,
     "metadata": {},
     "output_type": "execute_result"
    }
   ],
   "source": [
    "df2= pd.DataFrame({'Student_ID': ['4', '5', '6', '7','8'],\n",
    "                      'First_Name': ['A4','A5','A6','A7','A8'],\n",
    "                    'Last_Name': ['B4', 'B5', 'B6', 'B7','b8']},\n",
    "                 index= [4,5,6,7,8])\n",
    "df2"
   ]
  },
  {
   "cell_type": "markdown",
   "metadata": {},
   "source": [
    "### Create a third dataframe"
   ]
  },
  {
   "cell_type": "code",
   "execution_count": 5,
   "metadata": {},
   "outputs": [
    {
     "data": {
      "text/html": [
       "<div>\n",
       "<style scoped>\n",
       "    .dataframe tbody tr th:only-of-type {\n",
       "        vertical-align: middle;\n",
       "    }\n",
       "\n",
       "    .dataframe tbody tr th {\n",
       "        vertical-align: top;\n",
       "    }\n",
       "\n",
       "    .dataframe thead th {\n",
       "        text-align: right;\n",
       "    }\n",
       "</style>\n",
       "<table border=\"1\" class=\"dataframe\">\n",
       "  <thead>\n",
       "    <tr style=\"text-align: right;\">\n",
       "      <th></th>\n",
       "      <th>Last_Name</th>\n",
       "      <th>Student_ID</th>\n",
       "      <th>address</th>\n",
       "    </tr>\n",
       "  </thead>\n",
       "  <tbody>\n",
       "    <tr>\n",
       "      <th>0</th>\n",
       "      <td>B9</td>\n",
       "      <td>9</td>\n",
       "      <td>AD9</td>\n",
       "    </tr>\n",
       "    <tr>\n",
       "      <th>1</th>\n",
       "      <td>B10</td>\n",
       "      <td>10</td>\n",
       "      <td>AD10</td>\n",
       "    </tr>\n",
       "    <tr>\n",
       "      <th>2</th>\n",
       "      <td>B11</td>\n",
       "      <td>11</td>\n",
       "      <td>AD11</td>\n",
       "    </tr>\n",
       "    <tr>\n",
       "      <th>3</th>\n",
       "      <td>B12</td>\n",
       "      <td>12</td>\n",
       "      <td>AD12</td>\n",
       "    </tr>\n",
       "  </tbody>\n",
       "</table>\n",
       "</div>"
      ],
      "text/plain": [
       "  Last_Name Student_ID address\n",
       "0        B9          9     AD9\n",
       "1       B10         10    AD10\n",
       "2       B11         11    AD11\n",
       "3       B12         12    AD12"
      ]
     },
     "execution_count": 5,
     "metadata": {},
     "output_type": "execute_result"
    }
   ],
   "source": [
    "df3= pd.DataFrame({'Student_ID': ['9', '10', '11', '12'],\n",
    "                    'Last_Name': ['B9', 'B10', 'B11', 'B12'],\n",
    "                  'address':['AD9','AD10','AD11','AD12']})\n",
    "# without indexing\n",
    "df3"
   ]
  },
  {
   "cell_type": "markdown",
   "metadata": {},
   "source": [
    "### Join the two dataframes by `concat()` \n",
    "#### Along rows (Vertically)"
   ]
  },
  {
   "cell_type": "code",
   "execution_count": 14,
   "metadata": {},
   "outputs": [
    {
     "data": {
      "text/html": [
       "<div>\n",
       "<style scoped>\n",
       "    .dataframe tbody tr th:only-of-type {\n",
       "        vertical-align: middle;\n",
       "    }\n",
       "\n",
       "    .dataframe tbody tr th {\n",
       "        vertical-align: top;\n",
       "    }\n",
       "\n",
       "    .dataframe thead th {\n",
       "        text-align: right;\n",
       "    }\n",
       "</style>\n",
       "<table border=\"1\" class=\"dataframe\">\n",
       "  <thead>\n",
       "    <tr style=\"text-align: right;\">\n",
       "      <th></th>\n",
       "      <th>First_Name</th>\n",
       "      <th>Last_Name</th>\n",
       "      <th>Student_ID</th>\n",
       "    </tr>\n",
       "  </thead>\n",
       "  <tbody>\n",
       "    <tr>\n",
       "      <th>1</th>\n",
       "      <td>A1</td>\n",
       "      <td>B1</td>\n",
       "      <td>1</td>\n",
       "    </tr>\n",
       "    <tr>\n",
       "      <th>2</th>\n",
       "      <td>A2</td>\n",
       "      <td>B2</td>\n",
       "      <td>2</td>\n",
       "    </tr>\n",
       "    <tr>\n",
       "      <th>3</th>\n",
       "      <td>A3</td>\n",
       "      <td>B3</td>\n",
       "      <td>3</td>\n",
       "    </tr>\n",
       "    <tr>\n",
       "      <th>4</th>\n",
       "      <td>A4</td>\n",
       "      <td>B4</td>\n",
       "      <td>4</td>\n",
       "    </tr>\n",
       "    <tr>\n",
       "      <th>4</th>\n",
       "      <td>A4</td>\n",
       "      <td>B4</td>\n",
       "      <td>4</td>\n",
       "    </tr>\n",
       "    <tr>\n",
       "      <th>5</th>\n",
       "      <td>A5</td>\n",
       "      <td>B5</td>\n",
       "      <td>5</td>\n",
       "    </tr>\n",
       "    <tr>\n",
       "      <th>6</th>\n",
       "      <td>A6</td>\n",
       "      <td>B6</td>\n",
       "      <td>6</td>\n",
       "    </tr>\n",
       "    <tr>\n",
       "      <th>7</th>\n",
       "      <td>A7</td>\n",
       "      <td>B7</td>\n",
       "      <td>7</td>\n",
       "    </tr>\n",
       "    <tr>\n",
       "      <th>8</th>\n",
       "      <td>A8</td>\n",
       "      <td>b8</td>\n",
       "      <td>8</td>\n",
       "    </tr>\n",
       "  </tbody>\n",
       "</table>\n",
       "</div>"
      ],
      "text/plain": [
       "  First_Name Last_Name Student_ID\n",
       "1         A1        B1          1\n",
       "2         A2        B2          2\n",
       "3         A3        B3          3\n",
       "4         A4        B4          4\n",
       "4         A4        B4          4\n",
       "5         A5        B5          5\n",
       "6         A6        B6          6\n",
       "7         A7        B7          7\n",
       "8         A8        b8          8"
      ]
     },
     "execution_count": 14,
     "metadata": {},
     "output_type": "execute_result"
    }
   ],
   "source": [
    "concat_1_2= pd.concat([df1,df2])\n",
    "concat_1_2"
   ]
  },
  {
   "cell_type": "markdown",
   "metadata": {},
   "source": [
    "#### Along columns (Horizontally)"
   ]
  },
  {
   "cell_type": "code",
   "execution_count": 12,
   "metadata": {},
   "outputs": [
    {
     "data": {
      "text/html": [
       "<div>\n",
       "<style scoped>\n",
       "    .dataframe tbody tr th:only-of-type {\n",
       "        vertical-align: middle;\n",
       "    }\n",
       "\n",
       "    .dataframe tbody tr th {\n",
       "        vertical-align: top;\n",
       "    }\n",
       "\n",
       "    .dataframe thead th {\n",
       "        text-align: right;\n",
       "    }\n",
       "</style>\n",
       "<table border=\"1\" class=\"dataframe\">\n",
       "  <thead>\n",
       "    <tr style=\"text-align: right;\">\n",
       "      <th></th>\n",
       "      <th>First_Name</th>\n",
       "      <th>Last_Name</th>\n",
       "      <th>Student_ID</th>\n",
       "      <th>First_Name</th>\n",
       "      <th>Last_Name</th>\n",
       "      <th>Student_ID</th>\n",
       "    </tr>\n",
       "  </thead>\n",
       "  <tbody>\n",
       "    <tr>\n",
       "      <th>1</th>\n",
       "      <td>A1</td>\n",
       "      <td>B1</td>\n",
       "      <td>1</td>\n",
       "      <td>NaN</td>\n",
       "      <td>NaN</td>\n",
       "      <td>NaN</td>\n",
       "    </tr>\n",
       "    <tr>\n",
       "      <th>2</th>\n",
       "      <td>A2</td>\n",
       "      <td>B2</td>\n",
       "      <td>2</td>\n",
       "      <td>NaN</td>\n",
       "      <td>NaN</td>\n",
       "      <td>NaN</td>\n",
       "    </tr>\n",
       "    <tr>\n",
       "      <th>3</th>\n",
       "      <td>A3</td>\n",
       "      <td>B3</td>\n",
       "      <td>3</td>\n",
       "      <td>NaN</td>\n",
       "      <td>NaN</td>\n",
       "      <td>NaN</td>\n",
       "    </tr>\n",
       "    <tr>\n",
       "      <th>4</th>\n",
       "      <td>A4</td>\n",
       "      <td>B4</td>\n",
       "      <td>4</td>\n",
       "      <td>A4</td>\n",
       "      <td>B4</td>\n",
       "      <td>4</td>\n",
       "    </tr>\n",
       "    <tr>\n",
       "      <th>5</th>\n",
       "      <td>NaN</td>\n",
       "      <td>NaN</td>\n",
       "      <td>NaN</td>\n",
       "      <td>A5</td>\n",
       "      <td>B5</td>\n",
       "      <td>5</td>\n",
       "    </tr>\n",
       "    <tr>\n",
       "      <th>6</th>\n",
       "      <td>NaN</td>\n",
       "      <td>NaN</td>\n",
       "      <td>NaN</td>\n",
       "      <td>A6</td>\n",
       "      <td>B6</td>\n",
       "      <td>6</td>\n",
       "    </tr>\n",
       "    <tr>\n",
       "      <th>7</th>\n",
       "      <td>NaN</td>\n",
       "      <td>NaN</td>\n",
       "      <td>NaN</td>\n",
       "      <td>A7</td>\n",
       "      <td>B7</td>\n",
       "      <td>7</td>\n",
       "    </tr>\n",
       "    <tr>\n",
       "      <th>8</th>\n",
       "      <td>NaN</td>\n",
       "      <td>NaN</td>\n",
       "      <td>NaN</td>\n",
       "      <td>A8</td>\n",
       "      <td>b8</td>\n",
       "      <td>8</td>\n",
       "    </tr>\n",
       "  </tbody>\n",
       "</table>\n",
       "</div>"
      ],
      "text/plain": [
       "  First_Name Last_Name Student_ID First_Name Last_Name Student_ID\n",
       "1         A1        B1          1        NaN       NaN        NaN\n",
       "2         A2        B2          2        NaN       NaN        NaN\n",
       "3         A3        B3          3        NaN       NaN        NaN\n",
       "4         A4        B4          4         A4        B4          4\n",
       "5        NaN       NaN        NaN         A5        B5          5\n",
       "6        NaN       NaN        NaN         A6        B6          6\n",
       "7        NaN       NaN        NaN         A7        B7          7\n",
       "8        NaN       NaN        NaN         A8        b8          8"
      ]
     },
     "execution_count": 12,
     "metadata": {},
     "output_type": "execute_result"
    }
   ],
   "source": [
    "concat_1_2= pd.concat([df1,df2], axis=1) # 1 column side, 0 row side, default axis = 0\n",
    "concat_1_2"
   ]
  },
  {
   "cell_type": "markdown",
   "metadata": {},
   "source": [
    "\\* **Notice data at row 4**"
   ]
  },
  {
   "cell_type": "code",
   "execution_count": 15,
   "metadata": {},
   "outputs": [
    {
     "data": {
      "text/html": [
       "<div>\n",
       "<style scoped>\n",
       "    .dataframe tbody tr th:only-of-type {\n",
       "        vertical-align: middle;\n",
       "    }\n",
       "\n",
       "    .dataframe tbody tr th {\n",
       "        vertical-align: top;\n",
       "    }\n",
       "\n",
       "    .dataframe thead th {\n",
       "        text-align: right;\n",
       "    }\n",
       "</style>\n",
       "<table border=\"1\" class=\"dataframe\">\n",
       "  <thead>\n",
       "    <tr style=\"text-align: right;\">\n",
       "      <th></th>\n",
       "      <th>First_Name</th>\n",
       "      <th>Last_Name</th>\n",
       "      <th>Student_ID</th>\n",
       "      <th>address</th>\n",
       "    </tr>\n",
       "  </thead>\n",
       "  <tbody>\n",
       "    <tr>\n",
       "      <th>1</th>\n",
       "      <td>A1</td>\n",
       "      <td>B1</td>\n",
       "      <td>1</td>\n",
       "      <td>NaN</td>\n",
       "    </tr>\n",
       "    <tr>\n",
       "      <th>2</th>\n",
       "      <td>A2</td>\n",
       "      <td>B2</td>\n",
       "      <td>2</td>\n",
       "      <td>NaN</td>\n",
       "    </tr>\n",
       "    <tr>\n",
       "      <th>3</th>\n",
       "      <td>A3</td>\n",
       "      <td>B3</td>\n",
       "      <td>3</td>\n",
       "      <td>NaN</td>\n",
       "    </tr>\n",
       "    <tr>\n",
       "      <th>4</th>\n",
       "      <td>A4</td>\n",
       "      <td>B4</td>\n",
       "      <td>4</td>\n",
       "      <td>NaN</td>\n",
       "    </tr>\n",
       "    <tr>\n",
       "      <th>4</th>\n",
       "      <td>A4</td>\n",
       "      <td>B4</td>\n",
       "      <td>4</td>\n",
       "      <td>NaN</td>\n",
       "    </tr>\n",
       "    <tr>\n",
       "      <th>5</th>\n",
       "      <td>A5</td>\n",
       "      <td>B5</td>\n",
       "      <td>5</td>\n",
       "      <td>NaN</td>\n",
       "    </tr>\n",
       "    <tr>\n",
       "      <th>6</th>\n",
       "      <td>A6</td>\n",
       "      <td>B6</td>\n",
       "      <td>6</td>\n",
       "      <td>NaN</td>\n",
       "    </tr>\n",
       "    <tr>\n",
       "      <th>7</th>\n",
       "      <td>A7</td>\n",
       "      <td>B7</td>\n",
       "      <td>7</td>\n",
       "      <td>NaN</td>\n",
       "    </tr>\n",
       "    <tr>\n",
       "      <th>8</th>\n",
       "      <td>A8</td>\n",
       "      <td>b8</td>\n",
       "      <td>8</td>\n",
       "      <td>NaN</td>\n",
       "    </tr>\n",
       "    <tr>\n",
       "      <th>0</th>\n",
       "      <td>NaN</td>\n",
       "      <td>B9</td>\n",
       "      <td>9</td>\n",
       "      <td>AD9</td>\n",
       "    </tr>\n",
       "    <tr>\n",
       "      <th>1</th>\n",
       "      <td>NaN</td>\n",
       "      <td>B10</td>\n",
       "      <td>10</td>\n",
       "      <td>AD10</td>\n",
       "    </tr>\n",
       "    <tr>\n",
       "      <th>2</th>\n",
       "      <td>NaN</td>\n",
       "      <td>B11</td>\n",
       "      <td>11</td>\n",
       "      <td>AD11</td>\n",
       "    </tr>\n",
       "    <tr>\n",
       "      <th>3</th>\n",
       "      <td>NaN</td>\n",
       "      <td>B12</td>\n",
       "      <td>12</td>\n",
       "      <td>AD12</td>\n",
       "    </tr>\n",
       "  </tbody>\n",
       "</table>\n",
       "</div>"
      ],
      "text/plain": [
       "  First_Name Last_Name Student_ID address\n",
       "1         A1        B1          1     NaN\n",
       "2         A2        B2          2     NaN\n",
       "3         A3        B3          3     NaN\n",
       "4         A4        B4          4     NaN\n",
       "4         A4        B4          4     NaN\n",
       "5         A5        B5          5     NaN\n",
       "6         A6        B6          6     NaN\n",
       "7         A7        B7          7     NaN\n",
       "8         A8        b8          8     NaN\n",
       "0        NaN        B9          9     AD9\n",
       "1        NaN       B10         10    AD10\n",
       "2        NaN       B11         11    AD11\n",
       "3        NaN       B12         12    AD12"
      ]
     },
     "execution_count": 15,
     "metadata": {},
     "output_type": "execute_result"
    }
   ],
   "source": [
    "concat_1_2_3= pd.concat([df1,df2,df3])\n",
    "concat_1_2_3"
   ]
  },
  {
   "cell_type": "markdown",
   "metadata": {},
   "source": [
    "As explained in this example, concatenation glues different DataFrames together **without considering the index of any** or **duplication that might cause**. When concatenating, you need to make sure that **all DataFrames have the same headers**. Otherwise, the values of any column that **does not exist** in the union of headers of concatenated DataFrame will be replaced with `NaN` values, as shown when concatenated df3 with df1 and df2. \n",
    "\n",
    "Note also, concatenation **assigns the default index** when the index was not provided in the original DataFrame (as in df3).  \n",
    "`ignore_index` argument is used in case you want to concatenate the DataFrames and **ignore the indexes** (because they are not meaningful)"
   ]
  },
  {
   "cell_type": "code",
   "execution_count": 16,
   "metadata": {},
   "outputs": [
    {
     "name": "stdout",
     "output_type": "stream",
     "text": [
      "  First_Name Last_Name Student_ID\n",
      "1         A1        B1          1\n",
      "2         A2        B2          2\n",
      "3         A3        B3          3\n",
      "4         A4        B4          4\n",
      "  Last_Name Student_ID address\n",
      "0        B9          9     AD9\n",
      "1       B10         10    AD10\n",
      "2       B11         11    AD11\n",
      "3       B12         12    AD12\n",
      "  First_Name Last_Name Student_ID address\n",
      "0         A1        B1          1     NaN\n",
      "1         A2        B2          2     NaN\n",
      "2         A3        B3          3     NaN\n",
      "3         A4        B4          4     NaN\n",
      "4        NaN        B9          9     AD9\n",
      "5        NaN       B10         10    AD10\n",
      "6        NaN       B11         11    AD11\n",
      "7        NaN       B12         12    AD12\n"
     ]
    }
   ],
   "source": [
    "result = pd.concat([df1, df3], ignore_index=True)\n",
    "print(df1)\n",
    "print(df3)\n",
    "print(result)"
   ]
  },
  {
   "cell_type": "markdown",
   "metadata": {},
   "source": [
    "The concatenation is very useful when you have data (**with the same attributes**) coming **from different sources** i.e., house prices collected from each suburb. So we glue them together to get a view for house prices all over victoria. We can also **add another** <font color='red'>**key column**</font> **to indicate the source of each chunk of data in a hierarchical way**. The example below explains this as follows:"
   ]
  },
  {
   "cell_type": "code",
   "execution_count": 18,
   "metadata": {},
   "outputs": [
    {
     "name": "stdout",
     "output_type": "stream",
     "text": [
      "          First_Name Last_Name Student_ID\n",
      "source1 1         A1        B1          1\n",
      "        2         A2        B2          2\n",
      "        3         A3        B3          3\n",
      "        4         A4        B4          4\n",
      "source2 4         A4        B4          4\n",
      "        5         A5        B5          5\n",
      "        6         A6        B6          6\n",
      "        7         A7        B7          7\n",
      "        8         A8        b8          8\n"
     ]
    }
   ],
   "source": [
    "concat_1_2= pd.concat([df1,df2], keys=['source1','source2'])\n",
    "print(concat_1_2)"
   ]
  },
  {
   "cell_type": "markdown",
   "metadata": {},
   "source": [
    "An important use case for concatenating is when we different perspectives of the same data is collected, so we need to concatenate all the information together to get all the details in one DataFrame. The following example illustrates the concatenation of DataFrame represents landlord profile with another DataFrame for the property details. The concatenation in this case has to be implemented along the horizontal axis (axis=1) rather than the vertical one, while the default concatenation axis is 0 (vertical).  \n"
   ]
  },
  {
   "cell_type": "code",
   "execution_count": 19,
   "metadata": {},
   "outputs": [
    {
     "name": "stdout",
     "output_type": "stream",
     "text": [
      "  First_Name Last_Name Student_ID Addres Student_ID year\n",
      "1         A1        B1          1    AD1          1   Y1\n",
      "2         A2        B2          2    AD2          2   Y2\n",
      "3         A3        B3          3    AD3          3   Y3\n",
      "4         A4        B4          4    AD4          4   Y4\n",
      "  First_Name Last_Name Student_ID Addres Student_ID year\n",
      "1        NaN       NaN        NaN    AD1          1   Y1\n",
      "2        NaN       NaN        NaN    AD2          2   Y2\n",
      "3        NaN       NaN        NaN    AD3          3   Y3\n",
      "4         A4        B4          4    AD4          4   Y4\n",
      "5         A5        B5          5    NaN        NaN  NaN\n",
      "6         A6        B6          6    NaN        NaN  NaN\n",
      "7         A7        B7          7    NaN        NaN  NaN\n",
      "8         A8        b8          8    NaN        NaN  NaN\n"
     ]
    }
   ],
   "source": [
    "df4=pd.DataFrame({'Student_ID': ['1', '2', '3', '4'],\n",
    "                      'Addres': ['AD1','AD2','AD3','AD4'],\n",
    "                    'year': ['Y1', 'Y2', 'Y3', 'Y4']},\n",
    "                 index={1,2,3,4}\n",
    "                 )\n",
    "concat_1_4_horizontal= pd.concat([df1,df4],axis=1)\n",
    "print(concat_1_4_horizontal)\n",
    "concat_2_4_horizontal= pd.concat([df2,df4],axis=1)\n",
    "print(concat_2_4_horizontal)"
   ]
  },
  {
   "cell_type": "markdown",
   "metadata": {},
   "source": [
    "Concatenating df2 and df4 results in many NAN values because of the **non-overlapping in index**. Therefore, joining the DataFrames is very useful in this case. Concatenation gives you the three options to handle the other axes too (apart from the one we concatenate on) using **outer** or **inner** options or using a specific index.   \n",
    "* The **outer** option is the default gets the union of data and grantees zero loss. The previous example shows the outer join of df2 and df4.  \n",
    "* On the other hand, **inner** gets the **intersection between the two DataFrames**. Last but not least, the “join_axes” argument is used for joining with a specific index. "
   ]
  },
  {
   "cell_type": "code",
   "execution_count": 24,
   "metadata": {},
   "outputs": [
    {
     "name": "stdout",
     "output_type": "stream",
     "text": [
      "  First_Name Last_Name Student_ID Addres Student_ID year\n",
      "4         A4        B4          4    AD4          4   Y4\n",
      "\n",
      "df2\n",
      "  First_Name Last_Name Student_ID\n",
      "4         A4        B4          4\n",
      "5         A5        B5          5\n",
      "6         A6        B6          6\n",
      "7         A7        B7          7\n",
      "8         A8        b8          8\n",
      "\n",
      "df4\n",
      "  Addres Student_ID year\n",
      "1    AD1          1   Y1\n",
      "2    AD2          2   Y2\n",
      "3    AD3          3   Y3\n",
      "4    AD4          4   Y4\n",
      "\n",
      "\n",
      "  First_Name Last_Name Student_ID Addres Student_ID year\n",
      "4         A4        B4          4    AD4          4   Y4\n",
      "5         A5        B5          5    NaN        NaN  NaN\n",
      "6         A6        B6          6    NaN        NaN  NaN\n",
      "7         A7        B7          7    NaN        NaN  NaN\n",
      "8         A8        b8          8    NaN        NaN  NaN\n"
     ]
    }
   ],
   "source": [
    "joint_result= pd.concat([df2, df4], axis=1, join='inner') #get the intersection\n",
    "print(joint_result)\n",
    "\n",
    "joint_result2= pd.concat([df2,df4],axis=1,join_axes= [df2.index]) # join on df2.index\n",
    "print('\\ndf2')\n",
    "print(df2)\n",
    "print('\\ndf4')\n",
    "print(df4)\n",
    "print('\\n')\n",
    "print(joint_result2)"
   ]
  },
  {
   "cell_type": "markdown",
   "metadata": {},
   "source": [
    "*** \n",
    "## 2. Append:\n",
    "Append method in Series and DataFrames is a **shortcut of concatenating**. It is easy to use **but not efficient in terms of performance**: \n",
    "> When appending a DataFrame, the original DataFrame **remains in memory and a new appended one is created**. In the appending process, **the indexes must be disjoint but the columns do not need to be**. "
   ]
  },
  {
   "cell_type": "code",
   "execution_count": 27,
   "metadata": {},
   "outputs": [
    {
     "name": "stdout",
     "output_type": "stream",
     "text": [
      "\n",
      "df1\n",
      "  First_Name Last_Name Student_ID\n",
      "1         A1        B1          1\n",
      "2         A2        B2          2\n",
      "3         A3        B3          3\n",
      "4         A4        B4          4\n",
      "\n",
      "df2\n",
      "  First_Name Last_Name Student_ID\n",
      "4         A4        B4          4\n",
      "5         A5        B5          5\n",
      "6         A6        B6          6\n",
      "7         A7        B7          7\n",
      "8         A8        b8          8\n",
      "\n",
      "df3\n",
      "  Last_Name Student_ID address\n",
      "0        B9          9     AD9\n",
      "1       B10         10    AD10\n",
      "2       B11         11    AD11\n",
      "3       B12         12    AD12\n",
      "\n",
      "\n",
      "  First_Name Last_Name Student_ID address\n",
      "1         A1        B1          1     NaN\n",
      "2         A2        B2          2     NaN\n",
      "3         A3        B3          3     NaN\n",
      "4         A4        B4          4     NaN\n",
      "4         A4        B4          4     NaN\n",
      "5         A5        B5          5     NaN\n",
      "6         A6        B6          6     NaN\n",
      "7         A7        B7          7     NaN\n",
      "8         A8        b8          8     NaN\n",
      "0        NaN        B9          9     AD9\n",
      "1        NaN       B10         10    AD10\n",
      "2        NaN       B11         11    AD11\n",
      "3        NaN       B12         12    AD12\n"
     ]
    }
   ],
   "source": [
    "appended_df= df1.append([df2,df3])\n",
    "print('\\ndf1')\n",
    "print(df1)\n",
    "print('\\ndf2')\n",
    "print(df2)\n",
    "print('\\ndf3')\n",
    "print(df3)\n",
    "print('\\n')\n",
    "print(appended_df)"
   ]
  },
  {
   "cell_type": "markdown",
   "metadata": {},
   "source": [
    "You can mix/concatenate both Series and DataFrames. Concat (and therefore append) makes a full copy of the data, and that **constantly reusing this function can create a significant performance hit**. In the following section, we will introduce merge and join as a **more efficient way for merging DataFrames** in Tutorial 6."
   ]
  }
 ],
 "metadata": {
  "anaconda-cloud": {},
  "kernelspec": {
   "display_name": "Python 3",
   "language": "python",
   "name": "python3"
  },
  "language_info": {
   "codemirror_mode": {
    "name": "ipython",
    "version": 3
   },
   "file_extension": ".py",
   "mimetype": "text/x-python",
   "name": "python",
   "nbconvert_exporter": "python",
   "pygments_lexer": "ipython3",
   "version": "3.6.4"
  }
 },
 "nbformat": 4,
 "nbformat_minor": 1
}
