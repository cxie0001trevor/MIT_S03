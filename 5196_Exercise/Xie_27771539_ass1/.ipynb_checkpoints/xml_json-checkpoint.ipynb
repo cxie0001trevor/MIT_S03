{
 "cells": [
  {
   "cell_type": "markdown",
   "metadata": {},
   "source": [
    "# FIT5196 Task 3 in Assessment 1\n",
    "#### Student Name: Chuangfu Xie\n",
    "#### Student ID: 27771539\n",
    "\n",
    "Date: 09/04/2018\n",
    "\n",
    "Version: 2.0\n",
    "\n",
    "Environment: Python 3.6.4 and Jupyter notebook"
   ]
  },
  {
   "cell_type": "code",
   "execution_count": null,
   "metadata": {},
   "outputs": [],
   "source": [
    "import sys\n",
    "print (sys.version_info)"
   ]
  },
  {
   "cell_type": "markdown",
   "metadata": {},
   "source": [
    "## 1.  Import libraries "
   ]
  },
  {
   "cell_type": "code",
   "execution_count": null,
   "metadata": {},
   "outputs": [],
   "source": [
    "import re\n",
    "import json"
   ]
  },
  {
   "cell_type": "markdown",
   "metadata": {
    "collapsed": true
   },
   "source": [
    "## 2. Parse XML File\n"
   ]
  },
  {
   "cell_type": "markdown",
   "metadata": {},
   "source": [
    "### 2.1 Load XML and inspect\n",
    "First, we open the XML file and inspect the content:"
   ]
  },
  {
   "cell_type": "code",
   "execution_count": null,
   "metadata": {},
   "outputs": [],
   "source": [
    "xml_file = open(\"./australian-sport-thesaurus-student.xml\",'r')\n",
    "for line in xml_file:\n",
    "    print(repr(line))"
   ]
  },
  {
   "cell_type": "markdown",
   "metadata": {},
   "source": [
    "As XML are similar to JSON, we can clearly find out the hierarchical structure within tags. To parse the value between tags, the structure is like:\n",
    "```python\n",
    "    {\n",
    "        'thesaurus': [{'Title': ... ,\n",
    "                       'Description': ...,\n",
    "                       'RelatedTerms':[{'Title': ...,\n",
    "                                        'Relationship': ...}]\n",
    "                      },\n",
    "                      {'Title':...,\n",
    "                                                        ...\n",
    "                      }, ...\n",
    "                     ]\n",
    "    }\n",
    "```\n",
    "Thus, we make use of the Regular expression to extract values by locating tags:"
   ]
  },
  {
   "cell_type": "code",
   "execution_count": null,
   "metadata": {},
   "outputs": [],
   "source": [
    "child_pattern_s = r'\\s{2}<Term>\\n'\n",
    "child_pattern_e = r'\\s{2}</Term>\\n'\n",
    "child_val_pattern = r'^\\s{4}<(?P<tag>\\w+)>(?P<value>.+)</\\w+>'\n",
    "related_term_s = r'\\s{4}<RelatedTerms>\\n'\n",
    "related_term_e = r'\\s{4}</RelatedTerms>\\n'\n",
    "related_child_s = r'\\s{6}<Term>\\n'\n",
    "related_child_e = r'\\s{6}</Term>\\n'\n",
    "related_child_val_pattern = r'\\s{8}<(?P<tag>\\w+)>(?P<value>.+)</\\w+>'"
   ]
  },
  {
   "cell_type": "markdown",
   "metadata": {},
   "source": [
    "### 2.2 Extract data within tags\n",
    "Create a dictionary for storing data:"
   ]
  },
  {
   "cell_type": "code",
   "execution_count": null,
   "metadata": {},
   "outputs": [],
   "source": [
    "result = {'thesaurus':[]}"
   ]
  },
  {
   "cell_type": "code",
   "execution_count": null,
   "metadata": {},
   "outputs": [],
   "source": [
    "xml_file = open(\"./australian-sport-thesaurus-student.xml\",'r')\n",
    "for line in xml_file:\n",
    "    if re.match(child_pattern_s,line):\n",
    "        #initialise a new dictionary corresponding to tags\n",
    "        new_child = {}\n",
    "        \n",
    "    if re.match(child_val_pattern,line):\n",
    "        matches = re.match(child_val_pattern,line)\n",
    "        #using groupdict() to extract 'tag' value and 'value' value respectively.\n",
    "        new_child[matches.groupdict()['tag']] = matches.groupdict()['value']\n",
    "        \n",
    "    if re.match(related_term_s,line):\n",
    "        #initialise a new list corresponding to tags\n",
    "        related_term = []\n",
    "        \n",
    "    if re.match(related_child_s,line):\n",
    "        #initialise a new dictionary corresponding to tags\n",
    "        new_related_child = {}\n",
    "        \n",
    "    if re.match(related_child_val_pattern,line):\n",
    "        matches = re.match(related_child_val_pattern,line)\n",
    "        #using groupdict() to extract 'tag' value and 'value' value respectively.\n",
    "        new_related_child[matches.groupdict()['tag']] = matches.groupdict()['value']\n",
    "        \n",
    "    if re.match(related_child_e,line):\n",
    "        # Finish extracting, store data\n",
    "        related_term.append(new_related_child)\n",
    "        \n",
    "    if re.match(related_term_s,line):\n",
    "        # Finish extracting, store data\n",
    "        new_child['RelatedTerms'] = related_term\n",
    "        \n",
    "    if re.match(child_pattern_e,line):\n",
    "        result['thesaurus'].append(new_child)"
   ]
  },
  {
   "cell_type": "markdown",
   "metadata": {},
   "source": [
    "### 2.3 Export output\n",
    "Following the instruction, the output data need to be in format `.dat`:"
   ]
  },
  {
   "cell_type": "code",
   "execution_count": null,
   "metadata": {},
   "outputs": [],
   "source": [
    "with open(\"./sport.dat\", \"w\", encoding='utf-8') as output:\n",
    "     json.dump(result, output, sort_keys=True)"
   ]
  },
  {
   "cell_type": "markdown",
   "metadata": {},
   "source": [
    "## 3. Summary\n",
    "Similar to JSON, XML are tag-related in a hierarchical structure. The only thing need to take care of is figure out the relation between tags, especially for multiple values dataset."
   ]
  }
 ],
 "metadata": {
  "kernelspec": {
   "display_name": "Python 3",
   "language": "python",
   "name": "python3"
  },
  "language_info": {
   "codemirror_mode": {
    "name": "ipython",
    "version": 3
   },
   "file_extension": ".py",
   "mimetype": "text/x-python",
   "name": "python",
   "nbconvert_exporter": "python",
   "pygments_lexer": "ipython3",
   "version": "3.6.4"
  }
 },
 "nbformat": 4,
 "nbformat_minor": 1
}
