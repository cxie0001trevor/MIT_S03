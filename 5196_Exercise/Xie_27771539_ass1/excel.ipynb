{
 "cells": [
  {
   "cell_type": "markdown",
   "metadata": {},
   "source": [
    "# FIT5196 Task 1 in Assessment 1\n",
    "#### Student Name: Chuangfu Xie\n",
    "#### Student ID: 27771539\n",
    "\n",
    "Date: 08/04/2018\n",
    "\n",
    "Version: 1.0\n",
    "\n",
    "Environment: Python 3.6.4 and Jupyter notebook"
   ]
  },
  {
   "cell_type": "code",
   "execution_count": null,
   "metadata": {},
   "outputs": [],
   "source": [
    "import sys\n",
    "print (sys.version_info)"
   ]
  },
  {
   "cell_type": "markdown",
   "metadata": {},
   "source": [
    "## 1.  Import libraries "
   ]
  },
  {
   "cell_type": "code",
   "execution_count": null,
   "metadata": {},
   "outputs": [],
   "source": [
    "import pandas as pd\n",
    "pd.__version__"
   ]
  },
  {
   "cell_type": "markdown",
   "metadata": {
    "collapsed": true
   },
   "source": [
    "## 2. Parse Excel File\n",
    "First, we use pandas function `read_excel()` to read the excel file from the current working directory, specifying parameter `header` as `None` intended to make all column marked as intergers.\n",
    "\n",
    "Then we inspect the output to find problems."
   ]
  },
  {
   "cell_type": "code",
   "execution_count": null,
   "metadata": {},
   "outputs": [],
   "source": [
    "df = pd.read_excel(\"./basic_indicators.xlsx\", header=None)\n",
    "df\n",
    "#df.dtypes"
   ]
  },
  {
   "cell_type": "markdown",
   "metadata": {},
   "source": [
    "According to the instruction, now we can find the problems:\n",
    "* Multiple labels(i.e Under–5 mortality rate ( 1990, 2016 ) ).\n",
    "* We do not need the 'Summary' part(starting from row 207).\n",
    "* Many rows and columns only contain `NaN`.\n",
    "* We do not need the additional notes.\n",
    "\n",
    "Here we use `drop()` and `dropna()` to deal with the unwanted records. After that, we can get what we want from the input, then we use `reset_index ` to reset all record index."
   ]
  },
  {
   "cell_type": "code",
   "execution_count": null,
   "metadata": {
    "scrolled": true
   },
   "outputs": [],
   "source": [
    "df.drop(df.index[208:],axis=0,inplace=True) #Drop the Summary part\n",
    "df.drop(df.index[:6],axis=0,inplace=True) #Drop the Multiple labels\n",
    "df.dropna(axis=[0,1], how='all', inplace=True) #Drop all row and colums containing only NaNs\n",
    "df.drop([15,17],axis=1,inplace=True) #Drop the additional notes\n",
    "df.reset_index(drop=True, inplace=True) #Reset all index\n",
    "df.columns = ['Country Name'] + list(range(14))#Rename columns"
   ]
  },
  {
   "cell_type": "markdown",
   "metadata": {},
   "source": [
    "Follow the instructions, as all data need to be convert to integer, we use `apply` function to do the elementwise manipulation:\n",
    "* Find those which contains `'–'` and then replace as empty string `''`.\n",
    "* Find those which are an instance of float type object and then convert to integer. \n",
    "\n",
    "In this part, we use `lambda` function and make use of the `isinstance` function to work as a filter to find all matching records and do the conversion."
   ]
  },
  {
   "cell_type": "code",
   "execution_count": null,
   "metadata": {},
   "outputs": [],
   "source": [
    "df = df.apply(lambda x: x.replace('–', ''), axis=1)\n",
    "func = lambda each: int(each) if isinstance(each, float) else each\n",
    "df = df.apply(lambda x: x.apply(func))"
   ]
  },
  {
   "cell_type": "markdown",
   "metadata": {},
   "source": [
    "Export to CSV format"
   ]
  },
  {
   "cell_type": "code",
   "execution_count": null,
   "metadata": {},
   "outputs": [],
   "source": [
    "df.to_csv('./basic_indicators.csv',index=False)"
   ]
  },
  {
   "cell_type": "markdown",
   "metadata": {},
   "source": [
    "## 3. Summary\n",
    "The most tricky part in this task is to convert float into integer. Though we can specify `float_format='%.f'` in `to_csv()` to simply the conversion process, it doesn't work in the situation where the dataframe contains different data types. Consequently, we use anonymous functions as filter elementwisely to do the conversion. "
   ]
  }
 ],
 "metadata": {
  "kernelspec": {
   "display_name": "Python 3",
   "language": "python",
   "name": "python3"
  },
  "language_info": {
   "codemirror_mode": {
    "name": "ipython",
    "version": 3
   },
   "file_extension": ".py",
   "mimetype": "text/x-python",
   "name": "python",
   "nbconvert_exporter": "python",
   "pygments_lexer": "ipython3",
   "version": "3.6.4"
  }
 },
 "nbformat": 4,
 "nbformat_minor": 1
}
