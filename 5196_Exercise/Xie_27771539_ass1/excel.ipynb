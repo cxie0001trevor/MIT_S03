{
 "cells": [
  {
   "cell_type": "markdown",
   "metadata": {},
   "source": [
    "# FIT5196 Task 1 in Assessment 1\n",
    "#### Student Name: Chuangfu Xie\n",
    "#### Student ID: 27771539\n",
    "\n",
    "Date: 08/04/2018\n",
    "\n",
    "Version: 1.0\n",
    "\n",
    "Environment: Python 3.6.4 and Jupyter notebook"
   ]
  },
  {
   "cell_type": "code",
   "execution_count": 1,
   "metadata": {},
   "outputs": [
    {
     "name": "stdout",
     "output_type": "stream",
     "text": [
      "sys.version_info(major=3, minor=6, micro=4, releaselevel='final', serial=0)\n"
     ]
    }
   ],
   "source": [
    "import sys\n",
    "print (sys.version_info)"
   ]
  },
  {
   "cell_type": "markdown",
   "metadata": {},
   "source": [
    "## 1.  Import libraries "
   ]
  },
  {
   "cell_type": "code",
   "execution_count": 2,
   "metadata": {},
   "outputs": [
    {
     "data": {
      "text/plain": [
       "'0.22.0'"
      ]
     },
     "execution_count": 2,
     "metadata": {},
     "output_type": "execute_result"
    }
   ],
   "source": [
    "import pandas as pd\n",
    "pd.__version__"
   ]
  },
  {
   "cell_type": "markdown",
   "metadata": {
    "collapsed": true
   },
   "source": [
    "## 2. Parse Excel File\n",
    "First, we use pandas function `read_excel()` to read the excel file from the current working directory, specifying parameter `header` as `None` intended to make all column marked as intergers.\n",
    "\n",
    "Then we inspect the output to find problems."
   ]
  },
  {
   "cell_type": "code",
   "execution_count": 7,
   "metadata": {},
   "outputs": [
    {
     "data": {
      "text/html": [
       "<div>\n",
       "<style scoped>\n",
       "    .dataframe tbody tr th:only-of-type {\n",
       "        vertical-align: middle;\n",
       "    }\n",
       "\n",
       "    .dataframe tbody tr th {\n",
       "        vertical-align: top;\n",
       "    }\n",
       "\n",
       "    .dataframe thead th {\n",
       "        text-align: right;\n",
       "    }\n",
       "</style>\n",
       "<table border=\"1\" class=\"dataframe\">\n",
       "  <thead>\n",
       "    <tr style=\"text-align: right;\">\n",
       "      <th></th>\n",
       "      <th>0</th>\n",
       "      <th>1</th>\n",
       "      <th>2</th>\n",
       "      <th>3</th>\n",
       "      <th>4</th>\n",
       "      <th>5</th>\n",
       "      <th>6</th>\n",
       "      <th>7</th>\n",
       "      <th>8</th>\n",
       "      <th>9</th>\n",
       "      <th>...</th>\n",
       "      <th>14</th>\n",
       "      <th>15</th>\n",
       "      <th>16</th>\n",
       "      <th>17</th>\n",
       "      <th>18</th>\n",
       "      <th>19</th>\n",
       "      <th>20</th>\n",
       "      <th>21</th>\n",
       "      <th>22</th>\n",
       "      <th>23</th>\n",
       "    </tr>\n",
       "  </thead>\n",
       "  <tbody>\n",
       "    <tr>\n",
       "      <th>0</th>\n",
       "      <td>NaN</td>\n",
       "      <td>NaN</td>\n",
       "      <td>NaN</td>\n",
       "      <td>NaN</td>\n",
       "      <td>NaN</td>\n",
       "      <td>NaN</td>\n",
       "      <td>NaN</td>\n",
       "      <td>NaN</td>\n",
       "      <td>NaN</td>\n",
       "      <td>NaN</td>\n",
       "      <td>...</td>\n",
       "      <td>NaN</td>\n",
       "      <td>NaN</td>\n",
       "      <td>NaN</td>\n",
       "      <td>NaN</td>\n",
       "      <td>NaN</td>\n",
       "      <td>NaN</td>\n",
       "      <td>NaN</td>\n",
       "      <td>NaN</td>\n",
       "      <td>NaN</td>\n",
       "      <td>NaN</td>\n",
       "    </tr>\n",
       "    <tr>\n",
       "      <th>1</th>\n",
       "      <td>NaN</td>\n",
       "      <td>TABLE 1. BASIC INDICATORS</td>\n",
       "      <td>NaN</td>\n",
       "      <td>NaN</td>\n",
       "      <td>NaN</td>\n",
       "      <td>NaN</td>\n",
       "      <td>NaN</td>\n",
       "      <td>NaN</td>\n",
       "      <td>NaN</td>\n",
       "      <td>NaN</td>\n",
       "      <td>...</td>\n",
       "      <td>NaN</td>\n",
       "      <td>NaN</td>\n",
       "      <td>NaN</td>\n",
       "      <td>NaN</td>\n",
       "      <td>NaN</td>\n",
       "      <td>NaN</td>\n",
       "      <td>NaN</td>\n",
       "      <td>NaN</td>\n",
       "      <td>NaN</td>\n",
       "      <td>NaN</td>\n",
       "    </tr>\n",
       "    <tr>\n",
       "      <th>2</th>\n",
       "      <td>NaN</td>\n",
       "      <td>NaN</td>\n",
       "      <td>NaN</td>\n",
       "      <td>NaN</td>\n",
       "      <td>NaN</td>\n",
       "      <td>NaN</td>\n",
       "      <td>NaN</td>\n",
       "      <td>NaN</td>\n",
       "      <td>NaN</td>\n",
       "      <td>NaN</td>\n",
       "      <td>...</td>\n",
       "      <td>NaN</td>\n",
       "      <td>NaN</td>\n",
       "      <td>NaN</td>\n",
       "      <td>NaN</td>\n",
       "      <td>NaN</td>\n",
       "      <td>NaN</td>\n",
       "      <td>NaN</td>\n",
       "      <td>NaN</td>\n",
       "      <td>NaN</td>\n",
       "      <td>NaN</td>\n",
       "    </tr>\n",
       "    <tr>\n",
       "      <th>3</th>\n",
       "      <td>NaN</td>\n",
       "      <td>Countries and areas</td>\n",
       "      <td>Under–5 mortality rank</td>\n",
       "      <td>Under–5 mortality rate</td>\n",
       "      <td>NaN</td>\n",
       "      <td>Under–5 mortality rate by sex\\n2016</td>\n",
       "      <td>NaN</td>\n",
       "      <td>Infant mortality rate (under 1)</td>\n",
       "      <td>NaN</td>\n",
       "      <td>Neonatal  mortality rate</td>\n",
       "      <td>...</td>\n",
       "      <td>Total adult literacy rate          (%)</td>\n",
       "      <td>NaN</td>\n",
       "      <td>Primary school net enrolment ratio            ...</td>\n",
       "      <td>NaN</td>\n",
       "      <td>NaN</td>\n",
       "      <td>NaN</td>\n",
       "      <td>NaN</td>\n",
       "      <td>NaN</td>\n",
       "      <td>NaN</td>\n",
       "      <td>NaN</td>\n",
       "    </tr>\n",
       "    <tr>\n",
       "      <th>4</th>\n",
       "      <td>NaN</td>\n",
       "      <td>NaN</td>\n",
       "      <td>NaN</td>\n",
       "      <td>1990</td>\n",
       "      <td>2016</td>\n",
       "      <td>male</td>\n",
       "      <td>female</td>\n",
       "      <td>1990</td>\n",
       "      <td>2016</td>\n",
       "      <td>2016</td>\n",
       "      <td>...</td>\n",
       "      <td>2011−2016*</td>\n",
       "      <td>NaN</td>\n",
       "      <td>2011−2016*</td>\n",
       "      <td>NaN</td>\n",
       "      <td>NaN</td>\n",
       "      <td>NaN</td>\n",
       "      <td>NaN</td>\n",
       "      <td>NaN</td>\n",
       "      <td>NaN</td>\n",
       "      <td>NaN</td>\n",
       "    </tr>\n",
       "  </tbody>\n",
       "</table>\n",
       "<p>5 rows × 24 columns</p>\n",
       "</div>"
      ],
      "text/plain": [
       "   0                          1                       2   \\\n",
       "0 NaN                        NaN                     NaN   \n",
       "1 NaN  TABLE 1. BASIC INDICATORS                     NaN   \n",
       "2 NaN                        NaN                     NaN   \n",
       "3 NaN        Countries and areas  Under–5 mortality rank   \n",
       "4 NaN                        NaN                     NaN   \n",
       "\n",
       "                        3     4                                    5       6   \\\n",
       "0                      NaN   NaN                                  NaN     NaN   \n",
       "1                      NaN   NaN                                  NaN     NaN   \n",
       "2                      NaN   NaN                                  NaN     NaN   \n",
       "3  Under–5 mortality rate    NaN  Under–5 mortality rate by sex\\n2016     NaN   \n",
       "4                     1990  2016                                 male  female   \n",
       "\n",
       "                                7     8                         9  ...  \\\n",
       "0                              NaN   NaN                       NaN ...   \n",
       "1                              NaN   NaN                       NaN ...   \n",
       "2                              NaN   NaN                       NaN ...   \n",
       "3  Infant mortality rate (under 1)   NaN  Neonatal  mortality rate ...   \n",
       "4                             1990  2016                      2016 ...   \n",
       "\n",
       "                                       14   15  \\\n",
       "0                                     NaN  NaN   \n",
       "1                                     NaN  NaN   \n",
       "2                                     NaN  NaN   \n",
       "3  Total adult literacy rate          (%)  NaN   \n",
       "4                              2011−2016*  NaN   \n",
       "\n",
       "                                                  16   17  18  19  20  21  22  \\\n",
       "0                                                NaN  NaN NaN NaN NaN NaN NaN   \n",
       "1                                                NaN  NaN NaN NaN NaN NaN NaN   \n",
       "2                                                NaN  NaN NaN NaN NaN NaN NaN   \n",
       "3  Primary school net enrolment ratio            ...  NaN NaN NaN NaN NaN NaN   \n",
       "4                                         2011−2016*  NaN NaN NaN NaN NaN NaN   \n",
       "\n",
       "   23  \n",
       "0 NaN  \n",
       "1 NaN  \n",
       "2 NaN  \n",
       "3 NaN  \n",
       "4 NaN  \n",
       "\n",
       "[5 rows x 24 columns]"
      ]
     },
     "execution_count": 7,
     "metadata": {},
     "output_type": "execute_result"
    }
   ],
   "source": [
    "df = pd.read_excel(\"./basic_indicators.xlsx\", header=None)\n",
    "df.head()\n",
    "#df.dtypes"
   ]
  },
  {
   "cell_type": "markdown",
   "metadata": {},
   "source": [
    "According to the instruction, now we can find the problems:\n",
    "* Multiple labels(i.e Under–5 mortality rate ( 1990, 2016 ) ).\n",
    "* We do not need the 'Summary' part(starting from row 207).\n",
    "* Many rows and columns only contain `NaN`.\n",
    "* We do not need the additional notes.\n",
    "\n",
    "Here we use `drop()` and `dropna()` to deal with the unwanted records. After that, we can get what we want from the input, then we use `reset_index ` to reset all record index."
   ]
  },
  {
   "cell_type": "code",
   "execution_count": 4,
   "metadata": {
    "scrolled": true
   },
   "outputs": [],
   "source": [
    "df.drop(df.index[208:],axis=0,inplace=True) #Drop the Summary part\n",
    "df.drop(df.index[:6],axis=0,inplace=True) #Drop the Multiple labels\n",
    "df.dropna(axis=[0,1], how='all', inplace=True) #Drop all row and colums containing only NaNs\n",
    "df.drop([15,17],axis=1,inplace=True) #Drop the additional notes\n",
    "df.reset_index(drop=True, inplace=True) #Reset all index\n",
    "df.columns = ['Country Name'] + list(range(14))#Rename columns"
   ]
  },
  {
   "cell_type": "markdown",
   "metadata": {},
   "source": [
    "Follow the instructions, as all data need to be convert to integer, we use `apply` function to do the elementwise manipulation:\n",
    "* Find those which contains `'–'` and then replace as empty string `''`.\n",
    "* Find those which are an instance of float type object and then convert to integer. \n",
    "\n",
    "In this part, we use `lambda` function and make use of the `isinstance` function to work as a filter to find all matching records and do the conversion."
   ]
  },
  {
   "cell_type": "code",
   "execution_count": 5,
   "metadata": {},
   "outputs": [],
   "source": [
    "df = df.apply(lambda x: x.replace('–', ''), axis=1)\n",
    "func = lambda each: int(each) if isinstance(each, float) else each\n",
    "df = df.apply(lambda x: x.apply(func))"
   ]
  },
  {
   "cell_type": "markdown",
   "metadata": {},
   "source": [
    "Export to CSV format"
   ]
  },
  {
   "cell_type": "code",
   "execution_count": 6,
   "metadata": {},
   "outputs": [],
   "source": [
    "df.to_csv('./basic_indicators.csv',index=False)"
   ]
  },
  {
   "cell_type": "markdown",
   "metadata": {},
   "source": [
    "## 3. Summary\n",
    "The most tricky part in this task is to convert float into integer. Though we can specify `float_format='%.f'` in `to_csv()` to simply the conversion process, it doesn't work in the situation where the dataframe contains different data types. Consequently, we use anonymous functions as filter elementwisely to do the conversion. "
   ]
  }
 ],
 "metadata": {
  "kernelspec": {
   "display_name": "Python 3",
   "language": "python",
   "name": "python3"
  },
  "language_info": {
   "codemirror_mode": {
    "name": "ipython",
    "version": 3
   },
   "file_extension": ".py",
   "mimetype": "text/x-python",
   "name": "python",
   "nbconvert_exporter": "python",
   "pygments_lexer": "ipython3",
   "version": "3.6.4"
  }
 },
 "nbformat": 4,
 "nbformat_minor": 1
}
