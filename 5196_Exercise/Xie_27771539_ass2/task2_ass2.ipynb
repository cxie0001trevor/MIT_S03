{
 "cells": [
  {
   "cell_type": "markdown",
   "metadata": {},
   "source": [
    "# FIT5196 Task 2 in Assessment 2\n",
    "#### Student Name: Chuangfu Xie\n",
    "#### Student ID: 27771539\n",
    "\n",
    "Date: 04/05/2018\n",
    "\n",
    "Version: 1.0\n",
    "\n",
    "Environment: Python 3.6.4\n",
    "\n",
    "Packages list:  \n",
    "1. **Pandas** (0.22.0)  \n",
    "2. **numpy** (1.14.0)\n",
    "3. **recordlinkage** (0.11.2): tools needed for record linkage and deduplication"
   ]
  },
  {
   "cell_type": "code",
   "execution_count": 1,
   "metadata": {},
   "outputs": [
    {
     "name": "stdout",
     "output_type": "stream",
     "text": [
      "3.6.4 |Anaconda, Inc.| (default, Jan 16 2018, 12:04:33) \n",
      "[GCC 4.2.1 Compatible Clang 4.0.1 (tags/RELEASE_401/final)]\n"
     ]
    }
   ],
   "source": [
    "import sys\n",
    "print (sys.version)"
   ]
  },
  {
   "cell_type": "markdown",
   "metadata": {},
   "source": [
    "## 1.  Import libraries "
   ]
  },
  {
   "cell_type": "code",
   "execution_count": 2,
   "metadata": {},
   "outputs": [],
   "source": [
    "import pandas as pd\n",
    "import numpy as np\n",
    "import recordlinkage"
   ]
  },
  {
   "cell_type": "markdown",
   "metadata": {},
   "source": [
    "## 2. Identify conflicts and resolution"
   ]
  },
  {
   "cell_type": "code",
   "execution_count": 3,
   "metadata": {},
   "outputs": [],
   "source": [
    "df = pd.read_csv(\"./dataset2_integration.csv\")\n",
    "df_sln = pd.read_csv(\"./dataset1_solution.csv\")"
   ]
  },
  {
   "cell_type": "markdown",
   "metadata": {},
   "source": [
    "### 2.1 Schema conflicts\n",
    "First, let's have a look at these two datasets:"
   ]
  },
  {
   "cell_type": "code",
   "execution_count": 4,
   "metadata": {
    "scrolled": true
   },
   "outputs": [
    {
     "data": {
      "text/html": [
       "<div>\n",
       "<style scoped>\n",
       "    .dataframe tbody tr th:only-of-type {\n",
       "        vertical-align: middle;\n",
       "    }\n",
       "\n",
       "    .dataframe tbody tr th {\n",
       "        vertical-align: top;\n",
       "    }\n",
       "\n",
       "    .dataframe thead th {\n",
       "        text-align: right;\n",
       "    }\n",
       "</style>\n",
       "<table border=\"1\" class=\"dataframe\">\n",
       "  <thead>\n",
       "    <tr style=\"text-align: right;\">\n",
       "      <th></th>\n",
       "      <th>Id</th>\n",
       "      <th>Source Name</th>\n",
       "      <th>Title</th>\n",
       "      <th>location</th>\n",
       "      <th>Contract Type</th>\n",
       "      <th>Contract Time</th>\n",
       "      <th>Company</th>\n",
       "      <th>Category</th>\n",
       "      <th>Salary per month</th>\n",
       "      <th>OpenDate</th>\n",
       "      <th>CloseDate</th>\n",
       "    </tr>\n",
       "  </thead>\n",
       "  <tbody>\n",
       "    <tr>\n",
       "      <th>0</th>\n",
       "      <td>69247680</td>\n",
       "      <td>jobs.guardian.co.uk</td>\n",
       "      <td>Business Development Exec  research / insight ...</td>\n",
       "      <td>London</td>\n",
       "      <td>ft</td>\n",
       "      <td>perm.</td>\n",
       "      <td>BOYCE RECRUITMENT</td>\n",
       "      <td>PR, Advertising &amp; Marketing Jobs</td>\n",
       "      <td>2125</td>\n",
       "      <td>2012-03-01 15:00:00</td>\n",
       "      <td>2012-03-31 15:00:00</td>\n",
       "    </tr>\n",
       "    <tr>\n",
       "      <th>1</th>\n",
       "      <td>69247682</td>\n",
       "      <td>icaewjobs.com</td>\n",
       "      <td>Audit Senior  London</td>\n",
       "      <td>London</td>\n",
       "      <td>ft</td>\n",
       "      <td>contr.</td>\n",
       "      <td>Pro Finance</td>\n",
       "      <td>Finance &amp; Accounting Jobs</td>\n",
       "      <td>3600</td>\n",
       "      <td>2013-03-14 12:00:00</td>\n",
       "      <td>2013-04-13 12:00:00</td>\n",
       "    </tr>\n",
       "    <tr>\n",
       "      <th>2</th>\n",
       "      <td>69247685</td>\n",
       "      <td>jobs.guardian.co.uk</td>\n",
       "      <td>PR &amp; Social Media Account Executive  Top Inter...</td>\n",
       "      <td>Central London</td>\n",
       "      <td>ft</td>\n",
       "      <td>perm.</td>\n",
       "      <td>ECOM RECRUITMENT LTD</td>\n",
       "      <td>PR, Advertising &amp; Marketing Jobs</td>\n",
       "      <td>1917</td>\n",
       "      <td>2012-02-14 12:00:00</td>\n",
       "      <td>2012-03-15 12:00:00</td>\n",
       "    </tr>\n",
       "    <tr>\n",
       "      <th>3</th>\n",
       "      <td>69247688</td>\n",
       "      <td>jobs.guardian.co.uk</td>\n",
       "      <td>Content Manager</td>\n",
       "      <td>London</td>\n",
       "      <td>ft</td>\n",
       "      <td>perm.</td>\n",
       "      <td>NAKAMA LONDON</td>\n",
       "      <td>PR, Advertising &amp; Marketing Jobs</td>\n",
       "      <td>2083</td>\n",
       "      <td>2012-10-21 00:00:00</td>\n",
       "      <td>2012-12-20 00:00:00</td>\n",
       "    </tr>\n",
       "    <tr>\n",
       "      <th>4</th>\n",
       "      <td>69247694</td>\n",
       "      <td>jobs.guardian.co.uk</td>\n",
       "      <td>AV PRODUCTION MANAGER</td>\n",
       "      <td>Worcestershire</td>\n",
       "      <td>ft</td>\n",
       "      <td>perm.</td>\n",
       "      <td>LIVE RECRUITMENT</td>\n",
       "      <td>PR, Advertising &amp; Marketing Jobs</td>\n",
       "      <td>2292</td>\n",
       "      <td>2012-02-22 00:00:00</td>\n",
       "      <td>2012-04-22 00:00:00</td>\n",
       "    </tr>\n",
       "  </tbody>\n",
       "</table>\n",
       "</div>"
      ],
      "text/plain": [
       "         Id          Source Name  \\\n",
       "0  69247680  jobs.guardian.co.uk   \n",
       "1  69247682        icaewjobs.com   \n",
       "2  69247685  jobs.guardian.co.uk   \n",
       "3  69247688  jobs.guardian.co.uk   \n",
       "4  69247694  jobs.guardian.co.uk   \n",
       "\n",
       "                                               Title        location  \\\n",
       "0  Business Development Exec  research / insight ...          London   \n",
       "1                               Audit Senior  London          London   \n",
       "2  PR & Social Media Account Executive  Top Inter...  Central London   \n",
       "3                                    Content Manager          London   \n",
       "4                              AV PRODUCTION MANAGER  Worcestershire   \n",
       "\n",
       "  Contract Type Contract Time               Company  \\\n",
       "0            ft         perm.     BOYCE RECRUITMENT   \n",
       "1            ft        contr.           Pro Finance   \n",
       "2            ft         perm.  ECOM RECRUITMENT LTD   \n",
       "3            ft         perm.         NAKAMA LONDON   \n",
       "4            ft         perm.      LIVE RECRUITMENT   \n",
       "\n",
       "                           Category  Salary per month             OpenDate  \\\n",
       "0  PR, Advertising & Marketing Jobs              2125  2012-03-01 15:00:00   \n",
       "1         Finance & Accounting Jobs              3600  2013-03-14 12:00:00   \n",
       "2  PR, Advertising & Marketing Jobs              1917  2012-02-14 12:00:00   \n",
       "3  PR, Advertising & Marketing Jobs              2083  2012-10-21 00:00:00   \n",
       "4  PR, Advertising & Marketing Jobs              2292  2012-02-22 00:00:00   \n",
       "\n",
       "             CloseDate  \n",
       "0  2012-03-31 15:00:00  \n",
       "1  2013-04-13 12:00:00  \n",
       "2  2012-03-15 12:00:00  \n",
       "3  2012-12-20 00:00:00  \n",
       "4  2012-04-22 00:00:00  "
      ]
     },
     "execution_count": 4,
     "metadata": {},
     "output_type": "execute_result"
    }
   ],
   "source": [
    "df.head()"
   ]
  },
  {
   "cell_type": "code",
   "execution_count": 5,
   "metadata": {},
   "outputs": [
    {
     "data": {
      "text/html": [
       "<div>\n",
       "<style scoped>\n",
       "    .dataframe tbody tr th:only-of-type {\n",
       "        vertical-align: middle;\n",
       "    }\n",
       "\n",
       "    .dataframe tbody tr th {\n",
       "        vertical-align: top;\n",
       "    }\n",
       "\n",
       "    .dataframe thead th {\n",
       "        text-align: right;\n",
       "    }\n",
       "</style>\n",
       "<table border=\"1\" class=\"dataframe\">\n",
       "  <thead>\n",
       "    <tr style=\"text-align: right;\">\n",
       "      <th></th>\n",
       "      <th>Id</th>\n",
       "      <th>Title</th>\n",
       "      <th>Location</th>\n",
       "      <th>ContractType</th>\n",
       "      <th>ContractTime</th>\n",
       "      <th>Company</th>\n",
       "      <th>Category</th>\n",
       "      <th>Salary per annum</th>\n",
       "      <th>SourceName</th>\n",
       "      <th>OpenDate</th>\n",
       "      <th>CloseDate</th>\n",
       "    </tr>\n",
       "  </thead>\n",
       "  <tbody>\n",
       "    <tr>\n",
       "      <th>0</th>\n",
       "      <td>12612628</td>\n",
       "      <td>Engineering Systems Analyst</td>\n",
       "      <td>Dorking</td>\n",
       "      <td>not available</td>\n",
       "      <td>permanent</td>\n",
       "      <td>Gregory Martin International</td>\n",
       "      <td>Engineering Jobs</td>\n",
       "      <td>24996</td>\n",
       "      <td>cv-library.co.uk</td>\n",
       "      <td>2012-11-03 00:00:00</td>\n",
       "      <td>2012-12-03 00:00:00</td>\n",
       "    </tr>\n",
       "    <tr>\n",
       "      <th>1</th>\n",
       "      <td>12612830</td>\n",
       "      <td>Stress Engineer Glasgow</td>\n",
       "      <td>Glasgow</td>\n",
       "      <td>not available</td>\n",
       "      <td>permanent</td>\n",
       "      <td>Gregory Martin International</td>\n",
       "      <td>Engineering Jobs</td>\n",
       "      <td>30000</td>\n",
       "      <td>cv-library.co.uk</td>\n",
       "      <td>2013-01-08 15:00:00</td>\n",
       "      <td>2013-04-08 15:00:00</td>\n",
       "    </tr>\n",
       "    <tr>\n",
       "      <th>2</th>\n",
       "      <td>12612844</td>\n",
       "      <td>Modelling and simulation analyst</td>\n",
       "      <td>Hampshire</td>\n",
       "      <td>not available</td>\n",
       "      <td>permanent</td>\n",
       "      <td>Gregory Martin International</td>\n",
       "      <td>Engineering Jobs</td>\n",
       "      <td>30000</td>\n",
       "      <td>cv-library.co.uk</td>\n",
       "      <td>2013-07-26 15:00:00</td>\n",
       "      <td>2013-09-24 15:00:00</td>\n",
       "    </tr>\n",
       "    <tr>\n",
       "      <th>3</th>\n",
       "      <td>12613049</td>\n",
       "      <td>Engineering Systems Analyst / Mathematical Mod...</td>\n",
       "      <td>Surrey</td>\n",
       "      <td>not available</td>\n",
       "      <td>permanent</td>\n",
       "      <td>Gregory Martin International</td>\n",
       "      <td>Engineering Jobs</td>\n",
       "      <td>27504</td>\n",
       "      <td>cv-library.co.uk</td>\n",
       "      <td>2012-12-14 00:00:00</td>\n",
       "      <td>2013-03-14 00:00:00</td>\n",
       "    </tr>\n",
       "    <tr>\n",
       "      <th>4</th>\n",
       "      <td>12613647</td>\n",
       "      <td>Pioneer, Miser Engineering Systems Analyst</td>\n",
       "      <td>Surrey</td>\n",
       "      <td>not available</td>\n",
       "      <td>permanent</td>\n",
       "      <td>Gregory Martin International</td>\n",
       "      <td>Engineering Jobs</td>\n",
       "      <td>24996</td>\n",
       "      <td>cv-library.co.uk</td>\n",
       "      <td>2013-10-25 00:00:00</td>\n",
       "      <td>2013-12-24 00:00:00</td>\n",
       "    </tr>\n",
       "  </tbody>\n",
       "</table>\n",
       "</div>"
      ],
      "text/plain": [
       "         Id                                              Title   Location  \\\n",
       "0  12612628                        Engineering Systems Analyst    Dorking   \n",
       "1  12612830                            Stress Engineer Glasgow    Glasgow   \n",
       "2  12612844                   Modelling and simulation analyst  Hampshire   \n",
       "3  12613049  Engineering Systems Analyst / Mathematical Mod...     Surrey   \n",
       "4  12613647         Pioneer, Miser Engineering Systems Analyst     Surrey   \n",
       "\n",
       "    ContractType ContractTime                       Company          Category  \\\n",
       "0  not available    permanent  Gregory Martin International  Engineering Jobs   \n",
       "1  not available    permanent  Gregory Martin International  Engineering Jobs   \n",
       "2  not available    permanent  Gregory Martin International  Engineering Jobs   \n",
       "3  not available    permanent  Gregory Martin International  Engineering Jobs   \n",
       "4  not available    permanent  Gregory Martin International  Engineering Jobs   \n",
       "\n",
       "   Salary per annum        SourceName             OpenDate  \\\n",
       "0             24996  cv-library.co.uk  2012-11-03 00:00:00   \n",
       "1             30000  cv-library.co.uk  2013-01-08 15:00:00   \n",
       "2             30000  cv-library.co.uk  2013-07-26 15:00:00   \n",
       "3             27504  cv-library.co.uk  2012-12-14 00:00:00   \n",
       "4             24996  cv-library.co.uk  2013-10-25 00:00:00   \n",
       "\n",
       "             CloseDate  \n",
       "0  2012-12-03 00:00:00  \n",
       "1  2013-04-08 15:00:00  \n",
       "2  2013-09-24 15:00:00  \n",
       "3  2013-03-14 00:00:00  \n",
       "4  2013-12-24 00:00:00  "
      ]
     },
     "execution_count": 5,
     "metadata": {},
     "output_type": "execute_result"
    }
   ],
   "source": [
    "df_sln.head()"
   ]
  },
  {
   "cell_type": "markdown",
   "metadata": {},
   "source": [
    "By comparing these two datasets, we can find that there are some naming conflicts, where different names are used for the same object: \n",
    "1. <font color='blue'>**location**</font> againsts <font color='blue'>**Location**</font>\n",
    "2. <font color='blue'>**Contract Type**</font> againsts <font color='blue'>**ContractType**</font>, \n",
    "3. <font color='blue'>**Contract Time**</font> againsts <font color='blue'>**ContractTime**</font>, and \n",
    "4. <font color='blue'>**Source Name**</font> againsts <font color='blue'>**SourceName**</font>  "
   ]
  },
  {
   "cell_type": "markdown",
   "metadata": {},
   "source": [
    "First, we deal with all **naming issues** by `rename()` function:"
   ]
  },
  {
   "cell_type": "code",
   "execution_count": 6,
   "metadata": {},
   "outputs": [],
   "source": [
    "df.rename(columns={'location':'Location', \n",
    "                   'Contract Type':'ContractType', \n",
    "                   'Contract Time':'ContractTime',\n",
    "                   'Source Name':'SourceName'}, inplace=True)"
   ]
  },
  {
   "cell_type": "markdown",
   "metadata": {},
   "source": [
    "### 2.2 Indentify attribute-level problems\n",
    "Previously we have solve the schema problems, but we also notice that salary data represented in both dataset are at different level of time:\n",
    "1. <font color='blue'>**Salary per month**</font> againsts <font color='blue'>**Salary per annum**</font>. \n",
    "\n",
    "Then, we use a simple arithmetic formula to unify the **salary** part:  \n",
    "$$Annual = Monthly \\times 12$$"
   ]
  },
  {
   "cell_type": "code",
   "execution_count": 7,
   "metadata": {},
   "outputs": [],
   "source": [
    "df['Salary per month'] = df['Salary per month']*12\n",
    "# Then, rename this column\n",
    "df.rename(columns={'Salary per month':'Salary per annum'}, inplace=True)"
   ]
  },
  {
   "cell_type": "markdown",
   "metadata": {},
   "source": [
    "Here we also notice that the value in following columns are different from the other:"
   ]
  },
  {
   "cell_type": "code",
   "execution_count": 8,
   "metadata": {},
   "outputs": [
    {
     "name": "stdout",
     "output_type": "stream",
     "text": [
      "From df:\n",
      "perm.     16505\n",
      "contr.     3258\n",
      "Name: ContractTime, dtype: int64\n",
      "ft    4353\n",
      "pt     466\n",
      "Name: ContractType, dtype: int64\n",
      "\n",
      "\n",
      "From df_sln:\n",
      "permanent        16194\n",
      "not available     6212\n",
      "contract          2671\n",
      "Name: ContractTime, dtype: int64\n",
      "not available    19499\n",
      "full-time         4883\n",
      "part-time          695\n",
      "Name: ContractType, dtype: int64\n"
     ]
    }
   ],
   "source": [
    "print(\"From df:\")\n",
    "print(df.ContractTime.value_counts())\n",
    "print(df.ContractType.value_counts())\n",
    "print('\\n')\n",
    "print(\"From df_sln:\")\n",
    "print(df_sln.ContractTime.value_counts())\n",
    "print(df_sln.ContractType.value_counts())"
   ]
  },
  {
   "cell_type": "code",
   "execution_count": 9,
   "metadata": {},
   "outputs": [
    {
     "name": "stdout",
     "output_type": "stream",
     "text": [
      "NaN in ContractTime: 5513\n",
      "NaN in ContractType: 20457\n"
     ]
    }
   ],
   "source": [
    "print('NaN in ContractTime: ' + str(df.ContractTime.isnull().sum()))\n",
    "print('NaN in ContractType: ' + str(df.ContractType.isnull().sum()))"
   ]
  },
  {
   "cell_type": "markdown",
   "metadata": {},
   "source": [
    "It seems that dataset `df` contains many missing value in <font color='blue'>**ContractTime**</font> and <font color='blue'>**ContractType**</font>. Also, we find that same entity has been presented in different forms:\n",
    "1. `perm.` againsts `permanent`\n",
    "2. `contr.` againsts `contract`\n",
    "3. `ft` againsts `full-time`\n",
    "4. `pt` againsts `part-time`\n",
    "\n",
    "Also, data in <font color='blue'>**Company**</font> are also inconsistent with other:\n",
    "1. `BOYCE RECRUITMENT` againsts `Gregory Martin International`\n",
    "\n",
    "We can use `map()` function to replace these inconsistencies and also deal with the `NaN`:"
   ]
  },
  {
   "cell_type": "code",
   "execution_count": 10,
   "metadata": {},
   "outputs": [],
   "source": [
    "df.Company = df.Company.str.title()\n",
    "df.ContractType = df.ContractType.map({'ft':'full-time',\n",
    "                                       'pt':'part-time'})\n",
    "df.ContractType.fillna('not available', inplace=True)\n",
    "df.ContractTime = df.ContractTime.map({'perm.':'permanent',\n",
    "                                       'contr.':'contract'})\n",
    "df.ContractTime.fillna('not available', inplace=True)"
   ]
  },
  {
   "cell_type": "markdown",
   "metadata": {},
   "source": [
    "### 2.3 Deduplication "
   ]
  },
  {
   "cell_type": "markdown",
   "metadata": {},
   "source": [
    "In this section, we are going to identify duplication within and between datasets. Each data has their own key **`Id` as identifier** for each record. However, the identifier **`Id`** are not sufficient enough in this case to distinguish each record to the other, since there are other 10 attributes which characterise each record as well. Hence, we need to find the **suitable combination key** of multiple attributes."
   ]
  },
  {
   "cell_type": "markdown",
   "metadata": {},
   "source": [
    "Previously we have worked on <font color='blue'>**ContractTime**</font>, <font color='blue'>**ContractType**</font>. These are not suitable attribute for discovering duplicate since there are only 3 possible values, which can not ideally differentiate a record. Same reason can be applied on other attributes:"
   ]
  },
  {
   "cell_type": "code",
   "execution_count": 11,
   "metadata": {},
   "outputs": [
    {
     "name": "stdout",
     "output_type": "stream",
     "text": [
      "Id: 25276\n",
      "SourceName: 92\n",
      "Title: 25276\n",
      "Location: 475\n",
      "ContractType: 3\n",
      "ContractTime: 3\n",
      "Company: 5546\n",
      "Category: 8\n",
      "Salary per annum: 1505\n",
      "OpenDate: 2193\n",
      "CloseDate: 2395\n"
     ]
    }
   ],
   "source": [
    "def check_unique(df):\n",
    "    for col in df.columns.tolist():\n",
    "        print(col + \": \" + str(len(df[col].unique())))\n",
    "check_unique(df)"
   ]
  },
  {
   "cell_type": "markdown",
   "metadata": {},
   "source": [
    "From the output we can find that there are 6 attributes which has most significant number in terms of uniqueness: <font color='blue'>**Title**</font>, <font color='blue'>**Location**</font>, <font color='blue'>**Company**</font>, <font color='blue'>**Salary per annum**</font>, <font color='blue'>**OpenDate**</font> and <font color='blue'>**CloseDate**</font>. "
   ]
  },
  {
   "cell_type": "markdown",
   "metadata": {},
   "source": [
    "However, as there is a rull of null equality that **null value is always not equal to itself**. Let's check whether any the `null` value exists in datasets:"
   ]
  },
  {
   "cell_type": "code",
   "execution_count": 12,
   "metadata": {
    "scrolled": true
   },
   "outputs": [
    {
     "name": "stdout",
     "output_type": "stream",
     "text": [
      "<class 'pandas.core.frame.DataFrame'>\n",
      "RangeIndex: 25276 entries, 0 to 25275\n",
      "Data columns (total 11 columns):\n",
      "Id                  25276 non-null int64\n",
      "SourceName          25276 non-null object\n",
      "Title               25276 non-null object\n",
      "Location            25276 non-null object\n",
      "ContractType        25276 non-null object\n",
      "ContractTime        25276 non-null object\n",
      "Company             24178 non-null object\n",
      "Category            25276 non-null object\n",
      "Salary per annum    25276 non-null int64\n",
      "OpenDate            25276 non-null object\n",
      "CloseDate           25276 non-null object\n",
      "dtypes: int64(2), object(9)\n",
      "memory usage: 2.1+ MB\n"
     ]
    }
   ],
   "source": [
    "df.info()"
   ]
  },
  {
   "cell_type": "code",
   "execution_count": 13,
   "metadata": {},
   "outputs": [
    {
     "name": "stdout",
     "output_type": "stream",
     "text": [
      "<class 'pandas.core.frame.DataFrame'>\n",
      "RangeIndex: 25077 entries, 0 to 25076\n",
      "Data columns (total 11 columns):\n",
      "Id                  25077 non-null int64\n",
      "Title               25077 non-null object\n",
      "Location            25077 non-null object\n",
      "ContractType        25077 non-null object\n",
      "ContractTime        25077 non-null object\n",
      "Company             21242 non-null object\n",
      "Category            25077 non-null object\n",
      "Salary per annum    25077 non-null int64\n",
      "SourceName          25077 non-null object\n",
      "OpenDate            25077 non-null object\n",
      "CloseDate           25077 non-null object\n",
      "dtypes: int64(2), object(9)\n",
      "memory usage: 2.1+ MB\n"
     ]
    }
   ],
   "source": [
    "df_sln.info()"
   ]
  },
  {
   "cell_type": "markdown",
   "metadata": {},
   "source": [
    "Obviously, these null value in <font color='blue'>**Company**</font> will mess up our comparing process, we need to deal with them: replacing it with 'Not Given'"
   ]
  },
  {
   "cell_type": "code",
   "execution_count": 14,
   "metadata": {},
   "outputs": [],
   "source": [
    "df.Company.fillna(\"Not Given\",inplace=True)\n",
    "df_sln.Company.fillna(\"Not Given\",inplace=True)"
   ]
  },
  {
   "cell_type": "markdown",
   "metadata": {},
   "source": [
    "Now we have all the candidate attributes for our combination key, we can work on the duplication.\n",
    "\n",
    "We use **Python Record Linkage Toolkit** to link records in or between data sources for record linkage and deduplication. Especially, `BlockIndex` class is very useful when identify records on more than one attributes:"
   ]
  },
  {
   "cell_type": "code",
   "execution_count": 15,
   "metadata": {},
   "outputs": [
    {
     "name": "stdout",
     "output_type": "stream",
     "text": [
      "0\n"
     ]
    }
   ],
   "source": [
    "def check_dup(key, df1, df2=None):\n",
    "    indexer = recordlinkage.BlockIndex(on=key)\n",
    "    try:\n",
    "        if df2 == None:\n",
    "            pairs = indexer.index(df1)\n",
    "    except:\n",
    "        pairs = indexer.index(df1,df2)\n",
    "    print(len(pairs))\n",
    "\n",
    "key = ['Title', 'Location', 'Company', 'Salary per annum', 'OpenDate', 'CloseDate']\n",
    "check_dup(key, df)"
   ]
  },
  {
   "cell_type": "markdown",
   "metadata": {},
   "source": [
    "Oops! It seems that all record in `df` are different.  \n",
    "Let's check another one:"
   ]
  },
  {
   "cell_type": "code",
   "execution_count": 16,
   "metadata": {},
   "outputs": [
    {
     "name": "stdout",
     "output_type": "stream",
     "text": [
      "0\n"
     ]
    }
   ],
   "source": [
    "check_dup(key, df_sln)"
   ]
  },
  {
   "cell_type": "markdown",
   "metadata": {},
   "source": [
    "Since we are going to merge these two into one, how about duplications exist between these datasets?"
   ]
  },
  {
   "cell_type": "code",
   "execution_count": 17,
   "metadata": {},
   "outputs": [
    {
     "name": "stdout",
     "output_type": "stream",
     "text": [
      "154\n"
     ]
    }
   ],
   "source": [
    "check_dup(key, df, df_sln)"
   ]
  },
  {
   "cell_type": "markdown",
   "metadata": {},
   "source": [
    "Now we find there are **154 potential duplications** between datasets, we can start comparing each attribute and output the level of similarity for drop decision. \n",
    "\n",
    "The `compare()` method provide various algorithms for **string matching**: `‘jaro’`, `’jarowinkler’`, `‘levenshtein’`, `‘damerau_levenshtein’`, `‘qgram’` or `‘cosine’`. We use `'jaro'` for <font color='blue'>**Title**</font>, <font color='blue'>**Location**</font>, <font color='blue'>**Company**</font>.\n",
    "Additionally, we also should consider the threshold value where will sift the scores: \n",
    "1. Data in <font color='blue'>**Title**</font> are so varied. we give it as 0.5.\n",
    "2. As to <font color='blue'>**Location**</font>, we give 0.5.\n",
    "3. For <font color='blue'>**Company**</font>, we give 0.85.\n",
    "\n",
    "For matching numeric values, `compare()` method also provide various way: `‘step’`, `‘linear’`, `‘exp’`, `‘gauss’` or `‘squared’`. Considering each job release is an independent event, we regards <font color='blue'>**Salary per annum**</font> value as random variable which distribution is unknown. Hence, we can treat it as normal distributions, using `'gauss'` method.  \n",
    "\n",
    "For <font color='blue'>**OpenDate**</font> and <font color='blue'>**CloseDate**</font>, we using exact match becasue time is unique."
   ]
  },
  {
   "cell_type": "code",
   "execution_count": 18,
   "metadata": {},
   "outputs": [],
   "source": [
    "key = ['Title', 'Location', 'Company', 'Salary per annum', 'OpenDate', 'CloseDate']\n",
    "indexer = recordlinkage.BlockIndex(on=key)\n",
    "pairs = indexer.index(df, df_sln)\n",
    "compare = recordlinkage.Compare()\n",
    "# Configuring paremeters for Compare()\n",
    "# String matching\n",
    "compare.string('Title','Title', threshold = 0.5, method='jaro', label='Title')\n",
    "compare.string('Location','Location', threshold = 0.5, method='jaro', label='Location')\n",
    "compare.string('Company','Company', threshold = 0.85, method='jaro', label='Company')\n",
    "# Numeric matching\n",
    "compare.numeric('Salary per annum','Salary per annum', scale=1000, method='gauss', label='Salary per annum')\n",
    "# Exact matching\n",
    "compare.exact('OpenDate','OpenDate',label='OpenDate')\n",
    "compare.exact('CloseDate','CloseDate',label='CloseDate')\n",
    "# yield the output\n",
    "results = compare.compute(pairs, df, df_sln)"
   ]
  },
  {
   "cell_type": "code",
   "execution_count": 19,
   "metadata": {},
   "outputs": [
    {
     "data": {
      "text/plain": [
       "6.0    154\n",
       "dtype: int64"
      ]
     },
     "execution_count": 19,
     "metadata": {},
     "output_type": "execute_result"
    }
   ],
   "source": [
    "# Sum the comparison results.\n",
    "results.sum(axis=1).value_counts().sort_index(ascending=False)"
   ]
  },
  {
   "cell_type": "markdown",
   "metadata": {},
   "source": [
    "Now we have 154 duplications, let's have a closer look at these data:"
   ]
  },
  {
   "cell_type": "code",
   "execution_count": 20,
   "metadata": {},
   "outputs": [],
   "source": [
    "indices = results.index.get_values()\n",
    "dp_list1= []\n",
    "dp_list2= []\n",
    "# extract index from results\n",
    "for index in indices:\n",
    "    dp_list1.append(index[0])\n",
    "    dp_list2.append(index[1])\n",
    "# For double-check\n",
    "dp_df = df.iloc[dp_list1]\n",
    "dp_df.columns = df.columns\n",
    "dp_df_sln = df_sln.iloc[dp_list2]\n",
    "dp_df_sln.columns = df_sln.columns"
   ]
  },
  {
   "cell_type": "markdown",
   "metadata": {},
   "source": [
    "It seems we have find all the duplications. Let's have a random pick to examine in details:"
   ]
  },
  {
   "cell_type": "code",
   "execution_count": 21,
   "metadata": {},
   "outputs": [
    {
     "data": {
      "text/plain": [
       "Id                                   71198448\n",
       "SourceName                   cv-library.co.uk\n",
       "Title                   Care Assistant  Derby\n",
       "Location                                Derby\n",
       "ContractType                    not available\n",
       "ContractTime                        permanent\n",
       "Company                         Albion Health\n",
       "Category            Healthcare & Nursing Jobs\n",
       "Salary per annum                        12144\n",
       "OpenDate                  2012-08-23 00:00:00\n",
       "CloseDate                 2012-10-22 00:00:00\n",
       "Id                                   69012230\n",
       "Title                   Care Assistant  Derby\n",
       "Location                                Derby\n",
       "ContractType                    not available\n",
       "ContractTime                        permanent\n",
       "Company                         Albion Health\n",
       "Category            Healthcare & Nursing Jobs\n",
       "Salary per annum                        12144\n",
       "SourceName                   cv-library.co.uk\n",
       "OpenDate                  2012-08-23 00:00:00\n",
       "CloseDate                 2012-10-22 00:00:00\n",
       "dtype: object"
      ]
     },
     "execution_count": 21,
     "metadata": {},
     "output_type": "execute_result"
    }
   ],
   "source": [
    "from random import randint\n",
    "pick = randint(0,len(results)-1)\n",
    "check = dp_df.iloc[pick].append(dp_df_sln.iloc[pick])\n",
    "check"
   ]
  },
  {
   "cell_type": "markdown",
   "metadata": {},
   "source": [
    "### 2.4 Drop duplicate data and Merge"
   ]
  },
  {
   "cell_type": "markdown",
   "metadata": {},
   "source": [
    "Now we can drop all the duplications with index:"
   ]
  },
  {
   "cell_type": "code",
   "execution_count": 22,
   "metadata": {},
   "outputs": [
    {
     "name": "stdout",
     "output_type": "stream",
     "text": [
      "0\n"
     ]
    }
   ],
   "source": [
    "df = df.drop(index=dp_list1)\n",
    "# Double check\n",
    "check_dup(key, df, df_sln)"
   ]
  },
  {
   "cell_type": "markdown",
   "metadata": {},
   "source": [
    "Then, merge datasets into one:"
   ]
  },
  {
   "cell_type": "code",
   "execution_count": 23,
   "metadata": {},
   "outputs": [
    {
     "data": {
      "text/html": [
       "<div>\n",
       "<style scoped>\n",
       "    .dataframe tbody tr th:only-of-type {\n",
       "        vertical-align: middle;\n",
       "    }\n",
       "\n",
       "    .dataframe tbody tr th {\n",
       "        vertical-align: top;\n",
       "    }\n",
       "\n",
       "    .dataframe thead th {\n",
       "        text-align: right;\n",
       "    }\n",
       "</style>\n",
       "<table border=\"1\" class=\"dataframe\">\n",
       "  <thead>\n",
       "    <tr style=\"text-align: right;\">\n",
       "      <th></th>\n",
       "      <th>Category</th>\n",
       "      <th>CloseDate</th>\n",
       "      <th>Company</th>\n",
       "      <th>ContractTime</th>\n",
       "      <th>ContractType</th>\n",
       "      <th>Location</th>\n",
       "      <th>OpenDate</th>\n",
       "      <th>Salary per annum</th>\n",
       "      <th>SourceName</th>\n",
       "      <th>Title</th>\n",
       "    </tr>\n",
       "    <tr>\n",
       "      <th>Id</th>\n",
       "      <th></th>\n",
       "      <th></th>\n",
       "      <th></th>\n",
       "      <th></th>\n",
       "      <th></th>\n",
       "      <th></th>\n",
       "      <th></th>\n",
       "      <th></th>\n",
       "      <th></th>\n",
       "      <th></th>\n",
       "    </tr>\n",
       "  </thead>\n",
       "  <tbody>\n",
       "    <tr>\n",
       "      <th>69247680</th>\n",
       "      <td>PR, Advertising &amp; Marketing Jobs</td>\n",
       "      <td>2012-03-31 15:00:00</td>\n",
       "      <td>Boyce Recruitment</td>\n",
       "      <td>permanent</td>\n",
       "      <td>full-time</td>\n",
       "      <td>London</td>\n",
       "      <td>2012-03-01 15:00:00</td>\n",
       "      <td>25500</td>\n",
       "      <td>jobs.guardian.co.uk</td>\n",
       "      <td>Business Development Exec  research / insight ...</td>\n",
       "    </tr>\n",
       "    <tr>\n",
       "      <th>69247682</th>\n",
       "      <td>Finance &amp; Accounting Jobs</td>\n",
       "      <td>2013-04-13 12:00:00</td>\n",
       "      <td>Pro Finance</td>\n",
       "      <td>contract</td>\n",
       "      <td>full-time</td>\n",
       "      <td>London</td>\n",
       "      <td>2013-03-14 12:00:00</td>\n",
       "      <td>43200</td>\n",
       "      <td>icaewjobs.com</td>\n",
       "      <td>Audit Senior  London</td>\n",
       "    </tr>\n",
       "    <tr>\n",
       "      <th>69247685</th>\n",
       "      <td>PR, Advertising &amp; Marketing Jobs</td>\n",
       "      <td>2012-03-15 12:00:00</td>\n",
       "      <td>Ecom Recruitment Ltd</td>\n",
       "      <td>permanent</td>\n",
       "      <td>full-time</td>\n",
       "      <td>Central London</td>\n",
       "      <td>2012-02-14 12:00:00</td>\n",
       "      <td>23004</td>\n",
       "      <td>jobs.guardian.co.uk</td>\n",
       "      <td>PR &amp; Social Media Account Executive  Top Inter...</td>\n",
       "    </tr>\n",
       "    <tr>\n",
       "      <th>69247688</th>\n",
       "      <td>PR, Advertising &amp; Marketing Jobs</td>\n",
       "      <td>2012-12-20 00:00:00</td>\n",
       "      <td>Nakama London</td>\n",
       "      <td>permanent</td>\n",
       "      <td>full-time</td>\n",
       "      <td>London</td>\n",
       "      <td>2012-10-21 00:00:00</td>\n",
       "      <td>24996</td>\n",
       "      <td>jobs.guardian.co.uk</td>\n",
       "      <td>Content Manager</td>\n",
       "    </tr>\n",
       "    <tr>\n",
       "      <th>69247694</th>\n",
       "      <td>PR, Advertising &amp; Marketing Jobs</td>\n",
       "      <td>2012-04-22 00:00:00</td>\n",
       "      <td>Live Recruitment</td>\n",
       "      <td>permanent</td>\n",
       "      <td>full-time</td>\n",
       "      <td>Worcestershire</td>\n",
       "      <td>2012-02-22 00:00:00</td>\n",
       "      <td>27504</td>\n",
       "      <td>jobs.guardian.co.uk</td>\n",
       "      <td>AV PRODUCTION MANAGER</td>\n",
       "    </tr>\n",
       "  </tbody>\n",
       "</table>\n",
       "</div>"
      ],
      "text/plain": [
       "                                  Category            CloseDate  \\\n",
       "Id                                                                \n",
       "69247680  PR, Advertising & Marketing Jobs  2012-03-31 15:00:00   \n",
       "69247682         Finance & Accounting Jobs  2013-04-13 12:00:00   \n",
       "69247685  PR, Advertising & Marketing Jobs  2012-03-15 12:00:00   \n",
       "69247688  PR, Advertising & Marketing Jobs  2012-12-20 00:00:00   \n",
       "69247694  PR, Advertising & Marketing Jobs  2012-04-22 00:00:00   \n",
       "\n",
       "                       Company ContractTime ContractType        Location  \\\n",
       "Id                                                                         \n",
       "69247680     Boyce Recruitment    permanent    full-time          London   \n",
       "69247682           Pro Finance     contract    full-time          London   \n",
       "69247685  Ecom Recruitment Ltd    permanent    full-time  Central London   \n",
       "69247688         Nakama London    permanent    full-time          London   \n",
       "69247694      Live Recruitment    permanent    full-time  Worcestershire   \n",
       "\n",
       "                     OpenDate  Salary per annum           SourceName  \\\n",
       "Id                                                                     \n",
       "69247680  2012-03-01 15:00:00             25500  jobs.guardian.co.uk   \n",
       "69247682  2013-03-14 12:00:00             43200        icaewjobs.com   \n",
       "69247685  2012-02-14 12:00:00             23004  jobs.guardian.co.uk   \n",
       "69247688  2012-10-21 00:00:00             24996  jobs.guardian.co.uk   \n",
       "69247694  2012-02-22 00:00:00             27504  jobs.guardian.co.uk   \n",
       "\n",
       "                                                      Title  \n",
       "Id                                                           \n",
       "69247680  Business Development Exec  research / insight ...  \n",
       "69247682                               Audit Senior  London  \n",
       "69247685  PR & Social Media Account Executive  Top Inter...  \n",
       "69247688                                    Content Manager  \n",
       "69247694                              AV PRODUCTION MANAGER  "
      ]
     },
     "execution_count": 23,
     "metadata": {},
     "output_type": "execute_result"
    }
   ],
   "source": [
    "new = pd.concat([df, df_sln], ignore_index=True)\n",
    "# set 'id' as identifier\n",
    "new.set_index('Id',inplace=True)\n",
    "new.head()"
   ]
  },
  {
   "cell_type": "markdown",
   "metadata": {},
   "source": [
    "## 3. Export CSV"
   ]
  },
  {
   "cell_type": "code",
   "execution_count": 24,
   "metadata": {},
   "outputs": [],
   "source": [
    "new.to_csv('./dataset1_dataset2_solution.csv')"
   ]
  },
  {
   "cell_type": "markdown",
   "metadata": {},
   "source": [
    "## 4. Summary\n",
    "From schema integration to data integration, various identification techniques are needed to apply until finding what these conflicts are. In deduplication where data with numerous attributes, matching numeric and categorical values requires different algorithms. However, It is also important to sift attributes by their uniqueness level and finally have the ideal global key to deal with the duplication."
   ]
  },
  {
   "cell_type": "markdown",
   "metadata": {},
   "source": [
    "## Reference\n",
    "* NumPy User Guide - Miscellaneous. *IEEE 754 Floating Point Special Values*. Retrieved from: [https://docs.scipy.org/doc/numpy/user/misc.html](https://docs.scipy.org/doc/numpy/user/misc.html)\n",
    "* Python Record Linkage Toolkit Documentation. *Data deduplication*. Retrieved from: [http://recordlinkage.readthedocs.io/en/latest/notebooks/data_deduplication.html](http://recordlinkage.readthedocs.io/en/latest/notebooks/data_deduplication.html)\n",
    "* Anderson J. (2017, July 5). *Pre-processing with recordlinkage*. Retrieved from:  [http://networkslab.org/2017/07/05/2017-07-05-preprocessing/](http://networkslab.org/2017/07/05/2017-07-05-preprocessing/)"
   ]
  }
 ],
 "metadata": {
  "kernelspec": {
   "display_name": "Python 3",
   "language": "python",
   "name": "python3"
  },
  "language_info": {
   "codemirror_mode": {
    "name": "ipython",
    "version": 3
   },
   "file_extension": ".py",
   "mimetype": "text/x-python",
   "name": "python",
   "nbconvert_exporter": "python",
   "pygments_lexer": "ipython3",
   "version": "3.6.4"
  }
 },
 "nbformat": 4,
 "nbformat_minor": 2
}
