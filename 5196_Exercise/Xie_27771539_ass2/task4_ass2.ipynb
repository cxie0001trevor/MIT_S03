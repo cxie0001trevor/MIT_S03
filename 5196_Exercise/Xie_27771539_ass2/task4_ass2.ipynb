{
 "cells": [
  {
   "cell_type": "markdown",
   "metadata": {},
   "source": [
    "# FIT5196 Task 4 in Assessment 2\n",
    "#### Student Name: Chuangfu Xie\n",
    "#### Student ID: 27771539\n",
    "\n",
    "Date: 13/05/2018\n",
    "\n",
    "Version: 1.0\n",
    "\n",
    "Environment: Python 3.6.4\n",
    "Packages list:\n",
    "1. Pandas 0.22.0  \n",
    "2. numpy 1.14.0\n",
    "4. sklearn 0.19.1"
   ]
  },
  {
   "cell_type": "code",
   "execution_count": 1,
   "metadata": {},
   "outputs": [
    {
     "name": "stdout",
     "output_type": "stream",
     "text": [
      "3.6.4 |Anaconda, Inc.| (default, Jan 16 2018, 12:04:33) \n",
      "[GCC 4.2.1 Compatible Clang 4.0.1 (tags/RELEASE_401/final)]\n"
     ]
    }
   ],
   "source": [
    "import sys\n",
    "print (sys.version)"
   ]
  },
  {
   "cell_type": "markdown",
   "metadata": {},
   "source": [
    "## 1.  Import libraries "
   ]
  },
  {
   "cell_type": "code",
   "execution_count": 2,
   "metadata": {},
   "outputs": [],
   "source": [
    "import pandas as pd\n",
    "import numpy as np\n",
    "import matplotlib.pyplot as plt\n",
    "from sklearn.model_selection import train_test_split\n",
    "from sklearn.neighbors import LocalOutlierFactor"
   ]
  },
  {
   "cell_type": "markdown",
   "metadata": {},
   "source": [
    "## 2. Inspection"
   ]
  },
  {
   "cell_type": "code",
   "execution_count": 3,
   "metadata": {},
   "outputs": [
    {
     "data": {
      "text/html": [
       "<div>\n",
       "<style scoped>\n",
       "    .dataframe tbody tr th:only-of-type {\n",
       "        vertical-align: middle;\n",
       "    }\n",
       "\n",
       "    .dataframe tbody tr th {\n",
       "        vertical-align: top;\n",
       "    }\n",
       "\n",
       "    .dataframe thead th {\n",
       "        text-align: right;\n",
       "    }\n",
       "</style>\n",
       "<table border=\"1\" class=\"dataframe\">\n",
       "  <thead>\n",
       "    <tr style=\"text-align: right;\">\n",
       "      <th></th>\n",
       "      <th>id</th>\n",
       "      <th>date</th>\n",
       "      <th>price</th>\n",
       "      <th>bedrooms</th>\n",
       "      <th>bathrooms</th>\n",
       "      <th>sqft_living</th>\n",
       "      <th>sqft_lot</th>\n",
       "      <th>floors</th>\n",
       "      <th>waterfront</th>\n",
       "      <th>view</th>\n",
       "      <th>condition</th>\n",
       "      <th>grade</th>\n",
       "      <th>sqft_above</th>\n",
       "      <th>sqft_basement</th>\n",
       "      <th>yr_built</th>\n",
       "      <th>yr_renovated</th>\n",
       "      <th>zipcode</th>\n",
       "      <th>lat</th>\n",
       "      <th>long</th>\n",
       "    </tr>\n",
       "  </thead>\n",
       "  <tbody>\n",
       "    <tr>\n",
       "      <th>0</th>\n",
       "      <td>5437400630</td>\n",
       "      <td>20141016T000000</td>\n",
       "      <td>625000.0</td>\n",
       "      <td>4</td>\n",
       "      <td>2.25</td>\n",
       "      <td>1920</td>\n",
       "      <td>8259</td>\n",
       "      <td>2.0</td>\n",
       "      <td>0</td>\n",
       "      <td>0</td>\n",
       "      <td>4</td>\n",
       "      <td>8</td>\n",
       "      <td>1920</td>\n",
       "      <td>0</td>\n",
       "      <td>1979</td>\n",
       "      <td>0</td>\n",
       "      <td>98027</td>\n",
       "      <td>47.5616</td>\n",
       "      <td>-122.088</td>\n",
       "    </tr>\n",
       "    <tr>\n",
       "      <th>1</th>\n",
       "      <td>3999300290</td>\n",
       "      <td>20141016T000000</td>\n",
       "      <td>850000.0</td>\n",
       "      <td>3</td>\n",
       "      <td>3.50</td>\n",
       "      <td>2620</td>\n",
       "      <td>11148</td>\n",
       "      <td>2.0</td>\n",
       "      <td>0</td>\n",
       "      <td>4</td>\n",
       "      <td>4</td>\n",
       "      <td>9</td>\n",
       "      <td>2060</td>\n",
       "      <td>560</td>\n",
       "      <td>1977</td>\n",
       "      <td>0</td>\n",
       "      <td>98008</td>\n",
       "      <td>47.5845</td>\n",
       "      <td>-122.115</td>\n",
       "    </tr>\n",
       "    <tr>\n",
       "      <th>2</th>\n",
       "      <td>2525059134</td>\n",
       "      <td>20141016T000000</td>\n",
       "      <td>500000.0</td>\n",
       "      <td>2</td>\n",
       "      <td>1.50</td>\n",
       "      <td>1760</td>\n",
       "      <td>12000</td>\n",
       "      <td>1.0</td>\n",
       "      <td>0</td>\n",
       "      <td>0</td>\n",
       "      <td>4</td>\n",
       "      <td>7</td>\n",
       "      <td>1760</td>\n",
       "      <td>0</td>\n",
       "      <td>1964</td>\n",
       "      <td>0</td>\n",
       "      <td>98052</td>\n",
       "      <td>47.6288</td>\n",
       "      <td>-122.109</td>\n",
       "    </tr>\n",
       "    <tr>\n",
       "      <th>3</th>\n",
       "      <td>1862400285</td>\n",
       "      <td>20141016T000000</td>\n",
       "      <td>375000.0</td>\n",
       "      <td>3</td>\n",
       "      <td>1.00</td>\n",
       "      <td>1200</td>\n",
       "      <td>5404</td>\n",
       "      <td>1.0</td>\n",
       "      <td>0</td>\n",
       "      <td>0</td>\n",
       "      <td>3</td>\n",
       "      <td>6</td>\n",
       "      <td>1200</td>\n",
       "      <td>0</td>\n",
       "      <td>1937</td>\n",
       "      <td>0</td>\n",
       "      <td>98117</td>\n",
       "      <td>47.6969</td>\n",
       "      <td>-122.368</td>\n",
       "    </tr>\n",
       "    <tr>\n",
       "      <th>4</th>\n",
       "      <td>7199320190</td>\n",
       "      <td>20141016T000000</td>\n",
       "      <td>618000.0</td>\n",
       "      <td>4</td>\n",
       "      <td>2.25</td>\n",
       "      <td>2470</td>\n",
       "      <td>7350</td>\n",
       "      <td>1.0</td>\n",
       "      <td>0</td>\n",
       "      <td>0</td>\n",
       "      <td>3</td>\n",
       "      <td>7</td>\n",
       "      <td>1600</td>\n",
       "      <td>870</td>\n",
       "      <td>1978</td>\n",
       "      <td>0</td>\n",
       "      <td>98052</td>\n",
       "      <td>47.6936</td>\n",
       "      <td>-122.128</td>\n",
       "    </tr>\n",
       "  </tbody>\n",
       "</table>\n",
       "</div>"
      ],
      "text/plain": [
       "           id             date     price  bedrooms  bathrooms  sqft_living  \\\n",
       "0  5437400630  20141016T000000  625000.0         4       2.25         1920   \n",
       "1  3999300290  20141016T000000  850000.0         3       3.50         2620   \n",
       "2  2525059134  20141016T000000  500000.0         2       1.50         1760   \n",
       "3  1862400285  20141016T000000  375000.0         3       1.00         1200   \n",
       "4  7199320190  20141016T000000  618000.0         4       2.25         2470   \n",
       "\n",
       "   sqft_lot  floors  waterfront  view  condition  grade  sqft_above  \\\n",
       "0      8259     2.0           0     0          4      8        1920   \n",
       "1     11148     2.0           0     4          4      9        2060   \n",
       "2     12000     1.0           0     0          4      7        1760   \n",
       "3      5404     1.0           0     0          3      6        1200   \n",
       "4      7350     1.0           0     0          3      7        1600   \n",
       "\n",
       "   sqft_basement  yr_built  yr_renovated  zipcode      lat     long  \n",
       "0              0      1979             0    98027  47.5616 -122.088  \n",
       "1            560      1977             0    98008  47.5845 -122.115  \n",
       "2              0      1964             0    98052  47.6288 -122.109  \n",
       "3              0      1937             0    98117  47.6969 -122.368  \n",
       "4            870      1978             0    98052  47.6936 -122.128  "
      ]
     },
     "execution_count": 3,
     "metadata": {},
     "output_type": "execute_result"
    }
   ],
   "source": [
    "df = pd.read_csv('./dataset4_with_outliers.csv')\n",
    "# have a peek at the dataset\n",
    "df.head()"
   ]
  },
  {
   "cell_type": "markdown",
   "metadata": {},
   "source": [
    "### 2.1 Feature Selection"
   ]
  },
  {
   "cell_type": "markdown",
   "metadata": {},
   "source": [
    "First, we use `check_all_corr()` function to sift those columns which correlation coefficient are under the theshold, and then return the columns need to drop and all potentially related columns:"
   ]
  },
  {
   "cell_type": "code",
   "execution_count": 4,
   "metadata": {},
   "outputs": [],
   "source": [
    "def check_all_corr(df, theshold=0.5):\n",
    "    col_list=df.corr().columns.tolist()\n",
    "    pairs_dict=dict()\n",
    "    for c in col_list:\n",
    "        for r in col_list:\n",
    "            corr_value = df.corr().loc[r,c]\n",
    "            if corr_value > theshold and corr_value!=1:\n",
    "                if c not in pairs_dict:\n",
    "                    pairs_dict[c]=dict()\n",
    "                else:\n",
    "                    pairs_dict[c][r] = corr_value #save pair\n",
    "    # remove columns which pass the theshold\n",
    "    drop_list = df.columns.tolist()\n",
    "    for c in pairs_dict:\n",
    "        for r in pairs_dict[c]:\n",
    "            if r in drop_list:\n",
    "                drop_list.remove(r)\n",
    "        if c in pairs_dict:\n",
    "            try:\n",
    "                drop_list.remove(c)\n",
    "            except:\n",
    "                pass\n",
    "    return drop_list, pairs_dict"
   ]
  },
  {
   "cell_type": "code",
   "execution_count": 5,
   "metadata": {},
   "outputs": [
    {
     "name": "stdout",
     "output_type": "stream",
     "text": [
      "['id', 'date', 'sqft_lot', 'waterfront', 'view', 'condition', 'sqft_basement', 'yr_renovated', 'zipcode', 'lat', 'long']\n"
     ]
    }
   ],
   "source": [
    "drop_list, corr_results = check_all_corr(df)\n",
    "print(drop_list)"
   ]
  },
  {
   "cell_type": "markdown",
   "metadata": {},
   "source": [
    "Now we have all candidate columns are potentially having no relationship with other columns. However, we can not just simply drop all of them. Let's have a closed look at these columns.  \n",
    "Accroding to instructions, we can find that:\n",
    "1. Data in <font color='blue'>**id**</font> are just identifier, we can drop this.\n",
    "2. Each record can have different value in <font color='blue'>**date**</font>, we can drop this.\n",
    "3. <font color='blue'>**zipcode**</font>, <font color='blue'>**lat**</font> and <font color='blue'>**lon**</font> are used to locate the building, we can drop this.\n",
    "4. <font color='blue'>**waterfront**</font> are just feature of the building, but may having relationship with <font color='blue'>**view**</font>, though the value of the view takes might be subjective to some extent. we keep this.\n",
    "5. From task 3 we knows <font color='blue'>**sqft_basement**</font>, <font color='blue'>**sqft_living**</font> and <font color='blue'>**sqft_above**</font> obey to a formula. However, <font color='blue'>**sqft_lot**</font> can be outlier. So, we keep <font color='blue'>**sqft_lot**</font>.\n",
    "6. <font color='blue'>**yr_renovated**</font> are just history, where a renovation happens, the value will be non-zero. On the other hand, <font color='blue'>**condition**</font> may propriately describe at what degree the building is maintained. Thus, we just keep the <font color='blue'>**condition**</font>."
   ]
  },
  {
   "cell_type": "code",
   "execution_count": 6,
   "metadata": {},
   "outputs": [
    {
     "data": {
      "text/html": [
       "<div>\n",
       "<style scoped>\n",
       "    .dataframe tbody tr th:only-of-type {\n",
       "        vertical-align: middle;\n",
       "    }\n",
       "\n",
       "    .dataframe tbody tr th {\n",
       "        vertical-align: top;\n",
       "    }\n",
       "\n",
       "    .dataframe thead th {\n",
       "        text-align: right;\n",
       "    }\n",
       "</style>\n",
       "<table border=\"1\" class=\"dataframe\">\n",
       "  <thead>\n",
       "    <tr style=\"text-align: right;\">\n",
       "      <th></th>\n",
       "      <th>price</th>\n",
       "      <th>bedrooms</th>\n",
       "      <th>bathrooms</th>\n",
       "      <th>sqft_living</th>\n",
       "      <th>sqft_lot</th>\n",
       "      <th>floors</th>\n",
       "      <th>waterfront</th>\n",
       "      <th>view</th>\n",
       "      <th>condition</th>\n",
       "      <th>grade</th>\n",
       "      <th>sqft_above</th>\n",
       "      <th>yr_built</th>\n",
       "    </tr>\n",
       "  </thead>\n",
       "  <tbody>\n",
       "    <tr>\n",
       "      <th>count</th>\n",
       "      <td>9.996000e+03</td>\n",
       "      <td>9996.000000</td>\n",
       "      <td>9996.000000</td>\n",
       "      <td>9996.000000</td>\n",
       "      <td>9.996000e+03</td>\n",
       "      <td>9996.000000</td>\n",
       "      <td>9996.000000</td>\n",
       "      <td>9996.000000</td>\n",
       "      <td>9996.000000</td>\n",
       "      <td>9996.000000</td>\n",
       "      <td>9996.000000</td>\n",
       "      <td>9996.000000</td>\n",
       "    </tr>\n",
       "    <tr>\n",
       "      <th>mean</th>\n",
       "      <td>4.980468e+05</td>\n",
       "      <td>3.356943</td>\n",
       "      <td>2.082558</td>\n",
       "      <td>2025.039916</td>\n",
       "      <td>1.547281e+04</td>\n",
       "      <td>1.487345</td>\n",
       "      <td>0.002401</td>\n",
       "      <td>0.194678</td>\n",
       "      <td>3.374250</td>\n",
       "      <td>7.593037</td>\n",
       "      <td>1750.824930</td>\n",
       "      <td>1972.056423</td>\n",
       "    </tr>\n",
       "    <tr>\n",
       "      <th>std</th>\n",
       "      <td>2.540477e+05</td>\n",
       "      <td>0.937060</td>\n",
       "      <td>0.736420</td>\n",
       "      <td>854.963922</td>\n",
       "      <td>4.297506e+04</td>\n",
       "      <td>0.540751</td>\n",
       "      <td>0.048943</td>\n",
       "      <td>0.679519</td>\n",
       "      <td>0.623769</td>\n",
       "      <td>1.112505</td>\n",
       "      <td>793.994317</td>\n",
       "      <td>28.847071</td>\n",
       "    </tr>\n",
       "    <tr>\n",
       "      <th>min</th>\n",
       "      <td>8.995000e+04</td>\n",
       "      <td>1.000000</td>\n",
       "      <td>0.500000</td>\n",
       "      <td>390.000000</td>\n",
       "      <td>5.200000e+02</td>\n",
       "      <td>1.000000</td>\n",
       "      <td>0.000000</td>\n",
       "      <td>0.000000</td>\n",
       "      <td>1.000000</td>\n",
       "      <td>4.000000</td>\n",
       "      <td>390.000000</td>\n",
       "      <td>1900.000000</td>\n",
       "    </tr>\n",
       "    <tr>\n",
       "      <th>25%</th>\n",
       "      <td>3.200000e+05</td>\n",
       "      <td>3.000000</td>\n",
       "      <td>1.500000</td>\n",
       "      <td>1400.000000</td>\n",
       "      <td>5.040000e+03</td>\n",
       "      <td>1.000000</td>\n",
       "      <td>0.000000</td>\n",
       "      <td>0.000000</td>\n",
       "      <td>3.000000</td>\n",
       "      <td>7.000000</td>\n",
       "      <td>1180.000000</td>\n",
       "      <td>1953.000000</td>\n",
       "    </tr>\n",
       "    <tr>\n",
       "      <th>50%</th>\n",
       "      <td>4.400000e+05</td>\n",
       "      <td>3.000000</td>\n",
       "      <td>2.250000</td>\n",
       "      <td>1870.000000</td>\n",
       "      <td>7.509500e+03</td>\n",
       "      <td>1.000000</td>\n",
       "      <td>0.000000</td>\n",
       "      <td>0.000000</td>\n",
       "      <td>3.000000</td>\n",
       "      <td>7.000000</td>\n",
       "      <td>1530.000000</td>\n",
       "      <td>1976.000000</td>\n",
       "    </tr>\n",
       "    <tr>\n",
       "      <th>75%</th>\n",
       "      <td>6.100000e+05</td>\n",
       "      <td>4.000000</td>\n",
       "      <td>2.500000</td>\n",
       "      <td>2480.000000</td>\n",
       "      <td>1.036150e+04</td>\n",
       "      <td>2.000000</td>\n",
       "      <td>0.000000</td>\n",
       "      <td>0.000000</td>\n",
       "      <td>4.000000</td>\n",
       "      <td>8.000000</td>\n",
       "      <td>2160.000000</td>\n",
       "      <td>1998.000000</td>\n",
       "    </tr>\n",
       "    <tr>\n",
       "      <th>max</th>\n",
       "      <td>2.700000e+06</td>\n",
       "      <td>20.000000</td>\n",
       "      <td>6.500000</td>\n",
       "      <td>7880.000000</td>\n",
       "      <td>1.164794e+06</td>\n",
       "      <td>3.500000</td>\n",
       "      <td>1.000000</td>\n",
       "      <td>4.000000</td>\n",
       "      <td>5.000000</td>\n",
       "      <td>13.000000</td>\n",
       "      <td>7880.000000</td>\n",
       "      <td>2015.000000</td>\n",
       "    </tr>\n",
       "  </tbody>\n",
       "</table>\n",
       "</div>"
      ],
      "text/plain": [
       "              price     bedrooms    bathrooms  sqft_living      sqft_lot  \\\n",
       "count  9.996000e+03  9996.000000  9996.000000  9996.000000  9.996000e+03   \n",
       "mean   4.980468e+05     3.356943     2.082558  2025.039916  1.547281e+04   \n",
       "std    2.540477e+05     0.937060     0.736420   854.963922  4.297506e+04   \n",
       "min    8.995000e+04     1.000000     0.500000   390.000000  5.200000e+02   \n",
       "25%    3.200000e+05     3.000000     1.500000  1400.000000  5.040000e+03   \n",
       "50%    4.400000e+05     3.000000     2.250000  1870.000000  7.509500e+03   \n",
       "75%    6.100000e+05     4.000000     2.500000  2480.000000  1.036150e+04   \n",
       "max    2.700000e+06    20.000000     6.500000  7880.000000  1.164794e+06   \n",
       "\n",
       "            floors   waterfront         view    condition        grade  \\\n",
       "count  9996.000000  9996.000000  9996.000000  9996.000000  9996.000000   \n",
       "mean      1.487345     0.002401     0.194678     3.374250     7.593037   \n",
       "std       0.540751     0.048943     0.679519     0.623769     1.112505   \n",
       "min       1.000000     0.000000     0.000000     1.000000     4.000000   \n",
       "25%       1.000000     0.000000     0.000000     3.000000     7.000000   \n",
       "50%       1.000000     0.000000     0.000000     3.000000     7.000000   \n",
       "75%       2.000000     0.000000     0.000000     4.000000     8.000000   \n",
       "max       3.500000     1.000000     4.000000     5.000000    13.000000   \n",
       "\n",
       "        sqft_above     yr_built  \n",
       "count  9996.000000  9996.000000  \n",
       "mean   1750.824930  1972.056423  \n",
       "std     793.994317    28.847071  \n",
       "min     390.000000  1900.000000  \n",
       "25%    1180.000000  1953.000000  \n",
       "50%    1530.000000  1976.000000  \n",
       "75%    2160.000000  1998.000000  \n",
       "max    7880.000000  2015.000000  "
      ]
     },
     "execution_count": 6,
     "metadata": {},
     "output_type": "execute_result"
    }
   ],
   "source": [
    "drop_list = ['id', 'date', 'sqft_basement', 'yr_renovated', 'zipcode', 'lat', 'long']\n",
    "df_corr = df.drop(columns=drop_list)\n",
    "df_corr.describe()"
   ]
  },
  {
   "cell_type": "markdown",
   "metadata": {},
   "source": [
    "### 2.2 Columns contains the most number of outliers"
   ]
  },
  {
   "cell_type": "code",
   "execution_count": 7,
   "metadata": {},
   "outputs": [
    {
     "data": {
      "image/png": "[encoded data removed]",
      "text/plain": [
       "<matplotlib.figure.Figure at 0x1070047f0>"
      ]
     },
     "metadata": {},
     "output_type": "display_data"
    }
   ],
   "source": [
    "ax, lines = df_corr.boxplot(figsize=(20,10), return_type='both')\n",
    "all_outliers = dict()\n",
    "for col, each in zip(df_corr.columns.tolist(), lines['fliers']):\n",
    "    # collect all outliers\n",
    "    all_outliers[col] = each.get_ydata().tolist()"
   ]
  },
  {
   "cell_type": "code",
   "execution_count": 8,
   "metadata": {},
   "outputs": [
    {
     "data": {
      "text/plain": [
       "{'bathrooms': 80,\n",
       " 'bedrooms': 218,\n",
       " 'condition': 11,\n",
       " 'floors': 0,\n",
       " 'grade': 740,\n",
       " 'price': 371,\n",
       " 'sqft_above': 267,\n",
       " 'sqft_living': 223,\n",
       " 'sqft_lot': 1111,\n",
       " 'view': 864,\n",
       " 'waterfront': 24,\n",
       " 'yr_built': 0}"
      ]
     },
     "execution_count": 8,
     "metadata": {},
     "output_type": "execute_result"
    }
   ],
   "source": [
    "n_outliers = dict()\n",
    "for col in all_outliers:\n",
    "    n_outliers[col] = len(all_outliers[col])\n",
    "n_outliers"
   ]
  },
  {
   "cell_type": "markdown",
   "metadata": {},
   "source": [
    "Now we can find that the column which contains the most significant number of outliers is <font color='blue'>**sqft_lot**</font>: 1111 potential outliers."
   ]
  },
  {
   "cell_type": "markdown",
   "metadata": {},
   "source": [
    "### 2.3 LOF –– Local Outlier Factor"
   ]
  },
  {
   "cell_type": "markdown",
   "metadata": {},
   "source": [
    "As there are 12 columns to consider, we can not simply identify outliers by Boxplot. Since we know all the correlation coefficient of these columns, however, outlier should be identify by the pattern which most records are grouping in a cluster-like. To this extent, we employ LOF technique.\n",
    "\n",
    "As LOF share some fundamental concepts with density-based clustering approaches, by reeferencing to sklearn documentation:\n",
    "> \"... the anomaly score depends on **how isolated the object is with respect to the surrounding neighborhood**. More precisely, **locality is given by k-nearest neighbors**, whose distance is used to **estimate the local density**. By comparing the local density of a sample to the local densities of its neighbors, one can identify samples that have a substantially **lower density than their neighbors**, These are considered **outliers**.\"\n",
    "\n",
    "First, we need to find the **k**, as we can't visualise the clustering in the dataset, we can use a simple method to estimate k:"
   ]
  },
  {
   "cell_type": "code",
   "execution_count": 9,
   "metadata": {},
   "outputs": [
    {
     "name": "stdout",
     "output_type": "stream",
     "text": [
      "99.9799979995999\n"
     ]
    }
   ],
   "source": [
    "k = np.sqrt(len(df.index))\n",
    "print(k)"
   ]
  },
  {
   "cell_type": "markdown",
   "metadata": {},
   "source": [
    "As k is usually odd, let's assume that k is 100. Since the most number of potential outliers are occurs in <font color='blue'>**sqft_lot**</font> , we use it to calculate the contamination ratio, i.e the proportion of outliers in the data set:"
   ]
  },
  {
   "cell_type": "code",
   "execution_count": 10,
   "metadata": {},
   "outputs": [],
   "source": [
    "model = LocalOutlierFactor(100, p=13, contamination=1111/len(df.index))\n",
    "df_corr['outliers'] = model.fit_predict(df_corr)"
   ]
  },
  {
   "cell_type": "markdown",
   "metadata": {},
   "source": [
    "Now we have all the outliers predicted by LOF model. let's check on these outlier with price per square footage:"
   ]
  },
  {
   "cell_type": "code",
   "execution_count": 11,
   "metadata": {},
   "outputs": [
    {
     "data": {
      "text/plain": [
       "count    1111.000000\n",
       "mean       18.345635\n",
       "std        37.200374\n",
       "min         0.000000\n",
       "25%         7.000000\n",
       "50%        13.000000\n",
       "75%        20.000000\n",
       "max       716.000000\n",
       "dtype: float64"
      ]
     },
     "execution_count": 11,
     "metadata": {},
     "output_type": "execute_result"
    }
   ],
   "source": [
    "df_outlier = df_corr[df_corr.outliers == -1]\n",
    "df_outlier = np.round(df_outlier.price/df_outlier.sqft_lot)\n",
    "df_outlier.describe()"
   ]
  },
  {
   "cell_type": "code",
   "execution_count": 12,
   "metadata": {},
   "outputs": [
    {
     "data": {
      "text/plain": [
       "count    8885.000000\n",
       "mean       95.106021\n",
       "std        94.449464\n",
       "min         1.000000\n",
       "25%        40.000000\n",
       "50%        64.000000\n",
       "75%       110.000000\n",
       "max      1346.000000\n",
       "dtype: float64"
      ]
     },
     "execution_count": 12,
     "metadata": {},
     "output_type": "execute_result"
    }
   ],
   "source": [
    "df_no = df_corr[df_corr.outliers == 1]\n",
    "df_no = np.round(df_no.price/df_no.sqft_lot)\n",
    "df_no.describe()"
   ]
  },
  {
   "cell_type": "markdown",
   "metadata": {},
   "source": [
    "Here we can find data distribution with data in outliers against others:\n",
    "1. Data in outliers: mean: 18.25; median: 13.00; std:37.2\n",
    "2. Data without outliers: mean: 95.10; median: 64; std: 94.45\n",
    "\n",
    "It seems that data in outliers are having extreme low price with mean of 18.25! Let's check in another way:"
   ]
  },
  {
   "cell_type": "code",
   "execution_count": 13,
   "metadata": {},
   "outputs": [
    {
     "data": {
      "text/plain": [
       "<matplotlib.axes._subplots.AxesSubplot at 0x1a18b774e0>"
      ]
     },
     "execution_count": 13,
     "metadata": {},
     "output_type": "execute_result"
    },
    {
     "data": {
      "image/png": "[encoded data removed]",
      "text/plain": [
       "<matplotlib.figure.Figure at 0x1070040f0>"
      ]
     },
     "metadata": {},
     "output_type": "display_data"
    }
   ],
   "source": [
    "df_outlier.plot()"
   ]
  },
  {
   "cell_type": "code",
   "execution_count": 14,
   "metadata": {},
   "outputs": [
    {
     "data": {
      "text/plain": [
       "<matplotlib.axes._subplots.AxesSubplot at 0x1a18b7f908>"
      ]
     },
     "execution_count": 14,
     "metadata": {},
     "output_type": "execute_result"
    },
    {
     "data": {
      "image/png": "[encoded data removed]",
      "text/plain": [
       "<matplotlib.figure.Figure at 0x1a18b9dda0>"
      ]
     },
     "metadata": {},
     "output_type": "display_data"
    }
   ],
   "source": [
    "df_no.plot()"
   ]
  },
  {
   "cell_type": "markdown",
   "metadata": {},
   "source": [
    "It seems that most of the outliers has been identified.  \n",
    "Then we can remove these outliers:"
   ]
  },
  {
   "cell_type": "code",
   "execution_count": 15,
   "metadata": {},
   "outputs": [],
   "source": [
    "df = df[df_corr['outliers']==1]"
   ]
  },
  {
   "cell_type": "markdown",
   "metadata": {},
   "source": [
    "## 3. Export CSV "
   ]
  },
  {
   "cell_type": "code",
   "execution_count": 16,
   "metadata": {},
   "outputs": [],
   "source": [
    "df.to_csv('./dataset4_solution.csv',index=False)"
   ]
  },
  {
   "cell_type": "markdown",
   "metadata": {},
   "source": [
    "### Reference"
   ]
  },
  {
   "cell_type": "markdown",
   "metadata": {},
   "source": [
    "* Thirumuruganathan S. (May 17, 2010). *A Detailed Introduction to K-Nearest Neighbor (KNN) Algorithm* Retrieve from:[https://saravananthirumuruganathan.wordpress.com/2010/05/17/a-detailed-introduction-to-k-nearest-neighbor-knn-algorithm/](https://saravananthirumuruganathan.wordpress.com/2010/05/17/a-detailed-introduction-to-k-nearest-neighbor-knn-algorithm/)"
   ]
  }
 ],
 "metadata": {
  "kernelspec": {
   "display_name": "Python 3",
   "language": "python",
   "name": "python3"
  },
  "language_info": {
   "codemirror_mode": {
    "name": "ipython",
    "version": 3
   },
   "file_extension": ".py",
   "mimetype": "text/x-python",
   "name": "python",
   "nbconvert_exporter": "python",
   "pygments_lexer": "ipython3",
   "version": "3.6.4"
  }
 },
 "nbformat": 4,
 "nbformat_minor": 2
}
