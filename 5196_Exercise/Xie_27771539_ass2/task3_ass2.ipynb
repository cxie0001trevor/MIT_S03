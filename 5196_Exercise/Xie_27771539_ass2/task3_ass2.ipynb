{
 "cells": [
  {
   "cell_type": "markdown",
   "metadata": {},
   "source": [
    "# FIT5196 Task 3 in Assessment 2\n",
    "#### Student Name: Chuangfu Xie\n",
    "#### Student ID: 27771539\n",
    "\n",
    "Date: 10/05/2018\n",
    "\n",
    "Version: 1.0\n",
    "\n",
    "Environment: Python 3.6.4\n",
    "Packages list:\n",
    "1. Pandas 0.22.0  \n",
    "2. numpy 1.14.0\n",
    "3. sklearn 0.19.1"
   ]
  },
  {
   "cell_type": "code",
   "execution_count": 1,
   "metadata": {},
   "outputs": [
    {
     "name": "stdout",
     "output_type": "stream",
     "text": [
      "3.6.4 |Anaconda, Inc.| (default, Jan 16 2018, 12:04:33) \n",
      "[GCC 4.2.1 Compatible Clang 4.0.1 (tags/RELEASE_401/final)]\n"
     ]
    }
   ],
   "source": [
    "import sys\n",
    "print (sys.version)"
   ]
  },
  {
   "cell_type": "markdown",
   "metadata": {},
   "source": [
    "## 1.  Import libraries "
   ]
  },
  {
   "cell_type": "code",
   "execution_count": 2,
   "metadata": {},
   "outputs": [],
   "source": [
    "import pandas as pd\n",
    "import numpy as np\n",
    "from sklearn.linear_model import LinearRegression\n",
    "from sklearn.model_selection import train_test_split\n",
    "from scipy.stats.stats import pearsonr\n",
    "import matplotlib.pyplot as plt"
   ]
  },
  {
   "cell_type": "markdown",
   "metadata": {},
   "source": [
    "## 2. Inspection"
   ]
  },
  {
   "cell_type": "code",
   "execution_count": 3,
   "metadata": {},
   "outputs": [],
   "source": [
    "df = pd.read_csv(\"./dataset3_with_missing.csv\")"
   ]
  },
  {
   "cell_type": "code",
   "execution_count": 4,
   "metadata": {},
   "outputs": [
    {
     "data": {
      "text/html": [
       "<div>\n",
       "<style scoped>\n",
       "    .dataframe tbody tr th:only-of-type {\n",
       "        vertical-align: middle;\n",
       "    }\n",
       "\n",
       "    .dataframe tbody tr th {\n",
       "        vertical-align: top;\n",
       "    }\n",
       "\n",
       "    .dataframe thead th {\n",
       "        text-align: right;\n",
       "    }\n",
       "</style>\n",
       "<table border=\"1\" class=\"dataframe\">\n",
       "  <thead>\n",
       "    <tr style=\"text-align: right;\">\n",
       "      <th></th>\n",
       "      <th>id</th>\n",
       "      <th>date</th>\n",
       "      <th>price</th>\n",
       "      <th>bedrooms</th>\n",
       "      <th>bathrooms</th>\n",
       "      <th>sqft_living</th>\n",
       "      <th>sqft_lot</th>\n",
       "      <th>floors</th>\n",
       "      <th>waterfront</th>\n",
       "      <th>view</th>\n",
       "      <th>condition</th>\n",
       "      <th>grade</th>\n",
       "      <th>sqft_above</th>\n",
       "      <th>sqft_basement</th>\n",
       "      <th>yr_built</th>\n",
       "      <th>yr_renovated</th>\n",
       "      <th>zipcode</th>\n",
       "      <th>lat</th>\n",
       "      <th>long</th>\n",
       "    </tr>\n",
       "  </thead>\n",
       "  <tbody>\n",
       "    <tr>\n",
       "      <th>0</th>\n",
       "      <td>1999700045</td>\n",
       "      <td>20140502T000000</td>\n",
       "      <td>313000</td>\n",
       "      <td>3</td>\n",
       "      <td>1.50</td>\n",
       "      <td>1340.0</td>\n",
       "      <td>7912</td>\n",
       "      <td>1.5</td>\n",
       "      <td>0</td>\n",
       "      <td>0</td>\n",
       "      <td>3</td>\n",
       "      <td>7</td>\n",
       "      <td>1340.0</td>\n",
       "      <td>0.0</td>\n",
       "      <td>1955</td>\n",
       "      <td>0</td>\n",
       "      <td>98133</td>\n",
       "      <td>47.7658</td>\n",
       "      <td>-122.339</td>\n",
       "    </tr>\n",
       "    <tr>\n",
       "      <th>1</th>\n",
       "      <td>1860600135</td>\n",
       "      <td>20140502T000000</td>\n",
       "      <td>2384000</td>\n",
       "      <td>5</td>\n",
       "      <td>2.50</td>\n",
       "      <td>3650.0</td>\n",
       "      <td>9050</td>\n",
       "      <td>2.0</td>\n",
       "      <td>0</td>\n",
       "      <td>4</td>\n",
       "      <td>5</td>\n",
       "      <td>10</td>\n",
       "      <td>3370.0</td>\n",
       "      <td>280.0</td>\n",
       "      <td>1921</td>\n",
       "      <td>0</td>\n",
       "      <td>98119</td>\n",
       "      <td>47.6345</td>\n",
       "      <td>-122.367</td>\n",
       "    </tr>\n",
       "    <tr>\n",
       "      <th>2</th>\n",
       "      <td>5467900070</td>\n",
       "      <td>20140502T000000</td>\n",
       "      <td>342000</td>\n",
       "      <td>3</td>\n",
       "      <td>2.00</td>\n",
       "      <td>1930.0</td>\n",
       "      <td>11947</td>\n",
       "      <td>1.0</td>\n",
       "      <td>0</td>\n",
       "      <td>0</td>\n",
       "      <td>4</td>\n",
       "      <td>8</td>\n",
       "      <td>1930.0</td>\n",
       "      <td>0.0</td>\n",
       "      <td>1966</td>\n",
       "      <td>0</td>\n",
       "      <td>98042</td>\n",
       "      <td>47.3672</td>\n",
       "      <td>-122.151</td>\n",
       "    </tr>\n",
       "    <tr>\n",
       "      <th>3</th>\n",
       "      <td>4040800810</td>\n",
       "      <td>20140502T000000</td>\n",
       "      <td>420000</td>\n",
       "      <td>3</td>\n",
       "      <td>2.25</td>\n",
       "      <td>2000.0</td>\n",
       "      <td>8030</td>\n",
       "      <td>1.0</td>\n",
       "      <td>0</td>\n",
       "      <td>0</td>\n",
       "      <td>4</td>\n",
       "      <td>8</td>\n",
       "      <td>1000.0</td>\n",
       "      <td>1000.0</td>\n",
       "      <td>1963</td>\n",
       "      <td>0</td>\n",
       "      <td>98008</td>\n",
       "      <td>47.6188</td>\n",
       "      <td>-122.114</td>\n",
       "    </tr>\n",
       "    <tr>\n",
       "      <th>4</th>\n",
       "      <td>7197300105</td>\n",
       "      <td>20140502T000000</td>\n",
       "      <td>550000</td>\n",
       "      <td>4</td>\n",
       "      <td>2.50</td>\n",
       "      <td>1940.0</td>\n",
       "      <td>10500</td>\n",
       "      <td>1.0</td>\n",
       "      <td>0</td>\n",
       "      <td>0</td>\n",
       "      <td>4</td>\n",
       "      <td>7</td>\n",
       "      <td>1140.0</td>\n",
       "      <td>800.0</td>\n",
       "      <td>1976</td>\n",
       "      <td>0</td>\n",
       "      <td>98052</td>\n",
       "      <td>47.6830</td>\n",
       "      <td>-122.114</td>\n",
       "    </tr>\n",
       "  </tbody>\n",
       "</table>\n",
       "</div>"
      ],
      "text/plain": [
       "           id             date    price  bedrooms  bathrooms  sqft_living  \\\n",
       "0  1999700045  20140502T000000   313000         3       1.50       1340.0   \n",
       "1  1860600135  20140502T000000  2384000         5       2.50       3650.0   \n",
       "2  5467900070  20140502T000000   342000         3       2.00       1930.0   \n",
       "3  4040800810  20140502T000000   420000         3       2.25       2000.0   \n",
       "4  7197300105  20140502T000000   550000         4       2.50       1940.0   \n",
       "\n",
       "   sqft_lot  floors  waterfront  view  condition  grade  sqft_above  \\\n",
       "0      7912     1.5           0     0          3      7      1340.0   \n",
       "1      9050     2.0           0     4          5     10      3370.0   \n",
       "2     11947     1.0           0     0          4      8      1930.0   \n",
       "3      8030     1.0           0     0          4      8      1000.0   \n",
       "4     10500     1.0           0     0          4      7      1140.0   \n",
       "\n",
       "   sqft_basement  yr_built  yr_renovated  zipcode      lat     long  \n",
       "0            0.0      1955             0    98133  47.7658 -122.339  \n",
       "1          280.0      1921             0    98119  47.6345 -122.367  \n",
       "2            0.0      1966             0    98042  47.3672 -122.151  \n",
       "3         1000.0      1963             0    98008  47.6188 -122.114  \n",
       "4          800.0      1976             0    98052  47.6830 -122.114  "
      ]
     },
     "execution_count": 4,
     "metadata": {},
     "output_type": "execute_result"
    }
   ],
   "source": [
    "# take a peek at the dataset\n",
    "df.head()"
   ]
  },
  {
   "cell_type": "markdown",
   "metadata": {},
   "source": [
    "First, let's check on the missing values in each columns by `check_mvs()`:"
   ]
  },
  {
   "cell_type": "code",
   "execution_count": 5,
   "metadata": {},
   "outputs": [
    {
     "name": "stdout",
     "output_type": "stream",
     "text": [
      "MVs within total 9967 records:\n",
      "bathrooms: 400\n",
      "sqft_living: 66\n",
      "sqft_above: 67\n",
      "sqft_basement: 67\n"
     ]
    }
   ],
   "source": [
    "def check_mvs(df):\n",
    "    print('MVs within total ' + str(len(df)) + ' records:')\n",
    "    for col in df.columns.tolist():\n",
    "        total = df[col].isnull().sum()\n",
    "        if total!=0:\n",
    "            print(col + ': ' + str(total))\n",
    "check_mvs(df)"
   ]
  },
  {
   "cell_type": "markdown",
   "metadata": {},
   "source": [
    "## 3. Analysing and Imputation"
   ]
  },
  {
   "cell_type": "markdown",
   "metadata": {},
   "source": [
    "First, let's look at the 3 related columns: `sqft_living`, `sqft_above`, `sqft_basement`."
   ]
  },
  {
   "cell_type": "code",
   "execution_count": 6,
   "metadata": {},
   "outputs": [
    {
     "data": {
      "text/html": [
       "<div>\n",
       "<style scoped>\n",
       "    .dataframe tbody tr th:only-of-type {\n",
       "        vertical-align: middle;\n",
       "    }\n",
       "\n",
       "    .dataframe tbody tr th {\n",
       "        vertical-align: top;\n",
       "    }\n",
       "\n",
       "    .dataframe thead th {\n",
       "        text-align: right;\n",
       "    }\n",
       "</style>\n",
       "<table border=\"1\" class=\"dataframe\">\n",
       "  <thead>\n",
       "    <tr style=\"text-align: right;\">\n",
       "      <th></th>\n",
       "      <th>sqft_living</th>\n",
       "      <th>sqft_above</th>\n",
       "      <th>sqft_basement</th>\n",
       "    </tr>\n",
       "  </thead>\n",
       "  <tbody>\n",
       "    <tr>\n",
       "      <th>0</th>\n",
       "      <td>1340.0</td>\n",
       "      <td>1340.0</td>\n",
       "      <td>0.0</td>\n",
       "    </tr>\n",
       "    <tr>\n",
       "      <th>1</th>\n",
       "      <td>3650.0</td>\n",
       "      <td>3370.0</td>\n",
       "      <td>280.0</td>\n",
       "    </tr>\n",
       "    <tr>\n",
       "      <th>2</th>\n",
       "      <td>1930.0</td>\n",
       "      <td>1930.0</td>\n",
       "      <td>0.0</td>\n",
       "    </tr>\n",
       "    <tr>\n",
       "      <th>3</th>\n",
       "      <td>2000.0</td>\n",
       "      <td>1000.0</td>\n",
       "      <td>1000.0</td>\n",
       "    </tr>\n",
       "    <tr>\n",
       "      <th>4</th>\n",
       "      <td>1940.0</td>\n",
       "      <td>1140.0</td>\n",
       "      <td>800.0</td>\n",
       "    </tr>\n",
       "  </tbody>\n",
       "</table>\n",
       "</div>"
      ],
      "text/plain": [
       "   sqft_living  sqft_above  sqft_basement\n",
       "0       1340.0      1340.0            0.0\n",
       "1       3650.0      3370.0          280.0\n",
       "2       1930.0      1930.0            0.0\n",
       "3       2000.0      1000.0         1000.0\n",
       "4       1940.0      1140.0          800.0"
      ]
     },
     "execution_count": 6,
     "metadata": {},
     "output_type": "execute_result"
    }
   ],
   "source": [
    "rel_col = ['sqft_living','sqft_above','sqft_basement']\n",
    "df[rel_col].head()"
   ]
  },
  {
   "cell_type": "markdown",
   "metadata": {},
   "source": [
    "It seems that values of these 3 columns are following a arithmetic formula:  \n",
    "$$S_{living} = S_{above} + S_{basement} $$\n",
    "Let's check:"
   ]
  },
  {
   "cell_type": "code",
   "execution_count": 7,
   "metadata": {},
   "outputs": [
    {
     "name": "stdout",
     "output_type": "stream",
     "text": [
      "MVs within total 9767 records:\n",
      "bathrooms: 400\n"
     ]
    }
   ],
   "source": [
    "check_mvs(df[df.sqft_living == (df.sqft_above + df.sqft_basement)])"
   ]
  },
  {
   "cell_type": "markdown",
   "metadata": {},
   "source": [
    "Look like records following this formul doesn't have any missing values in these 3 columns. How above the opposite?"
   ]
  },
  {
   "cell_type": "code",
   "execution_count": 8,
   "metadata": {
    "scrolled": true
   },
   "outputs": [
    {
     "name": "stdout",
     "output_type": "stream",
     "text": [
      "MVs within total 200 records:\n",
      "sqft_living: 66\n",
      "sqft_above: 67\n",
      "sqft_basement: 67\n"
     ]
    }
   ],
   "source": [
    "check_mvs(df[df.sqft_living != (df.sqft_above + df.sqft_basement)])"
   ]
  },
  {
   "cell_type": "markdown",
   "metadata": {},
   "source": [
    "Obviously, any missing values contains in a record will not satify this formula.  \n",
    "However, to satisfy this equation, there is a limitation that **only 1 missing value** is allowed spread within these 3 columns in one single record, otherwise, any value can imputed to satisfy this equation. Hence, we need to check the number of missing values in each record. To do this, we can make use of `df.dropna()` method by setting threshold as 2: "
   ]
  },
  {
   "cell_type": "code",
   "execution_count": 9,
   "metadata": {},
   "outputs": [
    {
     "data": {
      "text/plain": [
       "200"
      ]
     },
     "execution_count": 9,
     "metadata": {},
     "output_type": "execute_result"
    }
   ],
   "source": [
    "len(df[df.sqft_living != (df.sqft_above + df.sqft_basement)].dropna(thresh=2))"
   ]
  },
  {
   "cell_type": "markdown",
   "metadata": {},
   "source": [
    "Or, we can simply assume that if all extracted records satisfy the above limitation, then we have the proof:\n",
    "$$N_{living}(MVs) + N_{above}(MVs) + N_{basement}(MVs) = N_{relSqft}(MVs)$$\n",
    "$$66 + 67 + 67 = 200$$\n",
    "Now we can impute data following this equation:"
   ]
  },
  {
   "cell_type": "code",
   "execution_count": 10,
   "metadata": {},
   "outputs": [
    {
     "name": "stdout",
     "output_type": "stream",
     "text": [
      "MVs within total 9967 records:\n",
      "bathrooms: 400\n"
     ]
    }
   ],
   "source": [
    "# sqft_living\n",
    "df.sqft_living.fillna((df.sqft_above + df.sqft_basement), inplace=True)\n",
    "# sqft_above\n",
    "df.sqft_above.fillna((df.sqft_living - df.sqft_basement), inplace=True)\n",
    "# sqft_basement\n",
    "df.sqft_basement.fillna((df.sqft_living - df.sqft_above), inplace=True)\n",
    "# Double-check\n",
    "check_mvs(df)"
   ]
  },
  {
   "cell_type": "markdown",
   "metadata": {},
   "source": [
    "Now, we can move on to deal with the problem in bathrooms.\n",
    "To tackle this problem, as the number of bathrooms in a house is not simply relied on any formula, we can use **linear regression** to approximately predict the potential values.  \n",
    "\n",
    "However, before employ linear regression, we need to find out the linear correlation based on **Pearson correlation coefficient** between different columns. Hence, we use `check_corr()` to check:"
   ]
  },
  {
   "cell_type": "code",
   "execution_count": 11,
   "metadata": {},
   "outputs": [],
   "source": [
    "def check_cor(df, target_col):\n",
    "    results = dict()\n",
    "    tmp = df.dropna()\n",
    "    for col in tmp.columns.tolist():\n",
    "        x = tmp[col]\n",
    "        try:\n",
    "            results[col + '_' + target_col] = pearsonr(x, tmp[target_col])[0]\n",
    "        except:\n",
    "            print(\"Can't calcalute due to: \" + col + ' is ' + tmp[col].dtype.str)\n",
    "    return results"
   ]
  },
  {
   "cell_type": "code",
   "execution_count": 12,
   "metadata": {
    "scrolled": true
   },
   "outputs": [
    {
     "name": "stdout",
     "output_type": "stream",
     "text": [
      "Can't calcalute due to: date is |O\n"
     ]
    },
    {
     "data": {
      "text/plain": [
       "{'bathrooms_bathrooms': 1.0,\n",
       " 'bedrooms_bathrooms': 0.5140708222502688,\n",
       " 'condition_bathrooms': -0.1179299113167495,\n",
       " 'floors_bathrooms': 0.5182340337195713,\n",
       " 'grade_bathrooms': 0.6809540413787357,\n",
       " 'id_bathrooms': 0.02079274106207167,\n",
       " 'lat_bathrooms': 0.006812725287900348,\n",
       " 'long_bathrooms': 0.2793043657272544,\n",
       " 'price_bathrooms': 0.5192078916897007,\n",
       " 'sqft_above_bathrooms': 0.7100975105730197,\n",
       " 'sqft_basement_bathrooms': 0.28586357107891075,\n",
       " 'sqft_living_bathrooms': 0.7934687961093732,\n",
       " 'sqft_lot_bathrooms': 0.0899779380512527,\n",
       " 'view_bathrooms': 0.17035347528134492,\n",
       " 'waterfront_bathrooms': 0.049305828381850075,\n",
       " 'yr_built_bathrooms': 0.514761542446788,\n",
       " 'yr_renovated_bathrooms': 0.028738364259999538,\n",
       " 'zipcode_bathrooms': -0.24401174645380885}"
      ]
     },
     "execution_count": 12,
     "metadata": {},
     "output_type": "execute_result"
    }
   ],
   "source": [
    "check_cor(df, 'bathrooms')"
   ]
  },
  {
   "cell_type": "markdown",
   "metadata": {},
   "source": [
    "Now we can have the correlation coefficient with respect to the column correlated to `bathrooms`. Let's give a threshold to sift those correlation are moderate positive, that equals to **0.5** (according to **Pearson's rule of thumb**):"
   ]
  },
  {
   "cell_type": "code",
   "execution_count": 13,
   "metadata": {},
   "outputs": [
    {
     "name": "stdout",
     "output_type": "stream",
     "text": [
      "Can't calcalute due to: date is |O\n",
      "price_bathrooms\n",
      "bedrooms_bathrooms\n",
      "bathrooms_bathrooms\n",
      "sqft_living_bathrooms\n",
      "floors_bathrooms\n",
      "grade_bathrooms\n",
      "sqft_above_bathrooms\n",
      "yr_built_bathrooms\n"
     ]
    }
   ],
   "source": [
    "cor_dict = check_cor(df, 'bathrooms')\n",
    "for pair in cor_dict:\n",
    "    if cor_dict[pair] > 0.5:\n",
    "        print(pair)"
   ]
  },
  {
   "cell_type": "markdown",
   "metadata": {},
   "source": [
    "There are 7 columns which have the correlation coefficient greater than the threshold. However, in terms of interpretation of the size of a correlation, some literature has given guideline on how to interprete the correlation coefficient. However, the interpretation actually depends on the context and purposes. We should **first use a scattor plot to establish if the data indicates linear relationship**."
   ]
  },
  {
   "cell_type": "markdown",
   "metadata": {},
   "source": [
    "Now, let's first plot the scatter plot by `plot_scatter`: "
   ]
  },
  {
   "cell_type": "code",
   "execution_count": 14,
   "metadata": {},
   "outputs": [],
   "source": [
    "def plot_scatter(df, col, col_list):\n",
    "    if len(col_list)%2!=0:\n",
    "        nr=len(col_list)//2+1\n",
    "    else:\n",
    "        nr=len(col_list)//2\n",
    "    fig, axes = plt.subplots(nrows=nr, ncols=2, figsize=(10, 10))\n",
    "    r, c = 0, 0\n",
    "    for i in col_list:\n",
    "        if c>1:\n",
    "            c=0\n",
    "            r+=1\n",
    "        if r<nr:\n",
    "            axes[r, c].yaxis.set_major_locator(plt.NullLocator())\n",
    "            axes[r, c].xaxis.set_major_formatter(plt.NullFormatter())\n",
    "            axes[r, c].scatter(df[i], df[col], marker='p', s=2)\n",
    "            axes[r, c].set_title(i + ' and ' + col)\n",
    "            c+=1\n",
    "    plt.show()"
   ]
  },
  {
   "cell_type": "code",
   "execution_count": 15,
   "metadata": {},
   "outputs": [
    {
     "data": {
      "image/png": "[encoded data removed]",
      "text/plain": [
       "<matplotlib.figure.Figure at 0x1148dbda0>"
      ]
     },
     "metadata": {},
     "output_type": "display_data"
    }
   ],
   "source": [
    "# prepare for data: no missing value allowed\n",
    "df_dropna = df.dropna()\n",
    "cor_col = ['bathrooms', 'price', 'bedrooms', 'floors', \n",
    "           'grade', 'sqft_living', 'sqft_above', 'yr_built']\n",
    "plot_scatter(df_dropna, 'bathrooms', cor_col)"
   ]
  },
  {
   "cell_type": "markdown",
   "metadata": {},
   "source": [
    "From above, we can find these columns scatter plot are approximately having a linear relationship with bathrooms:\n",
    "* <font color='blue'>**price**</font>\n",
    "* <font color='blue'>**grade**</font>\n",
    "* <font color='blue'>**sqft_living**</font>\n",
    "* <font color='blue'>**sqft_above**</font>\n",
    "\n",
    "However, with a closed examine these graphs, their relations have not been linearised. Hence, we need to employ **data transformation**:"
   ]
  },
  {
   "cell_type": "markdown",
   "metadata": {},
   "source": [
    "Based on **Tukey's Ladder of Powers**, we employ **Power transformation** to improve the linearity between variables:\n",
    "<img src=\"http://www.math.smith.edu/~bbaumer/mth247/labs/tukey_bulge.png\", alt=\"Tukey's Ladder of Powers\", width=\"300\">\n",
    "Follow rule shown above, we should transform data by **going down-ladder** for x, which is apply **log transformation**:"
   ]
  },
  {
   "cell_type": "code",
   "execution_count": 16,
   "metadata": {},
   "outputs": [],
   "source": [
    "col_trans = ['bathrooms', 'price', 'grade', 'sqft_living', 'sqft_above']\n",
    "df_trans = df_dropna.copy() # make a copy\n",
    "# log transformation\n",
    "for i in col_trans:\n",
    "    if i!='bathrooms':\n",
    "        df_trans[i] = np.log(df_trans[i]) #log transformation"
   ]
  },
  {
   "cell_type": "markdown",
   "metadata": {},
   "source": [
    "Now, let's check again the scatter plot:"
   ]
  },
  {
   "cell_type": "code",
   "execution_count": 17,
   "metadata": {},
   "outputs": [
    {
     "data": {
      "image/png": "[encoded data removed]",
      "text/plain": [
       "<matplotlib.figure.Figure at 0x1a157f71d0>"
      ]
     },
     "metadata": {},
     "output_type": "display_data"
    }
   ],
   "source": [
    "plot_scatter(df_trans, 'bathrooms', col_trans)"
   ]
  },
  {
   "cell_type": "code",
   "execution_count": 18,
   "metadata": {},
   "outputs": [
    {
     "name": "stdout",
     "output_type": "stream",
     "text": [
      "price_bathrooms improved by: 8.91%\n",
      "grade_bathrooms improved by: 0.27%\n",
      "sqft_living_bathrooms improved by: 3.44%\n",
      "sqft_above_bathrooms improved by: 4.18%\n"
     ]
    }
   ],
   "source": [
    "before = check_cor(df[col_trans], 'bathrooms')\n",
    "after = check_cor(df_trans[col_trans], 'bathrooms')\n",
    "for i in before:\n",
    "    if i!='bathrooms_bathrooms':\n",
    "        print(i + ' improved by: ' + str(round(100*(after[i]/before[i]-1),2))+'%')"
   ]
  },
  {
   "cell_type": "markdown",
   "metadata": {},
   "source": [
    "It seems that the linearity has been improved to some degree."
   ]
  },
  {
   "cell_type": "markdown",
   "metadata": {},
   "source": [
    "Before we do employ this **supervised learning** technique to predict data, we first need to train our linear model by using the data without records containing any `NaN`s. After that, we can use our train dataset to fit our model.  "
   ]
  },
  {
   "cell_type": "code",
   "execution_count": 19,
   "metadata": {},
   "outputs": [
    {
     "data": {
      "text/plain": [
       "LinearRegression(copy_X=True, fit_intercept=True, n_jobs=1, normalize=False)"
      ]
     },
     "execution_count": 19,
     "metadata": {},
     "output_type": "execute_result"
    }
   ],
   "source": [
    "df_train = df_trans[col_trans]\n",
    "col_list = df_train.columns.tolist()\n",
    "x_train, x_test, y_train, y_test = train_test_split(df_train[col_list[1:]],\n",
    "                                                    df_train['bathrooms'],\n",
    "                                                    random_state = 42)\n",
    "model = LinearRegression()\n",
    "model.fit(x_train, y_train)"
   ]
  },
  {
   "cell_type": "markdown",
   "metadata": {},
   "source": [
    "Then we can use $R^2$ score to see **how close the data are to the fitted regression line**, especially in this case."
   ]
  },
  {
   "cell_type": "code",
   "execution_count": 20,
   "metadata": {},
   "outputs": [
    {
     "data": {
      "text/plain": [
       "0.6957913802754901"
      ]
     },
     "execution_count": 20,
     "metadata": {},
     "output_type": "execute_result"
    }
   ],
   "source": [
    "# verify by R^2 score\n",
    "model.score(x_test, y_test)"
   ]
  },
  {
   "cell_type": "markdown",
   "metadata": {},
   "source": [
    "The $R^2$ score seems to be fine, now we can use the full dataset `df` to predict potential values for <font color='blue'>**bathrooms**</font>:"
   ]
  },
  {
   "cell_type": "code",
   "execution_count": 21,
   "metadata": {
    "scrolled": true
   },
   "outputs": [
    {
     "data": {
      "text/plain": [
       "array([1.64733503, 2.99374993, 2.18078942, ..., 2.24515873, 2.08298378,\n",
       "       2.22261129])"
      ]
     },
     "execution_count": 21,
     "metadata": {},
     "output_type": "execute_result"
    }
   ],
   "source": [
    "col_predict = ['price', 'grade', 'sqft_living', 'sqft_above']\n",
    "X_test = df[col_predict].copy()\n",
    "for i in col_predict:\n",
    "    if i!='bathrooms':\n",
    "        X_test[i] = np.log(X_test[i])\n",
    "model.predict(X_test)"
   ]
  },
  {
   "cell_type": "markdown",
   "metadata": {},
   "source": [
    "Look like the value with so many digits doesn't make sense to this column, but we can use `np.round()` to keep only 1 digit, making it similar to the other:"
   ]
  },
  {
   "cell_type": "code",
   "execution_count": 22,
   "metadata": {},
   "outputs": [],
   "source": [
    "predict_values = np.round(model.predict(X_test),1)"
   ]
  },
  {
   "cell_type": "markdown",
   "metadata": {},
   "source": [
    "Now we can replace all the `NaN` values in <font color='blue'>**bathrooms**</font> with our predictive values:"
   ]
  },
  {
   "cell_type": "code",
   "execution_count": 23,
   "metadata": {
    "scrolled": true
   },
   "outputs": [
    {
     "name": "stdout",
     "output_type": "stream",
     "text": [
      "MVs within total 9967 records:\n"
     ]
    }
   ],
   "source": [
    "nan_index = df[df.bathrooms.isnull()].index.values\n",
    "df.loc[nan_index, 'bathrooms']= predict_values[nan_index]\n",
    "#Double check\n",
    "check_mvs(df)"
   ]
  },
  {
   "cell_type": "markdown",
   "metadata": {},
   "source": [
    "## 4. Export CSV "
   ]
  },
  {
   "cell_type": "code",
   "execution_count": null,
   "metadata": {},
   "outputs": [],
   "source": [
    "df.to_csv('./dataset3_solution.csv',index=False)"
   ]
  },
  {
   "cell_type": "markdown",
   "metadata": {},
   "source": [
    "## 5. Summary"
   ]
  },
  {
   "cell_type": "markdown",
   "metadata": {},
   "source": [
    "In this task, the noteworthy point is that the relationships between data are not always obvious. Some relationships are buried so deep that the scatter plot might be a good choice to dig out. However, some data distribution might so skewed that we also need transformation to linearise it into optimal form. With $R^2$ score, we can verify how well our model has been fit."
   ]
  },
  {
   "cell_type": "markdown",
   "metadata": {},
   "source": [
    "## Reference"
   ]
  },
  {
   "cell_type": "markdown",
   "metadata": {},
   "source": [
    "* Thoma M.& Sacha. *Calculating Pearson correlation and significance in Python*. Retrieved from: [https://stackoverflow.com/a/3949282](https://stackoverflow.com/a/3949282)\n",
    "* Rumsey J.D. Statistics For Dummies.2ed. *HOW TO INTERPRET A CORRELATION COEFFICIENT R\n",
    " Statistics For Dummies*[http://www.dummies.com/education/math/statistics/how-to-interpret-a-correlation-coefficient-r/](http://www.dummies.com/education/math/statistics/how-to-interpret-a-correlation-coefficient-r/)"
   ]
  }
 ],
 "metadata": {
  "kernelspec": {
   "display_name": "Python 3",
   "language": "python",
   "name": "python3"
  },
  "language_info": {
   "codemirror_mode": {
    "name": "ipython",
    "version": 3
   },
   "file_extension": ".py",
   "mimetype": "text/x-python",
   "name": "python",
   "nbconvert_exporter": "python",
   "pygments_lexer": "ipython3",
   "version": "3.6.4"
  }
 },
 "nbformat": 4,
 "nbformat_minor": 2
}
