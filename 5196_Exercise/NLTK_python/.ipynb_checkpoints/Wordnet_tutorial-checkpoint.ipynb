{
 "cells": [
  {
   "cell_type": "markdown",
   "metadata": {},
   "source": [
    "## WordNet\n",
    "\n",
    "First, let's have a close look at the `WordNet` corpus reader: <font color='blue'>**WordNet**</font> is a lexical database for the English language, which was created by Princeton, and is part of the NLTK corpus.  "
   ]
  },
  {
   "cell_type": "code",
   "execution_count": 1,
   "metadata": {},
   "outputs": [],
   "source": [
    "from nltk.corpus import wordnet as wn # as convention"
   ]
  },
  {
   "cell_type": "markdown",
   "metadata": {},
   "source": [
    "You can look up a word using `wn.synsets()`: This function has an optional **pos argument** which lets you constrain the part of speech of the word:"
   ]
  },
  {
   "cell_type": "code",
   "execution_count": 2,
   "metadata": {},
   "outputs": [
    {
     "data": {
      "text/plain": [
       "[Synset('feel.v.03'),\n",
       " Synset('sense.v.02'),\n",
       " Synset('smell.v.05'),\n",
       " Synset('sense.v.04')]"
      ]
     },
     "execution_count": 2,
     "metadata": {},
     "output_type": "execute_result"
    }
   ],
   "source": [
    "wn.synsets('sense', pos=wn.VERB) # an ordered list"
   ]
  },
  {
   "cell_type": "markdown",
   "metadata": {},
   "source": [
    "Or, since a synset is identified with a 3-part name of the form: `word.pos.nn`, you can use `wn.synset()`:  \n",
    "**Note**: without 's'"
   ]
  },
  {
   "cell_type": "code",
   "execution_count": 3,
   "metadata": {},
   "outputs": [
    {
     "data": {
      "text/plain": [
       "Synset('feel.v.03')"
      ]
     },
     "execution_count": 3,
     "metadata": {},
     "output_type": "execute_result"
    }
   ],
   "source": [
    "wn.synset('sense.v.01') # the number is the order number"
   ]
  },
  {
   "cell_type": "markdown",
   "metadata": {},
   "source": [
    "### Basic methods in WordNet\n",
    "`Synset` object have various methods:\n",
    "1. `Synset.name()`: return the synset name with dot notation\n",
    "2. `Synset.lemmas()`: return a **list** of lemmas object\n",
    "3. `Synset.lemmas_names()`: get a **list** of str names of lemmas objects\n",
    "4. `Synset.examples()`: return a **list** of examples"
   ]
  },
  {
   "cell_type": "code",
   "execution_count": 4,
   "metadata": {},
   "outputs": [
    {
     "name": "stdout",
     "output_type": "stream",
     "text": [
      "Synset object: plan.n.01\n",
      "str name: plan\n",
      "Def: a series of steps to be carried out or goals to be accomplished\n",
      "Example: ['they drew up a six-step plan', 'they discussed plans for a new bond issue']\n"
     ]
    }
   ],
   "source": [
    "from nltk.corpus import wordnet as wn\n",
    "syn = wn.synsets(\"program\") # a list of synset object\n",
    "print('Synset object:', syn[0].name()) # synset\n",
    "print('str name:', syn[0].lemmas()[0].name()) # just single words\n",
    "print('Def:', syn[0].definition()) # definition\n",
    "print('Example:',syn[0].examples())"
   ]
  },
  {
   "cell_type": "markdown",
   "metadata": {},
   "source": [
    "Another way to extract only names of a `Synset` object:"
   ]
  },
  {
   "cell_type": "code",
   "execution_count": 5,
   "metadata": {},
   "outputs": [
    {
     "data": {
      "text/plain": [
       "['plan', 'program', 'programme']"
      ]
     },
     "execution_count": 5,
     "metadata": {},
     "output_type": "execute_result"
    }
   ],
   "source": [
    "syn[0].lemma_names()"
   ]
  },
  {
   "cell_type": "code",
   "execution_count": 6,
   "metadata": {},
   "outputs": [
    {
     "data": {
      "text/plain": [
       "[Lemma('plan.n.01.plan'),\n",
       " Lemma('plan.n.01.program'),\n",
       " Lemma('plan.n.01.programme')]"
      ]
     },
     "execution_count": 6,
     "metadata": {},
     "output_type": "execute_result"
    }
   ],
   "source": [
    "syn[0].lemmas() # 词目"
   ]
  },
  {
   "cell_type": "markdown",
   "metadata": {},
   "source": [
    "### Synonyms and Antonym in WordNet\n",
    "With <font color='blue'>**WordNet**</font>, you can look up **synonyms** and **antonym** and **definitions** and even the context of that word."
   ]
  },
  {
   "cell_type": "code",
   "execution_count": 7,
   "metadata": {},
   "outputs": [
    {
     "name": "stdout",
     "output_type": "stream",
     "text": [
      "{'salutary', 'goodness', 'honest', 'commodity', 'beneficial', 'trade_good', 'dependable', 'thoroughly', 'unspoiled', 'proficient', 'full', 'good', 'soundly', 'unspoilt', 'sound', 'right', 'practiced', 'near', 'serious', 'dear', 'ripe', 'expert', 'safe', 'honorable', 'adept', 'effective', 'in_force', 'undecomposed', 'estimable', 'skillful', 'secure', 'skilful', 'in_effect', 'just', 'respectable', 'well', 'upright'} \n",
      "------\n",
      "{'evil', 'bad', 'evilness', 'ill', 'badness'}\n"
     ]
    }
   ],
   "source": [
    "word = 'good'\n",
    "syns = []\n",
    "antonyms = []\n",
    "for syn in wn.synsets(word):\n",
    "    for l in syn.lemmas():\n",
    "        syns.append(l.name()) #just pick str name\n",
    "        if l.antonyms(): # if exist\n",
    "            antonyms.append(l.antonyms()[0].name())\n",
    "print(set(syns),'\\n------')\n",
    "print(set(antonyms))"
   ]
  },
  {
   "cell_type": "code",
   "execution_count": null,
   "metadata": {},
   "outputs": [],
   "source": []
  },
  {
   "cell_type": "markdown",
   "metadata": {},
   "source": [
    "### Multilingual in WordNet\n",
    "It also gives access to the **Open Multilingual WordNet**, using ISO-639 language codes:"
   ]
  },
  {
   "cell_type": "code",
   "execution_count": 8,
   "metadata": {},
   "outputs": [
    {
     "name": "stdout",
     "output_type": "stream",
     "text": [
      "['als', 'arb', 'bul', 'cat', 'cmn', 'dan', 'ell', 'eng', 'eus', 'fas', 'fin', 'fra', 'glg', 'heb', 'hrv', 'ind', 'ita', 'jpn', 'nld', 'nno', 'nob', 'pol', 'por', 'qcn', 'slv', 'spa', 'swe', 'tha', 'zsm']\n"
     ]
    }
   ],
   "source": [
    "print(sorted(wn.langs())) #language support"
   ]
  },
  {
   "cell_type": "code",
   "execution_count": 9,
   "metadata": {},
   "outputs": [
    {
     "data": {
      "text/plain": [
       "['avvertire', 'intuire', 'percepire', 'sentire']"
      ]
     },
     "execution_count": 9,
     "metadata": {},
     "output_type": "execute_result"
    }
   ],
   "source": [
    "# sense.v.01 = feel.v.03\n",
    "wn.synset('sense.v.01').lemma_names('ita')# to Italian"
   ]
  },
  {
   "cell_type": "markdown",
   "metadata": {},
   "source": [
    "Find lemmas in other language with argument:"
   ]
  },
  {
   "cell_type": "code",
   "execution_count": 10,
   "metadata": {},
   "outputs": [
    {
     "data": {
      "text/plain": [
       "[Lemma('perceive.v.02.intuire'),\n",
       " Lemma('feel.v.03.intuire'),\n",
       " Lemma('divine.v.01.intuire')]"
      ]
     },
     "execution_count": 10,
     "metadata": {},
     "output_type": "execute_result"
    }
   ],
   "source": [
    "wn.lemmas('intuire', lang='ita')"
   ]
  },
  {
   "cell_type": "markdown",
   "metadata": {},
   "source": [
    "To check the language of a Lemma object with `Lemma.lang()`"
   ]
  },
  {
   "cell_type": "code",
   "execution_count": 11,
   "metadata": {},
   "outputs": [
    {
     "data": {
      "text/plain": [
       "'ita'"
      ]
     },
     "execution_count": 11,
     "metadata": {},
     "output_type": "execute_result"
    }
   ],
   "source": [
    "wn.lemma('feel.v.03.intuire', lang='ita').lang()"
   ]
  },
  {
   "cell_type": "markdown",
   "metadata": {},
   "source": [
    "* hyponyms (上义词),\n",
    "* hypernyms (上义词), \n",
    "* root_hypernym (上义词根), \n",
    "* holonym (同形同音异义词), \n",
    "* pertainyms (相关词),  --- only on `lemmas`\n",
    "* derivationally_related_forms (词性变换)   --- only on `lemmas`\n",
    "* common hypernym (相同上义词)"
   ]
  },
  {
   "cell_type": "code",
   "execution_count": 34,
   "metadata": {},
   "outputs": [
    {
     "data": {
      "text/plain": [
       "[Synset('basenji.n.01'),\n",
       " Synset('corgi.n.01'),\n",
       " Synset('cur.n.01'),\n",
       " Synset('dalmatian.n.02'),\n",
       " Synset('great_pyrenees.n.01'),\n",
       " Synset('griffon.n.02'),\n",
       " Synset('hunting_dog.n.01'),\n",
       " Synset('lapdog.n.01'),\n",
       " Synset('leonberg.n.01'),\n",
       " Synset('mexican_hairless.n.01'),\n",
       " Synset('newfoundland.n.01'),\n",
       " Synset('pooch.n.01'),\n",
       " Synset('poodle.n.01'),\n",
       " Synset('pug.n.01'),\n",
       " Synset('puppy.n.01'),\n",
       " Synset('spitz.n.01'),\n",
       " Synset('toy_dog.n.01'),\n",
       " Synset('working_dog.n.01')]"
      ]
     },
     "execution_count": 34,
     "metadata": {},
     "output_type": "execute_result"
    }
   ],
   "source": [
    "wn.synset('dog.n.01').hyponyms()  # find hypernyms 下义词"
   ]
  },
  {
   "cell_type": "code",
   "execution_count": 12,
   "metadata": {},
   "outputs": [
    {
     "data": {
      "text/plain": [
       "[Synset('canine.n.02'), Synset('domestic_animal.n.01')]"
      ]
     },
     "execution_count": 12,
     "metadata": {},
     "output_type": "execute_result"
    }
   ],
   "source": [
    "wn.synset('dog.n.01').hypernyms() # find hypernyms 上义词"
   ]
  },
  {
   "cell_type": "code",
   "execution_count": 13,
   "metadata": {},
   "outputs": [
    {
     "data": {
      "text/plain": [
       "[Synset('entity.n.01')]"
      ]
     },
     "execution_count": 13,
     "metadata": {},
     "output_type": "execute_result"
    }
   ],
   "source": [
    "wn.synset('dog.n.01').root_hypernyms() # find the root hypernyms"
   ]
  },
  {
   "cell_type": "markdown",
   "metadata": {},
   "source": [
    "Find the depth of one's hypernyms until reach 'entity'"
   ]
  },
  {
   "cell_type": "code",
   "execution_count": 36,
   "metadata": {},
   "outputs": [
    {
     "name": "stdout",
     "output_type": "stream",
     "text": [
      "canine.n.02\n",
      "carnivore.n.01\n",
      "placental.n.01\n",
      "mammal.n.01\n",
      "vertebrate.n.01\n",
      "chordate.n.01\n",
      "animal.n.01\n",
      "organism.n.01\n",
      "living_thing.n.01\n",
      "whole.n.02\n",
      "object.n.01\n",
      "physical_entity.n.01\n",
      "entity.n.01\n",
      "13\n"
     ]
    }
   ],
   "source": [
    "entity = wn.synset('entity.n.01')\n",
    "start_words = wn.synset('dog.n.01')\n",
    "depth = 0\n",
    "temp = start_words\n",
    "while temp != entity:\n",
    "    temp = temp.hypernyms()[0] # just simply pick the 1st one\n",
    "    print(temp.name())\n",
    "    depth+=1\n",
    "print(depth)"
   ]
  },
  {
   "cell_type": "code",
   "execution_count": 14,
   "metadata": {},
   "outputs": [
    {
     "data": {
      "text/plain": [
       "[Synset('canis.n.01'), Synset('pack.n.06')]"
      ]
     },
     "execution_count": 14,
     "metadata": {},
     "output_type": "execute_result"
    }
   ],
   "source": [
    "wn.synset('dog.n.01').member_holonyms() # holonym 同形同音异义"
   ]
  },
  {
   "cell_type": "markdown",
   "metadata": {},
   "source": [
    " `wn.lemma()` find lemma 词目"
   ]
  },
  {
   "cell_type": "code",
   "execution_count": 15,
   "metadata": {},
   "outputs": [
    {
     "data": {
      "text/plain": [
       "Lemma('vocal.a.01.vocal')"
      ]
     },
     "execution_count": 15,
     "metadata": {},
     "output_type": "execute_result"
    }
   ],
   "source": [
    "vocal = wn.lemma('vocal.a.01.vocal')\n",
    "vocal"
   ]
  },
  {
   "cell_type": "code",
   "execution_count": 16,
   "metadata": {},
   "outputs": [
    {
     "data": {
      "text/plain": [
       "[Lemma('voice.n.02.voice')]"
      ]
     },
     "execution_count": 16,
     "metadata": {},
     "output_type": "execute_result"
    }
   ],
   "source": [
    "vocal.pertainyms() # related word 相关词"
   ]
  },
  {
   "cell_type": "code",
   "execution_count": 17,
   "metadata": {},
   "outputs": [
    {
     "data": {
      "text/plain": [
       "[Lemma('vocalize.v.02.vocalize')]"
      ]
     },
     "execution_count": 17,
     "metadata": {},
     "output_type": "execute_result"
    }
   ],
   "source": [
    "# vocal adj. -> vocalize v. 词性变换\n",
    "vocal.derivationally_related_forms()"
   ]
  },
  {
   "cell_type": "markdown",
   "metadata": {},
   "source": [
    "Find **common hypernym** 相同上义词:"
   ]
  },
  {
   "cell_type": "code",
   "execution_count": 18,
   "metadata": {},
   "outputs": [
    {
     "data": {
      "text/plain": [
       "[Synset('carnivore.n.01')]"
      ]
     },
     "execution_count": 18,
     "metadata": {},
     "output_type": "execute_result"
    }
   ],
   "source": [
    "dog = wn.synset('dog.n.01')\n",
    "cat = wn.synset('cat.n.01')\n",
    "dog.lowest_common_hypernyms(cat) # find the common hypernyms"
   ]
  },
  {
   "cell_type": "markdown",
   "metadata": {},
   "source": [
    "## Lemmas"
   ]
  },
  {
   "cell_type": "code",
   "execution_count": 19,
   "metadata": {},
   "outputs": [
    {
     "data": {
      "text/plain": [
       "Lemma('feed.v.06.eat')"
      ]
     },
     "execution_count": 19,
     "metadata": {},
     "output_type": "execute_result"
    }
   ],
   "source": [
    "eat = wn.lemma('eat.v.03.eat')\n",
    "eat"
   ]
  },
  {
   "cell_type": "code",
   "execution_count": 20,
   "metadata": {},
   "outputs": [
    {
     "data": {
      "text/plain": [
       "'eat%2:34:02::'"
      ]
     },
     "execution_count": 20,
     "metadata": {},
     "output_type": "execute_result"
    }
   ],
   "source": [
    "eat.key()"
   ]
  },
  {
   "cell_type": "code",
   "execution_count": 21,
   "metadata": {},
   "outputs": [
    {
     "data": {
      "text/plain": [
       "4"
      ]
     },
     "execution_count": 21,
     "metadata": {},
     "output_type": "execute_result"
    }
   ],
   "source": [
    "eat.count()"
   ]
  },
  {
   "cell_type": "markdown",
   "metadata": {},
   "source": [
    "retrieve `Lemma` object from `Lemma` key:"
   ]
  },
  {
   "cell_type": "code",
   "execution_count": 22,
   "metadata": {},
   "outputs": [
    {
     "data": {
      "text/plain": [
       "Lemma('feed.v.06.eat')"
      ]
     },
     "execution_count": 22,
     "metadata": {},
     "output_type": "execute_result"
    }
   ],
   "source": [
    "wn.lemma_from_key('eat%2:34:02::')"
   ]
  },
  {
   "cell_type": "markdown",
   "metadata": {},
   "source": [
    "convert `Lemma` object to `Synset` object"
   ]
  },
  {
   "cell_type": "code",
   "execution_count": 23,
   "metadata": {},
   "outputs": [
    {
     "data": {
      "text/plain": [
       "Synset('feed.v.06')"
      ]
     },
     "execution_count": 23,
     "metadata": {},
     "output_type": "execute_result"
    }
   ],
   "source": [
    "wn.lemma_from_key(eat.key()).synset()"
   ]
  },
  {
   "cell_type": "markdown",
   "metadata": {},
   "source": [
    "## Verb Frames"
   ]
  },
  {
   "cell_type": "markdown",
   "metadata": {},
   "source": [
    "Get verb frames id: `Synset.frame_ids()`"
   ]
  },
  {
   "cell_type": "code",
   "execution_count": 24,
   "metadata": {},
   "outputs": [
    {
     "data": {
      "text/plain": [
       "[5, 9]"
      ]
     },
     "execution_count": 24,
     "metadata": {},
     "output_type": "execute_result"
    }
   ],
   "source": [
    "wn.synset('think.v.01').frame_ids()"
   ]
  },
  {
   "cell_type": "markdown",
   "metadata": {},
   "source": [
    "Get usage of a lemma: `Lemma.frame_strings()`"
   ]
  },
  {
   "cell_type": "code",
   "execution_count": 25,
   "metadata": {},
   "outputs": [
    {
     "data": {
      "text/plain": [
       "['Something think something Adjective/Noun', 'Somebody think somebody']"
      ]
     },
     "execution_count": 25,
     "metadata": {},
     "output_type": "execute_result"
    }
   ],
   "source": [
    "a_think_lemma = wn.synset('think.v.01').lemmas()[0]\n",
    "a_think_lemma.frame_strings() "
   ]
  },
  {
   "cell_type": "code",
   "execution_count": 26,
   "metadata": {},
   "outputs": [
    {
     "name": "stdout",
     "output_type": "stream",
     "text": [
      "Lemma('think.v.01.think') [5, 9]\n",
      "Something think something Adjective/Noun | Somebody think somebody\n",
      "Lemma('think.v.01.believe') [5, 9]\n",
      "Something believe something Adjective/Noun | Somebody believe somebody\n",
      "Lemma('think.v.01.consider') [5, 9]\n",
      "Something consider something Adjective/Noun | Somebody consider somebody\n",
      "Lemma('think.v.01.conceive') [5, 9]\n",
      "Something conceive something Adjective/Noun | Somebody conceive somebody\n"
     ]
    }
   ],
   "source": [
    "for lemma in wn.synset('think.v.01').lemmas():\n",
    "    print(lemma, lemma.frame_ids())\n",
    "    print(\" | \".join(lemma.frame_strings()))"
   ]
  },
  {
   "cell_type": "markdown",
   "metadata": {},
   "source": [
    "# Similarity\n",
    "两词抵达**相同上义词**的**最短路径**来评估相似度  \n",
    "`synset1.path_similarity(synset2)`:  \n",
    "Return a **score** denoting how similar two word senses are, based on **the shortest path** that connects the senses in the is-a (hypernym/hypnoym) taxonomy.\n",
    "\n",
    "This score is in the range 0~1"
   ]
  },
  {
   "cell_type": "code",
   "execution_count": 27,
   "metadata": {},
   "outputs": [
    {
     "data": {
      "text/plain": [
       "0.2"
      ]
     },
     "execution_count": 27,
     "metadata": {},
     "output_type": "execute_result"
    }
   ],
   "source": [
    "dog.path_similarity(cat)"
   ]
  },
  {
   "cell_type": "markdown",
   "metadata": {},
   "source": [
    "### 1. Leacock-Chodorow Similarity \n",
    "两词**词义**相连的<font color='red'>**最短路径**</font>，以及在词义树中的<font color='red'>**最大深度**</font>来评估相似度 \n",
    "`synset1.lch_similarity(synset2)`:   \n",
    "Return a **score** denoting how similar two word **senses** are, based on **the shortest path (p)** that connects the senses (as above) and **the maximum depth (d)** of the taxonomy in which the senses occur. \n",
    "\n",
    "The relationship is given as **-log(p/2d)**:  "
   ]
  },
  {
   "cell_type": "code",
   "execution_count": 28,
   "metadata": {},
   "outputs": [
    {
     "data": {
      "text/plain": [
       "2.0281482472922856"
      ]
     },
     "execution_count": 28,
     "metadata": {},
     "output_type": "execute_result"
    }
   ],
   "source": [
    "dog.lch_similarity(cat)"
   ]
  },
  {
   "cell_type": "code",
   "execution_count": 29,
   "metadata": {},
   "outputs": [
    {
     "data": {
      "text/plain": [
       "2.0281482472922856"
      ]
     },
     "execution_count": 29,
     "metadata": {},
     "output_type": "execute_result"
    }
   ],
   "source": [
    "wn.lch_similarity(dog,cat)"
   ]
  },
  {
   "cell_type": "markdown",
   "metadata": {},
   "source": [
    "### 2. Wu-Palmer Similarity\n",
    "利用<font color='red'>**最少相同词源**</font>来判断相似度，这是根据两词在词义树中抵达相同词源的<font color='red'>**最大深度**</font>（而不是两词间最短距离），也就是说，两词的中抵达相同词源的最长路径（longest path to the root node）将会用来计算相似度。  \n",
    "`synset1.wup_similarity(synset2)`:  \n",
    "Return a **score** denoting how similar two word senses are, based on **the depth** of the two senses in the taxonomy and that of their **Least Common Subsumer (LCS)(most specific ancestor node)**.  \n",
    "\\> Note that at this time the scores given **DO NOT ALWAYS** agree with those given by Pedersen's Perl implementation of **Wordnet Similarity**."
   ]
  },
  {
   "cell_type": "code",
   "execution_count": 30,
   "metadata": {},
   "outputs": [
    {
     "data": {
      "text/plain": [
       "0.8571428571428571"
      ]
     },
     "execution_count": 30,
     "metadata": {},
     "output_type": "execute_result"
    }
   ],
   "source": [
    "dog.wup_similarity(cat)"
   ]
  },
  {
   "cell_type": "code",
   "execution_count": 31,
   "metadata": {},
   "outputs": [
    {
     "data": {
      "text/plain": [
       "0.8571428571428571"
      ]
     },
     "execution_count": 31,
     "metadata": {},
     "output_type": "execute_result"
    }
   ],
   "source": [
    "wn.wup_similarity(dog,cat)"
   ]
  },
  {
   "cell_type": "markdown",
   "metadata": {},
   "source": [
    "## `wordnet_ic` Information Content?\n",
    "```python\n",
    "from nltk.corpus import wordnet_ic\n",
    "wordnet_ic.ic()\n",
    "```"
   ]
  },
  {
   "cell_type": "code",
   "execution_count": 37,
   "metadata": {},
   "outputs": [],
   "source": [
    "from nltk.corpus import wordnet_ic\n",
    "from nltk.corpus import genesis\n",
    "\n",
    "brown_ic = wordnet_ic.ic('ic-brown.dat')\n",
    "semcor_ic = wordnet_ic.ic('ic-semcor.dat')\n",
    "genesis_ic = wn.ic(genesis, False, 0.0)"
   ]
  },
  {
   "cell_type": "markdown",
   "metadata": {},
   "source": [
    "### 3.  Jiang-Conrath  Similarity\n",
    "`synset1.jcn_similarity(synset2, ic)`: \n",
    "Return a **score** denoting how similar two word senses are, based on **the Information Content (IC)** of the Least Common Subsumer (LCS) and that of the two input Synsets. The relationship is given by the equation:\n",
    "$$\\cfrac{1}{(IC(s1) + IC(s2) - 2 \\times IC(lcs))}$$"
   ]
  },
  {
   "cell_type": "code",
   "execution_count": 38,
   "metadata": {},
   "outputs": [
    {
     "data": {
      "text/plain": [
       "7.911666509036577"
      ]
     },
     "execution_count": 38,
     "metadata": {},
     "output_type": "execute_result"
    }
   ],
   "source": [
    "dog.res_similarity(cat, brown_ic)"
   ]
  },
  {
   "cell_type": "code",
   "execution_count": 39,
   "metadata": {},
   "outputs": [
    {
     "data": {
      "text/plain": [
       "7.204023991374837"
      ]
     },
     "execution_count": 39,
     "metadata": {},
     "output_type": "execute_result"
    }
   ],
   "source": [
    "dog.res_similarity(cat, genesis_ic)"
   ]
  },
  {
   "cell_type": "markdown",
   "metadata": {},
   "source": [
    "### 4. Lin Similarity\n",
    "`synset1.lin_similarity(synset2, ic)`:  \n",
    "Return a score denoting how similar two word senses are, based on the Information Content (IC) of the Least Common Subsumer (most specific ancestor node) and that of the two input Synsets. The relationship is given by the equation:\n",
    "$$\\cfrac {2 \\times IC(lcs)}{(IC(s1) + IC(s2))}$$"
   ]
  },
  {
   "cell_type": "code",
   "execution_count": 40,
   "metadata": {},
   "outputs": [
    {
     "data": {
      "text/plain": [
       "0.8863288628086228"
      ]
     },
     "execution_count": 40,
     "metadata": {},
     "output_type": "execute_result"
    }
   ],
   "source": [
    "dog.lin_similarity(cat, semcor_ic)"
   ]
  },
  {
   "cell_type": "code",
   "execution_count": null,
   "metadata": {},
   "outputs": [],
   "source": []
  }
 ],
 "metadata": {
  "kernelspec": {
   "display_name": "Python 3",
   "language": "python",
   "name": "python3"
  },
  "language_info": {
   "codemirror_mode": {
    "name": "ipython",
    "version": 3
   },
   "file_extension": ".py",
   "mimetype": "text/x-python",
   "name": "python",
   "nbconvert_exporter": "python",
   "pygments_lexer": "ipython3",
   "version": "3.6.4"
  }
 },
 "nbformat": 4,
 "nbformat_minor": 2
}
