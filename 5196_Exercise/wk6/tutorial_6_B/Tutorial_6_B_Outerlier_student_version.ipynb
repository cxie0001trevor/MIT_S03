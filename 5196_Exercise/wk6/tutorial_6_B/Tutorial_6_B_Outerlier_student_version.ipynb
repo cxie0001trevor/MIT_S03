{
 "cells": [
  {
   "cell_type": "markdown",
   "metadata": {
    "collapsed": true
   },
   "source": [
    "# Simple Outlier Detection Method\n",
    "\n",
    "\n",
    "In this activity, we apply different methods to detect outliers in data. \n",
    "\n",
    "We use the same example of Titanic passengers dataset. "
   ]
  },
  {
   "cell_type": "code",
   "execution_count": null,
   "metadata": {
    "collapsed": false
   },
   "outputs": [],
   "source": [
    "import pandas as pd\n",
    "import numpy as np\n",
    "\n",
    "df1 = pd.read_csv('titanic passenger list.csv') \n",
    "# Reading the dataset into a dataframe using Pandas\n",
    "df1.head()"
   ]
  },
  {
   "cell_type": "markdown",
   "metadata": {},
   "source": [
    "## Task 1 use boxpot to investigate outliers\n",
    "\n",
    "In this task, please use boxplot (boxes and whiskers plot) from matplotlib to investigate possible data outliers."
   ]
  },
  {
   "cell_type": "code",
   "execution_count": null,
   "metadata": {
    "collapsed": true
   },
   "outputs": [],
   "source": [
    "# We can boxplot an entire DataFrame, quick & nasty, ignores non-numeric data too\n",
    "import matplotlib.pyplot as plt\n",
    "%matplotlib inline"
   ]
  },
  {
   "cell_type": "code",
   "execution_count": null,
   "metadata": {
    "collapsed": false
   },
   "outputs": [],
   "source": []
  },
  {
   "cell_type": "markdown",
   "metadata": {
    "collapsed": true
   },
   "source": [
    "### Boxplots\n",
    "\n",
    "The first thing to notice is that 'fare' has many outliers.\n",
    "\n",
    "However, plotting all data together might not be right because of teh different ranges of attributes. Therefore, we look at one attribute at a time instead. "
   ]
  },
  {
   "cell_type": "markdown",
   "metadata": {},
   "source": [
    "## Task 2 investigate outliers for \"fare\"\n",
    "\n",
    "It seems that there are many extreme values for \"fare\". In this task, you are going to use the Pandas' <a href=\"http://pandas.pydata.org/pandas-docs/stable/generated/pandas.DataFrame.boxplot.html\">boxplot</a> function."
   ]
  },
  {
   "cell_type": "code",
   "execution_count": null,
   "metadata": {
    "collapsed": false
   },
   "outputs": [],
   "source": []
  },
  {
   "cell_type": "markdown",
   "metadata": {},
   "source": [
    "Now, we can have a close look at the extreme values (those greater than 400) with the <a href=\"http://pandas.pydata.org/pandas-docs/stable/indexing.html#boolean-indexing\">boolean indexing</a> in Pandas:"
   ]
  },
  {
   "cell_type": "code",
   "execution_count": null,
   "metadata": {
    "collapsed": false,
    "scrolled": false
   },
   "outputs": [],
   "source": [
    "df1[df1.fare > 400]"
   ]
  },
  {
   "cell_type": "markdown",
   "metadata": {},
   "source": [
    "Fare of 512.3292 looks very high compared to other, that's a weird value too, did they split the cost?\n",
    "or was it just the one ticket?"
   ]
  },
  {
   "cell_type": "code",
   "execution_count": null,
   "metadata": {
    "collapsed": false
   },
   "outputs": [],
   "source": [
    "512.3292 * 4"
   ]
  },
  {
   "cell_type": "markdown",
   "metadata": {
    "collapsed": true
   },
   "source": [
    "\n",
    "It is still a weird value, what's 0.3292 or 0.3168 of a pound? Neither make sense in old currency (pounds, shillings and pence) e.g. £512.32s.92d because...\n",
    "\n",
    "There were twenty (20) shillings per pound and the shilling was divided into twelve (12) pennies.(so 32s = £1.12s and 92 pennies is... carry the 4... heaps)\n",
    "Maybe someone converted to dollars?? Adjusted for inflation?\n",
    "Hard to say if these are 'bad' outliers, class is 1st, they have 4 cabins, maybe they're just big spenders in a reasonable trawl of the internet most posts just ignore this e.g. \"There were 4 people who paid the most expensive ticket that cost £512.3292\"\n",
    "\n",
    "Mrs James Warburton Martinez Cardeza (Charlotte Wardle Drake), 58, from Germantown, PA, \n",
    "boarded the Titanic at Cherbourg with her son Thomas and her maid Anna Ward. \n",
    "They occupied suite B-51/53/55 (ticket number17755, £512, 6s).\n",
    "http://www.encyclopedia-titanica.org/titanic-survivor/charlotte-cardeza.html\n",
    "\"with his mother Charlotte Cardeza and his manservant Gustave Lesueur\"\n",
    "    \n",
    "Anna: \"She worked as personal maid and companion to Mrs Charlotte Cardeza.\" "
   ]
  },
  {
   "cell_type": "code",
   "execution_count": null,
   "metadata": {
    "collapsed": true
   },
   "outputs": [],
   "source": [
    "# so how do you get 512.3292 from £512, 6s\n",
    "# 6shillings is ~1/3 pound?\n",
    "# 6/20 is 0.3 so that may explain the 0.3292..\n",
    "def poundit(p,s,d):\n",
    "    return p + (d / 12.0 + s) / 20\n",
    "# force the 12.0 not the 20!\n",
    "# There were 20 shillings per pound and the shilling was divided into 12 pennies."
   ]
  },
  {
   "cell_type": "code",
   "execution_count": null,
   "metadata": {
    "collapsed": false
   },
   "outputs": [],
   "source": [
    "poundit(512,6,0) # £512, 6s"
   ]
  },
  {
   "cell_type": "markdown",
   "metadata": {},
   "source": [
    "So 512.3 is a real value.\n",
    "\n",
    "### Discussion:\n",
    "* Is there any problem with this value?\n",
    "* Should we treat it as an outlier?\n",
    "\n",
    "### Let's investigate outliers by each class."
   ]
  },
  {
   "cell_type": "code",
   "execution_count": null,
   "metadata": {
    "collapsed": false
   },
   "outputs": [],
   "source": [
    "# plot by class\n"
   ]
  },
  {
   "cell_type": "markdown",
   "metadata": {
    "collapsed": false
   },
   "source": [
    "### Discussion:\n",
    "* Are the number of outliers reported reduced? \n",
    "* Are there other factors that are impacting on the outliers ? \n"
   ]
  },
  {
   "cell_type": "code",
   "execution_count": null,
   "metadata": {
    "collapsed": true
   },
   "outputs": [],
   "source": []
  }
 ],
 "metadata": {
  "anaconda-cloud": {},
  "kernelspec": {
   "display_name": "Python [default]",
   "language": "python",
   "name": "python2"
  },
  "language_info": {
   "codemirror_mode": {
    "name": "ipython",
    "version": 2
   },
   "file_extension": ".py",
   "mimetype": "text/x-python",
   "name": "python",
   "nbconvert_exporter": "python",
   "pygments_lexer": "ipython2",
   "version": "2.7.13"
  },
  "name": "4.4 Outliers.ipynb"
 },
 "nbformat": 4,
 "nbformat_minor": 0
}
