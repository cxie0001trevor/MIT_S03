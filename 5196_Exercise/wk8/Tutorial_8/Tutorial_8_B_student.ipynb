{
 "cells": [
  {
   "cell_type": "markdown",
   "metadata": {},
   "source": [
    "# Data Integration with Household heating data\n"
   ]
  },
  {
   "cell_type": "markdown",
   "metadata": {},
   "source": [
    "##  1. Case study: visualizing Household heating data on the map"
   ]
  },
  {
   "cell_type": "markdown",
   "metadata": {},
   "source": [
    "Our aim in this tutorial is to visualize the household heating data for each state in USA on a map. We will discuss how to integrate between three different data sources: \n",
    "* a basic map of USA (S1), \n",
    "* shapefiles of States (S2), \n",
    "* and hourse heating data for those regions (S3). \n",
    "\n",
    "S3 presents household heating by congressional district. Now, our task is to merge the three data set together and generate a map. \n"
   ]
  },
  {
   "cell_type": "markdown",
   "metadata": {},
   "source": [
    "We start first with setting up the environment. \n",
    "\n",
    "If you use your own laptop in the tutorial, you will need to install the following Python libraries\n",
    "* basemap: conda install basemap\n",
    "* shapefile: pip install pyshp\n",
    "\n",
    "In general, there are a couple of simple options for plotting data on maps, i.e., using latitude and longitude. However, if you want to plot on a country you may have to go for the middle or find an actual location\n",
    "(e.g. Austin, Texas, USA rather than just USA). There's also a nice example here:\n",
    "http://introtopython.org/visualization_earthquakes.html. Instead of using the coordinate values, we can use\n",
    "shapefiles that often come as a set, the minimum is .dbf, shp & .shx\n",
    "\n",
    "## 2. Examples on the map plotting\n",
    "\n",
    "### 2.1 The use of Basemap\n",
    "\n",
    "The materials in this section are partially based on those from http://vizclass.csc.ncsu.edu/2011/09/tutorial-geographic-data-on-map-with.html."
   ]
  },
  {
   "cell_type": "code",
   "execution_count": null,
   "metadata": {
    "collapsed": true
   },
   "outputs": [],
   "source": [
    "from mpl_toolkits.basemap import Basemap \n",
    "import matplotlib.pyplot as plt \n",
    "import numpy as np  \n",
    "%matplotlib inline"
   ]
  },
  {
   "cell_type": "markdown",
   "metadata": {},
   "source": [
    "Let's start with a world map by drawing the countries and the coasts. "
   ]
  },
  {
   "cell_type": "code",
   "execution_count": null,
   "metadata": {
    "collapsed": false
   },
   "outputs": [],
   "source": [
    "# lon_0 is central longitude of robinson projection. \n",
    "# resolution = 'c' means use crude resolution coastlines. \n",
    "m = Basemap(projection = 'robin', lon_0 = 0, resolution = 'c') \n",
    "# draw coastlines, country boundaries, fill continents. \n",
    "m.drawcoastlines(color = '#6D5F47', linewidth = .4) \n",
    "m.drawcountries(color = '#6D5F47', linewidth = .4)"
   ]
  },
  {
   "cell_type": "markdown",
   "metadata": {},
   "source": [
    "Now, we can further add some color to the map. For example, we can change the background color to light blue so that it indicates the ocean. "
   ]
  },
  {
   "cell_type": "code",
   "execution_count": null,
   "metadata": {
    "collapsed": false
   },
   "outputs": [],
   "source": [
    "# set a background colour = water\n",
    "# m.drawmapboundary(fill_color='#85A6D9') # using codes or just names:\n",
    "m.drawmapboundary(fill_color='lightblue')\n",
    "# draw coastlines, country boundaries, fill continents. \n",
    "m.fillcontinents(color = 'white', lake_color = '#85A6D9') \n",
    "m.drawcoastlines(color = '#6D5F47', linewidth = .4) \n",
    "m.drawcountries(color = '#6D5F47', linewidth = .4)"
   ]
  },
  {
   "cell_type": "markdown",
   "metadata": {},
   "source": [
    "We can also draws the lines of longitude and latitude. "
   ]
  },
  {
   "cell_type": "code",
   "execution_count": null,
   "metadata": {
    "collapsed": false
   },
   "outputs": [],
   "source": [
    "# draw lat/lon grid lines every 30 degrees. \n",
    "m.drawmeridians(np.arange(-180, 180, 30), color='#bbbbbb') \n",
    "m.drawparallels(np.arange(-90, 90, 30), color='#bbbbbb')\n",
    "m.fillcontinents(color = 'white', lake_color = '#85A6D9') \n",
    "m.drawcoastlines(color = '#6D5F47', linewidth = .4) \n",
    "m.drawcountries(color = '#6D5F47', linewidth = .4)"
   ]
  },
  {
   "cell_type": "markdown",
   "metadata": {},
   "source": [
    "Now, assume that we are going to draw a map showing the population information of the cities that are given by their coordinates as follows.\n",
    "```python\n",
    "lats = [35.69,37.569,19.433,40.809,18.975,-6.175,-23.55,28.61,34.694,31.2] \n",
    "lngs = [139.692,126.977,-99.133,-74.02,72.825,106.828,-46.633,77.23,135.502,121.5] \n",
    "populations = [32.45,20.55,20.45,19.75,19.2,18.9,18.85,18.6,17.375,16.65] #millions\n",
    "```\n",
    "\n",
    "The size of the circle is proportional to the population. If the population is less than 19 million, we will use color blue. There are two ways to do this task. One is as follows:"
   ]
  },
  {
   "cell_type": "code",
   "execution_count": null,
   "metadata": {
    "collapsed": false
   },
   "outputs": [],
   "source": [
    "def get_marker_color(population):\n",
    "    if population < 19:\n",
    "        return ('bo')\n",
    "    else:\n",
    "        return ('ro')\n",
    "\n",
    "plt.figure(figsize = (12,6)) # make it bigger first\n",
    "\n",
    "m = Basemap(projection = 'robin', lon_0 = 0, resolution = 'c') \n",
    "#set a background colour \n",
    "m.drawmapboundary(fill_color = '#85A6D9')\n",
    "m.fillcontinents(color = 'white', lake_color = '#85A6D9') \n",
    "m.drawcoastlines(color = '#6D5F47', linewidth = .4) \n",
    "m.drawcountries(color = '#6D5F47', linewidth = .4)\n",
    "m.drawmeridians(np.arange(-180, 180, 30), color = '#bbbbbb') \n",
    "m.drawparallels(np.arange(-90, 90, 30), color = '#bbbbbb')\n",
    "lats = [35.69,37.569,19.433,40.809,18.975,-6.175,-23.55,28.61,34.694,31.2] \n",
    "lngs = [139.692,126.977,-99.133,-74.02,72.825,106.828,-46.633,77.23,135.502,121.5] \n",
    "populations = [32.45,20.55,20.45,19.75,19.2,18.9,18.85,18.6,17.375,16.65] #millions\n",
    "\n",
    "for lng, lat, s in zip(lngs, lats, populations):\n",
    "    x,y = m(lng, lat)\n",
    "    colour = get_marker_color(s)\n",
    "    m.plot(x, y, colour, markersize= s, alpha = 0.25 )\n",
    " \n",
    "plt.show()"
   ]
  },
  {
   "cell_type": "markdown",
   "metadata": {},
   "source": [
    "The alternative is to use the scatter() function in Basemap: "
   ]
  },
  {
   "cell_type": "code",
   "execution_count": null,
   "metadata": {
    "collapsed": false
   },
   "outputs": [],
   "source": [
    "plt.figure(figsize = (12,6)) # make it bigger first\n",
    "import pandas as pd\n",
    "##write your code bellow:\n",
    "\n",
    "####\n",
    "plt.title('Big Cities (Population)') \n",
    "plt.show()"
   ]
  },
  {
   "cell_type": "markdown",
   "metadata": {},
   "source": [
    "### 2.2 The use of Shapefiles\n",
    "Based on http://stackoverflow.com/questions/15968762/shapefile-and-matplotlib-plot-polygon-collection-of-shapefile-coordinates"
   ]
  },
  {
   "cell_type": "code",
   "execution_count": null,
   "metadata": {
    "collapsed": true
   },
   "outputs": [],
   "source": [
    "import numpy\n",
    "import matplotlib \n",
    "%matplotlib inline\n",
    "import shapefile\n",
    "import matplotlib.pyplot as plt\n",
    "import matplotlib.patches as patches\n",
    "from matplotlib.patches import Polygon\n",
    "from matplotlib.collections import PatchCollection"
   ]
  },
  {
   "cell_type": "markdown",
   "metadata": {},
   "source": [
    "The Shapefile format is a popular Geographic Information System vector data format created by Esri. For more information about this format please read the well-written “ESRI Shapefile Technical Description - July 1998” located at http://www.esri.com/library/whitepapers/pdfs/shapefile.pdf.Essentially, Shapefiles encode points, lines, curves, and polygons. This is useful for mapping applications where you need to represent county lines, major highways, lakes, etc. "
   ]
  },
  {
   "cell_type": "code",
   "execution_count": null,
   "metadata": {
    "collapsed": false
   },
   "outputs": [],
   "source": [
    "sf = shapefile.Reader(\"world_countries_boundary_file_world_2002\") # note, no suffix, all 3 files are used\n",
    "recs = sf.records()\n",
    "shapes = sf.shapes()\n",
    "recs"
   ]
  },
  {
   "cell_type": "markdown",
   "metadata": {},
   "source": [
    "This is a list of the country name & country code (ISO) in two different formats, in alphabetical order. Then, how many records (countries) are there?"
   ]
  },
  {
   "cell_type": "code",
   "execution_count": null,
   "metadata": {
    "collapsed": false
   },
   "outputs": [],
   "source": [
    "len(recs), len(shapes)"
   ]
  },
  {
   "cell_type": "markdown",
   "metadata": {},
   "source": [
    "Now, we are going to draw the world map, where each country is highlighted with a different color, and we would like to have USA marked as black and AUS as pink."
   ]
  },
  {
   "cell_type": "code",
   "execution_count": null,
   "metadata": {
    "collapsed": false
   },
   "outputs": [],
   "source": [
    "cm = matplotlib.cm.get_cmap('Dark2')\n",
    "\n",
    "Nshp = len(shapes)\n",
    "cccol = cm(1.*numpy.arange(Nshp)/Nshp) # one colour for every contry...\n",
    "# plot\n",
    "fig = plt.figure(figsize = (12,6))\n",
    "ax = fig.add_subplot(111)\n",
    "\n",
    "#Plot each country\n",
    "for nshp in xrange(Nshp):\n",
    "    ptchs   = []\n",
    "    pts     = numpy.array(shapes[nshp].points)\n",
    "    prt     = shapes[nshp].parts\n",
    "    par     = list(prt) + [pts.shape[0]]\n",
    "        \n",
    "    for pij in xrange(len(prt)):\n",
    "         ptchs.append(Polygon(pts[par[pij]:par[pij+1]]))\n",
    "    ax.add_collection(PatchCollection(ptchs,facecolor=cccol[nshp,:],edgecolor='k', linewidths=.1))\n",
    "    # hack the colour for specific countries, actually alphabetical, need to know ISO code\n",
    "    if recs[nshp][1] == \"USA\":\n",
    "         ax.add_collection(PatchCollection(ptchs,facecolor=[0,0,0,1],edgecolor='k', linewidths=.1))  # black\n",
    "    if recs[nshp][1] == \"AUS\":\n",
    "         ax.add_collection(PatchCollection(ptchs,facecolor = \"pink\",edgecolor='k', linewidths=.1))  # pink\n",
    "ax.set_xlim(-180,+180)\n",
    "ax.set_ylim(-90,90)\n",
    "\n",
    "plt.show()"
   ]
  },
  {
   "cell_type": "markdown",
   "metadata": {},
   "source": [
    "## 3. Visualizing the house heating data\n",
    "There are three shape files provided. Let's have a look on one of them!"
   ]
  },
  {
   "cell_type": "code",
   "execution_count": null,
   "metadata": {
    "collapsed": false
   },
   "outputs": [],
   "source": [
    "# You can look at the shapefile data, just display the contents as is, at the moment \n",
    "# !cat 'gz_2010_us_040_00_500k.dbf' \n",
    "inFile = open('gz_2010_us_040_00_500k_1.dbf' , 'r')\n",
    "#Use the following line if you use Python 2\n",
    "#inFile = open('./Tutorial_8/gz_2010_us_040_00_500k.dbf' , 'r')\n",
    "data = inFile.readlines()\n",
    "inFile.close()\n",
    "data"
   ]
  },
  {
   "cell_type": "markdown",
   "metadata": {},
   "source": [
    "### 3.1 Explore Household heating data as follows:"
   ]
  },
  {
   "cell_type": "code",
   "execution_count": null,
   "metadata": {
    "collapsed": false
   },
   "outputs": [],
   "source": [
    "import pandas as pd\n",
    "import numpy as np\n",
    "df = pd.read_csv('Household heating by Congressional District - 2008.csv')\n",
    "df.head()"
   ]
  },
  {
   "cell_type": "markdown",
   "metadata": {},
   "source": [
    "** Schema Conflict: Different level of aggregation: **\n",
    "\n",
    "* The shappefiles (S2) are categorised by state, whereas S3 is represented by district. Therefore, we will need schema matching to integrate between both."
   ]
  },
  {
   "cell_type": "markdown",
   "metadata": {},
   "source": [
    "* Also that the Congressional District attribute contains the following values:\n",
    "    * Alabama 1\n",
    "    * Alabama 2\n",
    "etc.\n",
    "\n",
    "\n",
    "However, we want 'state' names instead of 'district' to be able to visualise data for each state on map. Thus, we can do the following:\n",
    "\n",
    "* Change the shape files so the regions match the data. \n",
    "\n",
    "* Find files that already match (e.g. Google Fusion Tables)\n",
    "\n",
    "* Change the data to match the shape regions"
   ]
  },
  {
   "cell_type": "markdown",
   "metadata": {},
   "source": [
    "### 3.2 Take the original Household heating data ('Household heating by Congressional District - 2008.csv') and wrangle the data into a state format. \n",
    "\n",
    "Create your own CSV file contains state information. You should have a dataset that looks something like this:\n"
   ]
  },
  {
   "cell_type": "markdown",
   "metadata": {},
   "source": [
    "<img src=\"States.png\">\n",
    "\n",
    "\n",
    "Now, load your new CSV file and generate the dataframe as shown above\n"
   ]
  },
  {
   "cell_type": "code",
   "execution_count": null,
   "metadata": {
    "collapsed": false
   },
   "outputs": [],
   "source": [
    "# Write your code here"
   ]
  },
  {
   "cell_type": "markdown",
   "metadata": {},
   "source": [
    "### 3.3  Plot the avergae\"Housing Units That Are Mobile Homes\" for each state. \n",
    "\n",
    "####  List the average value for each state. We will use the average values to generate the color codes"
   ]
  },
  {
   "cell_type": "code",
   "execution_count": null,
   "metadata": {
    "collapsed": false
   },
   "outputs": [],
   "source": [
    "state = df.groupby('States')\n",
    "statedf = state.aggregate(np.average)\n",
    "avergeValue = dict(statedf['% Housing Units That Are Mobile Homes'])\n",
    "avergeValue"
   ]
  },
  {
   "cell_type": "markdown",
   "metadata": {},
   "source": [
    "### Now load the map "
   ]
  },
  {
   "cell_type": "code",
   "execution_count": null,
   "metadata": {
    "collapsed": false
   },
   "outputs": [],
   "source": [
    "from mpl_toolkits.basemap import Basemap\n",
    "\n",
    "import warnings\n",
    "warnings.filterwarnings('ignore')\n",
    "\n",
    "from matplotlib.collections import LineCollection\n",
    "from matplotlib.colors import rgb2hex\n",
    "\n",
    "# Lambert Conformal map of lower 48 states.\n",
    "m = Basemap(llcrnrlon=-119,llcrnrlat=22,\n",
    "            urcrnrlon=-64, urcrnrlat=49,\n",
    "            projection='lcc', lat_1=33,lat_2=45,lon_0=-95)\n",
    "\n",
    "m.drawcoastlines(linewidth=0.25)\n",
    "m.drawcountries(linewidth=0.25)\n",
    "m.fillcontinents(color='green',lake_color='aqua')\n",
    "# draw the edge of the map projection region (the projection limb)\n",
    "m.drawmapboundary(fill_color='aqua')\n",
    "# draw lat/lon grid lines every 30 degrees.\n",
    "m.drawmeridians(np.arange(0,360,30))\n",
    "m.drawparallels(np.arange(-90,90,30))\n",
    "plt.show()"
   ]
  },
  {
   "cell_type": "markdown",
   "metadata": {
    "collapsed": false
   },
   "source": [
    "#### How many states in your data (S3)? Does the number of states match with shapefiles (S2)?\n",
    "\n",
    "Is there something we need to fix before we plot information? Here, we need find a list of state names that appear both in S3 and S2."
   ]
  },
  {
   "cell_type": "code",
   "execution_count": null,
   "metadata": {
    "collapsed": false
   },
   "outputs": [],
   "source": [
    "shp_info = m.readshapefile('gz_2010_us_040_00_500k','states',drawbounds=False)\n",
    "statenames=[]\n",
    "### Wrtie you code here\n",
    "\n",
    "####\n",
    "np.unique(statenames)"
   ]
  },
  {
   "cell_type": "markdown",
   "metadata": {},
   "source": [
    "However, number of states does not match (should be 50 not 52)?\n",
    "\n",
    "'District of Columbia' is listed as a state while it is not. \n",
    "\n",
    "and 'Puerto Rico'?? (some sort of dependency)\n",
    "\n",
    "(not on the map anyway, neither is Alaska but Python can handle it)"
   ]
  },
  {
   "cell_type": "markdown",
   "metadata": {},
   "source": [
    "#### Assign color for each range: Using color map \n",
    "We can now cycle through states, color each one.\n",
    "Use the cmap() function from \"plt.cm.BrBG\" to generate color for each state with the following function\n",
    "$\\frac{avergeValue[s]-vmin}{vmax-vmin}$"
   ]
  },
  {
   "cell_type": "code",
   "execution_count": null,
   "metadata": {
    "collapsed": false
   },
   "outputs": [],
   "source": [
    "import matplotlib.pyplot as plt\n",
    "colors={}\n",
    "vmin = 0; vmax = 20 # set range.\n",
    "cmap = plt.cm.BrBG\n",
    "for s in statenames:\n",
    "    ## Write you code below\n",
    "\n",
    "    ######\n",
    "colors"
   ]
  },
  {
   "cell_type": "markdown",
   "metadata": {},
   "source": [
    "#### Draw color map and set figure options:"
   ]
  },
  {
   "cell_type": "code",
   "execution_count": null,
   "metadata": {
    "collapsed": false
   },
   "outputs": [],
   "source": [
    "plt.figure(figsize=(20,10))\n",
    "for nshape,seg in enumerate(m.states):\n",
    "    xx,yy = zip(*seg)\n",
    "    if statenames[nshape] != 'District of Columbia' and \\\n",
    "        statenames[nshape] != \"Puerto Rico\":\n",
    "        color = rgb2hex(colors[statenames[nshape]]) \n",
    "        plt.fill(xx,yy,color,edgecolor=color)\n",
    "\n",
    "# draw meridians and parallels.\n",
    "m.drawparallels(np.arange(25,65,20), labels=[0,0,0,0], zorder=-1,color=\"w\")\n",
    "m.drawmeridians(np.arange(-120,-40,20), labels=[0,0,0,0], zorder=-1,color=\"w\")\n",
    "\n",
    "# set up colorbar:\n",
    "mm = plt.cm.ScalarMappable(cmap=cmap)\n",
    "mm.set_array([0,20]) # Replace this with Min and Max values in your data\n",
    "plt.colorbar(mm, label=\"Mobile homes\",\n",
    "             ticks=[0,5,10,15,20],# Replace this with your ranges \n",
    "             orientation=\"horizontal\", fraction=0.05,\n",
    "            )\n",
    "\n",
    "plt.title('Filling State Polygons by Population Density')\n",
    "plt.gca().axis(\"off\")\n",
    "\n",
    "plt.show()"
   ]
  },
  {
   "cell_type": "markdown",
   "metadata": {
    "collapsed": true
   },
   "source": [
    "We can see the lighter colours indicate density of mobile homes, looks like they're popular in the South & South East, \n",
    " not so much in the North East (too cold?)"
   ]
  }
 ],
 "metadata": {
  "anaconda-cloud": {},
  "kernelspec": {
   "display_name": "Python [default]",
   "language": "python",
   "name": "python2"
  },
  "language_info": {
   "codemirror_mode": {
    "name": "ipython",
    "version": 2
   },
   "file_extension": ".py",
   "mimetype": "text/x-python",
   "name": "python",
   "nbconvert_exporter": "python",
   "pygments_lexer": "ipython2",
   "version": "2.7.13"
  },
  "name": "Data Integration.ipynb"
 },
 "nbformat": 4,
 "nbformat_minor": 0
}
