{
 "cells": [
  {
   "cell_type": "markdown",
   "metadata": {},
   "source": [
    "# Data Normalisation and Transformation\n",
    "\n",
    "When one or more datasets affects results disproportionately, normalization or scaling gives a level playing field. In this activity, we will apply different data methods for data normalisation and transformation. We first read the dataset that is used for the first part of the analysis. \n"
   ]
  },
  {
   "cell_type": "code",
   "execution_count": 3,
   "metadata": {},
   "outputs": [
    {
     "data": {
      "text/html": [
       "<div>\n",
       "<style scoped>\n",
       "    .dataframe tbody tr th:only-of-type {\n",
       "        vertical-align: middle;\n",
       "    }\n",
       "\n",
       "    .dataframe tbody tr th {\n",
       "        vertical-align: top;\n",
       "    }\n",
       "\n",
       "    .dataframe thead th {\n",
       "        text-align: right;\n",
       "    }\n",
       "</style>\n",
       "<table border=\"1\" class=\"dataframe\">\n",
       "  <thead>\n",
       "    <tr style=\"text-align: right;\">\n",
       "      <th></th>\n",
       "      <th>Class label</th>\n",
       "      <th>Alcohol</th>\n",
       "      <th>Malic acid</th>\n",
       "    </tr>\n",
       "  </thead>\n",
       "  <tbody>\n",
       "    <tr>\n",
       "      <th>0</th>\n",
       "      <td>1</td>\n",
       "      <td>14.23</td>\n",
       "      <td>1.71</td>\n",
       "    </tr>\n",
       "    <tr>\n",
       "      <th>1</th>\n",
       "      <td>1</td>\n",
       "      <td>13.20</td>\n",
       "      <td>1.78</td>\n",
       "    </tr>\n",
       "    <tr>\n",
       "      <th>2</th>\n",
       "      <td>1</td>\n",
       "      <td>13.16</td>\n",
       "      <td>2.36</td>\n",
       "    </tr>\n",
       "    <tr>\n",
       "      <th>3</th>\n",
       "      <td>1</td>\n",
       "      <td>14.37</td>\n",
       "      <td>1.95</td>\n",
       "    </tr>\n",
       "    <tr>\n",
       "      <th>4</th>\n",
       "      <td>1</td>\n",
       "      <td>13.24</td>\n",
       "      <td>2.59</td>\n",
       "    </tr>\n",
       "  </tbody>\n",
       "</table>\n",
       "</div>"
      ],
      "text/plain": [
       "   Class label  Alcohol  Malic acid\n",
       "0            1    14.23        1.71\n",
       "1            1    13.20        1.78\n",
       "2            1    13.16        2.36\n",
       "3            1    14.37        1.95\n",
       "4            1    13.24        2.59"
      ]
     },
     "execution_count": 3,
     "metadata": {},
     "output_type": "execute_result"
    }
   ],
   "source": [
    "import pandas as pd\n",
    "import numpy as np\n",
    "\n",
    "df = pd.read_csv( 'wine_data.csv', header = None, usecols = [0,1,2])\n",
    "df.columns=['Class label', 'Alcohol', 'Malic acid']\n",
    "df.head()"
   ]
  },
  {
   "cell_type": "code",
   "execution_count": 4,
   "metadata": {},
   "outputs": [
    {
     "data": {
      "text/html": [
       "<div>\n",
       "<style scoped>\n",
       "    .dataframe tbody tr th:only-of-type {\n",
       "        vertical-align: middle;\n",
       "    }\n",
       "\n",
       "    .dataframe tbody tr th {\n",
       "        vertical-align: top;\n",
       "    }\n",
       "\n",
       "    .dataframe thead th {\n",
       "        text-align: right;\n",
       "    }\n",
       "</style>\n",
       "<table border=\"1\" class=\"dataframe\">\n",
       "  <thead>\n",
       "    <tr style=\"text-align: right;\">\n",
       "      <th></th>\n",
       "      <th>Class label</th>\n",
       "      <th>Alcohol</th>\n",
       "      <th>Malic acid</th>\n",
       "    </tr>\n",
       "  </thead>\n",
       "  <tbody>\n",
       "    <tr>\n",
       "      <th>count</th>\n",
       "      <td>178.000000</td>\n",
       "      <td>178.000000</td>\n",
       "      <td>178.000000</td>\n",
       "    </tr>\n",
       "    <tr>\n",
       "      <th>mean</th>\n",
       "      <td>1.938202</td>\n",
       "      <td>13.000618</td>\n",
       "      <td>2.336348</td>\n",
       "    </tr>\n",
       "    <tr>\n",
       "      <th>std</th>\n",
       "      <td>0.775035</td>\n",
       "      <td>0.811827</td>\n",
       "      <td>1.117146</td>\n",
       "    </tr>\n",
       "    <tr>\n",
       "      <th>min</th>\n",
       "      <td>1.000000</td>\n",
       "      <td>11.030000</td>\n",
       "      <td>0.740000</td>\n",
       "    </tr>\n",
       "    <tr>\n",
       "      <th>25%</th>\n",
       "      <td>1.000000</td>\n",
       "      <td>12.362500</td>\n",
       "      <td>1.602500</td>\n",
       "    </tr>\n",
       "    <tr>\n",
       "      <th>50%</th>\n",
       "      <td>2.000000</td>\n",
       "      <td>13.050000</td>\n",
       "      <td>1.865000</td>\n",
       "    </tr>\n",
       "    <tr>\n",
       "      <th>75%</th>\n",
       "      <td>3.000000</td>\n",
       "      <td>13.677500</td>\n",
       "      <td>3.082500</td>\n",
       "    </tr>\n",
       "    <tr>\n",
       "      <th>max</th>\n",
       "      <td>3.000000</td>\n",
       "      <td>14.830000</td>\n",
       "      <td>5.800000</td>\n",
       "    </tr>\n",
       "  </tbody>\n",
       "</table>\n",
       "</div>"
      ],
      "text/plain": [
       "       Class label     Alcohol  Malic acid\n",
       "count   178.000000  178.000000  178.000000\n",
       "mean      1.938202   13.000618    2.336348\n",
       "std       0.775035    0.811827    1.117146\n",
       "min       1.000000   11.030000    0.740000\n",
       "25%       1.000000   12.362500    1.602500\n",
       "50%       2.000000   13.050000    1.865000\n",
       "75%       3.000000   13.677500    3.082500\n",
       "max       3.000000   14.830000    5.800000"
      ]
     },
     "execution_count": 4,
     "metadata": {},
     "output_type": "execute_result"
    }
   ],
   "source": [
    "df.describe()"
   ]
  },
  {
   "cell_type": "markdown",
   "metadata": {},
   "source": [
    "As we can see in the tables above, the features, `Alcohol` (percent/volumne) and `Malic acid` (g/l) are measured on different scales, so scaling is necessary prior to any comparison or combination of data."
   ]
  },
  {
   "cell_type": "code",
   "execution_count": 5,
   "metadata": {},
   "outputs": [
    {
     "data": {
      "text/plain": [
       "5.564503330367661"
      ]
     },
     "execution_count": 5,
     "metadata": {},
     "output_type": "execute_result"
    }
   ],
   "source": [
    "df.Alcohol.mean() / df[\"Malic acid\"].mean() # difference is factor of ~5x"
   ]
  },
  {
   "cell_type": "markdown",
   "metadata": {},
   "source": [
    "## 1. Z-Score Normalisation (standardisation): \n",
    "\n",
    "We use scikit-learn linrary for **Standardization** where mean=0, Std=1. The class you are going to use is the `StandardScaler` - [Check for docs](\"http://scikit-learn.org/stable/modules/generated/sklearn.preprocessing.StandardScaler.html\")  \n",
    "More reading materials can be found [Preprocessing docs](\"http://scikit-learn.org/stable/modules/preprocessing.html\")\n",
    "\n",
    "The task here it to standardise the values of Alcohol and Malic Acid, and append the standard variables to the DataFrame \"df\" as follows\n",
    "\n",
    "<img src=\"fig_1.png\" alt=\"Smiley face\" height=\"400\" width=\"400\">"
   ]
  },
  {
   "cell_type": "code",
   "execution_count": 7,
   "metadata": {},
   "outputs": [
    {
     "data": {
      "text/html": [
       "<div>\n",
       "<style scoped>\n",
       "    .dataframe tbody tr th:only-of-type {\n",
       "        vertical-align: middle;\n",
       "    }\n",
       "\n",
       "    .dataframe tbody tr th {\n",
       "        vertical-align: top;\n",
       "    }\n",
       "\n",
       "    .dataframe thead th {\n",
       "        text-align: right;\n",
       "    }\n",
       "</style>\n",
       "<table border=\"1\" class=\"dataframe\">\n",
       "  <thead>\n",
       "    <tr style=\"text-align: right;\">\n",
       "      <th></th>\n",
       "      <th>Class label</th>\n",
       "      <th>Alcohol</th>\n",
       "      <th>Malic acid</th>\n",
       "    </tr>\n",
       "  </thead>\n",
       "  <tbody>\n",
       "    <tr>\n",
       "      <th>0</th>\n",
       "      <td>1</td>\n",
       "      <td>14.23</td>\n",
       "      <td>1.71</td>\n",
       "    </tr>\n",
       "    <tr>\n",
       "      <th>1</th>\n",
       "      <td>1</td>\n",
       "      <td>13.20</td>\n",
       "      <td>1.78</td>\n",
       "    </tr>\n",
       "    <tr>\n",
       "      <th>2</th>\n",
       "      <td>1</td>\n",
       "      <td>13.16</td>\n",
       "      <td>2.36</td>\n",
       "    </tr>\n",
       "    <tr>\n",
       "      <th>3</th>\n",
       "      <td>1</td>\n",
       "      <td>14.37</td>\n",
       "      <td>1.95</td>\n",
       "    </tr>\n",
       "    <tr>\n",
       "      <th>4</th>\n",
       "      <td>1</td>\n",
       "      <td>13.24</td>\n",
       "      <td>2.59</td>\n",
       "    </tr>\n",
       "  </tbody>\n",
       "</table>\n",
       "</div>"
      ],
      "text/plain": [
       "   Class label  Alcohol  Malic acid\n",
       "0            1    14.23        1.71\n",
       "1            1    13.20        1.78\n",
       "2            1    13.16        2.36\n",
       "3            1    14.37        1.95\n",
       "4            1    13.24        2.59"
      ]
     },
     "execution_count": 7,
     "metadata": {},
     "output_type": "execute_result"
    }
   ],
   "source": [
    "df.head()"
   ]
  },
  {
   "cell_type": "markdown",
   "metadata": {},
   "source": [
    "`sklearn.preprocessing.StandardScaler(copy=True, with_mean=True, with_std=True)`:  \n",
    "> Standardize features by **removing the mean** (mean=0)and **scaling to unit variance** (std=1)  \n",
    "\n",
    "Many machine learning estimators might **behave badly** if the individual feature do not look like **Standard Normally Distributed data**(Gaussian with 0 mean and unit variance)"
   ]
  },
  {
   "cell_type": "markdown",
   "metadata": {},
   "source": [
    "### Methods\n",
    "\n",
    "* `fit(X[, y])`: Compute the mean and std to be used for later scaling.\n",
    "* `transform(X[, y, copy])`: Perform standardization by centering and scaling\n",
    "* `fit_transform(X[, y])`: Fit to data, then transform it.\n",
    "* `get_params([deep])`: Get parameters for this estimator.\n",
    "* `inverse_transform(X[, copy])`: Scale back the data to the original representation\n",
    "* `partial_fit(X[, y])`: Online computation of mean and std on X for later scaling.\n",
    "* `set_params(**params)`: Set the parameters of this estimator."
   ]
  },
  {
   "cell_type": "code",
   "execution_count": 14,
   "metadata": {},
   "outputs": [
    {
     "data": {
      "text/plain": [
       "array([[ 1.51861254, -0.5622498 ],\n",
       "       [ 0.24628963, -0.49941338],\n",
       "       [ 0.19687903,  0.02123125],\n",
       "       [ 1.69154964, -0.34681064],\n",
       "       [ 0.29570023,  0.22769377]])"
      ]
     },
     "execution_count": 14,
     "metadata": {},
     "output_type": "execute_result"
    }
   ],
   "source": [
    "from sklearn import preprocessing\n",
    "\n",
    "std_scale = preprocessing.StandardScaler().fit(df[['Alcohol', 'Malic acid']])\n",
    "df_std = std_scale.transform(df[['Alcohol', 'Malic acid']])\n",
    "df_std[0:5]"
   ]
  },
  {
   "cell_type": "code",
   "execution_count": 15,
   "metadata": {},
   "outputs": [
    {
     "data": {
      "text/html": [
       "<div>\n",
       "<style scoped>\n",
       "    .dataframe tbody tr th:only-of-type {\n",
       "        vertical-align: middle;\n",
       "    }\n",
       "\n",
       "    .dataframe tbody tr th {\n",
       "        vertical-align: top;\n",
       "    }\n",
       "\n",
       "    .dataframe thead th {\n",
       "        text-align: right;\n",
       "    }\n",
       "</style>\n",
       "<table border=\"1\" class=\"dataframe\">\n",
       "  <thead>\n",
       "    <tr style=\"text-align: right;\">\n",
       "      <th></th>\n",
       "      <th>Class label</th>\n",
       "      <th>Alcohol</th>\n",
       "      <th>Malic acid</th>\n",
       "      <th>Ascaled</th>\n",
       "      <th>MAscaled</th>\n",
       "    </tr>\n",
       "  </thead>\n",
       "  <tbody>\n",
       "    <tr>\n",
       "      <th>0</th>\n",
       "      <td>1</td>\n",
       "      <td>14.23</td>\n",
       "      <td>1.71</td>\n",
       "      <td>1.518613</td>\n",
       "      <td>-0.562250</td>\n",
       "    </tr>\n",
       "    <tr>\n",
       "      <th>1</th>\n",
       "      <td>1</td>\n",
       "      <td>13.20</td>\n",
       "      <td>1.78</td>\n",
       "      <td>0.246290</td>\n",
       "      <td>-0.499413</td>\n",
       "    </tr>\n",
       "    <tr>\n",
       "      <th>2</th>\n",
       "      <td>1</td>\n",
       "      <td>13.16</td>\n",
       "      <td>2.36</td>\n",
       "      <td>0.196879</td>\n",
       "      <td>0.021231</td>\n",
       "    </tr>\n",
       "    <tr>\n",
       "      <th>3</th>\n",
       "      <td>1</td>\n",
       "      <td>14.37</td>\n",
       "      <td>1.95</td>\n",
       "      <td>1.691550</td>\n",
       "      <td>-0.346811</td>\n",
       "    </tr>\n",
       "    <tr>\n",
       "      <th>4</th>\n",
       "      <td>1</td>\n",
       "      <td>13.24</td>\n",
       "      <td>2.59</td>\n",
       "      <td>0.295700</td>\n",
       "      <td>0.227694</td>\n",
       "    </tr>\n",
       "  </tbody>\n",
       "</table>\n",
       "</div>"
      ],
      "text/plain": [
       "   Class label  Alcohol  Malic acid   Ascaled  MAscaled\n",
       "0            1    14.23        1.71  1.518613 -0.562250\n",
       "1            1    13.20        1.78  0.246290 -0.499413\n",
       "2            1    13.16        2.36  0.196879  0.021231\n",
       "3            1    14.37        1.95  1.691550 -0.346811\n",
       "4            1    13.24        2.59  0.295700  0.227694"
      ]
     },
     "execution_count": 15,
     "metadata": {},
     "output_type": "execute_result"
    }
   ],
   "source": [
    "# put it alongside data... to view\n",
    "df['Ascaled'] = df_std[:,0] # so 'Ascaled' is Alcohol scaled\n",
    "df['MAscaled'] = df_std[:,1] # and 'MAscaled' is Malic acid scaled\n",
    "df.head()"
   ]
  },
  {
   "cell_type": "markdown",
   "metadata": {},
   "source": [
    "Now, compute and display the normalised values for both features. Let's check if they have mean of 0 and SD= 1."
   ]
  },
  {
   "cell_type": "code",
   "execution_count": 20,
   "metadata": {},
   "outputs": [
    {
     "data": {
      "text/html": [
       "<div>\n",
       "<style scoped>\n",
       "    .dataframe tbody tr th:only-of-type {\n",
       "        vertical-align: middle;\n",
       "    }\n",
       "\n",
       "    .dataframe tbody tr th {\n",
       "        vertical-align: top;\n",
       "    }\n",
       "\n",
       "    .dataframe thead th {\n",
       "        text-align: right;\n",
       "    }\n",
       "</style>\n",
       "<table border=\"1\" class=\"dataframe\">\n",
       "  <thead>\n",
       "    <tr style=\"text-align: right;\">\n",
       "      <th></th>\n",
       "      <th>Class label</th>\n",
       "      <th>Alcohol</th>\n",
       "      <th>Malic acid</th>\n",
       "      <th>Ascaled</th>\n",
       "      <th>MAscaled</th>\n",
       "    </tr>\n",
       "  </thead>\n",
       "  <tbody>\n",
       "    <tr>\n",
       "      <th>count</th>\n",
       "      <td>178.000000</td>\n",
       "      <td>178.000000</td>\n",
       "      <td>178.000000</td>\n",
       "      <td>1.780000e+02</td>\n",
       "      <td>1.780000e+02</td>\n",
       "    </tr>\n",
       "    <tr>\n",
       "      <th>mean</th>\n",
       "      <td>1.938202</td>\n",
       "      <td>13.000618</td>\n",
       "      <td>2.336348</td>\n",
       "      <td>-8.619821e-16</td>\n",
       "      <td>-8.357859e-17</td>\n",
       "    </tr>\n",
       "    <tr>\n",
       "      <th>std</th>\n",
       "      <td>0.775035</td>\n",
       "      <td>0.811827</td>\n",
       "      <td>1.117146</td>\n",
       "      <td>1.002821e+00</td>\n",
       "      <td>1.002821e+00</td>\n",
       "    </tr>\n",
       "    <tr>\n",
       "      <th>min</th>\n",
       "      <td>1.000000</td>\n",
       "      <td>11.030000</td>\n",
       "      <td>0.740000</td>\n",
       "      <td>-2.434235e+00</td>\n",
       "      <td>-1.432983e+00</td>\n",
       "    </tr>\n",
       "    <tr>\n",
       "      <th>25%</th>\n",
       "      <td>1.000000</td>\n",
       "      <td>12.362500</td>\n",
       "      <td>1.602500</td>\n",
       "      <td>-7.882448e-01</td>\n",
       "      <td>-6.587486e-01</td>\n",
       "    </tr>\n",
       "    <tr>\n",
       "      <th>50%</th>\n",
       "      <td>2.000000</td>\n",
       "      <td>13.050000</td>\n",
       "      <td>1.865000</td>\n",
       "      <td>6.099988e-02</td>\n",
       "      <td>-4.231120e-01</td>\n",
       "    </tr>\n",
       "    <tr>\n",
       "      <th>75%</th>\n",
       "      <td>3.000000</td>\n",
       "      <td>13.677500</td>\n",
       "      <td>3.082500</td>\n",
       "      <td>8.361286e-01</td>\n",
       "      <td>6.697929e-01</td>\n",
       "    </tr>\n",
       "    <tr>\n",
       "      <th>max</th>\n",
       "      <td>3.000000</td>\n",
       "      <td>14.830000</td>\n",
       "      <td>5.800000</td>\n",
       "      <td>2.259772e+00</td>\n",
       "      <td>3.109192e+00</td>\n",
       "    </tr>\n",
       "  </tbody>\n",
       "</table>\n",
       "</div>"
      ],
      "text/plain": [
       "       Class label     Alcohol  Malic acid       Ascaled      MAscaled\n",
       "count   178.000000  178.000000  178.000000  1.780000e+02  1.780000e+02\n",
       "mean      1.938202   13.000618    2.336348 -8.619821e-16 -8.357859e-17\n",
       "std       0.775035    0.811827    1.117146  1.002821e+00  1.002821e+00\n",
       "min       1.000000   11.030000    0.740000 -2.434235e+00 -1.432983e+00\n",
       "25%       1.000000   12.362500    1.602500 -7.882448e-01 -6.587486e-01\n",
       "50%       2.000000   13.050000    1.865000  6.099988e-02 -4.231120e-01\n",
       "75%       3.000000   13.677500    3.082500  8.361286e-01  6.697929e-01\n",
       "max       3.000000   14.830000    5.800000  2.259772e+00  3.109192e+00"
      ]
     },
     "execution_count": 20,
     "metadata": {},
     "output_type": "execute_result"
    }
   ],
   "source": [
    "df.describe() # check that μ = 0 and σ = 1... approx"
   ]
  },
  {
   "cell_type": "markdown",
   "metadata": {},
   "source": [
    "Or you can print out values:"
   ]
  },
  {
   "cell_type": "code",
   "execution_count": 24,
   "metadata": {},
   "outputs": [
    {
     "name": "stdout",
     "output_type": "stream",
     "text": [
      "Mean after standardisation:\n",
      "Alcohol = -0.00, Malic acid = -0.00\n",
      "\n",
      "Standard deviation(Std) after standardisation:\n",
      "Alcohol = 1.00, Malic acid = 1.00\n"
     ]
    }
   ],
   "source": [
    "print('Mean after standardisation:\\nAlcohol = %.2f, Malic acid = %.2f'%\n",
    "      (df_std[:,0].mean(), df_std[:,1].mean()))\n",
    "print('\\nStandard deviation(Std) after standardisation:\\nAlcohol = {:.2f}, Malic acid = {:.2f}'\n",
    "      .format(df_std[:,0].std(), df_std[:,1].std()))"
   ]
  },
  {
   "cell_type": "markdown",
   "metadata": {},
   "source": [
    "#### Compare the variables before and after normalization with plots\n",
    "In order to investigate how the normalization actually affect the data, we can visualize the data by plotting the variable values.\n",
    "\n",
    "Firstly, plot the original data, i.e., data before normalization"
   ]
  },
  {
   "cell_type": "code",
   "execution_count": 25,
   "metadata": {},
   "outputs": [],
   "source": [
    "%matplotlib inline"
   ]
  },
  {
   "cell_type": "code",
   "execution_count": 26,
   "metadata": {},
   "outputs": [
    {
     "data": {
      "text/plain": [
       "(<matplotlib.axes._subplots.AxesSubplot at 0x1a10516160>,\n",
       " <matplotlib.axes._subplots.AxesSubplot at 0x1a10516160>)"
      ]
     },
     "execution_count": 26,
     "metadata": {},
     "output_type": "execute_result"
    },
    {
     "data": {
      "image/png": "[encoded data removed]",
      "text/plain": [
       "<matplotlib.figure.Figure at 0x1a104f9b38>"
      ]
     },
     "metadata": {},
     "output_type": "display_data"
    }
   ],
   "source": [
    "df[\"Alcohol\"].plot(), df[\"Malic acid\"].plot()"
   ]
  },
  {
   "cell_type": "markdown",
   "metadata": {},
   "source": [
    "Now, we plot  the standardized data, and observe the range and the centre of the distribution for the standardised features. "
   ]
  },
  {
   "cell_type": "code",
   "execution_count": 28,
   "metadata": {},
   "outputs": [
    {
     "data": {
      "text/plain": [
       "(<matplotlib.axes._subplots.AxesSubplot at 0x1a15f8e978>,\n",
       " <matplotlib.axes._subplots.AxesSubplot at 0x1a15f8e978>)"
      ]
     },
     "execution_count": 28,
     "metadata": {},
     "output_type": "execute_result"
    },
    {
     "data": {
      "image/png": "[encoded data removed]",
      "text/plain": [
       "<matplotlib.figure.Figure at 0x1a15f7cb70>"
      ]
     },
     "metadata": {},
     "output_type": "display_data"
    }
   ],
   "source": [
    "# or split them from the others\n",
    "df[\"MAscaled\"].plot(), df[\"Ascaled\"].plot()"
   ]
  },
  {
   "cell_type": "markdown",
   "metadata": {},
   "source": [
    "You can see from above graphs that both original and standardized data are in the same shape but shifted."
   ]
  },
  {
   "cell_type": "code",
   "execution_count": 29,
   "metadata": {},
   "outputs": [
    {
     "data": {
      "text/plain": [
       "(<matplotlib.axes._subplots.AxesSubplot at 0x1a193246a0>,\n",
       " <matplotlib.axes._subplots.AxesSubplot at 0x1a193246a0>)"
      ]
     },
     "execution_count": 29,
     "metadata": {},
     "output_type": "execute_result"
    },
    {
     "data": {
      "image/png": "[encoded data removed]",
      "text/plain": [
       "<matplotlib.figure.Figure at 0x1a15f7c9e8>"
      ]
     },
     "metadata": {},
     "output_type": "display_data"
    }
   ],
   "source": [
    "df[\"Ascaled\"].plot(), df[\"Alcohol\"].plot()"
   ]
  },
  {
   "cell_type": "code",
   "execution_count": 30,
   "metadata": {},
   "outputs": [
    {
     "data": {
      "text/plain": [
       "(<matplotlib.axes._subplots.AxesSubplot at 0x1a193e9f98>,\n",
       " <matplotlib.axes._subplots.AxesSubplot at 0x1a193e9f98>)"
      ]
     },
     "execution_count": 30,
     "metadata": {},
     "output_type": "execute_result"
    },
    {
     "data": {
      "image/png": "[encoded data removed]",
      "text/plain": [
       "<matplotlib.figure.Figure at 0x1a15f7cb38>"
      ]
     },
     "metadata": {},
     "output_type": "display_data"
    }
   ],
   "source": [
    "df[\"MAscaled\"].plot(), df[\"Malic acid\"].plot()\n"
   ]
  },
  {
   "cell_type": "markdown",
   "metadata": {},
   "source": [
    "## 2. MinMax Noramlisation:\n",
    "\n",
    "A different type of normalization : **Reshaping the range of data**, scaling features to lie between a given **minimum** and **maximum value**, often between zero and one (the maximum absolute value of each feature is scaled to unit size).  \n",
    "We process the same data we used in the previous section. We can implement this either Scikit-Learn or manually.  \n",
    "\n",
    "This can be achieved using `MinMaxScaler` or `MaxAbsScaler`, respectively.\n",
    "\n",
    "### 2.1 Using scikit-learn:\n",
    "please refer to section 4.3.1.1 [\"Scaling features to a range\"](\"http://scikit-learn.org/stable/modules/preprocessing.html#scaling-features-to-a-range\") for more detailed discussion. Similar to what you have done with the StandardScaler, here you are going to use the [MinMaxScaler](\"http://scikit-learn.org/stable/modules/generated/sklearn.preprocessing.MinMaxScaler.html\").  \n",
    "Another: [MaxAbsScaler](http://scikit-learn.org/stable/modules/generated/sklearn.preprocessing.MaxAbsScaler.html#sklearn.preprocessing.MaxAbsScaler)"
   ]
  },
  {
   "cell_type": "code",
   "execution_count": 32,
   "metadata": {},
   "outputs": [
    {
     "data": {
      "text/plain": [
       "array([[0.84210526, 0.1916996 ],\n",
       "       [0.57105263, 0.2055336 ],\n",
       "       [0.56052632, 0.3201581 ],\n",
       "       [0.87894737, 0.23913043],\n",
       "       [0.58157895, 0.36561265]])"
      ]
     },
     "execution_count": 32,
     "metadata": {},
     "output_type": "execute_result"
    }
   ],
   "source": [
    "minmax_scale = preprocessing.MinMaxScaler().fit(df[['Alcohol', 'Malic acid']])\n",
    "df_minmax = minmax_scale.transform(df[['Alcohol', 'Malic acid']])\n",
    "df_minmax[0:5]"
   ]
  },
  {
   "cell_type": "markdown",
   "metadata": {},
   "source": [
    "### 2.2 Manually:\n",
    "Of course, you can implement the Min-Max normalization according to the formulas discussed in the lecture.\n",
    "\n",
    "Firstly, find the min and max of \"df.Alcohol\"."
   ]
  },
  {
   "cell_type": "code",
   "execution_count": 33,
   "metadata": {},
   "outputs": [
    {
     "data": {
      "text/plain": [
       "(11.03, 14.83)"
      ]
     },
     "execution_count": 33,
     "metadata": {},
     "output_type": "execute_result"
    }
   ],
   "source": [
    "minA = df.Alcohol.min()\n",
    "maxA = df.Alcohol.max()\n",
    "minA, maxA"
   ]
  },
  {
   "cell_type": "markdown",
   "metadata": {},
   "source": [
    "Manually apply the min-max normalization to the first value of \"df.Alcohol\", "
   ]
  },
  {
   "cell_type": "code",
   "execution_count": 34,
   "metadata": {},
   "outputs": [
    {
     "data": {
      "text/plain": [
       "0.8421052631578949"
      ]
     },
     "execution_count": 34,
     "metadata": {},
     "output_type": "execute_result"
    }
   ],
   "source": [
    "a = df.Alcohol[0] # the first value, for practice\n",
    "#Write you code here\n",
    "mma = (a - minA) / (maxA - minA)\n",
    "mma"
   ]
  },
  {
   "cell_type": "markdown",
   "metadata": {},
   "source": [
    "and then compare the manually computed value with the one given by the `MinMaxScaler` above."
   ]
  },
  {
   "cell_type": "code",
   "execution_count": 37,
   "metadata": {},
   "outputs": [
    {
     "data": {
      "text/plain": [
       "False"
      ]
     },
     "execution_count": 37,
     "metadata": {},
     "output_type": "execute_result"
    }
   ],
   "source": [
    "mma == df_minmax[0][0]"
   ]
  },
  {
   "cell_type": "markdown",
   "metadata": {},
   "source": [
    "The two values should be the same.\n",
    "Now, let's look at the normalization of the max value in `df.Alcohol`."
   ]
  },
  {
   "cell_type": "code",
   "execution_count": 38,
   "metadata": {},
   "outputs": [
    {
     "data": {
      "text/plain": [
       "8    1.0\n",
       "Name: Alcohol, dtype: float64"
      ]
     },
     "execution_count": 38,
     "metadata": {},
     "output_type": "execute_result"
    }
   ],
   "source": [
    "a = df[df.Alcohol == df.Alcohol.max()].Alcohol\n",
    "mma = (a - minA) / (maxA - minA)\n",
    "mma"
   ]
  },
  {
   "cell_type": "markdown",
   "metadata": {},
   "source": [
    "The normalized value of max must be 1.0 exactly, think about the reason! Then, how about the \n",
    "min value of `df.Alcohol`?"
   ]
  },
  {
   "cell_type": "code",
   "execution_count": 39,
   "metadata": {},
   "outputs": [
    {
     "name": "stdout",
     "output_type": "stream",
     "text": [
      "Min-value after min-max scaling:\n",
      "Alcohol = 0.00, Malic acid = 0.00\n",
      "\n",
      "Max-value after min-max scaling:\n",
      "Alcohol = 1.00, Malic acid = 1.00\n"
     ]
    }
   ],
   "source": [
    "print('Min-value after min-max scaling:\\nAlcohol = {:.2f}, Malic acid = {:.2f}'\n",
    "      .format(df_minmax[:,0].min(), df_minmax[:,1].min()))\n",
    "print('\\nMax-value after min-max scaling:\\nAlcohol = {:.2f}, Malic acid = {:.2f}'\n",
    "      .format(df_minmax[:,0].max(), df_minmax[:,1].max()))"
   ]
  },
  {
   "cell_type": "markdown",
   "metadata": {},
   "source": [
    "### 2.3 Plot the original, standardised and normalised data values. "
   ]
  },
  {
   "cell_type": "code",
   "execution_count": 50,
   "metadata": {},
   "outputs": [
    {
     "data": {
      "image/png": "[encoded data removed]",
      "text/plain": [
       "<matplotlib.figure.Figure at 0x1a1ae7b0f0>"
      ]
     },
     "metadata": {},
     "output_type": "display_data"
    }
   ],
   "source": [
    "# and plot\n",
    "%matplotlib inline\n",
    "\n",
    "from matplotlib import pyplot as plt\n",
    "\n",
    "def plot():\n",
    "    f = plt.figure(figsize=(8,6))\n",
    "\n",
    "    plt.scatter(df['Alcohol'], \n",
    "                df['Malic acid'],\n",
    "                color='green', \n",
    "                label='input scale', \n",
    "                alpha=0.5)\n",
    "\n",
    " #   plt.scatter(df_std[:,0], df_std[:,1], color='red',\n",
    " #           label='Standardized [$$N  (\\mu=0, \\; \\sigma=1)$$]', alpha=0.3)\n",
    "    plt.scatter(df_std[:,0], df_std[:,1],\n",
    "                label='Standardized: ' + r'$N \\sim (\\mu=0, \\; \\sigma=1)$', \n",
    "                color='red',\n",
    "                alpha=0.3)\n",
    "    \n",
    "    plt.scatter(df_minmax[:,0], #x\n",
    "                df_minmax[:,1], #y\n",
    "                color='blue',\n",
    "                label='min-max scaled [min=0, max=1]', \n",
    "                alpha=0.3)\n",
    "\n",
    "    plt.title('Alcohol and Malic Acid content of the wine dataset')\n",
    "    plt.xlabel('Alcohol')\n",
    "    plt.ylabel('Malic Acid')\n",
    "    plt.legend(loc='upper left')\n",
    "    plt.grid()\n",
    "    plt.tight_layout()\n",
    "    #f.savefig(\"z_min_max.pdf\", bbox_inches='tight')\n",
    "\n",
    "plot()\n",
    "plt.show()"
   ]
  },
  {
   "cell_type": "markdown",
   "metadata": {
    "collapsed": true
   },
   "source": [
    "#### The plot above includes the wine datapoints on all three different scales: \n",
    "* the input scale  where the alcohol content was measured in volume-percent (green),\n",
    "* the standardized features (red), and \n",
    "* the normalized features (blue). \n",
    "\n",
    "#### In the following plot, we will zoom in into the three different axis-scales while dispalying class values. "
   ]
  },
  {
   "cell_type": "code",
   "execution_count": 55,
   "metadata": {},
   "outputs": [
    {
     "ename": "ValueError",
     "evalue": "not enough values to unpack (expected 3, got 1)",
     "output_type": "error",
     "traceback": [
      "\u001b[0;31m---------------------------------------------------------------------------\u001b[0m",
      "\u001b[0;31mValueError\u001b[0m                                Traceback (most recent call last)",
      "\u001b[0;32m<ipython-input-55-06591c671e73>\u001b[0m in \u001b[0;36m<module>\u001b[0;34m()\u001b[0m\n\u001b[0;32m----> 1\u001b[0;31m \u001b[0;32mfor\u001b[0m \u001b[0ma\u001b[0m\u001b[0;34m,\u001b[0m\u001b[0mb\u001b[0m\u001b[0;34m,\u001b[0m\u001b[0mc\u001b[0m \u001b[0;32min\u001b[0m \u001b[0mzip\u001b[0m\u001b[0;34m(\u001b[0m\u001b[0mrange\u001b[0m\u001b[0;34m(\u001b[0m\u001b[0;36m100\u001b[0m\u001b[0;34m)\u001b[0m\u001b[0;34m)\u001b[0m\u001b[0;34m:\u001b[0m\u001b[0;34m\u001b[0m\u001b[0m\n\u001b[0m\u001b[1;32m      2\u001b[0m     \u001b[0mprint\u001b[0m\u001b[0;34m(\u001b[0m\u001b[0ma\u001b[0m\u001b[0;34m,\u001b[0m\u001b[0mb\u001b[0m\u001b[0;34m,\u001b[0m\u001b[0mc\u001b[0m\u001b[0;34m)\u001b[0m\u001b[0;34m\u001b[0m\u001b[0m\n",
      "\u001b[0;31mValueError\u001b[0m: not enough values to unpack (expected 3, got 1)"
     ]
    }
   ],
   "source": [
    "for a,b,c in zip(range(100)):\n",
    "    print(a,b,c)"
   ]
  },
  {
   "cell_type": "code",
   "execution_count": 57,
   "metadata": {},
   "outputs": [
    {
     "data": {
      "text/plain": [
       "[1, 2, 3]"
      ]
     },
     "execution_count": 57,
     "metadata": {},
     "output_type": "execute_result"
    }
   ],
   "source": [
    "[x for x in range(1,4)]"
   ]
  },
  {
   "cell_type": "code",
   "execution_count": 60,
   "metadata": {},
   "outputs": [
    {
     "data": {
      "image/png": "[encoded data removed]",
      "text/plain": [
       "<matplotlib.figure.Figure at 0x1a1b5d4160>"
      ]
     },
     "metadata": {},
     "output_type": "display_data"
    }
   ],
   "source": [
    "fig, ax = plt.subplots(3, figsize=(6,14))\n",
    "\n",
    "for a,d,l in zip(\n",
    "    range(len(ax)), #counter\n",
    "    (df[['Alcohol', 'Malic acid']].values, df_std, df_minmax), #3 datasets\n",
    "    ('Input scale', 'Standardized [u=0 s=1]', 'min-max scaled [min=0, max=1]') #titles\n",
    "                ):\n",
    "    for i,c in zip(range(1,4), ('red', 'blue', 'green')):\n",
    "        ax[a].scatter(d[df['Class label'].values == i, 0],\n",
    "                      d[df['Class label'].values == i, 1],\n",
    "                      alpha=0.5,\n",
    "                      color=c,\n",
    "                      label='Class %s' %i)\n",
    "    #layout\n",
    "    ax[a].set_title(l)\n",
    "    ax[a].set_xlabel('Alcohol')\n",
    "    ax[a].set_ylabel('Malic Acid')\n",
    "    ax[a].legend(loc='upper left')\n",
    "    ax[a].grid()\n",
    "\n",
    "plt.tight_layout()\n",
    "\n",
    "plt.show()"
   ]
  },
  {
   "cell_type": "markdown",
   "metadata": {},
   "source": [
    "## 3. Data Transformation:"
   ]
  },
  {
   "cell_type": "markdown",
   "metadata": {},
   "source": [
    "Another way to reshape data is to perform **data transformation**. We will display an example of data that is with right skew (positive skew). We will need to **compress large values**. We first read the data used for this activity. "
   ]
  },
  {
   "cell_type": "code",
   "execution_count": 61,
   "metadata": {},
   "outputs": [],
   "source": [
    "import pandas as pd\n",
    "data = pd.read_csv(\"bmr.csv\")"
   ]
  },
  {
   "cell_type": "code",
   "execution_count": 62,
   "metadata": {},
   "outputs": [
    {
     "data": {
      "text/html": [
       "<div>\n",
       "<style scoped>\n",
       "    .dataframe tbody tr th:only-of-type {\n",
       "        vertical-align: middle;\n",
       "    }\n",
       "\n",
       "    .dataframe tbody tr th {\n",
       "        vertical-align: top;\n",
       "    }\n",
       "\n",
       "    .dataframe thead th {\n",
       "        text-align: right;\n",
       "    }\n",
       "</style>\n",
       "<table border=\"1\" class=\"dataframe\">\n",
       "  <thead>\n",
       "    <tr style=\"text-align: right;\">\n",
       "      <th></th>\n",
       "      <th>Order</th>\n",
       "      <th>Family</th>\n",
       "      <th>Species</th>\n",
       "      <th>Mass(g)</th>\n",
       "      <th>BMR(W)</th>\n",
       "      <th>Speciesavg.mass(g)</th>\n",
       "      <th>Speciesavg.BMR(W)</th>\n",
       "      <th>References</th>\n",
       "    </tr>\n",
       "  </thead>\n",
       "  <tbody>\n",
       "    <tr>\n",
       "      <th>0</th>\n",
       "      <td>Artiodactyla</td>\n",
       "      <td>Antilocapridae</td>\n",
       "      <td>Antilocapraamericana</td>\n",
       "      <td>32000.0</td>\n",
       "      <td>49.984</td>\n",
       "      <td>34779.3</td>\n",
       "      <td>50.973</td>\n",
       "      <td>Lovegrove(2000)</td>\n",
       "    </tr>\n",
       "    <tr>\n",
       "      <th>1</th>\n",
       "      <td>Artiodactyla</td>\n",
       "      <td>Antilocapridae</td>\n",
       "      <td>Antilocapraamericana</td>\n",
       "      <td>37800.0</td>\n",
       "      <td>51.981</td>\n",
       "      <td>NaN</td>\n",
       "      <td>NaN</td>\n",
       "      <td>White&amp;Seymour(2003)</td>\n",
       "    </tr>\n",
       "    <tr>\n",
       "      <th>2</th>\n",
       "      <td>Artiodactyla</td>\n",
       "      <td>Bovidae</td>\n",
       "      <td>Bostaurus</td>\n",
       "      <td>347000.0</td>\n",
       "      <td>306.770</td>\n",
       "      <td>347000.0</td>\n",
       "      <td>306.770</td>\n",
       "      <td>Heusner(1991)</td>\n",
       "    </tr>\n",
       "    <tr>\n",
       "      <th>3</th>\n",
       "      <td>Artiodactyla</td>\n",
       "      <td>Bovidae</td>\n",
       "      <td>Cephalophusmonticola</td>\n",
       "      <td>4200.0</td>\n",
       "      <td>10.075</td>\n",
       "      <td>4200.0</td>\n",
       "      <td>10.075</td>\n",
       "      <td>Lovegrove(2000)</td>\n",
       "    </tr>\n",
       "    <tr>\n",
       "      <th>4</th>\n",
       "      <td>Artiodactyla</td>\n",
       "      <td>Bovidae</td>\n",
       "      <td>Connochaetestaurinus</td>\n",
       "      <td>196500.0</td>\n",
       "      <td>230.073</td>\n",
       "      <td>196500.0</td>\n",
       "      <td>230.073</td>\n",
       "      <td>White&amp;Seymour(2003),Rogerson(1968)</td>\n",
       "    </tr>\n",
       "  </tbody>\n",
       "</table>\n",
       "</div>"
      ],
      "text/plain": [
       "          Order          Family               Species   Mass(g)   BMR(W)  \\\n",
       "0  Artiodactyla  Antilocapridae  Antilocapraamericana   32000.0   49.984   \n",
       "1  Artiodactyla  Antilocapridae  Antilocapraamericana   37800.0   51.981   \n",
       "2  Artiodactyla         Bovidae             Bostaurus  347000.0  306.770   \n",
       "3  Artiodactyla         Bovidae  Cephalophusmonticola    4200.0   10.075   \n",
       "4  Artiodactyla         Bovidae  Connochaetestaurinus  196500.0  230.073   \n",
       "\n",
       "   Speciesavg.mass(g)  Speciesavg.BMR(W)                          References  \n",
       "0             34779.3             50.973                     Lovegrove(2000)  \n",
       "1                 NaN                NaN                 White&Seymour(2003)  \n",
       "2            347000.0            306.770                       Heusner(1991)  \n",
       "3              4200.0             10.075                     Lovegrove(2000)  \n",
       "4            196500.0            230.073  White&Seymour(2003),Rogerson(1968)  "
      ]
     },
     "execution_count": 62,
     "metadata": {},
     "output_type": "execute_result"
    }
   ],
   "source": [
    "data.head()"
   ]
  },
  {
   "cell_type": "code",
   "execution_count": 63,
   "metadata": {},
   "outputs": [
    {
     "data": {
      "text/plain": [
       "<matplotlib.collections.PathCollection at 0x1a1997c9e8>"
      ]
     },
     "execution_count": 63,
     "metadata": {},
     "output_type": "execute_result"
    },
    {
     "data": {
      "image/png": "[encoded data removed]",
      "text/plain": [
       "<matplotlib.figure.Figure at 0x1a1ae9aeb8>"
      ]
     },
     "metadata": {},
     "output_type": "display_data"
    }
   ],
   "source": [
    "plt.scatter(data[\"BMR(W)\"], data[\"Mass(g)\"]) # before"
   ]
  },
  {
   "cell_type": "markdown",
   "metadata": {},
   "source": [
    "### So, which transformation type will suit this data?"
   ]
  },
  {
   "cell_type": "markdown",
   "metadata": {},
   "source": [
    "In Tukey's ladder of power, we discussed different kind of transformation. Here you are going to \n",
    "compare the following three kinds of transformations\n",
    "* Root transformation $\\sqrt {x}$\n",
    "* Square power transformation $x^2$\n",
    "* Log transformation $log(x)$\n",
    "\n",
    "The implementation of Root transformation is given as follows. You need to finish the other two kinds of transformation."
   ]
  },
  {
   "cell_type": "markdown",
   "metadata": {},
   "source": [
    "### 3.1 Root transformation:"
   ]
  },
  {
   "cell_type": "code",
   "execution_count": 65,
   "metadata": {},
   "outputs": [
    {
     "data": {
      "text/plain": [
       "<generator object DataFrame.iterrows at 0x1a19de10a0>"
      ]
     },
     "execution_count": 65,
     "metadata": {},
     "output_type": "execute_result"
    }
   ],
   "source": [
    "data.iterrows()"
   ]
  },
  {
   "cell_type": "code",
   "execution_count": 68,
   "metadata": {},
   "outputs": [
    {
     "data": {
      "text/plain": [
       "1006"
      ]
     },
     "execution_count": 68,
     "metadata": {},
     "output_type": "execute_result"
    }
   ],
   "source": [
    "data.shape[0]"
   ]
  },
  {
   "cell_type": "code",
   "execution_count": 70,
   "metadata": {},
   "outputs": [
    {
     "data": {
      "text/html": [
       "<div>\n",
       "<style scoped>\n",
       "    .dataframe tbody tr th:only-of-type {\n",
       "        vertical-align: middle;\n",
       "    }\n",
       "\n",
       "    .dataframe tbody tr th {\n",
       "        vertical-align: top;\n",
       "    }\n",
       "\n",
       "    .dataframe thead th {\n",
       "        text-align: right;\n",
       "    }\n",
       "</style>\n",
       "<table border=\"1\" class=\"dataframe\">\n",
       "  <thead>\n",
       "    <tr style=\"text-align: right;\">\n",
       "      <th></th>\n",
       "      <th>Order</th>\n",
       "      <th>Family</th>\n",
       "      <th>Species</th>\n",
       "      <th>Mass(g)</th>\n",
       "      <th>BMR(W)</th>\n",
       "      <th>Speciesavg.mass(g)</th>\n",
       "      <th>Speciesavg.BMR(W)</th>\n",
       "      <th>References</th>\n",
       "      <th>lmr</th>\n",
       "    </tr>\n",
       "  </thead>\n",
       "  <tbody>\n",
       "    <tr>\n",
       "      <th>0</th>\n",
       "      <td>Artiodactyla</td>\n",
       "      <td>Antilocapridae</td>\n",
       "      <td>Antilocapraamericana</td>\n",
       "      <td>32000.0</td>\n",
       "      <td>49.984</td>\n",
       "      <td>34779.3</td>\n",
       "      <td>50.973</td>\n",
       "      <td>Lovegrove(2000)</td>\n",
       "      <td>7.06994</td>\n",
       "    </tr>\n",
       "    <tr>\n",
       "      <th>1</th>\n",
       "      <td>Artiodactyla</td>\n",
       "      <td>Antilocapridae</td>\n",
       "      <td>Antilocapraamericana</td>\n",
       "      <td>37800.0</td>\n",
       "      <td>51.981</td>\n",
       "      <td>NaN</td>\n",
       "      <td>NaN</td>\n",
       "      <td>White&amp;Seymour(2003)</td>\n",
       "      <td>7.20979</td>\n",
       "    </tr>\n",
       "    <tr>\n",
       "      <th>2</th>\n",
       "      <td>Artiodactyla</td>\n",
       "      <td>Bovidae</td>\n",
       "      <td>Bostaurus</td>\n",
       "      <td>347000.0</td>\n",
       "      <td>306.770</td>\n",
       "      <td>347000.0</td>\n",
       "      <td>306.770</td>\n",
       "      <td>Heusner(1991)</td>\n",
       "      <td>17.5149</td>\n",
       "    </tr>\n",
       "    <tr>\n",
       "      <th>3</th>\n",
       "      <td>Artiodactyla</td>\n",
       "      <td>Bovidae</td>\n",
       "      <td>Cephalophusmonticola</td>\n",
       "      <td>4200.0</td>\n",
       "      <td>10.075</td>\n",
       "      <td>4200.0</td>\n",
       "      <td>10.075</td>\n",
       "      <td>Lovegrove(2000)</td>\n",
       "      <td>3.17411</td>\n",
       "    </tr>\n",
       "    <tr>\n",
       "      <th>4</th>\n",
       "      <td>Artiodactyla</td>\n",
       "      <td>Bovidae</td>\n",
       "      <td>Connochaetestaurinus</td>\n",
       "      <td>196500.0</td>\n",
       "      <td>230.073</td>\n",
       "      <td>196500.0</td>\n",
       "      <td>230.073</td>\n",
       "      <td>White&amp;Seymour(2003),Rogerson(1968)</td>\n",
       "      <td>15.1682</td>\n",
       "    </tr>\n",
       "  </tbody>\n",
       "</table>\n",
       "</div>"
      ],
      "text/plain": [
       "          Order          Family               Species   Mass(g)   BMR(W)  \\\n",
       "0  Artiodactyla  Antilocapridae  Antilocapraamericana   32000.0   49.984   \n",
       "1  Artiodactyla  Antilocapridae  Antilocapraamericana   37800.0   51.981   \n",
       "2  Artiodactyla         Bovidae             Bostaurus  347000.0  306.770   \n",
       "3  Artiodactyla         Bovidae  Cephalophusmonticola    4200.0   10.075   \n",
       "4  Artiodactyla         Bovidae  Connochaetestaurinus  196500.0  230.073   \n",
       "\n",
       "   Speciesavg.mass(g)  Speciesavg.BMR(W)                          References  \\\n",
       "0             34779.3             50.973                     Lovegrove(2000)   \n",
       "1                 NaN                NaN                 White&Seymour(2003)   \n",
       "2            347000.0            306.770                       Heusner(1991)   \n",
       "3              4200.0             10.075                     Lovegrove(2000)   \n",
       "4            196500.0            230.073  White&Seymour(2003),Rogerson(1968)   \n",
       "\n",
       "       lmr  \n",
       "0  7.06994  \n",
       "1  7.20979  \n",
       "2  17.5149  \n",
       "3  3.17411  \n",
       "4  15.1682  "
      ]
     },
     "execution_count": 70,
     "metadata": {},
     "output_type": "execute_result"
    }
   ],
   "source": [
    "import math\n",
    "data['lmr'] = None\n",
    "for i in range(data.shape[0]):\n",
    "    data['lmr'].at[i]= math.sqrt(data['BMR(W)'][i])\n",
    "data.head()"
   ]
  },
  {
   "cell_type": "code",
   "execution_count": 71,
   "metadata": {},
   "outputs": [
    {
     "data": {
      "text/html": [
       "<div>\n",
       "<style scoped>\n",
       "    .dataframe tbody tr th:only-of-type {\n",
       "        vertical-align: middle;\n",
       "    }\n",
       "\n",
       "    .dataframe tbody tr th {\n",
       "        vertical-align: top;\n",
       "    }\n",
       "\n",
       "    .dataframe thead th {\n",
       "        text-align: right;\n",
       "    }\n",
       "</style>\n",
       "<table border=\"1\" class=\"dataframe\">\n",
       "  <thead>\n",
       "    <tr style=\"text-align: right;\">\n",
       "      <th></th>\n",
       "      <th>Order</th>\n",
       "      <th>Family</th>\n",
       "      <th>Species</th>\n",
       "      <th>Mass(g)</th>\n",
       "      <th>BMR(W)</th>\n",
       "      <th>Speciesavg.mass(g)</th>\n",
       "      <th>Speciesavg.BMR(W)</th>\n",
       "      <th>References</th>\n",
       "      <th>lmr</th>\n",
       "      <th>lbm</th>\n",
       "    </tr>\n",
       "  </thead>\n",
       "  <tbody>\n",
       "    <tr>\n",
       "      <th>0</th>\n",
       "      <td>Artiodactyla</td>\n",
       "      <td>Antilocapridae</td>\n",
       "      <td>Antilocapraamericana</td>\n",
       "      <td>32000.0</td>\n",
       "      <td>49.984</td>\n",
       "      <td>34779.3</td>\n",
       "      <td>50.973</td>\n",
       "      <td>Lovegrove(2000)</td>\n",
       "      <td>7.06994</td>\n",
       "      <td>178.885</td>\n",
       "    </tr>\n",
       "    <tr>\n",
       "      <th>1</th>\n",
       "      <td>Artiodactyla</td>\n",
       "      <td>Antilocapridae</td>\n",
       "      <td>Antilocapraamericana</td>\n",
       "      <td>37800.0</td>\n",
       "      <td>51.981</td>\n",
       "      <td>NaN</td>\n",
       "      <td>NaN</td>\n",
       "      <td>White&amp;Seymour(2003)</td>\n",
       "      <td>7.20979</td>\n",
       "      <td>194.422</td>\n",
       "    </tr>\n",
       "    <tr>\n",
       "      <th>2</th>\n",
       "      <td>Artiodactyla</td>\n",
       "      <td>Bovidae</td>\n",
       "      <td>Bostaurus</td>\n",
       "      <td>347000.0</td>\n",
       "      <td>306.770</td>\n",
       "      <td>347000.0</td>\n",
       "      <td>306.770</td>\n",
       "      <td>Heusner(1991)</td>\n",
       "      <td>17.5149</td>\n",
       "      <td>589.067</td>\n",
       "    </tr>\n",
       "    <tr>\n",
       "      <th>3</th>\n",
       "      <td>Artiodactyla</td>\n",
       "      <td>Bovidae</td>\n",
       "      <td>Cephalophusmonticola</td>\n",
       "      <td>4200.0</td>\n",
       "      <td>10.075</td>\n",
       "      <td>4200.0</td>\n",
       "      <td>10.075</td>\n",
       "      <td>Lovegrove(2000)</td>\n",
       "      <td>3.17411</td>\n",
       "      <td>64.8074</td>\n",
       "    </tr>\n",
       "    <tr>\n",
       "      <th>4</th>\n",
       "      <td>Artiodactyla</td>\n",
       "      <td>Bovidae</td>\n",
       "      <td>Connochaetestaurinus</td>\n",
       "      <td>196500.0</td>\n",
       "      <td>230.073</td>\n",
       "      <td>196500.0</td>\n",
       "      <td>230.073</td>\n",
       "      <td>White&amp;Seymour(2003),Rogerson(1968)</td>\n",
       "      <td>15.1682</td>\n",
       "      <td>443.283</td>\n",
       "    </tr>\n",
       "  </tbody>\n",
       "</table>\n",
       "</div>"
      ],
      "text/plain": [
       "          Order          Family               Species   Mass(g)   BMR(W)  \\\n",
       "0  Artiodactyla  Antilocapridae  Antilocapraamericana   32000.0   49.984   \n",
       "1  Artiodactyla  Antilocapridae  Antilocapraamericana   37800.0   51.981   \n",
       "2  Artiodactyla         Bovidae             Bostaurus  347000.0  306.770   \n",
       "3  Artiodactyla         Bovidae  Cephalophusmonticola    4200.0   10.075   \n",
       "4  Artiodactyla         Bovidae  Connochaetestaurinus  196500.0  230.073   \n",
       "\n",
       "   Speciesavg.mass(g)  Speciesavg.BMR(W)                          References  \\\n",
       "0             34779.3             50.973                     Lovegrove(2000)   \n",
       "1                 NaN                NaN                 White&Seymour(2003)   \n",
       "2            347000.0            306.770                       Heusner(1991)   \n",
       "3              4200.0             10.075                     Lovegrove(2000)   \n",
       "4            196500.0            230.073  White&Seymour(2003),Rogerson(1968)   \n",
       "\n",
       "       lmr      lbm  \n",
       "0  7.06994  178.885  \n",
       "1  7.20979  194.422  \n",
       "2  17.5149  589.067  \n",
       "3  3.17411  64.8074  \n",
       "4  15.1682  443.283  "
      ]
     },
     "execution_count": 71,
     "metadata": {},
     "output_type": "execute_result"
    }
   ],
   "source": [
    "data['lbm'] = None\n",
    "for i in range(data.shape[0]):\n",
    "    data['lbm'].at[i]= math.sqrt(data['Mass(g)'][i])\n",
    "data.head()"
   ]
  },
  {
   "cell_type": "code",
   "execution_count": 72,
   "metadata": {},
   "outputs": [
    {
     "data": {
      "text/plain": [
       "<matplotlib.collections.PathCollection at 0x1a1b318f60>"
      ]
     },
     "execution_count": 72,
     "metadata": {},
     "output_type": "execute_result"
    },
    {
     "data": {
      "image/png": "[encoded data removed]",
      "text/plain": [
       "<matplotlib.figure.Figure at 0x1a1b00e0b8>"
      ]
     },
     "metadata": {},
     "output_type": "display_data"
    }
   ],
   "source": [
    "plt.scatter(data.lbm, data.lmr) # and after"
   ]
  },
  {
   "cell_type": "markdown",
   "metadata": {},
   "source": [
    "#### Does it give a better spread of the data? Let's try something else."
   ]
  },
  {
   "cell_type": "markdown",
   "metadata": {},
   "source": [
    "### 3.2 Square power transformation:"
   ]
  },
  {
   "cell_type": "code",
   "execution_count": 74,
   "metadata": {},
   "outputs": [
    {
     "data": {
      "text/plain": [
       "4.0"
      ]
     },
     "execution_count": 74,
     "metadata": {},
     "output_type": "execute_result"
    }
   ],
   "source": [
    "math.pow(2,2)"
   ]
  },
  {
   "cell_type": "code",
   "execution_count": 75,
   "metadata": {},
   "outputs": [
    {
     "data": {
      "text/html": [
       "<div>\n",
       "<style scoped>\n",
       "    .dataframe tbody tr th:only-of-type {\n",
       "        vertical-align: middle;\n",
       "    }\n",
       "\n",
       "    .dataframe tbody tr th {\n",
       "        vertical-align: top;\n",
       "    }\n",
       "\n",
       "    .dataframe thead th {\n",
       "        text-align: right;\n",
       "    }\n",
       "</style>\n",
       "<table border=\"1\" class=\"dataframe\">\n",
       "  <thead>\n",
       "    <tr style=\"text-align: right;\">\n",
       "      <th></th>\n",
       "      <th>Order</th>\n",
       "      <th>Family</th>\n",
       "      <th>Species</th>\n",
       "      <th>Mass(g)</th>\n",
       "      <th>BMR(W)</th>\n",
       "      <th>Speciesavg.mass(g)</th>\n",
       "      <th>Speciesavg.BMR(W)</th>\n",
       "      <th>References</th>\n",
       "      <th>lmr</th>\n",
       "      <th>lbm</th>\n",
       "    </tr>\n",
       "  </thead>\n",
       "  <tbody>\n",
       "    <tr>\n",
       "      <th>0</th>\n",
       "      <td>Artiodactyla</td>\n",
       "      <td>Antilocapridae</td>\n",
       "      <td>Antilocapraamericana</td>\n",
       "      <td>32000.0</td>\n",
       "      <td>49.984</td>\n",
       "      <td>34779.3</td>\n",
       "      <td>50.973</td>\n",
       "      <td>Lovegrove(2000)</td>\n",
       "      <td>2498.4</td>\n",
       "      <td>178.885</td>\n",
       "    </tr>\n",
       "    <tr>\n",
       "      <th>1</th>\n",
       "      <td>Artiodactyla</td>\n",
       "      <td>Antilocapridae</td>\n",
       "      <td>Antilocapraamericana</td>\n",
       "      <td>37800.0</td>\n",
       "      <td>51.981</td>\n",
       "      <td>NaN</td>\n",
       "      <td>NaN</td>\n",
       "      <td>White&amp;Seymour(2003)</td>\n",
       "      <td>2702.02</td>\n",
       "      <td>194.422</td>\n",
       "    </tr>\n",
       "    <tr>\n",
       "      <th>2</th>\n",
       "      <td>Artiodactyla</td>\n",
       "      <td>Bovidae</td>\n",
       "      <td>Bostaurus</td>\n",
       "      <td>347000.0</td>\n",
       "      <td>306.770</td>\n",
       "      <td>347000.0</td>\n",
       "      <td>306.770</td>\n",
       "      <td>Heusner(1991)</td>\n",
       "      <td>94107.8</td>\n",
       "      <td>589.067</td>\n",
       "    </tr>\n",
       "    <tr>\n",
       "      <th>3</th>\n",
       "      <td>Artiodactyla</td>\n",
       "      <td>Bovidae</td>\n",
       "      <td>Cephalophusmonticola</td>\n",
       "      <td>4200.0</td>\n",
       "      <td>10.075</td>\n",
       "      <td>4200.0</td>\n",
       "      <td>10.075</td>\n",
       "      <td>Lovegrove(2000)</td>\n",
       "      <td>101.506</td>\n",
       "      <td>64.8074</td>\n",
       "    </tr>\n",
       "    <tr>\n",
       "      <th>4</th>\n",
       "      <td>Artiodactyla</td>\n",
       "      <td>Bovidae</td>\n",
       "      <td>Connochaetestaurinus</td>\n",
       "      <td>196500.0</td>\n",
       "      <td>230.073</td>\n",
       "      <td>196500.0</td>\n",
       "      <td>230.073</td>\n",
       "      <td>White&amp;Seymour(2003),Rogerson(1968)</td>\n",
       "      <td>52933.6</td>\n",
       "      <td>443.283</td>\n",
       "    </tr>\n",
       "  </tbody>\n",
       "</table>\n",
       "</div>"
      ],
      "text/plain": [
       "          Order          Family               Species   Mass(g)   BMR(W)  \\\n",
       "0  Artiodactyla  Antilocapridae  Antilocapraamericana   32000.0   49.984   \n",
       "1  Artiodactyla  Antilocapridae  Antilocapraamericana   37800.0   51.981   \n",
       "2  Artiodactyla         Bovidae             Bostaurus  347000.0  306.770   \n",
       "3  Artiodactyla         Bovidae  Cephalophusmonticola    4200.0   10.075   \n",
       "4  Artiodactyla         Bovidae  Connochaetestaurinus  196500.0  230.073   \n",
       "\n",
       "   Speciesavg.mass(g)  Speciesavg.BMR(W)                          References  \\\n",
       "0             34779.3             50.973                     Lovegrove(2000)   \n",
       "1                 NaN                NaN                 White&Seymour(2003)   \n",
       "2            347000.0            306.770                       Heusner(1991)   \n",
       "3              4200.0             10.075                     Lovegrove(2000)   \n",
       "4            196500.0            230.073  White&Seymour(2003),Rogerson(1968)   \n",
       "\n",
       "       lmr      lbm  \n",
       "0   2498.4  178.885  \n",
       "1  2702.02  194.422  \n",
       "2  94107.8  589.067  \n",
       "3  101.506  64.8074  \n",
       "4  52933.6  443.283  "
      ]
     },
     "execution_count": 75,
     "metadata": {},
     "output_type": "execute_result"
    }
   ],
   "source": [
    "import math\n",
    "data['lmr'] = None\n",
    "for i in range(data.shape[0]):\n",
    "    data['lmr'].at[i] = math.pow(data['BMR(W)'][i], 2)\n",
    "data.head()"
   ]
  },
  {
   "cell_type": "code",
   "execution_count": 76,
   "metadata": {},
   "outputs": [
    {
     "data": {
      "text/html": [
       "<div>\n",
       "<style scoped>\n",
       "    .dataframe tbody tr th:only-of-type {\n",
       "        vertical-align: middle;\n",
       "    }\n",
       "\n",
       "    .dataframe tbody tr th {\n",
       "        vertical-align: top;\n",
       "    }\n",
       "\n",
       "    .dataframe thead th {\n",
       "        text-align: right;\n",
       "    }\n",
       "</style>\n",
       "<table border=\"1\" class=\"dataframe\">\n",
       "  <thead>\n",
       "    <tr style=\"text-align: right;\">\n",
       "      <th></th>\n",
       "      <th>Order</th>\n",
       "      <th>Family</th>\n",
       "      <th>Species</th>\n",
       "      <th>Mass(g)</th>\n",
       "      <th>BMR(W)</th>\n",
       "      <th>Speciesavg.mass(g)</th>\n",
       "      <th>Speciesavg.BMR(W)</th>\n",
       "      <th>References</th>\n",
       "      <th>lmr</th>\n",
       "      <th>lbm</th>\n",
       "    </tr>\n",
       "  </thead>\n",
       "  <tbody>\n",
       "    <tr>\n",
       "      <th>0</th>\n",
       "      <td>Artiodactyla</td>\n",
       "      <td>Antilocapridae</td>\n",
       "      <td>Antilocapraamericana</td>\n",
       "      <td>32000.0</td>\n",
       "      <td>49.984</td>\n",
       "      <td>34779.3</td>\n",
       "      <td>50.973</td>\n",
       "      <td>Lovegrove(2000)</td>\n",
       "      <td>2498.4</td>\n",
       "      <td>1.024e+09</td>\n",
       "    </tr>\n",
       "    <tr>\n",
       "      <th>1</th>\n",
       "      <td>Artiodactyla</td>\n",
       "      <td>Antilocapridae</td>\n",
       "      <td>Antilocapraamericana</td>\n",
       "      <td>37800.0</td>\n",
       "      <td>51.981</td>\n",
       "      <td>NaN</td>\n",
       "      <td>NaN</td>\n",
       "      <td>White&amp;Seymour(2003)</td>\n",
       "      <td>2702.02</td>\n",
       "      <td>1.42884e+09</td>\n",
       "    </tr>\n",
       "    <tr>\n",
       "      <th>2</th>\n",
       "      <td>Artiodactyla</td>\n",
       "      <td>Bovidae</td>\n",
       "      <td>Bostaurus</td>\n",
       "      <td>347000.0</td>\n",
       "      <td>306.770</td>\n",
       "      <td>347000.0</td>\n",
       "      <td>306.770</td>\n",
       "      <td>Heusner(1991)</td>\n",
       "      <td>94107.8</td>\n",
       "      <td>1.20409e+11</td>\n",
       "    </tr>\n",
       "    <tr>\n",
       "      <th>3</th>\n",
       "      <td>Artiodactyla</td>\n",
       "      <td>Bovidae</td>\n",
       "      <td>Cephalophusmonticola</td>\n",
       "      <td>4200.0</td>\n",
       "      <td>10.075</td>\n",
       "      <td>4200.0</td>\n",
       "      <td>10.075</td>\n",
       "      <td>Lovegrove(2000)</td>\n",
       "      <td>101.506</td>\n",
       "      <td>1.764e+07</td>\n",
       "    </tr>\n",
       "    <tr>\n",
       "      <th>4</th>\n",
       "      <td>Artiodactyla</td>\n",
       "      <td>Bovidae</td>\n",
       "      <td>Connochaetestaurinus</td>\n",
       "      <td>196500.0</td>\n",
       "      <td>230.073</td>\n",
       "      <td>196500.0</td>\n",
       "      <td>230.073</td>\n",
       "      <td>White&amp;Seymour(2003),Rogerson(1968)</td>\n",
       "      <td>52933.6</td>\n",
       "      <td>3.86122e+10</td>\n",
       "    </tr>\n",
       "  </tbody>\n",
       "</table>\n",
       "</div>"
      ],
      "text/plain": [
       "          Order          Family               Species   Mass(g)   BMR(W)  \\\n",
       "0  Artiodactyla  Antilocapridae  Antilocapraamericana   32000.0   49.984   \n",
       "1  Artiodactyla  Antilocapridae  Antilocapraamericana   37800.0   51.981   \n",
       "2  Artiodactyla         Bovidae             Bostaurus  347000.0  306.770   \n",
       "3  Artiodactyla         Bovidae  Cephalophusmonticola    4200.0   10.075   \n",
       "4  Artiodactyla         Bovidae  Connochaetestaurinus  196500.0  230.073   \n",
       "\n",
       "   Speciesavg.mass(g)  Speciesavg.BMR(W)                          References  \\\n",
       "0             34779.3             50.973                     Lovegrove(2000)   \n",
       "1                 NaN                NaN                 White&Seymour(2003)   \n",
       "2            347000.0            306.770                       Heusner(1991)   \n",
       "3              4200.0             10.075                     Lovegrove(2000)   \n",
       "4            196500.0            230.073  White&Seymour(2003),Rogerson(1968)   \n",
       "\n",
       "       lmr          lbm  \n",
       "0   2498.4    1.024e+09  \n",
       "1  2702.02  1.42884e+09  \n",
       "2  94107.8  1.20409e+11  \n",
       "3  101.506    1.764e+07  \n",
       "4  52933.6  3.86122e+10  "
      ]
     },
     "execution_count": 76,
     "metadata": {},
     "output_type": "execute_result"
    }
   ],
   "source": [
    "data['lbm'] = None\n",
    "i = 0\n",
    "for i in range(data.shape[0]):\n",
    "    data['lbm'].at[i]= math.pow(data['Mass(g)'][i], 2)\n",
    "data.head()"
   ]
  },
  {
   "cell_type": "code",
   "execution_count": 77,
   "metadata": {},
   "outputs": [
    {
     "data": {
      "text/plain": [
       "<matplotlib.collections.PathCollection at 0x1a1b363978>"
      ]
     },
     "execution_count": 77,
     "metadata": {},
     "output_type": "execute_result"
    },
    {
     "data": {
      "image/png": "[encoded data removed]",
      "text/plain": [
       "<matplotlib.figure.Figure at 0x1a1b158cc0>"
      ]
     },
     "metadata": {},
     "output_type": "display_data"
    }
   ],
   "source": [
    "plt.scatter(data.lbm, data.lmr) # and after"
   ]
  },
  {
   "cell_type": "markdown",
   "metadata": {},
   "source": [
    "#### Can you justify the output of this figure?"
   ]
  },
  {
   "cell_type": "markdown",
   "metadata": {},
   "source": [
    "### 3.3 Log transformation:"
   ]
  },
  {
   "cell_type": "code",
   "execution_count": 81,
   "metadata": {},
   "outputs": [
    {
     "data": {
      "text/html": [
       "<div>\n",
       "<style scoped>\n",
       "    .dataframe tbody tr th:only-of-type {\n",
       "        vertical-align: middle;\n",
       "    }\n",
       "\n",
       "    .dataframe tbody tr th {\n",
       "        vertical-align: top;\n",
       "    }\n",
       "\n",
       "    .dataframe thead th {\n",
       "        text-align: right;\n",
       "    }\n",
       "</style>\n",
       "<table border=\"1\" class=\"dataframe\">\n",
       "  <thead>\n",
       "    <tr style=\"text-align: right;\">\n",
       "      <th></th>\n",
       "      <th>Order</th>\n",
       "      <th>Family</th>\n",
       "      <th>Species</th>\n",
       "      <th>Mass(g)</th>\n",
       "      <th>BMR(W)</th>\n",
       "      <th>Speciesavg.mass(g)</th>\n",
       "      <th>Speciesavg.BMR(W)</th>\n",
       "      <th>References</th>\n",
       "      <th>lmr</th>\n",
       "      <th>lbm</th>\n",
       "    </tr>\n",
       "  </thead>\n",
       "  <tbody>\n",
       "    <tr>\n",
       "      <th>0</th>\n",
       "      <td>Artiodactyla</td>\n",
       "      <td>Antilocapridae</td>\n",
       "      <td>Antilocapraamericana</td>\n",
       "      <td>32000.0</td>\n",
       "      <td>49.984</td>\n",
       "      <td>34779.3</td>\n",
       "      <td>50.973</td>\n",
       "      <td>Lovegrove(2000)</td>\n",
       "      <td>3.9117</td>\n",
       "      <td>10.3735</td>\n",
       "    </tr>\n",
       "    <tr>\n",
       "      <th>1</th>\n",
       "      <td>Artiodactyla</td>\n",
       "      <td>Antilocapridae</td>\n",
       "      <td>Antilocapraamericana</td>\n",
       "      <td>37800.0</td>\n",
       "      <td>51.981</td>\n",
       "      <td>NaN</td>\n",
       "      <td>NaN</td>\n",
       "      <td>White&amp;Seymour(2003)</td>\n",
       "      <td>3.95088</td>\n",
       "      <td>10.5401</td>\n",
       "    </tr>\n",
       "    <tr>\n",
       "      <th>2</th>\n",
       "      <td>Artiodactyla</td>\n",
       "      <td>Bovidae</td>\n",
       "      <td>Bostaurus</td>\n",
       "      <td>347000.0</td>\n",
       "      <td>306.770</td>\n",
       "      <td>347000.0</td>\n",
       "      <td>306.770</td>\n",
       "      <td>Heusner(1991)</td>\n",
       "      <td>5.7261</td>\n",
       "      <td>12.7571</td>\n",
       "    </tr>\n",
       "    <tr>\n",
       "      <th>3</th>\n",
       "      <td>Artiodactyla</td>\n",
       "      <td>Bovidae</td>\n",
       "      <td>Cephalophusmonticola</td>\n",
       "      <td>4200.0</td>\n",
       "      <td>10.075</td>\n",
       "      <td>4200.0</td>\n",
       "      <td>10.075</td>\n",
       "      <td>Lovegrove(2000)</td>\n",
       "      <td>2.31006</td>\n",
       "      <td>8.34284</td>\n",
       "    </tr>\n",
       "    <tr>\n",
       "      <th>4</th>\n",
       "      <td>Artiodactyla</td>\n",
       "      <td>Bovidae</td>\n",
       "      <td>Connochaetestaurinus</td>\n",
       "      <td>196500.0</td>\n",
       "      <td>230.073</td>\n",
       "      <td>196500.0</td>\n",
       "      <td>230.073</td>\n",
       "      <td>White&amp;Seymour(2003),Rogerson(1968)</td>\n",
       "      <td>5.4384</td>\n",
       "      <td>12.1884</td>\n",
       "    </tr>\n",
       "  </tbody>\n",
       "</table>\n",
       "</div>"
      ],
      "text/plain": [
       "          Order          Family               Species   Mass(g)   BMR(W)  \\\n",
       "0  Artiodactyla  Antilocapridae  Antilocapraamericana   32000.0   49.984   \n",
       "1  Artiodactyla  Antilocapridae  Antilocapraamericana   37800.0   51.981   \n",
       "2  Artiodactyla         Bovidae             Bostaurus  347000.0  306.770   \n",
       "3  Artiodactyla         Bovidae  Cephalophusmonticola    4200.0   10.075   \n",
       "4  Artiodactyla         Bovidae  Connochaetestaurinus  196500.0  230.073   \n",
       "\n",
       "   Speciesavg.mass(g)  Speciesavg.BMR(W)                          References  \\\n",
       "0             34779.3             50.973                     Lovegrove(2000)   \n",
       "1                 NaN                NaN                 White&Seymour(2003)   \n",
       "2            347000.0            306.770                       Heusner(1991)   \n",
       "3              4200.0             10.075                     Lovegrove(2000)   \n",
       "4            196500.0            230.073  White&Seymour(2003),Rogerson(1968)   \n",
       "\n",
       "       lmr      lbm  \n",
       "0   3.9117  10.3735  \n",
       "1  3.95088  10.5401  \n",
       "2   5.7261  12.7571  \n",
       "3  2.31006  8.34284  \n",
       "4   5.4384  12.1884  "
      ]
     },
     "execution_count": 81,
     "metadata": {},
     "output_type": "execute_result"
    }
   ],
   "source": [
    "import math\n",
    "data['lmr'] = None\n",
    "for i in range(data.shape[0]):\n",
    "    data['lmr'].at[i]= math.log(data['BMR(W)'][i])\n",
    "data.head()"
   ]
  },
  {
   "cell_type": "code",
   "execution_count": 82,
   "metadata": {},
   "outputs": [
    {
     "data": {
      "text/html": [
       "<div>\n",
       "<style scoped>\n",
       "    .dataframe tbody tr th:only-of-type {\n",
       "        vertical-align: middle;\n",
       "    }\n",
       "\n",
       "    .dataframe tbody tr th {\n",
       "        vertical-align: top;\n",
       "    }\n",
       "\n",
       "    .dataframe thead th {\n",
       "        text-align: right;\n",
       "    }\n",
       "</style>\n",
       "<table border=\"1\" class=\"dataframe\">\n",
       "  <thead>\n",
       "    <tr style=\"text-align: right;\">\n",
       "      <th></th>\n",
       "      <th>Order</th>\n",
       "      <th>Family</th>\n",
       "      <th>Species</th>\n",
       "      <th>Mass(g)</th>\n",
       "      <th>BMR(W)</th>\n",
       "      <th>Speciesavg.mass(g)</th>\n",
       "      <th>Speciesavg.BMR(W)</th>\n",
       "      <th>References</th>\n",
       "      <th>lmr</th>\n",
       "      <th>lbm</th>\n",
       "    </tr>\n",
       "  </thead>\n",
       "  <tbody>\n",
       "    <tr>\n",
       "      <th>0</th>\n",
       "      <td>Artiodactyla</td>\n",
       "      <td>Antilocapridae</td>\n",
       "      <td>Antilocapraamericana</td>\n",
       "      <td>32000.0</td>\n",
       "      <td>49.984</td>\n",
       "      <td>34779.3</td>\n",
       "      <td>50.973</td>\n",
       "      <td>Lovegrove(2000)</td>\n",
       "      <td>3.9117</td>\n",
       "      <td>10.3735</td>\n",
       "    </tr>\n",
       "    <tr>\n",
       "      <th>1</th>\n",
       "      <td>Artiodactyla</td>\n",
       "      <td>Antilocapridae</td>\n",
       "      <td>Antilocapraamericana</td>\n",
       "      <td>37800.0</td>\n",
       "      <td>51.981</td>\n",
       "      <td>NaN</td>\n",
       "      <td>NaN</td>\n",
       "      <td>White&amp;Seymour(2003)</td>\n",
       "      <td>3.95088</td>\n",
       "      <td>10.5401</td>\n",
       "    </tr>\n",
       "    <tr>\n",
       "      <th>2</th>\n",
       "      <td>Artiodactyla</td>\n",
       "      <td>Bovidae</td>\n",
       "      <td>Bostaurus</td>\n",
       "      <td>347000.0</td>\n",
       "      <td>306.770</td>\n",
       "      <td>347000.0</td>\n",
       "      <td>306.770</td>\n",
       "      <td>Heusner(1991)</td>\n",
       "      <td>5.7261</td>\n",
       "      <td>12.7571</td>\n",
       "    </tr>\n",
       "    <tr>\n",
       "      <th>3</th>\n",
       "      <td>Artiodactyla</td>\n",
       "      <td>Bovidae</td>\n",
       "      <td>Cephalophusmonticola</td>\n",
       "      <td>4200.0</td>\n",
       "      <td>10.075</td>\n",
       "      <td>4200.0</td>\n",
       "      <td>10.075</td>\n",
       "      <td>Lovegrove(2000)</td>\n",
       "      <td>2.31006</td>\n",
       "      <td>8.34284</td>\n",
       "    </tr>\n",
       "    <tr>\n",
       "      <th>4</th>\n",
       "      <td>Artiodactyla</td>\n",
       "      <td>Bovidae</td>\n",
       "      <td>Connochaetestaurinus</td>\n",
       "      <td>196500.0</td>\n",
       "      <td>230.073</td>\n",
       "      <td>196500.0</td>\n",
       "      <td>230.073</td>\n",
       "      <td>White&amp;Seymour(2003),Rogerson(1968)</td>\n",
       "      <td>5.4384</td>\n",
       "      <td>12.1884</td>\n",
       "    </tr>\n",
       "  </tbody>\n",
       "</table>\n",
       "</div>"
      ],
      "text/plain": [
       "          Order          Family               Species   Mass(g)   BMR(W)  \\\n",
       "0  Artiodactyla  Antilocapridae  Antilocapraamericana   32000.0   49.984   \n",
       "1  Artiodactyla  Antilocapridae  Antilocapraamericana   37800.0   51.981   \n",
       "2  Artiodactyla         Bovidae             Bostaurus  347000.0  306.770   \n",
       "3  Artiodactyla         Bovidae  Cephalophusmonticola    4200.0   10.075   \n",
       "4  Artiodactyla         Bovidae  Connochaetestaurinus  196500.0  230.073   \n",
       "\n",
       "   Speciesavg.mass(g)  Speciesavg.BMR(W)                          References  \\\n",
       "0             34779.3             50.973                     Lovegrove(2000)   \n",
       "1                 NaN                NaN                 White&Seymour(2003)   \n",
       "2            347000.0            306.770                       Heusner(1991)   \n",
       "3              4200.0             10.075                     Lovegrove(2000)   \n",
       "4            196500.0            230.073  White&Seymour(2003),Rogerson(1968)   \n",
       "\n",
       "       lmr      lbm  \n",
       "0   3.9117  10.3735  \n",
       "1  3.95088  10.5401  \n",
       "2   5.7261  12.7571  \n",
       "3  2.31006  8.34284  \n",
       "4   5.4384  12.1884  "
      ]
     },
     "execution_count": 82,
     "metadata": {},
     "output_type": "execute_result"
    }
   ],
   "source": [
    "data['lbm'] = None\n",
    "for i in range(data.shape[0]):\n",
    "    data['lbm'].at[i]= math.log(data['Mass(g)'][i])\n",
    "data.head()"
   ]
  },
  {
   "cell_type": "code",
   "execution_count": 83,
   "metadata": {},
   "outputs": [
    {
     "data": {
      "text/plain": [
       "<matplotlib.collections.PathCollection at 0x1a1b372a58>"
      ]
     },
     "execution_count": 83,
     "metadata": {},
     "output_type": "execute_result"
    },
    {
     "data": {
      "image/png": "[encoded data removed]",
      "text/plain": [
       "<matplotlib.figure.Figure at 0x1a1b637588>"
      ]
     },
     "metadata": {},
     "output_type": "display_data"
    }
   ],
   "source": [
    "plt.scatter(data.lbm, data.lmr) # and after"
   ]
  },
  {
   "cell_type": "markdown",
   "metadata": {},
   "source": [
    "Apparently, the best transformation for this data is log transformation. As the data is positively skewed. we will need to compress large values. That means we need to move down the ladder of powers to spread out data that is clustered at lower values. Therefore, logarithmic is the appropriate transformation in this case. \n",
    "\n",
    "Some materials used in this tutorial are based on http://sebastianraschka.com/Articles/2014_about_feature_scaling.html"
   ]
  },
  {
   "cell_type": "markdown",
   "metadata": {
    "collapsed": true
   },
   "source": [
    "## 4. Home work:\n",
    "Consider the following dataset:"
   ]
  },
  {
   "cell_type": "code",
   "execution_count": 108,
   "metadata": {},
   "outputs": [],
   "source": [
    "body_mass = [32000, 37800, 347000, 4200, 196500, 100000, 4290, \n",
    "32000, 65000, 69125, 9600, 133300, 150000, 407000, 115000, 67000, \n",
    "325000, 21500, 58588, 65320, 85000, 135000, 20500, 1613, 1618]\n",
    "\n",
    "metabolic_rate = [49.984, 51.981, 306.770, 10.075, 230.073, \n",
    "148.949, 11.966, 46.414, 123.287, 106.663, 20.619, 180.150, \n",
    "200.830, 224.779, 148.940, 112.430, 286.847, 46.347, 142.863, \n",
    "106.670, 119.660, 104.150, 33.165, 4.900, 4.865]"
   ]
  },
  {
   "cell_type": "code",
   "execution_count": 109,
   "metadata": {},
   "outputs": [
    {
     "data": {
      "text/plain": [
       "<matplotlib.collections.PathCollection at 0x1a1d051048>"
      ]
     },
     "execution_count": 109,
     "metadata": {},
     "output_type": "execute_result"
    },
    {
     "data": {
      "image/png": "[encoded data removed]",
      "text/plain": [
       "<matplotlib.figure.Figure at 0x1a1cff46a0>"
      ]
     },
     "metadata": {},
     "output_type": "display_data"
    }
   ],
   "source": [
    "plt.scatter(body_mass, metabolic_rate)"
   ]
  },
  {
   "cell_type": "code",
   "execution_count": 110,
   "metadata": {},
   "outputs": [
    {
     "data": {
      "text/html": [
       "<div>\n",
       "<style scoped>\n",
       "    .dataframe tbody tr th:only-of-type {\n",
       "        vertical-align: middle;\n",
       "    }\n",
       "\n",
       "    .dataframe tbody tr th {\n",
       "        vertical-align: top;\n",
       "    }\n",
       "\n",
       "    .dataframe thead th {\n",
       "        text-align: right;\n",
       "    }\n",
       "</style>\n",
       "<table border=\"1\" class=\"dataframe\">\n",
       "  <thead>\n",
       "    <tr style=\"text-align: right;\">\n",
       "      <th></th>\n",
       "      <th>bodyMass</th>\n",
       "      <th>metaRate</th>\n",
       "    </tr>\n",
       "  </thead>\n",
       "  <tbody>\n",
       "    <tr>\n",
       "      <th>0</th>\n",
       "      <td>32000</td>\n",
       "      <td>49.984</td>\n",
       "    </tr>\n",
       "    <tr>\n",
       "      <th>1</th>\n",
       "      <td>37800</td>\n",
       "      <td>51.981</td>\n",
       "    </tr>\n",
       "    <tr>\n",
       "      <th>2</th>\n",
       "      <td>347000</td>\n",
       "      <td>306.770</td>\n",
       "    </tr>\n",
       "    <tr>\n",
       "      <th>3</th>\n",
       "      <td>4200</td>\n",
       "      <td>10.075</td>\n",
       "    </tr>\n",
       "    <tr>\n",
       "      <th>4</th>\n",
       "      <td>196500</td>\n",
       "      <td>230.073</td>\n",
       "    </tr>\n",
       "  </tbody>\n",
       "</table>\n",
       "</div>"
      ],
      "text/plain": [
       "   bodyMass  metaRate\n",
       "0     32000    49.984\n",
       "1     37800    51.981\n",
       "2    347000   306.770\n",
       "3      4200    10.075\n",
       "4    196500   230.073"
      ]
     },
     "execution_count": 110,
     "metadata": {},
     "output_type": "execute_result"
    }
   ],
   "source": [
    "df = pd.DataFrame({\"bodyMass\":body_mass, \n",
    "                  \"metaRate\":metabolic_rate})\n",
    "df.head()"
   ]
  },
  {
   "cell_type": "code",
   "execution_count": 111,
   "metadata": {},
   "outputs": [],
   "source": [
    "for i in range(df.shape[0]):\n",
    "    df[\"bodyMass\"].at[i] = math.sqrt(df[\"bodyMass\"][i])\n",
    "    df[\"metaRate\"].at[i] = math.sqrt(df[\"metaRate\"][i])"
   ]
  },
  {
   "cell_type": "code",
   "execution_count": 112,
   "metadata": {},
   "outputs": [
    {
     "data": {
      "text/plain": [
       "<matplotlib.collections.PathCollection at 0x1a1abb9b00>"
      ]
     },
     "execution_count": 112,
     "metadata": {},
     "output_type": "execute_result"
    },
    {
     "data": {
      "image/png": "[encoded data removed]",
      "text/plain": [
       "<matplotlib.figure.Figure at 0x1a1cf90cc0>"
      ]
     },
     "metadata": {},
     "output_type": "display_data"
    }
   ],
   "source": [
    "plt.scatter(df.bodyMass, df.metaRate)"
   ]
  },
  {
   "cell_type": "markdown",
   "metadata": {},
   "source": [
    "#### What will be the appropriate transformation to apply for this data? Post your finds in the forum."
   ]
  }
 ],
 "metadata": {
  "kernelspec": {
   "display_name": "Python 3",
   "language": "python",
   "name": "python3"
  },
  "language_info": {
   "codemirror_mode": {
    "name": "ipython",
    "version": 3
   },
   "file_extension": ".py",
   "mimetype": "text/x-python",
   "name": "python",
   "nbconvert_exporter": "python",
   "pygments_lexer": "ipython3",
   "version": "3.6.4"
  }
 },
 "nbformat": 4,
 "nbformat_minor": 1
}
