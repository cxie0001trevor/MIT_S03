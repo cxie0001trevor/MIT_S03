{
 "cells": [
  {
   "cell_type": "markdown",
   "metadata": {},
   "source": [
    "# Data Normalisation and Transformation\n",
    "\n",
    "When one or more datasets affects results disproportionately, normalization or scaling gives a level playing field. In this activity, we will apply different data methods for data normalisation and transformation. We first read the dataset that is used for the first part of the analysis. \n"
   ]
  },
  {
   "cell_type": "code",
   "execution_count": null,
   "metadata": {
    "collapsed": false
   },
   "outputs": [],
   "source": [
    "import pandas as pd\n",
    "import numpy as np\n",
    "\n",
    "df = pd.read_csv( 'wine_data.csv', header = None, usecols = [0,1,2])\n",
    "df.columns=['Class label', 'Alcohol', 'Malic acid']\n",
    "df.head()"
   ]
  },
  {
   "cell_type": "code",
   "execution_count": null,
   "metadata": {
    "collapsed": false
   },
   "outputs": [],
   "source": [
    "df.describe()"
   ]
  },
  {
   "cell_type": "markdown",
   "metadata": {},
   "source": [
    "As we can see in the tables above, the features, Alcohol (percent/volumne) and Malic acid (g/l) are measured on different scales, so scaling is necessary prior to any comparison or combination of data."
   ]
  },
  {
   "cell_type": "code",
   "execution_count": null,
   "metadata": {
    "collapsed": false
   },
   "outputs": [],
   "source": [
    "df.Alcohol.mean() / df[\"Malic acid\"].mean() # difference is factor of ~5x"
   ]
  },
  {
   "cell_type": "markdown",
   "metadata": {},
   "source": [
    "## 1. Z-Score Normalisation (standardisation): \n",
    "\n",
    "We use scikit-learn linrary for standardise data (mean=0, SD=1). The class you are going to use is the <a href=\"http://scikit-learn.org/stable/modules/generated/sklearn.preprocessing.StandardScaler.html\">StandardScaler</a> class. More reading materials can be found <a href=\"http://scikit-learn.org/stable/modules/preprocessing.html\">here</a>. \n",
    "\n",
    "The task here it to standardise the values of Alcohol and Malic Acid, and append the standard variables to the DataFrame \"df\" as follows\n",
    "\n",
    "<img src=\"fig_1.png\" alt=\"Smiley face\" height=\"400\" width=\"500\">"
   ]
  },
  {
   "cell_type": "code",
   "execution_count": null,
   "metadata": {
    "collapsed": true
   },
   "outputs": [],
   "source": [
    "from sklearn import preprocessing"
   ]
  },
  {
   "cell_type": "code",
   "execution_count": null,
   "metadata": {
    "collapsed": false
   },
   "outputs": [],
   "source": [
    "std_scale = \n",
    "df_std =\n",
    "df_std[0:5]"
   ]
  },
  {
   "cell_type": "code",
   "execution_count": null,
   "metadata": {
    "collapsed": false
   },
   "outputs": [],
   "source": [
    "# put it alongside data... to view\n",
    "df['Ascaled'] = df_std[:,0] # so 'Ascaled' is Alcohol scaled\n",
    "df['MAscaled'] = df_std[:,1] # and 'MAscaled' is Malic acid scaled\n",
    "df.head()"
   ]
  },
  {
   "cell_type": "markdown",
   "metadata": {},
   "source": [
    "Now, compute and display the normalised values for both features. Let's check if they have mean of 0 and SD= 1."
   ]
  },
  {
   "cell_type": "code",
   "execution_count": null,
   "metadata": {
    "collapsed": false
   },
   "outputs": [],
   "source": [
    "df.describe() # check that μ = 0 and σ = 1... approx"
   ]
  },
  {
   "cell_type": "markdown",
   "metadata": {},
   "source": [
    "Or you can print out values:"
   ]
  },
  {
   "cell_type": "code",
   "execution_count": null,
   "metadata": {
    "collapsed": false
   },
   "outputs": [],
   "source": [
    "print('Mean after standardisation:\\nAlcohol = {:.2f}, Malic acid = {:.2f}'\n",
    "      .format(df_std[:,0].mean(), df_std[:,1].mean()))\n",
    "print('\\nStandard deviation after standardisation:\\nAlcohol = {:.2f}, Malic acid = {:.2f}'\n",
    "      .format(df_std[:,0].std(), df_std[:,1].std()))"
   ]
  },
  {
   "cell_type": "markdown",
   "metadata": {},
   "source": [
    "#### Compare the variables before and after normalization with plots\n",
    "In order to investigate how the normalization actually affect the data, we can visualize the data by plotting the variable values.\n",
    "\n",
    "Firstly, plot the original data, i.e., data before normalization"
   ]
  },
  {
   "cell_type": "code",
   "execution_count": null,
   "metadata": {
    "collapsed": true
   },
   "outputs": [],
   "source": [
    "%matplotlib inline"
   ]
  },
  {
   "cell_type": "code",
   "execution_count": null,
   "metadata": {
    "collapsed": false
   },
   "outputs": [],
   "source": [
    "df[\"Alcohol\"].plot(), df[\"Malic acid\"].plot()"
   ]
  },
  {
   "cell_type": "markdown",
   "metadata": {},
   "source": [
    "Now, we plot  the standardized data, and observe the range and the centre of the distribution for the standardised features. "
   ]
  },
  {
   "cell_type": "code",
   "execution_count": null,
   "metadata": {
    "collapsed": false
   },
   "outputs": [],
   "source": [
    "# or split them from the others\n",
    "df[\"MAscaled\"].plot(), df[\"Ascaled\"].plot()"
   ]
  },
  {
   "cell_type": "markdown",
   "metadata": {},
   "source": [
    "You can see from above graphs that both original and standardized data are in the same shape but shifted."
   ]
  },
  {
   "cell_type": "code",
   "execution_count": null,
   "metadata": {
    "collapsed": false
   },
   "outputs": [],
   "source": [
    "df[\"Ascaled\"].plot(), df[\"Alcohol\"].plot()"
   ]
  },
  {
   "cell_type": "code",
   "execution_count": null,
   "metadata": {
    "collapsed": false
   },
   "outputs": [],
   "source": [
    "df[\"MAscaled\"].plot(), df[\"Malic acid\"].plot()\n"
   ]
  },
  {
   "cell_type": "markdown",
   "metadata": {},
   "source": [
    "## 2. MinMax Noramlisation:\n",
    "\n",
    "In this section, we discuss a different type of normalization for reshaping the range of data. We process the same data we used in the previous section. We can implement this either Scikit-Learn or manually. \n",
    "\n",
    "### 2.1 Using scikit-learn:\n",
    "please refer to section 4.3.1.1 \"<a href=\"http://scikit-learn.org/stable/modules/preprocessing.html#scaling-features-to-a-range\">Scaling features to a range</a>\" for more detailed discussion. Similar to what you have done with the StandardScaler, here you are going to use the <a href=\"http://scikit-learn.org/stable/modules/generated/sklearn.preprocessing.MinMaxScaler.html\">MinMaxScaler</a>."
   ]
  },
  {
   "cell_type": "code",
   "execution_count": null,
   "metadata": {
    "collapsed": false
   },
   "outputs": [],
   "source": [
    "minmax_scale = \n",
    "df_minmax = \n",
    "df_minmax[0:5]"
   ]
  },
  {
   "cell_type": "markdown",
   "metadata": {},
   "source": [
    "### 2.2 Manually:\n",
    "Of course, you can implement the Min-Max normalization according to the formulas discussed in the lecture.\n",
    "\n",
    "Firstly, find the min and max of \"df.Alcohol\"."
   ]
  },
  {
   "cell_type": "code",
   "execution_count": null,
   "metadata": {
    "collapsed": false
   },
   "outputs": [],
   "source": [
    "minA = df.Alcohol.min()\n",
    "maxA = df.Alcohol.max()\n",
    "minA, maxA"
   ]
  },
  {
   "cell_type": "markdown",
   "metadata": {},
   "source": [
    "Manually apply the min-max normalization to the first value of \"df.Alcohol\", "
   ]
  },
  {
   "cell_type": "code",
   "execution_count": null,
   "metadata": {
    "collapsed": false
   },
   "outputs": [],
   "source": [
    "a = df.Alcohol[0] # the first value, for practice\n",
    "#Write you code here\n",
    "mma = (a - minA) / (maxA - minA)\n",
    "mma"
   ]
  },
  {
   "cell_type": "markdown",
   "metadata": {},
   "source": [
    "and then compare the manually computed value with the one given by the MinMaxScaler above."
   ]
  },
  {
   "cell_type": "code",
   "execution_count": null,
   "metadata": {
    "collapsed": false
   },
   "outputs": [],
   "source": [
    "df_minmax[0][0]"
   ]
  },
  {
   "cell_type": "markdown",
   "metadata": {},
   "source": [
    "The two values should be the same.\n",
    "Now, let's look at the normalization of the max value in \"df.Alcohol\"."
   ]
  },
  {
   "cell_type": "code",
   "execution_count": null,
   "metadata": {
    "collapsed": false
   },
   "outputs": [],
   "source": [
    "a = df[df.Alcohol == df.Alcohol.max()].Alcohol\n",
    "mma = (a - minA) / (maxA - minA)\n",
    "mma"
   ]
  },
  {
   "cell_type": "markdown",
   "metadata": {
    "collapsed": false
   },
   "source": [
    "The normalized value of max must be 1.0 exactly, think about the reason! Then, how about the \n",
    "min value of \"df.Alcohol\"?"
   ]
  },
  {
   "cell_type": "code",
   "execution_count": null,
   "metadata": {
    "collapsed": false
   },
   "outputs": [],
   "source": [
    "print('Min-value after min-max scaling:\\nAlcohol = {:.2f}, Malic acid = {:.2f}'\n",
    "      .format(df_minmax[:,0].min(), df_minmax[:,1].min()))\n",
    "print('\\nMax-value after min-max scaling:\\nAlcohol = {:.2f}, Malic acid = {:.2f}'\n",
    "      .format(df_minmax[:,0].max(), df_minmax[:,1].max()))"
   ]
  },
  {
   "cell_type": "markdown",
   "metadata": {},
   "source": [
    "### 2.3 Plot the original, standardised and normalised data values. "
   ]
  },
  {
   "cell_type": "code",
   "execution_count": null,
   "metadata": {
    "collapsed": false
   },
   "outputs": [],
   "source": [
    "# and plot\n",
    "%matplotlib inline\n",
    "\n",
    "from matplotlib import pyplot as plt\n",
    "\n",
    "def plot():\n",
    "    f = plt.figure(figsize=(8,6))\n",
    "\n",
    "    plt.scatter(df['Alcohol'], df['Malic acid'],\n",
    "            color='green', label='input scale', alpha=0.5)\n",
    "\n",
    " #   plt.scatter(df_std[:,0], df_std[:,1], color='red',\n",
    " #           label='Standardized [$$N  (\\mu=0, \\; \\sigma=1)$$]', alpha=0.3)\n",
    "    plt.scatter(df_std[:,0], df_std[:,1], color='red',\n",
    "             label='Standardized u=0, s=1', alpha=0.3) # can't print: μ = 0, σ = 0\n",
    "    \n",
    "    plt.scatter(df_minmax[:,0], df_minmax[:,1],\n",
    "            color='blue', label='min-max scaled [min=0, max=1]', alpha=0.3)\n",
    "\n",
    "    plt.title('Alcohol and Malic Acid content of the wine dataset')\n",
    "    plt.xlabel('Alcohol')\n",
    "    plt.ylabel('Malic Acid')\n",
    "    plt.legend(loc='upper left')\n",
    "    plt.grid()\n",
    "    plt.tight_layout()\n",
    "    #f.savefig(\"z_min_max.pdf\", bbox_inches='tight')\n",
    "\n",
    "plot()\n",
    "plt.show()"
   ]
  },
  {
   "cell_type": "markdown",
   "metadata": {
    "collapsed": true
   },
   "source": [
    "#### The plot above includes the wine datapoints on all three different scales: \n",
    "* the input scale  where the alcohol content was measured in volume-percent (green),\n",
    "* the standardized features (red), and \n",
    "* the normalized features (blue). \n",
    "\n",
    "#### In the following plot, we will zoom in into the three different axis-scales while dispalying class values. "
   ]
  },
  {
   "cell_type": "code",
   "execution_count": null,
   "metadata": {
    "collapsed": false
   },
   "outputs": [],
   "source": [
    "fig, ax = plt.subplots(3, figsize=(6,14))\n",
    "\n",
    "for a,d,l in zip(range(len(ax)),\n",
    "               (df[['Alcohol', 'Malic acid']].values, df_std, df_minmax),\n",
    "               ('Input scale',\n",
    "                'Standardized [u=0 s=1]',\n",
    "                'min-max scaled [min=0, max=1]')\n",
    "                ):\n",
    "    for i,c in zip(range(1,4), ('red', 'blue', 'green')):\n",
    "        ax[a].scatter(d[df['Class label'].values == i, 0],\n",
    "                  d[df['Class label'].values == i, 1],\n",
    "                  alpha=0.5,\n",
    "                  color=c,\n",
    "                  label='Class %s' %i\n",
    "                  )\n",
    "    ax[a].set_title(l)\n",
    "    ax[a].set_xlabel('Alcohol')\n",
    "    ax[a].set_ylabel('Malic Acid')\n",
    "    ax[a].legend(loc='upper left')\n",
    "    ax[a].grid()\n",
    "\n",
    "plt.tight_layout()\n",
    "\n",
    "plt.show()"
   ]
  },
  {
   "cell_type": "markdown",
   "metadata": {},
   "source": [
    "## 3. Data Transformation:"
   ]
  },
  {
   "cell_type": "markdown",
   "metadata": {},
   "source": [
    "Another way to reshape data is to perform data transformation. We will display an example of data that is with right skew (positive skew). We will need to compress large values. We first read the data used for this activity. "
   ]
  },
  {
   "cell_type": "code",
   "execution_count": null,
   "metadata": {
    "collapsed": false
   },
   "outputs": [],
   "source": [
    "import pandas as pd\n",
    "data = pd.read_csv(\"bmr.csv\")"
   ]
  },
  {
   "cell_type": "code",
   "execution_count": null,
   "metadata": {
    "collapsed": false
   },
   "outputs": [],
   "source": [
    "data.head()"
   ]
  },
  {
   "cell_type": "code",
   "execution_count": null,
   "metadata": {
    "collapsed": false
   },
   "outputs": [],
   "source": [
    "plt.scatter(data[\"BMR(W)\"], data[\"Mass(g)\"]) # before"
   ]
  },
  {
   "cell_type": "markdown",
   "metadata": {},
   "source": [
    "### So, which transformation type will suit this data?"
   ]
  },
  {
   "cell_type": "markdown",
   "metadata": {},
   "source": [
    "In Tukey's ladder of power, we discussed different kind of transformation. Here you are going to \n",
    "compare the following three kinds of transformations\n",
    "* Root transformation\n",
    "* Square power transformation\n",
    "* Log transformation\n",
    "\n",
    "The implementation of Root transformation is given as follows. You need to finish the other two kinds of transformation."
   ]
  },
  {
   "cell_type": "markdown",
   "metadata": {},
   "source": [
    "### 3.1 Root transformation:"
   ]
  },
  {
   "cell_type": "code",
   "execution_count": null,
   "metadata": {
    "collapsed": false
   },
   "outputs": [],
   "source": [
    "import math\n",
    "data['lmr'] = None\n",
    "i = 0\n",
    "for row in data.iterrows():\n",
    "    #Write you code below\n",
    "    \n",
    "    i += 1\n",
    "data.head()"
   ]
  },
  {
   "cell_type": "code",
   "execution_count": null,
   "metadata": {
    "collapsed": false
   },
   "outputs": [],
   "source": [
    "data['lbm'] = None\n",
    "i = 0\n",
    "for row in data.iterrows():\n",
    "    #write you code below\n",
    "    \n",
    "    i += 1  \n",
    "data.head()"
   ]
  },
  {
   "cell_type": "code",
   "execution_count": null,
   "metadata": {
    "collapsed": false
   },
   "outputs": [],
   "source": [
    "plt.scatter(data.lbm, data.lmr) # and after"
   ]
  },
  {
   "cell_type": "markdown",
   "metadata": {},
   "source": [
    "#### Does it give a better spread of the data? Let's try something else."
   ]
  },
  {
   "cell_type": "markdown",
   "metadata": {},
   "source": [
    "### 3.2 Square power transformation:"
   ]
  },
  {
   "cell_type": "code",
   "execution_count": null,
   "metadata": {
    "collapsed": false
   },
   "outputs": [],
   "source": [
    "import math\n",
    "data['lmr'] = None\n",
    "i = 0\n",
    "for row in data.iterrows():\n",
    "    #write you code below\n",
    "    i += 1\n",
    "\n",
    "    \n",
    "data.head()"
   ]
  },
  {
   "cell_type": "code",
   "execution_count": null,
   "metadata": {
    "collapsed": false
   },
   "outputs": [],
   "source": [
    "data['lbm'] = None\n",
    "i = 0\n",
    "for row in data.iterrows():\n",
    "    #write you code below\n",
    "    \n",
    "    i += 1\n",
    "\n",
    "    \n",
    "data.head()"
   ]
  },
  {
   "cell_type": "code",
   "execution_count": null,
   "metadata": {
    "collapsed": false
   },
   "outputs": [],
   "source": [
    "plt.scatter(data.lbm, data.lmr) # and after"
   ]
  },
  {
   "cell_type": "markdown",
   "metadata": {},
   "source": [
    "#### Can you justify the output of this figure?"
   ]
  },
  {
   "cell_type": "markdown",
   "metadata": {},
   "source": [
    "### 3.3 Log transformation:"
   ]
  },
  {
   "cell_type": "code",
   "execution_count": null,
   "metadata": {
    "collapsed": false
   },
   "outputs": [],
   "source": [
    "import math\n",
    "data['lmr'] = None\n",
    "i = 0\n",
    "for row in data.iterrows():\n",
    "    #write you code below\n",
    "    \n",
    "    i += 1\n",
    "\n",
    "    \n",
    "data.head()"
   ]
  },
  {
   "cell_type": "code",
   "execution_count": null,
   "metadata": {
    "collapsed": false
   },
   "outputs": [],
   "source": [
    "data['lbm'] = None\n",
    "i = 0\n",
    "for row in data.iterrows():\n",
    "    #write you code below\n",
    "    \n",
    "    i += 1\n",
    "\n",
    "    \n",
    "data.head()"
   ]
  },
  {
   "cell_type": "code",
   "execution_count": null,
   "metadata": {
    "collapsed": false
   },
   "outputs": [],
   "source": [
    "plt.scatter(data.lbm, data.lmr) # and after"
   ]
  },
  {
   "cell_type": "markdown",
   "metadata": {},
   "source": [
    "Apparently, the best transformation for this data is log transformation. As the data is positively skewed. we will need to compress large values. That means we need to move down the ladder of powers to spread out data that is clustered at lower values. Therefore, logarithmic is the appropriate transformation in this case. \n",
    "\n",
    "Some materials used in this tutorial are based on http://sebastianraschka.com/Articles/2014_about_feature_scaling.html"
   ]
  },
  {
   "cell_type": "markdown",
   "metadata": {
    "collapsed": true
   },
   "source": [
    "## 4. Home work:\n",
    "Consider the following dataset:"
   ]
  },
  {
   "cell_type": "code",
   "execution_count": null,
   "metadata": {
    "collapsed": true
   },
   "outputs": [],
   "source": [
    "body_mass = [32000, 37800, 347000, 4200, 196500, 100000, 4290, \n",
    "32000, 65000, 69125, 9600, 133300, 150000, 407000, 115000, 67000, \n",
    "325000, 21500, 58588, 65320, 85000, 135000, 20500, 1613, 1618]\n",
    "\n",
    "metabolic_rate = [49.984, 51.981, 306.770, 10.075, 230.073, \n",
    "148.949, 11.966, 46.414, 123.287, 106.663, 20.619, 180.150, \n",
    "200.830, 224.779, 148.940, 112.430, 286.847, 46.347, 142.863, \n",
    "106.670, 119.660, 104.150, 33.165, 4.900, 4.865]"
   ]
  },
  {
   "cell_type": "markdown",
   "metadata": {},
   "source": [
    "#### What will be the appropriate transformation to apply for this data? Post your finds in the forum."
   ]
  },
  {
   "cell_type": "code",
   "execution_count": null,
   "metadata": {
    "collapsed": true
   },
   "outputs": [],
   "source": []
  }
 ],
 "metadata": {
  "kernelspec": {
   "display_name": "Python [conda env:python3]",
   "language": "python",
   "name": "conda-env-python3-py"
  },
  "language_info": {
   "codemirror_mode": {
    "name": "ipython",
    "version": 3
   },
   "file_extension": ".py",
   "mimetype": "text/x-python",
   "name": "python",
   "nbconvert_exporter": "python",
   "pygments_lexer": "ipython3",
   "version": "3.6.1"
  }
 },
 "nbformat": 4,
 "nbformat_minor": 0
}
