{
 "cells": [
  {
   "cell_type": "code",
   "execution_count": 10,
   "metadata": {
    "collapsed": true
   },
   "outputs": [],
   "source": [
    "R = [8, 12, 16, 4, 11, 15, 3, 7, 14, 2, 6, 10, 1, 5, 9, 13]\n",
    "S = [54, 26, 93, 17, 77, 31, 44, 55, 20]"
   ]
  },
  {
   "cell_type": "code",
   "execution_count": 13,
   "metadata": {
    "collapsed": true
   },
   "outputs": [],
   "source": [
    "def qsort(data):\n",
    "    if len(data) <=1:\n",
    "        return data\n",
    "    else:\n",
    "        pivot = data[0]\n",
    "        left = [x for x in data[1:] if x<data[0]]\n",
    "        right = [x for x in data[1:] if x>data[0]]\n",
    "        print(\"pivot:%d \\n left: %s\\n right: %s\"% (pivot,left,right))\n",
    "        print(\"============================\")\n",
    "        return qsort(left) + [pivot] + qsort(right)"
   ]
  },
  {
   "cell_type": "code",
   "execution_count": 14,
   "metadata": {},
   "outputs": [
    {
     "name": "stdout",
     "output_type": "stream",
     "text": [
      "pivot:54 \n",
      " left: [26, 17, 31, 44, 20]\n",
      " right: [93, 77, 55]\n",
      "============================\n",
      "pivot:26 \n",
      " left: [17, 20]\n",
      " right: [31, 44]\n",
      "============================\n",
      "pivot:17 \n",
      " left: []\n",
      " right: [20]\n",
      "============================\n",
      "pivot:31 \n",
      " left: []\n",
      " right: [44]\n",
      "============================\n",
      "pivot:93 \n",
      " left: [77, 55]\n",
      " right: []\n",
      "============================\n",
      "pivot:77 \n",
      " left: [55]\n",
      " right: []\n",
      "============================\n"
     ]
    },
    {
     "data": {
      "text/plain": [
       "[17, 20, 26, 31, 44, 54, 55, 77, 93]"
      ]
     },
     "execution_count": 14,
     "metadata": {},
     "output_type": "execute_result"
    }
   ],
   "source": [
    "qsort(S)"
   ]
  },
  {
   "cell_type": "code",
   "execution_count": null,
   "metadata": {
    "collapsed": true
   },
   "outputs": [],
   "source": []
  }
 ],
 "metadata": {
  "kernelspec": {
   "display_name": "Python 3",
   "language": "python",
   "name": "python3"
  },
  "language_info": {
   "codemirror_mode": {
    "name": "ipython",
    "version": 3
   },
   "file_extension": ".py",
   "mimetype": "text/x-python",
   "name": "python",
   "nbconvert_exporter": "python",
   "pygments_lexer": "ipython3",
   "version": "3.6.4"
  }
 },
 "nbformat": 4,
 "nbformat_minor": 2
}
