{
 "cells": [
  {
   "cell_type": "code",
   "execution_count": 7,
   "metadata": {},
   "outputs": [
    {
     "name": "stdout",
     "output_type": "stream",
     "text": [
      "[54, 26, 93, 17, 77, 31, 44, 55, 20]\n",
      "pivot: 54\n",
      "leftmark: 1\n",
      "rightmark: 8\n",
      "Leftmark move 1\n",
      "Leftmark move 1\n",
      "Leftmark move 1\n",
      "Rightmark move 1\n",
      "Rightmark move 1\n",
      "Leftmark move 1\n",
      "Leftmark move 1\n",
      "Rightmark move 1\n",
      "Cross! rightmark 5 exchange value with Pivot 54\n",
      "[31, 26, 20, 17, 44, 54, 77, 55, 93]\n",
      "pivot: 31\n",
      "leftmark: 1\n",
      "rightmark: 4\n",
      "Leftmark move 1\n",
      "Leftmark move 1\n",
      "Leftmark move 1\n",
      "Rightmark move 1\n",
      "Cross! rightmark 3 exchange value with Pivot 31\n",
      "[17, 26, 20, 31, 44, 54, 77, 55, 93]\n",
      "pivot: 17\n",
      "leftmark: 1\n",
      "rightmark: 2\n",
      "Rightmark move 1\n",
      "Rightmark move 1\n",
      "Cross! rightmark 0 exchange value with Pivot 17\n",
      "[17, 26, 20, 31, 44, 54, 77, 55, 93]\n",
      "pivot: 26\n",
      "leftmark: 2\n",
      "rightmark: 2\n",
      "Leftmark move 1\n",
      "Cross! rightmark 2 exchange value with Pivot 26\n",
      "[17, 20, 26, 31, 44, 54, 77, 55, 93]\n",
      "pivot: 77\n",
      "leftmark: 7\n",
      "rightmark: 8\n",
      "Leftmark move 1\n",
      "Rightmark move 1\n",
      "Cross! rightmark 7 exchange value with Pivot 77\n"
     ]
    },
    {
     "data": {
      "text/plain": [
       "[17, 20, 26, 31, 44, 54, 55, 77, 93]"
      ]
     },
     "execution_count": 7,
     "metadata": {},
     "output_type": "execute_result"
    }
   ],
   "source": [
    "def quickSort(alist):\n",
    "    quickSortHelper(alist,0,len(alist)-1)\n",
    "    return alist\n",
    "\n",
    "def quickSortHelper(alist,first,last):\n",
    "    if first<last:\n",
    "        splitpoint = partition(alist,first,last)\n",
    "        quickSortHelper(alist,first,splitpoint-1)\n",
    "        quickSortHelper(alist,splitpoint+1,last)\n",
    "\n",
    "\n",
    "def partition(alist,first,last):\n",
    "    print(alist)\n",
    "    pivotvalue = alist[first]\n",
    "    print(\"pivot: %d\"%pivotvalue)\n",
    "    leftmark = first+1\n",
    "    print(\"leftmark: %d\"%leftmark)\n",
    "    rightmark = last\n",
    "    print(\"rightmark: %d\"%rightmark)\n",
    "    done = False\n",
    "    while not done:\n",
    "        while leftmark <= rightmark and alist[leftmark] <= pivotvalue:\n",
    "            leftmark = leftmark + 1\n",
    "            print(\"Leftmark move 1\")\n",
    "        while alist[rightmark] >= pivotvalue and rightmark >= leftmark:\n",
    "            print(\"Rightmark move from %d to %d\"%(rightmark, rightmark+1))\n",
    "            rightmark = rightmark -1\n",
    "        if rightmark < leftmark:\n",
    "            print(\"Cross! rightmark %d exchange value with Pivot %d\"% (rightmark, pivotvalue))\n",
    "            done = True\n",
    "        else:\n",
    "            temp = alist[leftmark]\n",
    "            alist[leftmark] = alist[rightmark]\n",
    "            alist[rightmark] = temp\n",
    "    temp = alist[first]\n",
    "    alist[first] = alist[rightmark]\n",
    "    alist[rightmark] = temp\n",
    "    return rightmark\n",
    "\n",
    "alist = [54,26,93,17,77,31,44,55,20]\n",
    "quickSort(alist)"
   ]
  },
  {
   "cell_type": "code",
   "execution_count": null,
   "metadata": {
    "collapsed": true
   },
   "outputs": [],
   "source": []
  }
 ],
 "metadata": {
  "kernelspec": {
   "display_name": "Python 3",
   "language": "python",
   "name": "python3"
  },
  "language_info": {
   "codemirror_mode": {
    "name": "ipython",
    "version": 3
   },
   "file_extension": ".py",
   "mimetype": "text/x-python",
   "name": "python",
   "nbconvert_exporter": "python",
   "pygments_lexer": "ipython3",
   "version": "3.6.4"
  }
 },
 "nbformat": 4,
 "nbformat_minor": 2
}
