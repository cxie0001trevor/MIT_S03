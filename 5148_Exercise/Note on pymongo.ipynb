{
 "cells": [
  {
   "cell_type": "markdown",
   "metadata": {},
   "source": [
    "Date: 29 Apr 2018\n",
    "\n",
    "Note on `pymongo`\n",
    "---\n",
    "## 0. Introduction\n",
    "---"
   ]
  },
  {
   "cell_type": "markdown",
   "metadata": {},
   "source": [
    "### 0.1 Import library"
   ]
  },
  {
   "cell_type": "code",
   "execution_count": 3,
   "metadata": {},
   "outputs": [],
   "source": [
    "import pymongo\n",
    "from pymongo import MongoClient"
   ]
  },
  {
   "cell_type": "markdown",
   "metadata": {},
   "source": [
    "### 0.2 Make connection to the server"
   ]
  },
  {
   "cell_type": "code",
   "execution_count": 8,
   "metadata": {},
   "outputs": [],
   "source": [
    "# Explicitly specify host(str) and port(int).\n",
    "#Client = MongoClient('localhost',27017)\n",
    "\n",
    "# Using URI to specifiy host and port\n",
    "#Client = MongoClient('mongodb://localhost:27017/')\n",
    "\n",
    "# Using default host(localhost) and post(27017).\n",
    "client = MongoClient()"
   ]
  },
  {
   "cell_type": "markdown",
   "metadata": {},
   "source": [
    "### 0.3 Basic structure"
   ]
  },
  {
   "cell_type": "code",
   "execution_count": 21,
   "metadata": {},
   "outputs": [
    {
     "data": {
      "text/plain": [
       "pymongo.database.Database"
      ]
     },
     "execution_count": 21,
     "metadata": {},
     "output_type": "execute_result"
    }
   ],
   "source": [
    "db = client.fit5148_db\n",
    "type(db)"
   ]
  },
  {
   "cell_type": "code",
   "execution_count": 22,
   "metadata": {},
   "outputs": [
    {
     "data": {
      "text/plain": [
       "pymongo.collection.Collection"
      ]
     },
     "execution_count": 22,
     "metadata": {},
     "output_type": "execute_result"
    }
   ],
   "source": [
    "type(db.FIT)"
   ]
  },
  {
   "cell_type": "code",
   "execution_count": 23,
   "metadata": {
    "scrolled": true
   },
   "outputs": [
    {
     "data": {
      "text/plain": [
       "pymongo.cursor.Cursor"
      ]
     },
     "execution_count": 23,
     "metadata": {},
     "output_type": "execute_result"
    }
   ],
   "source": [
    "type(db.FIT.find({}))"
   ]
  },
  {
   "cell_type": "code",
   "execution_count": 24,
   "metadata": {},
   "outputs": [
    {
     "data": {
      "text/plain": [
       "dict"
      ]
     },
     "execution_count": 24,
     "metadata": {},
     "output_type": "execute_result"
    }
   ],
   "source": [
    "type(db.FIT.find()[0])"
   ]
  },
  {
   "cell_type": "markdown",
   "metadata": {},
   "source": [
    "After querying the database, the query results will be returned in a `Cursor` type, data within can be retrieved by **iterator**:"
   ]
  },
  {
   "cell_type": "code",
   "execution_count": 29,
   "metadata": {
    "scrolled": true
   },
   "outputs": [
    {
     "name": "stdout",
     "output_type": "stream",
     "text": [
      "{'_id': 126,\n",
      " 'course': 'MBIS',\n",
      " 'name': {'first': 'Peter', 'last': 'Chen'},\n",
      " 'result': [{'mark': 99,\n",
      "             'semester': 1,\n",
      "             'unit_code': 'FIT9132',\n",
      "             'unit_name': 'Database',\n",
      "             'year': 2017}]}\n",
      "{'_id': 124,\n",
      " 'course': 'MBIS',\n",
      " 'name': {'first': 'Albert', 'last': 'Einstein'},\n",
      " 'result': [{'mark': 90,\n",
      "             'semester': 1,\n",
      "             'unit_code': 'FIT9131',\n",
      "             'unit_name': 'Programming',\n",
      "             'year': 2017},\n",
      "            {'mark': 90,\n",
      "             'semester': 1,\n",
      "             'unit_code': 'FIT9132',\n",
      "             'unit_name': 'Database',\n",
      "             'year': 2017}]}\n",
      "{'_id': 127,\n",
      " 'course': 'MIT',\n",
      " 'name': {'first': 'Charles', 'last': 'Babbage'},\n",
      " 'result': [{'mark': 95,\n",
      "             'semester': 1,\n",
      "             'unit_code': 'FIT9132',\n",
      "             'unit_name': 'Database',\n",
      "             'year': 2017},\n",
      "            {'semester': 2,\n",
      "             'unit_code': 'FIT9131',\n",
      "             'unit_name': 'Programming',\n",
      "             'year': 2017}]}\n",
      "{'_id': 123,\n",
      " 'course': 'MIT',\n",
      " 'name': {'first': 'Marie', 'last': 'Currie'},\n",
      " 'result': [{'mark': 85,\n",
      "             'semester': 1,\n",
      "             'unit_code': 'FIT9132',\n",
      "             'unit_name': 'Database',\n",
      "             'year': 2017},\n",
      "            {'mark': 99,\n",
      "             'semester': 2,\n",
      "             'unit_code': 'FIT9131',\n",
      "             'unit_name': 'Programming',\n",
      "             'year': 2017}]}\n",
      "{'_id': 125,\n",
      " 'course': 'MBIS',\n",
      " 'name': {'first': 'Gordon', 'last': 'Bell'},\n",
      " 'result': [{'semester': 2,\n",
      "             'unit_code': 'FIT9132',\n",
      "             'unit_name': 'Database',\n",
      "             'year': 2017}]}\n",
      "{'_id': 128,\n",
      " 'course': 'MBIS',\n",
      " 'name': {'first': 'Peter', 'last': 'Chen'},\n",
      " 'result': [{'mark': 99,\n",
      "             'semester': 1,\n",
      "             'unit_code': 'FIT9132',\n",
      "             'unit_name': 'Database',\n",
      "             'year': 2017}]}\n"
     ]
    }
   ],
   "source": [
    "from pprint import pprint\n",
    "for data in db.FIT.find():\n",
    "    pprint(data)"
   ]
  },
  {
   "cell_type": "markdown",
   "metadata": {},
   "source": [
    "Or, using **indexing** to retrieve data:"
   ]
  },
  {
   "cell_type": "code",
   "execution_count": 30,
   "metadata": {},
   "outputs": [
    {
     "name": "stdout",
     "output_type": "stream",
     "text": [
      "{'_id': 126,\n",
      " 'course': 'MBIS',\n",
      " 'name': {'first': 'Peter', 'last': 'Chen'},\n",
      " 'result': [{'mark': 99,\n",
      "             'semester': 1,\n",
      "             'unit_code': 'FIT9132',\n",
      "             'unit_name': 'Database',\n",
      "             'year': 2017}]}\n"
     ]
    }
   ],
   "source": [
    "pprint(db.FIT.find()[0])"
   ]
  },
  {
   "cell_type": "code",
   "execution_count": 33,
   "metadata": {},
   "outputs": [],
   "source": [
    "evals = [{\"results\":[{\"item\": \"content\",\"score\": 9},{\"item\": \"presentation\",\"score\": 6}]},\n",
    "        {\"results\":[{\"item\": \"content\",\"score\": 8},{\"item\": \"presentation\",\"score\": 8}]}]"
   ]
  },
  {
   "cell_type": "code",
   "execution_count": 34,
   "metadata": {},
   "outputs": [
    {
     "data": {
      "text/plain": [
       "<pymongo.results.InsertManyResult at 0x10a1d57c8>"
      ]
     },
     "execution_count": 34,
     "metadata": {},
     "output_type": "execute_result"
    }
   ],
   "source": [
    "db.collEval.insert_many(evals)"
   ]
  },
  {
   "cell_type": "code",
   "execution_count": 37,
   "metadata": {},
   "outputs": [],
   "source": [
    "cursor = db.collEval.find({})"
   ]
  },
  {
   "cell_type": "code",
   "execution_count": 38,
   "metadata": {},
   "outputs": [
    {
     "name": "stdout",
     "output_type": "stream",
     "text": [
      "{'_id': ObjectId('5ae578aed13fad1eecfa122d'),\n",
      " 'results': [{'item': 'content', 'score': 9},\n",
      "             {'item': 'presentation', 'score': 6}]}\n",
      "{'_id': ObjectId('5ae578aed13fad1eecfa122e'),\n",
      " 'results': [{'item': 'content', 'score': 8},\n",
      "             {'item': 'presentation', 'score': 8}]}\n"
     ]
    }
   ],
   "source": [
    "for doc in cursor:\n",
    "    pprint(doc)"
   ]
  },
  {
   "cell_type": "code",
   "execution_count": null,
   "metadata": {},
   "outputs": [],
   "source": []
  }
 ],
 "metadata": {
  "kernelspec": {
   "display_name": "Python 3",
   "language": "python",
   "name": "python3"
  },
  "language_info": {
   "codemirror_mode": {
    "name": "ipython",
    "version": 3
   },
   "file_extension": ".py",
   "mimetype": "text/x-python",
   "name": "python",
   "nbconvert_exporter": "python",
   "pygments_lexer": "ipython3",
   "version": "3.6.4"
  }
 },
 "nbformat": 4,
 "nbformat_minor": 2
}
