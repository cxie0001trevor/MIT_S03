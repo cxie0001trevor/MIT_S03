{
 "cells": [
  {
   "cell_type": "code",
   "execution_count": 2,
   "metadata": {},
   "outputs": [],
   "source": [
    "# For Spark\n",
    "from pyspark import SparkContext\n",
    "\n",
    "# Spark streaming\n",
    "from pyspark.streaming import StreamingContext"
   ]
  },
  {
   "cell_type": "markdown",
   "metadata": {},
   "source": [
    "* Create a local `StreamingContext` with as many working **processors** as possible and a **batch interval** of 10 seconds\n",
    "* `local[*]`: run Spark locally with as many working processors as logical c ores on your machine. If we want Spark to run locally with 'k' worker threads, we can specify as `local[k]`."
   ]
  },
  {
   "cell_type": "code",
   "execution_count": 3,
   "metadata": {},
   "outputs": [],
   "source": [
    "batch_interval = 10\n",
    "sc = SparkContext(master=\"local[*]\", appName = \"WordCountApp\")\n",
    "ssc = StreamingContext(sc, batch_interval)"
   ]
  },
  {
   "cell_type": "code",
   "execution_count": 9,
   "metadata": {},
   "outputs": [],
   "source": [
    "host = \"localhost\" \n",
    "\n",
    "#TCP port\n",
    "port = 9999\n",
    "\n",
    "# initialise a variable for the stram of data\n",
    "lines = ssc.socketTextStream(host, port)"
   ]
  },
  {
   "cell_type": "code",
   "execution_count": 10,
   "metadata": {},
   "outputs": [],
   "source": [
    "# split each line into words\n",
    "words = lines.flatMap(lambda line: line.split(\" \"))\n",
    "lines.pprint()"
   ]
  },
  {
   "cell_type": "code",
   "execution_count": 11,
   "metadata": {},
   "outputs": [],
   "source": [
    "# Count each word in each batch \n",
    "pairs = words.map(lambda word: (word, 1)) \n",
    "wordCounts = pairs.reduceByKey(lambda x, y: x + y) \n",
    "# Print the counting result \n",
    "wordCounts.pprint()"
   ]
  },
  {
   "cell_type": "code",
   "execution_count": 16,
   "metadata": {},
   "outputs": [
    {
     "data": {
      "text/plain": [
       "['FIT9131',\n",
       " 'This unit aims to provide students with the basic concepts involved in the development of well structured software using a programming language. It concentrates on the development of problem solving skills applicable to all stages of the development process. Students gain experience with the translation of a problem specification into a program design, and the implementation of that design into a programming language. The unit introduces software engineering topics such as maintainability, readability, testing, documentation, modularisation, and reasoning about correctness of programs. Students are expected to read and understand existing code as well as develop new code.',\n",
       " 'FIT9132',\n",
       " 'This unit will introduce the concept of data management in an organisation through relational database technology. Theoretical foundation of relational model, analysis and design, implementation of relational database using SQL will be covered.',\n",
       " 'FIT5148',\n",
       " 'Data engineering is about developing the software (and hardware) infrastructure to support data science. This unit introduces software tools and techniques for data engineering, but not hardware.']"
      ]
     },
     "execution_count": 16,
     "metadata": {},
     "output_type": "execute_result"
    }
   ],
   "source": [
    "ds1 = sc.textFile(\"./unit_synopsis.txt\")\n",
    "ds1.take(6)"
   ]
  },
  {
   "cell_type": "markdown",
   "metadata": {},
   "source": [
    "Difference between `map()` and `flatMap()`"
   ]
  },
  {
   "cell_type": "code",
   "execution_count": 20,
   "metadata": {},
   "outputs": [
    {
     "data": {
      "text/plain": [
       "[['FIT9131'],\n",
       " ['This',\n",
       "  'unit',\n",
       "  'aims',\n",
       "  'to',\n",
       "  'provide',\n",
       "  'students',\n",
       "  'with',\n",
       "  'the',\n",
       "  'basic',\n",
       "  'concepts',\n",
       "  'involved',\n",
       "  'in',\n",
       "  'the',\n",
       "  'development',\n",
       "  'of',\n",
       "  'well',\n",
       "  'structured',\n",
       "  'software',\n",
       "  'using',\n",
       "  'a',\n",
       "  'programming',\n",
       "  'language.',\n",
       "  'It',\n",
       "  'concentrates',\n",
       "  'on',\n",
       "  'the',\n",
       "  'development',\n",
       "  'of',\n",
       "  'problem',\n",
       "  'solving',\n",
       "  'skills',\n",
       "  'applicable',\n",
       "  'to',\n",
       "  'all',\n",
       "  'stages',\n",
       "  'of',\n",
       "  'the',\n",
       "  'development',\n",
       "  'process.',\n",
       "  'Students',\n",
       "  'gain',\n",
       "  'experience',\n",
       "  'with',\n",
       "  'the',\n",
       "  'translation',\n",
       "  'of',\n",
       "  'a',\n",
       "  'problem',\n",
       "  'specification',\n",
       "  'into',\n",
       "  'a',\n",
       "  'program',\n",
       "  'design,',\n",
       "  'and',\n",
       "  'the',\n",
       "  'implementation',\n",
       "  'of',\n",
       "  'that',\n",
       "  'design',\n",
       "  'into',\n",
       "  'a',\n",
       "  'programming',\n",
       "  'language.',\n",
       "  'The',\n",
       "  'unit',\n",
       "  'introduces',\n",
       "  'software',\n",
       "  'engineering',\n",
       "  'topics',\n",
       "  'such',\n",
       "  'as',\n",
       "  'maintainability,',\n",
       "  'readability,',\n",
       "  'testing,',\n",
       "  'documentation,',\n",
       "  'modularisation,',\n",
       "  'and',\n",
       "  'reasoning',\n",
       "  'about',\n",
       "  'correctness',\n",
       "  'of',\n",
       "  'programs.',\n",
       "  'Students',\n",
       "  'are',\n",
       "  'expected',\n",
       "  'to',\n",
       "  'read',\n",
       "  'and',\n",
       "  'understand',\n",
       "  'existing',\n",
       "  'code',\n",
       "  'as',\n",
       "  'well',\n",
       "  'as',\n",
       "  'develop',\n",
       "  'new',\n",
       "  'code.'],\n",
       " ['FIT9132'],\n",
       " ['This',\n",
       "  'unit',\n",
       "  'will',\n",
       "  'introduce',\n",
       "  'the',\n",
       "  'concept',\n",
       "  'of',\n",
       "  'data',\n",
       "  'management',\n",
       "  'in',\n",
       "  'an',\n",
       "  'organisation',\n",
       "  'through',\n",
       "  'relational',\n",
       "  'database',\n",
       "  'technology.',\n",
       "  'Theoretical',\n",
       "  'foundation',\n",
       "  'of',\n",
       "  'relational',\n",
       "  'model,',\n",
       "  'analysis',\n",
       "  'and',\n",
       "  'design,',\n",
       "  'implementation',\n",
       "  'of',\n",
       "  'relational',\n",
       "  'database',\n",
       "  'using',\n",
       "  'SQL',\n",
       "  'will',\n",
       "  'be',\n",
       "  'covered.'],\n",
       " ['FIT5148'],\n",
       " ['Data',\n",
       "  'engineering',\n",
       "  'is',\n",
       "  'about',\n",
       "  'developing',\n",
       "  'the',\n",
       "  'software',\n",
       "  '(and',\n",
       "  'hardware)',\n",
       "  'infrastructure',\n",
       "  'to',\n",
       "  'support',\n",
       "  'data',\n",
       "  'science.',\n",
       "  'This',\n",
       "  'unit',\n",
       "  'introduces',\n",
       "  'software',\n",
       "  'tools',\n",
       "  'and',\n",
       "  'techniques',\n",
       "  'for',\n",
       "  'data',\n",
       "  'engineering,',\n",
       "  'but',\n",
       "  'not',\n",
       "  'hardware.']]"
      ]
     },
     "execution_count": 20,
     "metadata": {},
     "output_type": "execute_result"
    }
   ],
   "source": [
    "words = ds1.map(lambda line: line.split(\" \")) \n",
    "words.take(10)"
   ]
  },
  {
   "cell_type": "code",
   "execution_count": 21,
   "metadata": {},
   "outputs": [
    {
     "data": {
      "text/plain": [
       "['FIT9131',\n",
       " 'This',\n",
       " 'unit',\n",
       " 'aims',\n",
       " 'to',\n",
       " 'provide',\n",
       " 'students',\n",
       " 'with',\n",
       " 'the',\n",
       " 'basic']"
      ]
     },
     "execution_count": 21,
     "metadata": {},
     "output_type": "execute_result"
    }
   ],
   "source": [
    "words = ds1.flatMap(lambda line: line.split(\" \")) \n",
    "words.take(10)"
   ]
  },
  {
   "cell_type": "code",
   "execution_count": 22,
   "metadata": {},
   "outputs": [],
   "source": [
    "stopwords = ['a', 'this', 'to', 'as', 'such', 'the',\n",
    "             'The', 'of', 'using', 'on', 'in', 'It',\n",
    "             'with', 'and', 'or']"
   ]
  },
  {
   "cell_type": "code",
   "execution_count": 25,
   "metadata": {},
   "outputs": [
    {
     "data": {
      "text/plain": [
       "[('FIT9131', 1),\n",
       " ('provide', 1),\n",
       " ('basic', 1),\n",
       " ('concepts', 1),\n",
       " ('development', 3),\n",
       " ('programming', 2),\n",
       " ('concentrates', 1),\n",
       " ('solving', 1),\n",
       " ('stages', 1),\n",
       " ('Students', 2)]"
      ]
     },
     "execution_count": 25,
     "metadata": {},
     "output_type": "execute_result"
    }
   ],
   "source": [
    "ds1 = sc.textFile(\"./unit_synopsis.txt\")\n",
    "ds1.take(5)\n",
    "words = ds1.flatMap(lambda line: line.split(\" \"))\n",
    "#words.take(10)\n",
    "words_without_stopwords = words.filter(lambda x: x not in stopwords)\n",
    "#words_without_stopwords.take(50)\n",
    "pairs = words_without_stopwords.map(lambda word: (word, 1))\n",
    "word_counts = pairs.reduceByKey(lambda x, y: x + y)\n",
    "word_counts.take(10)"
   ]
  },
  {
   "cell_type": "code",
   "execution_count": null,
   "metadata": {},
   "outputs": [],
   "source": [
    "import sys\n",
    "\n",
    "from pyspark import SparkContext \n",
    "from pyspark.streaming import StreamingContext\n",
    "\n",
    "sc = SparkContext.getOrCreate()\n",
    "\n",
    "if (sc is None):\n",
    "    sc = SparkContext(appName=\"WordCountApp\")\n",
    "ssc = StreamingContext(sc, 1)\n",
    "\n",
    "host = \"localhost\"\n",
    "port = 9999\n",
    "\n",
    "lines = ssc.socketTextStream(host, int(port))\n",
    "\n",
    "# Split each line into words \n",
    "words = lines.flatMap(lambda line: line.split(\" \"))\n",
    "\n",
    "# Count each word in each batch \n",
    "pairs = words.map(lambda word: (word, 1)) \n",
    "wordCounts = pairs.reduceByKey(lambda x, y: x + y)\n",
    "\n",
    "# Print the result \n",
    "wordCounts.pprint()\n",
    "\n",
    "ssc.start() \n",
    "try:\n",
    "    ssc.awaitTermination(timeout=60)\n",
    "except KeyboardInterrupt:\n",
    "    ssc.stop()\n",
    "    sc.stop()\n",
    "\n",
    "ssc.stop()\n",
    "sc.stop()"
   ]
  },
  {
   "cell_type": "code",
   "execution_count": null,
   "metadata": {},
   "outputs": [],
   "source": []
  }
 ],
 "metadata": {
  "kernelspec": {
   "display_name": "Python 3",
   "language": "python",
   "name": "python3"
  },
  "language_info": {
   "codemirror_mode": {
    "name": "ipython",
    "version": 3
   },
   "file_extension": ".py",
   "mimetype": "text/x-python",
   "name": "python",
   "nbconvert_exporter": "python",
   "pygments_lexer": "ipython3",
   "version": "3.6.4"
  }
 },
 "nbformat": 4,
 "nbformat_minor": 2
}
