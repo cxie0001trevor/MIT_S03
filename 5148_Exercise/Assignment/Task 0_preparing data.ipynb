{
 "cells": [
  {
   "cell_type": "markdown",
   "metadata": {},
   "source": [
    "# FIT5148 - Distributed Databases and Big Data\n",
    "\n",
    "# Assignment 1 - Task1.1\n",
    "**Instructions:**\n",
    "- You will be using Python 3.\n",
    "- Read the assignment instruction carefully and implement the algorithms in this workbook. \n",
    "- You can use the datasets fireData and climateData (provided below) if you are aiming for Credit Task.\n",
    "- For Distinction and High Distinction tasks, you are required to read the files FireData.csv and ClimateData.CSV provided with the assignment programatically and prepare the data in the correct format so that it can be used in your algorithm. \n",
    "- You can introduce new cells as necessary.\n",
    "\n",
    "**Student details**\n",
    "- Name: Chuangfu Xie\n",
    "- Student ID: 27771539\n",
    "\n",
    "- Name: Kai Wang\n",
    "- Student ID:"
   ]
  },
  {
   "cell_type": "markdown",
   "metadata": {},
   "source": [
    "### Your Python version"
   ]
  },
  {
   "cell_type": "code",
   "execution_count": 1,
   "metadata": {},
   "outputs": [
    {
     "name": "stdout",
     "output_type": "stream",
     "text": [
      "sys.version_info(major=3, minor=6, micro=4, releaselevel='final', serial=0)\n"
     ]
    }
   ],
   "source": [
    "import sys\n",
    "print (sys.version_info)"
   ]
  },
  {
   "cell_type": "markdown",
   "metadata": {},
   "source": [
    "### Import packages:\n",
    "All packages we used in this notebook are imported as follow:"
   ]
  },
  {
   "cell_type": "code",
   "execution_count": 3,
   "metadata": {},
   "outputs": [],
   "source": [
    "import pandas as pd"
   ]
  },
  {
   "cell_type": "markdown",
   "metadata": {},
   "source": [
    "### Task.0 Data Preparation\n",
    "This section is mainly about parsing data from .csv file, and prepare the data in the correct format.\n",
    "\n",
    "> **Note**:  \n",
    "To read the CSV file successfully, please make sure the target file is in the same directory with this jupyter notebook."
   ]
  },
  {
   "cell_type": "markdown",
   "metadata": {},
   "source": [
    "1. Read CSV data: `FireData.csv` and `ClimateData.csv`"
   ]
  },
  {
   "cell_type": "code",
   "execution_count": 4,
   "metadata": {},
   "outputs": [],
   "source": [
    "df_Fire = pd.read_csv(\"./FireData.csv\")\n",
    "df_Climate = pd.read_csv(\"./ClimateData.csv\")"
   ]
  },
  {
   "cell_type": "code",
   "execution_count": 5,
   "metadata": {},
   "outputs": [
    {
     "data": {
      "text/html": [
       "<div>\n",
       "<style scoped>\n",
       "    .dataframe tbody tr th:only-of-type {\n",
       "        vertical-align: middle;\n",
       "    }\n",
       "\n",
       "    .dataframe tbody tr th {\n",
       "        vertical-align: top;\n",
       "    }\n",
       "\n",
       "    .dataframe thead th {\n",
       "        text-align: right;\n",
       "    }\n",
       "</style>\n",
       "<table border=\"1\" class=\"dataframe\">\n",
       "  <thead>\n",
       "    <tr style=\"text-align: right;\">\n",
       "      <th></th>\n",
       "      <th>Station</th>\n",
       "      <th>Date</th>\n",
       "      <th>Air Temperature(Celcius)</th>\n",
       "      <th>Relative Humidity</th>\n",
       "      <th>WindSpeed  (knots)</th>\n",
       "      <th>Max Wind Speed</th>\n",
       "      <th>MAX</th>\n",
       "      <th>MIN</th>\n",
       "      <th>Precipitation</th>\n",
       "    </tr>\n",
       "  </thead>\n",
       "  <tbody>\n",
       "    <tr>\n",
       "      <th>0</th>\n",
       "      <td>948700</td>\n",
       "      <td>2016-12-31</td>\n",
       "      <td>19</td>\n",
       "      <td>56.8</td>\n",
       "      <td>7.9</td>\n",
       "      <td>11.1</td>\n",
       "      <td>72.0*</td>\n",
       "      <td>61.9*</td>\n",
       "      <td>0.00I</td>\n",
       "    </tr>\n",
       "    <tr>\n",
       "      <th>1</th>\n",
       "      <td>948700</td>\n",
       "      <td>2017-01-02</td>\n",
       "      <td>15</td>\n",
       "      <td>50.7</td>\n",
       "      <td>9.2</td>\n",
       "      <td>13.0</td>\n",
       "      <td>72.0*</td>\n",
       "      <td>58.3</td>\n",
       "      <td>0.02G</td>\n",
       "    </tr>\n",
       "    <tr>\n",
       "      <th>2</th>\n",
       "      <td>948700</td>\n",
       "      <td>2017-01-03</td>\n",
       "      <td>16</td>\n",
       "      <td>53.6</td>\n",
       "      <td>8.1</td>\n",
       "      <td>15.0</td>\n",
       "      <td>68.4*</td>\n",
       "      <td>54.3*</td>\n",
       "      <td>0.00G</td>\n",
       "    </tr>\n",
       "    <tr>\n",
       "      <th>3</th>\n",
       "      <td>948700</td>\n",
       "      <td>2017-01-04</td>\n",
       "      <td>24</td>\n",
       "      <td>61.6</td>\n",
       "      <td>7.7</td>\n",
       "      <td>14.0</td>\n",
       "      <td>87.3*</td>\n",
       "      <td>54</td>\n",
       "      <td>0.00I</td>\n",
       "    </tr>\n",
       "    <tr>\n",
       "      <th>4</th>\n",
       "      <td>948700</td>\n",
       "      <td>2017-01-05</td>\n",
       "      <td>24</td>\n",
       "      <td>62.3</td>\n",
       "      <td>7.0</td>\n",
       "      <td>13.0</td>\n",
       "      <td>85.5*</td>\n",
       "      <td>65.7*</td>\n",
       "      <td>0.00I</td>\n",
       "    </tr>\n",
       "  </tbody>\n",
       "</table>\n",
       "</div>"
      ],
      "text/plain": [
       "   Station        Date     Air Temperature(Celcius)    Relative Humidity  \\\n",
       "0   948700  2016-12-31                           19                 56.8   \n",
       "1   948700  2017-01-02                           15                 50.7   \n",
       "2   948700  2017-01-03                           16                 53.6   \n",
       "3   948700  2017-01-04                           24                 61.6   \n",
       "4   948700  2017-01-05                           24                 62.3   \n",
       "\n",
       "     WindSpeed  (knots)   Max Wind Speed     MAX      MIN   Precipitation   \n",
       "0                   7.9             11.1     72.0*    61.9*          0.00I  \n",
       "1                   9.2             13.0     72.0*     58.3          0.02G  \n",
       "2                   8.1             15.0     68.4*    54.3*          0.00G  \n",
       "3                   7.7             14.0     87.3*       54          0.00I  \n",
       "4                   7.0             13.0     85.5*    65.7*          0.00I  "
      ]
     },
     "execution_count": 5,
     "metadata": {},
     "output_type": "execute_result"
    }
   ],
   "source": [
    "# Have a look at the Climate data\n",
    "df_Climate.head()"
   ]
  },
  {
   "cell_type": "code",
   "execution_count": 6,
   "metadata": {},
   "outputs": [
    {
     "data": {
      "text/html": [
       "<div>\n",
       "<style scoped>\n",
       "    .dataframe tbody tr th:only-of-type {\n",
       "        vertical-align: middle;\n",
       "    }\n",
       "\n",
       "    .dataframe tbody tr th {\n",
       "        vertical-align: top;\n",
       "    }\n",
       "\n",
       "    .dataframe thead th {\n",
       "        text-align: right;\n",
       "    }\n",
       "</style>\n",
       "<table border=\"1\" class=\"dataframe\">\n",
       "  <thead>\n",
       "    <tr style=\"text-align: right;\">\n",
       "      <th></th>\n",
       "      <th>Latitude</th>\n",
       "      <th>Longitude</th>\n",
       "      <th>Surface Temperature (kelvin)</th>\n",
       "      <th>Datetime</th>\n",
       "      <th>Power</th>\n",
       "      <th>Confidence</th>\n",
       "      <th>Date</th>\n",
       "      <th>Surface Temperature (Celcius)</th>\n",
       "    </tr>\n",
       "  </thead>\n",
       "  <tbody>\n",
       "    <tr>\n",
       "      <th>0</th>\n",
       "      <td>-37.966</td>\n",
       "      <td>145.051</td>\n",
       "      <td>341.8</td>\n",
       "      <td>2017-12-27T04:16:51</td>\n",
       "      <td>26.7</td>\n",
       "      <td>78</td>\n",
       "      <td>2017-12-27</td>\n",
       "      <td>68</td>\n",
       "    </tr>\n",
       "    <tr>\n",
       "      <th>1</th>\n",
       "      <td>-35.541</td>\n",
       "      <td>143.311</td>\n",
       "      <td>336.3</td>\n",
       "      <td>2017-12-27T00:02:15</td>\n",
       "      <td>62.0</td>\n",
       "      <td>82</td>\n",
       "      <td>2017-12-27</td>\n",
       "      <td>63</td>\n",
       "    </tr>\n",
       "    <tr>\n",
       "      <th>2</th>\n",
       "      <td>-35.554</td>\n",
       "      <td>143.307</td>\n",
       "      <td>326.8</td>\n",
       "      <td>2017-12-27T00:02:15</td>\n",
       "      <td>23.8</td>\n",
       "      <td>67</td>\n",
       "      <td>2017-12-27</td>\n",
       "      <td>53</td>\n",
       "    </tr>\n",
       "    <tr>\n",
       "      <th>3</th>\n",
       "      <td>-35.543</td>\n",
       "      <td>143.316</td>\n",
       "      <td>340.4</td>\n",
       "      <td>2017-12-27T00:02:14</td>\n",
       "      <td>84.2</td>\n",
       "      <td>86</td>\n",
       "      <td>2017-12-27</td>\n",
       "      <td>67</td>\n",
       "    </tr>\n",
       "    <tr>\n",
       "      <th>4</th>\n",
       "      <td>-37.708</td>\n",
       "      <td>145.100</td>\n",
       "      <td>327.8</td>\n",
       "      <td>2017-12-25T04:29:08</td>\n",
       "      <td>16.2</td>\n",
       "      <td>80</td>\n",
       "      <td>2017-12-25</td>\n",
       "      <td>54</td>\n",
       "    </tr>\n",
       "  </tbody>\n",
       "</table>\n",
       "</div>"
      ],
      "text/plain": [
       "   Latitude  Longitude  Surface Temperature (kelvin)             Datetime  \\\n",
       "0   -37.966    145.051                         341.8  2017-12-27T04:16:51   \n",
       "1   -35.541    143.311                         336.3  2017-12-27T00:02:15   \n",
       "2   -35.554    143.307                         326.8  2017-12-27T00:02:15   \n",
       "3   -35.543    143.316                         340.4  2017-12-27T00:02:14   \n",
       "4   -37.708    145.100                         327.8  2017-12-25T04:29:08   \n",
       "\n",
       "   Power  Confidence        Date  Surface Temperature (Celcius)  \n",
       "0   26.7          78  2017-12-27                             68  \n",
       "1   62.0          82  2017-12-27                             63  \n",
       "2   23.8          67  2017-12-27                             53  \n",
       "3   84.2          86  2017-12-27                             67  \n",
       "4   16.2          80  2017-12-25                             54  "
      ]
     },
     "execution_count": 6,
     "metadata": {},
     "output_type": "execute_result"
    }
   ],
   "source": [
    "# Have a look at the Fire data\n",
    "df_Fire.head()"
   ]
  },
  {
   "cell_type": "code",
   "execution_count": 7,
   "metadata": {},
   "outputs": [
    {
     "data": {
      "text/plain": [
       "Station                          int64\n",
       " Date                           object\n",
       "   Air Temperature(Celcius)      int64\n",
       "  Relative Humidity            float64\n",
       "  WindSpeed  (knots)           float64\n",
       " Max Wind Speed                float64\n",
       "   MAX                          object\n",
       "  MIN                           object\n",
       "Precipitation                   object\n",
       "dtype: object"
      ]
     },
     "execution_count": 7,
     "metadata": {},
     "output_type": "execute_result"
    }
   ],
   "source": [
    "# Have a look at data types of all colums\n",
    "df_Climate.dtypes"
   ]
  },
  {
   "cell_type": "code",
   "execution_count": 8,
   "metadata": {},
   "outputs": [
    {
     "data": {
      "text/plain": [
       "Latitude                         float64\n",
       "Longitude                        float64\n",
       "Surface Temperature (kelvin)     float64\n",
       "Datetime                          object\n",
       "Power                            float64\n",
       "Confidence                         int64\n",
       "Date                              object\n",
       "Surface Temperature (Celcius)      int64\n",
       "dtype: object"
      ]
     },
     "execution_count": 8,
     "metadata": {},
     "output_type": "execute_result"
    }
   ],
   "source": [
    "# Have a look at data types of all colums\n",
    "df_Fire.dtypes"
   ]
  },
  {
   "cell_type": "markdown",
   "metadata": {},
   "source": [
    "Here we found somethings:\n",
    "1. In `df_Fire`, both <font color='blue'>\"_Datetime_\"</font> and <font color='blue'>\"_Date_\"</font> are `object` data type, it need to be converted into `datetime` data type. \n",
    "2. In `df_Climate`, some columns name need to remove the extra spaces\n",
    "\n",
    "Then, we do"
   ]
  },
  {
   "cell_type": "code",
   "execution_count": 9,
   "metadata": {},
   "outputs": [],
   "source": [
    "# 1. Convert to datetime type\n",
    "df_Fire['Datetime']=pd.to_datetime(df_Fire['Datetime']).head()\n",
    "df_Fire['Date']=pd.to_datetime(df_Fire['Date']).head()"
   ]
  },
  {
   "cell_type": "code",
   "execution_count": 10,
   "metadata": {},
   "outputs": [
    {
     "data": {
      "text/plain": [
       "Latitude                                float64\n",
       "Longitude                               float64\n",
       "Surface Temperature (kelvin)            float64\n",
       "Datetime                         datetime64[ns]\n",
       "Power                                   float64\n",
       "Confidence                                int64\n",
       "Date                             datetime64[ns]\n",
       "Surface Temperature (Celcius)             int64\n",
       "dtype: object"
      ]
     },
     "execution_count": 10,
     "metadata": {},
     "output_type": "execute_result"
    }
   ],
   "source": [
    "# Recheck ... Now better\n",
    "df_Fire.dtypes"
   ]
  },
  {
   "cell_type": "code",
   "execution_count": 11,
   "metadata": {},
   "outputs": [
    {
     "data": {
      "text/plain": [
       "array(['Station', 'Date', 'Air Temperature(Celcius)', 'Relative Humidity',\n",
       "       'WindSpeed  (knots)', 'Max Wind Speed', 'MAX', 'MIN',\n",
       "       'Precipitation'], dtype=object)"
      ]
     },
     "execution_count": 11,
     "metadata": {},
     "output_type": "execute_result"
    }
   ],
   "source": [
    "# 2. delete extra spaces in place\n",
    "for i in range(len(df_Climate.columns.values)):\n",
    "    df_Climate.columns.values[i] = df_Climate.columns.values[i].strip()\n",
    "# Recheck ... Now better\n",
    "df_Climate.columns.values"
   ]
  },
  {
   "cell_type": "markdown",
   "metadata": {},
   "source": [
    "Now, our data is ready for use.\n",
    "> **Note**: In each individual notebook, this boring stuff will do automatically at the very first cell, but no more comment on it.\n",
    "\n",
    "***"
   ]
  }
 ],
 "metadata": {
  "kernelspec": {
   "display_name": "Python 3",
   "language": "python",
   "name": "python3"
  },
  "language_info": {
   "codemirror_mode": {
    "name": "ipython",
    "version": 3
   },
   "file_extension": ".py",
   "mimetype": "text/x-python",
   "name": "python",
   "nbconvert_exporter": "python",
   "pygments_lexer": "ipython3",
   "version": "3.6.4"
  }
 },
 "nbformat": 4,
 "nbformat_minor": 2
}
