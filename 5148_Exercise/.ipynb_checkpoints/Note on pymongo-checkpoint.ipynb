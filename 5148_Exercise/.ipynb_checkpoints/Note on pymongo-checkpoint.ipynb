{
 "cells": [
  {
   "cell_type": "markdown",
   "metadata": {},
   "source": [
    "Date: 29 Apr 2018\n",
    "\n",
    "Note on `pymongo`\n",
    "---\n",
    "## 0. Introduction\n",
    "---"
   ]
  },
  {
   "cell_type": "markdown",
   "metadata": {},
   "source": [
    "### 0.1 Import library"
   ]
  },
  {
   "cell_type": "code",
   "execution_count": 1,
   "metadata": {},
   "outputs": [],
   "source": [
    "import pymongo\n",
    "from pymongo import MongoClient"
   ]
  },
  {
   "cell_type": "markdown",
   "metadata": {},
   "source": [
    "### 0.2 Make connection to the server"
   ]
  },
  {
   "cell_type": "code",
   "execution_count": 2,
   "metadata": {},
   "outputs": [],
   "source": [
    "# Explicitly specify host(str) and port(int).\n",
    "#Client = MongoClient('localhost',27017)\n",
    "\n",
    "# Using URI to specifiy host and port\n",
    "#Client = MongoClient('mongodb://localhost:27017/')\n",
    "\n",
    "# Using default host(localhost) and post(27017).\n",
    "client = MongoClient()"
   ]
  },
  {
   "cell_type": "markdown",
   "metadata": {},
   "source": [
    "### 0.3 Basic structure"
   ]
  },
  {
   "cell_type": "code",
   "execution_count": 3,
   "metadata": {},
   "outputs": [
    {
     "data": {
      "text/plain": [
       "pymongo.database.Database"
      ]
     },
     "execution_count": 3,
     "metadata": {},
     "output_type": "execute_result"
    }
   ],
   "source": [
    "db = client.fit5148_db\n",
    "type(db)"
   ]
  },
  {
   "cell_type": "code",
   "execution_count": null,
   "metadata": {},
   "outputs": [],
   "source": [
    "type(db.FIT)"
   ]
  },
  {
   "cell_type": "code",
   "execution_count": null,
   "metadata": {
    "scrolled": true
   },
   "outputs": [],
   "source": [
    "type(db.FIT.find({}))"
   ]
  },
  {
   "cell_type": "code",
   "execution_count": null,
   "metadata": {},
   "outputs": [],
   "source": [
    "type(db.FIT.find()[0])"
   ]
  },
  {
   "cell_type": "markdown",
   "metadata": {},
   "source": [
    "After querying the database, the query results will be returned in a `Cursor` type, data within can be retrieved by **iterator**:"
   ]
  },
  {
   "cell_type": "code",
   "execution_count": 5,
   "metadata": {
    "scrolled": true
   },
   "outputs": [
    {
     "name": "stdout",
     "output_type": "stream",
     "text": [
      "{'_id': 126,\n",
      " 'course': 'MBIS',\n",
      " 'name': {'first': 'Peter', 'last': 'Chen'},\n",
      " 'result': [{'mark': 99,\n",
      "             'semester': 1,\n",
      "             'unit_code': 'FIT9132',\n",
      "             'unit_name': 'Database',\n",
      "             'year': 2017}]}\n",
      "{'_id': 124,\n",
      " 'course': 'MBIS',\n",
      " 'name': {'first': 'Albert', 'last': 'Einstein'},\n",
      " 'result': [{'mark': 90,\n",
      "             'semester': 1,\n",
      "             'unit_code': 'FIT9131',\n",
      "             'unit_name': 'Programming',\n",
      "             'year': 2017},\n",
      "            {'mark': 90,\n",
      "             'semester': 1,\n",
      "             'unit_code': 'FIT9132',\n",
      "             'unit_name': 'Database',\n",
      "             'year': 2017}]}\n",
      "{'_id': 127,\n",
      " 'course': 'MIT',\n",
      " 'name': {'first': 'Charles', 'last': 'Babbage'},\n",
      " 'result': [{'mark': 95,\n",
      "             'semester': 1,\n",
      "             'unit_code': 'FIT9132',\n",
      "             'unit_name': 'Database',\n",
      "             'year': 2017},\n",
      "            {'semester': 2,\n",
      "             'unit_code': 'FIT9131',\n",
      "             'unit_name': 'Programming',\n",
      "             'year': 2017}]}\n",
      "{'_id': 123,\n",
      " 'course': 'MIT',\n",
      " 'name': {'first': 'Marie', 'last': 'Currie'},\n",
      " 'result': [{'mark': 85,\n",
      "             'semester': 1,\n",
      "             'unit_code': 'FIT9132',\n",
      "             'unit_name': 'Database',\n",
      "             'year': 2017},\n",
      "            {'mark': 99,\n",
      "             'semester': 2,\n",
      "             'unit_code': 'FIT9131',\n",
      "             'unit_name': 'Programming',\n",
      "             'year': 2017}]}\n",
      "{'_id': 125,\n",
      " 'course': 'MBIS',\n",
      " 'name': {'first': 'Gordon', 'last': 'Bell'},\n",
      " 'result': [{'semester': 2,\n",
      "             'unit_code': 'FIT9132',\n",
      "             'unit_name': 'Database',\n",
      "             'year': 2017}]}\n",
      "{'_id': 128,\n",
      " 'course': 'MBIS',\n",
      " 'name': {'first': 'Peter', 'last': 'Chen'},\n",
      " 'result': [{'mark': 99,\n",
      "             'semester': 1,\n",
      "             'unit_code': 'FIT9132',\n",
      "             'unit_name': 'Database',\n",
      "             'year': 2017}]}\n"
     ]
    }
   ],
   "source": [
    "from pprint import pprint\n",
    "for data in db.FIT.find():\n",
    "    pprint(data)"
   ]
  },
  {
   "cell_type": "markdown",
   "metadata": {},
   "source": [
    "Or, using **indexing** to retrieve data:"
   ]
  },
  {
   "cell_type": "code",
   "execution_count": 6,
   "metadata": {},
   "outputs": [
    {
     "name": "stdout",
     "output_type": "stream",
     "text": [
      "{'_id': 126,\n",
      " 'course': 'MBIS',\n",
      " 'name': {'first': 'Peter', 'last': 'Chen'},\n",
      " 'result': [{'mark': 99,\n",
      "             'semester': 1,\n",
      "             'unit_code': 'FIT9132',\n",
      "             'unit_name': 'Database',\n",
      "             'year': 2017}]}\n"
     ]
    }
   ],
   "source": [
    "pprint(db.FIT.find()[0])"
   ]
  },
  {
   "cell_type": "markdown",
   "metadata": {},
   "source": [
    "evals = [{\"results\":[{\"item\": \"content\",\"score\": 9},{\"item\": \"presentation\",\"score\": 6}]},\n",
    "        {\"results\":[{\"item\": \"content\",\"score\": 8},{\"item\": \"presentation\",\"score\": 8}]}]\n",
    "\n",
    "db.collEval.insert_many(evals)\n",
    "\n",
    "cursor = db.collEval.find({})\n",
    "\n",
    "for doc in cursor:\n",
    "    pprint(doc)"
   ]
  },
  {
   "cell_type": "code",
   "execution_count": 8,
   "metadata": {},
   "outputs": [
    {
     "ename": "TypeError",
     "evalue": "name must be an instance of str",
     "output_type": "error",
     "traceback": [
      "\u001b[0;31m---------------------------------------------------------------------------\u001b[0m",
      "\u001b[0;31mTypeError\u001b[0m                                 Traceback (most recent call last)",
      "\u001b[0;32m<ipython-input-8-c555f70c64ba>\u001b[0m in \u001b[0;36m<module>\u001b[0;34m()\u001b[0m\n\u001b[0;32m----> 1\u001b[0;31m \u001b[0mdb\u001b[0m\u001b[0;34m[\u001b[0m\u001b[0;36m0\u001b[0m\u001b[0;34m]\u001b[0m\u001b[0;34m\u001b[0m\u001b[0m\n\u001b[0m",
      "\u001b[0;32m~/anaconda3/lib/python3.6/site-packages/pymongo/database.py\u001b[0m in \u001b[0;36m__getitem__\u001b[0;34m(self, name)\u001b[0m\n\u001b[1;32m    256\u001b[0m           \u001b[0;34m-\u001b[0m\u001b[0;31m \u001b[0m\u001b[0;31m`\u001b[0m\u001b[0mname\u001b[0m\u001b[0;31m`\u001b[0m\u001b[0;34m:\u001b[0m \u001b[0mthe\u001b[0m \u001b[0mname\u001b[0m \u001b[0mof\u001b[0m \u001b[0mthe\u001b[0m \u001b[0mcollection\u001b[0m \u001b[0mto\u001b[0m \u001b[0mget\u001b[0m\u001b[0;34m\u001b[0m\u001b[0m\n\u001b[1;32m    257\u001b[0m         \"\"\"\n\u001b[0;32m--> 258\u001b[0;31m         \u001b[0;32mreturn\u001b[0m \u001b[0mCollection\u001b[0m\u001b[0;34m(\u001b[0m\u001b[0mself\u001b[0m\u001b[0;34m,\u001b[0m \u001b[0mname\u001b[0m\u001b[0;34m)\u001b[0m\u001b[0;34m\u001b[0m\u001b[0m\n\u001b[0m\u001b[1;32m    259\u001b[0m \u001b[0;34m\u001b[0m\u001b[0m\n\u001b[1;32m    260\u001b[0m     def get_collection(self, name, codec_options=None, read_preference=None,\n",
      "\u001b[0;32m~/anaconda3/lib/python3.6/site-packages/pymongo/collection.py\u001b[0m in \u001b[0;36m__init__\u001b[0;34m(self, database, name, create, codec_options, read_preference, write_concern, read_concern, session, **kwargs)\u001b[0m\n\u001b[1;32m    159\u001b[0m         \u001b[0;32mif\u001b[0m \u001b[0;32mnot\u001b[0m \u001b[0misinstance\u001b[0m\u001b[0;34m(\u001b[0m\u001b[0mname\u001b[0m\u001b[0;34m,\u001b[0m \u001b[0mstring_type\u001b[0m\u001b[0;34m)\u001b[0m\u001b[0;34m:\u001b[0m\u001b[0;34m\u001b[0m\u001b[0m\n\u001b[1;32m    160\u001b[0m             raise TypeError(\"name must be an instance \"\n\u001b[0;32m--> 161\u001b[0;31m                             \"of %s\" % (string_type.__name__,))\n\u001b[0m\u001b[1;32m    162\u001b[0m \u001b[0;34m\u001b[0m\u001b[0m\n\u001b[1;32m    163\u001b[0m         \u001b[0;32mif\u001b[0m \u001b[0;32mnot\u001b[0m \u001b[0mname\u001b[0m \u001b[0;32mor\u001b[0m \u001b[0;34m\"..\"\u001b[0m \u001b[0;32min\u001b[0m \u001b[0mname\u001b[0m\u001b[0;34m:\u001b[0m\u001b[0;34m\u001b[0m\u001b[0m\n",
      "\u001b[0;31mTypeError\u001b[0m: name must be an instance of str"
     ]
    }
   ],
   "source": [
    "db['']"
   ]
  },
  {
   "cell_type": "code",
   "execution_count": null,
   "metadata": {},
   "outputs": [],
   "source": []
  }
 ],
 "metadata": {
  "kernelspec": {
   "display_name": "Python 3",
   "language": "python",
   "name": "python3"
  },
  "language_info": {
   "codemirror_mode": {
    "name": "ipython",
    "version": 3
   },
   "file_extension": ".py",
   "mimetype": "text/x-python",
   "name": "python",
   "nbconvert_exporter": "python",
   "pygments_lexer": "ipython3",
   "version": "3.6.4"
  }
 },
 "nbformat": 4,
 "nbformat_minor": 2
}
