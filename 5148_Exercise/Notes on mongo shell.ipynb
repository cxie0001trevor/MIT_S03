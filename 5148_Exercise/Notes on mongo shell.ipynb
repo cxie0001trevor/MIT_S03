{
 "cells": [
  {
   "cell_type": "markdown",
   "metadata": {},
   "source": [
    "```shell\n",
    "Created: 28 Apr 2018\n",
    "Last modified: 28 Apr 2018\n",
    "```"
   ]
  },
  {
   "cell_type": "markdown",
   "metadata": {},
   "source": [
    "# Notes on `mongo`\n",
    "> **Contents**\n",
    "1. `mongo` basic\n",
    "2. `mongo` shell"
   ]
  },
  {
   "cell_type": "markdown",
   "metadata": {},
   "source": [
    "## 1. `mongo` basics"
   ]
  },
  {
   "cell_type": "markdown",
   "metadata": {},
   "source": [
    "### 1.1 `mongo` data structure –– BSON"
   ]
  },
  {
   "cell_type": "markdown",
   "metadata": {},
   "source": [
    "**MongoDB** uses **JSON**(JavaScript Object Notation) doucuments in binary-encoded format, which provides many different types and more complicated structure. **BSON** or Binary JSON, extends the JSON model to provide additional data types. \n",
    "\n",
    "**Example of JSON**\n",
    "```JSON\n",
    "{\"menu\": {\n",
    "  \"id\": \"file\",\n",
    "  \"value\": \"File\",\n",
    "  \"popup\": {\n",
    "    \"menuitem\": [\n",
    "      {\"value\": \"New\", \"onclick\": \"CreateNewDoc()\"},\n",
    "      {\"value\": \"Open\", \"onclick\": \"OpenDoc()\"},\n",
    "      {\"value\": \"Close\", \"onclick\": \"CloseDoc()\"}\n",
    "    ]\n",
    "  }\n",
    "}\n",
    "```\n",
    "**Compare with BSON**\n",
    "```BSON\n",
    "{\"_id\":123,\n",
    " \"name\":{\n",
    "     \"first\":\"first name\",\n",
    "     \"last\":\"last name\"\n",
    " },\n",
    " \"age\":29,\n",
    " \"Belongings\":[\n",
    "     {\"item\":\"shoes\", \"value\":200},\n",
    "     {\"item\":\"bicycle\", \"value\":800},\n",
    "     {\"item\":\"briefcase\", \"value\":1500}\n",
    " ]\n",
    "}\n",
    "```"
   ]
  },
  {
   "cell_type": "markdown",
   "metadata": {},
   "source": [
    "## 1.2 Basic CRUD in `mongo`"
   ]
  },
  {
   "cell_type": "markdown",
   "metadata": {},
   "source": [
    "### 1.2.1 Creation\n",
    "To create a new database, a new collection, a new document\n",
    "* `use <database>`: switch to another database. If it doesn't exist, it will initialise a new database.\n",
    "* `db.createCollection(<collection>)`: initialise a new collection.\n",
    "* Using variable to temporarily store a document:\n",
    "```mongo\n",
    "> var new = {\"sid\":123,\n",
    "...            \"name\":\"David\",\n",
    "...            \"info\":{\"year\":2018, \"mark\":90}\n",
    "...            }\n",
    "> db.collection.insert(new)\n",
    "```"
   ]
  },
  {
   "cell_type": "markdown",
   "metadata": {},
   "source": [
    "### 1.2.2 Read\n",
    "* `find()`: return the result of a query. Without given parameter, it will by default return the entire documents in a collection.  \n",
    "```mongo\n",
    "> db.collection.find()\n",
    "```\n",
    "* `count()`: return the number of documents.\n",
    "* `sort()`: sort the documents by criteria. `1` for ascending, `-1` for descending.\n",
    "```mongo\n",
    "> db.collection.find().sort({\"_id\":1})\n",
    "{\"_id\":123, ...}\n",
    "{\"_id\":124, ...}\n",
    "...\n",
    "```\n",
    "* `limit()`: limit the documents to retrieved. No limit if parameter is not given.\n",
    "* `hasNext()` and `next()`:  \n",
    "Considering the following codes:\n",
    "```shell\n",
    "> var results = db.collection.find({\"unit_code\":\"FIT5148\"})\n",
    "> results.hasNext() #Check whether it is empty.\n",
    "true\n",
    "> results.count()\n",
    "2\n",
    "> results.next()\n",
    "{\"sid\":1, ...}\n",
    "> results.next()\n",
    "{\"sid\":2, ...}\n",
    "> results.hasNext()\n",
    "false\n",
    "> results.count()\n",
    "2\n",
    "> results.next()\n",
    "2018-04-28T22:42:53.058+1000 E QUERY    [thread1] Error: error hasNext: false :\n",
    "DBQuery.prototype.next@src/mongo/shell/query.js:305:1\n",
    "@(shell):1:1\n",
    "```\n",
    "Now we can see that the `results` variable stores the output of the `find()`. It works as a generator in Python  but \"pop\" the first document out when execute `next()` function and remember where it ends. It is noteworthy to notice that `count()` only retrieve the number of documents in this variable(which seem to be immutable after the variable has been initialised).  \n",
    "* `print()`: print out the document.\n",
    "* `pretty()` or `printjson()`: print out in a more readable style.\n",
    "* `explain()`: it usually take `\"allPlansExecution\"` as its parameter. More infomation in **Indexing**."
   ]
  },
  {
   "cell_type": "markdown",
   "metadata": {},
   "source": [
    "### 1.2.3 Update  \n",
    "To update document(s) of a collection\n",
    "* `update()`:\n",
    "* `updateOne()`:\n",
    "* `updateMany()`:\n",
    "* `replaceOne()`:\n",
    "* Another way to populate data: Run JavaScript in terminal"
   ]
  },
  {
   "cell_type": "markdown",
   "metadata": {},
   "source": [
    "### 1.2.4 Deletion\n",
    "* `db.<collection>.remove()`: delete documents by query criteria.\n",
    "* `db.<collection>.drop()`: delete the entire collection.\n",
    "* `db.dropDatabase()`: drop all collections of the current database."
   ]
  },
  {
   "cell_type": "markdown",
   "metadata": {},
   "source": [
    "### 3. `mongo` shell "
   ]
  },
  {
   "cell_type": "markdown",
   "metadata": {},
   "source": [
    "Date - 28 Apr 2018\n",
    "\n",
    "Run `JavaScript` in `mongo` shell\n",
    "---\n",
    "Let's take a `JavaScript` file as example:  \n",
    "> `example.js`\n",
    "```javascript\n",
    "db = connect(\"localhost:27017/another\") //Specify which database to run\n",
    "db.evaluation.insertMany(...)\n",
    "```\n",
    "\n",
    "Then, we can run this `JavaScript` file in terminal with `mongo` shell:\n",
    "```\n",
    "$ mongo example.js\n",
    "```\n",
    "It works exactly the same as we are working in the `mongo` shell\n",
    "```shell\n",
    "> use another\n",
    "> db.evaluation.insertMany(...)\n",
    "```\n",
    "\n",
    "---"
   ]
  },
  {
   "cell_type": "markdown",
   "metadata": {},
   "source": [
    "Date - 29 Apr 2018\n",
    "\n",
    "Aggregation: aggregate values & re-shaping documents\n",
    "---\n",
    "**Aggregation pipeline**\n",
    "> \n",
    "```\n",
    "{$match} ➜ {$project} ➜ {$group} ➜ {$sort}\n",
    " filter  ➜   reshape  ➜  sum-up  ➜  order     \n",
    "```\n",
    "\n",
    "Let's take this dataset as example:\n",
    "```\n",
    "> db.qoh.find({})\n",
    "{ \"_id\" : 1, \"type\" : 2, \"supplier\" : \"OFF\", \"qty\" : 1000 }\n",
    "{ \"_id\" : 2, \"type\" : 2, \"supplier\" : \"OFF\", \"qty\" : 500 }\n",
    "{ \"_id\" : 3, \"type\" : 1, \"supplier\" : \"ON\", \"qty\" : 200 }\n",
    "{ \"_id\" : 4, \"type\" : 3, \"supplier\" : \"OFF\", \"qty\" : 1000 }\n",
    "{ \"_id\" : 5, \"type\" : 1, \"supplier\" : \"ON\", \"qty\" : 40 }\n",
    "{ \"_id\" : 6, \"type\" : 2, \"supplier\" : \"ON\", \"qty\" : 1000 }\n",
    "{ \"_id\" : 7, \"type\" : 3, \"supplier\" : \"ON\", \"qty\" : 5000 }\n",
    "```\n",
    "\n",
    "First, let's <font color=red>**group**</font> documents with ***same type***, then respectively <font color=red>**sum**</font> the quantity ***\"qty\"***. Noted that ***\"total\"*** is a newly created key temporarily for storing value of the sum of ***\"qty\"***. ( <font color=red>**Re-shaping**</font> )\n",
    "\n",
    "```\n",
    "> db.qoh.aggregate(\n",
    "...                 [\n",
    "...                  {$group:{_id: \"$type\", total: {$sum: \"$qty\"}}}\n",
    "...                 ]\n",
    "...                )\n",
    "{ \"_id\" : 3, \"total\" : 6000 }\n",
    "{ \"_id\" : 1, \"total\" : 240 }\n",
    "{ \"_id\" : 2, \"total\" : 2500 }\n",
    "```\n",
    "\n",
    "How about extract document which \"supplier\" matches \"ON\". ( <font color=red>**Matching**</font> )\n",
    "```\n",
    "> db.qoh.aggregate(\n",
    "...                 [\n",
    "...                  {$match:{supplier: \"ON\"}}\n",
    "...                 ]\n",
    "...                )\n",
    "{ \"_id\" : 3, \"type\" : 1, \"supplier\" : \"ON\", \"qty\" : 200 }\n",
    "{ \"_id\" : 5, \"type\" : 1, \"supplier\" : \"ON\", \"qty\" : 40 }\n",
    "{ \"_id\" : 6, \"type\" : 2, \"supplier\" : \"ON\", \"qty\" : 1000 }\n",
    "{ \"_id\" : 7, \"type\" : 3, \"supplier\" : \"ON\", \"qty\" : 5000 }\n",
    "```\n",
    "\n",
    "Now, let's combine these command into one. We want to have document which ***\"supplier\"*** is ***\"ON\"***, then grouped by their ***\"type\"*** and sum the quantity ***\"qty\"***, and do sorting the ***\"total\"*** in ascending order.\n",
    "```\n",
    "> db.qoh.aggregate(\n",
    "...                 [\n",
    "...                  {$match: {supplier: \"ON\"}},\n",
    "...                  {$group: {_id: \"$type\", total: {$sum: \"$qty\"}}},\n",
    "...                  {$sort: {total:1}}\n",
    "...                 ]\n",
    "...                )\n",
    "{ \"_id\" : 1, \"total\" : 240 }\n",
    "{ \"_id\" : 2, \"total\" : 1000 }\n",
    "{ \"_id\" : 3, \"total\" : 5000 }\n",
    "```\n",
    "\n",
    "---"
   ]
  },
  {
   "cell_type": "markdown",
   "metadata": {},
   "source": []
  },
  {
   "cell_type": "markdown",
   "metadata": {},
   "source": []
  },
  {
   "cell_type": "markdown",
   "metadata": {},
   "source": []
  },
  {
   "cell_type": "markdown",
   "metadata": {},
   "source": []
  },
  {
   "cell_type": "markdown",
   "metadata": {},
   "source": []
  }
 ],
 "metadata": {
  "kernelspec": {
   "display_name": "Python 3",
   "language": "python",
   "name": "python3"
  },
  "language_info": {
   "codemirror_mode": {
    "name": "ipython",
    "version": 3
   },
   "file_extension": ".py",
   "mimetype": "text/x-python",
   "name": "python",
   "nbconvert_exporter": "python",
   "pygments_lexer": "ipython3",
   "version": "3.6.4"
  }
 },
 "nbformat": 4,
 "nbformat_minor": 2
}
