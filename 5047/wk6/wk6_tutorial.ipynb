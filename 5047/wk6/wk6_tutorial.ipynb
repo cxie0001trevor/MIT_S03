{
 "cells": [
  {
   "cell_type": "code",
   "execution_count": 131,
   "metadata": {
    "collapsed": true,
    "scrolled": true
   },
   "outputs": [],
   "source": [
    "class BinaryTree:\n",
    "    def __init__(self, root):\n",
    "        self.key = root\n",
    "        self.left_child = None\n",
    "        self.right_child = None\n",
    "    \n",
    "    def insert_left(self, new_node):\n",
    "        if self.left_child == None:\n",
    "            self.left_child = BinaryTree(new_node)\n",
    "        else:\n",
    "            t = BinaryTree(new_node)\n",
    "            t.left_child = self.left_child\n",
    "            self.left_child = t\n",
    "            \n",
    "    def insert_right(self, new_node):\n",
    "        if self.right_child == None:\n",
    "            self.right_child = BinaryTree(new_node)\n",
    "        else:\n",
    "            t = BinaryTree(new_node)\n",
    "            t.right_child = self.right_child\n",
    "            self.right_child = t\n",
    "            \n",
    "    def get_right_child(self):\n",
    "        return self.right_child\n",
    "    \n",
    "    def get_left_child(self):\n",
    "        return self.left_child\n",
    "\n",
    "    def set_root_val(self,obj):\n",
    "        self.key = obj\n",
    "\n",
    "    def get_root_val(self):\n",
    "        return self.key\n",
    "    "
   ]
  },
  {
   "cell_type": "code",
   "execution_count": 132,
   "metadata": {
    "collapsed": true
   },
   "outputs": [],
   "source": [
    "#Listing 2\n",
    "def preorder(BinaryTree):\n",
    "    if BinaryTree:\n",
    "        print(BinaryTree.get_root_val())\n",
    "        preorder(BinaryTree.get_left_child())\n",
    "        preorder(BinaryTree.get_right_child())\n",
    "        \n",
    "#listing 6       \n",
    "def inorderPrint(BinaryTree):\n",
    "    if BinaryTree:\n",
    "        inorderPrint(BinaryTree.get_left_child())\n",
    "        print(BinaryTree.get_root_val())\n",
    "        inorderPrint(BinaryTree.get_right_child())\n",
    "\n",
    "#Listing 4\n",
    "def postorder(BinaryTree):\n",
    "    if BinaryTree:\n",
    "        postorder(BinaryTree.get_left_child()) \n",
    "        postorder(BinaryTree.get_right_child()) \n",
    "        print(BinaryTree.get_root_val()) \n",
    "        \n",
    "#The main difference of three is the syntax sequence."
   ]
  },
  {
   "cell_type": "code",
   "execution_count": 133,
   "metadata": {
    "collapsed": true
   },
   "outputs": [],
   "source": [
    "#Listing 7\n",
    "def printexp(BinaryTree):\n",
    "    sVal = \"\" \n",
    "    if BinaryTree:\n",
    "        sVal = '(' + printexp(BinaryTree.get_left_child())\n",
    "        sVal = sVal + str(BinaryTree.get_root_val())\n",
    "        sVal = sVal + printexp(BinaryTree.get_right_child())+')'\n",
    "    return sVal"
   ]
  },
  {
   "cell_type": "code",
   "execution_count": 139,
   "metadata": {
    "collapsed": true
   },
   "outputs": [],
   "source": [
    "#Some Changing on Listing 7\n",
    "def printexp2(BinaryTree):\n",
    "    sVal2 = \"\" \n",
    "    if BinaryTree:\n",
    "        if BinaryTree.get_left_child():\n",
    "            sVal2 = '[ ' + printexp2(BinaryTree.get_left_child())\n",
    "            \n",
    "        sVal2 = sVal2 + ' ' + str(BinaryTree.get_root_val()) + ' '\n",
    "        \n",
    "        if BinaryTree.get_right_child():\n",
    "            sVal2 = sVal2 + printexp2(BinaryTree.get_right_child())+' ]'\n",
    "            \n",
    "    return sVal2"
   ]
  },
  {
   "cell_type": "code",
   "execution_count": 140,
   "metadata": {
    "collapsed": true
   },
   "outputs": [],
   "source": [
    "#Listing 5: Doesn't work, can't recognise the operator\n",
    "def evaluate(tree):\n",
    "    opers = {'+':operator.add, '-':operator.sub, '*':operator.mul, '/':operator.truediv}\n",
    "    res1 = None\n",
    "    res2 = None\n",
    "    if tree:\n",
    "        res1 = evaluate(tree.get_left_child()) \n",
    "        res2 = evaluate(tree.get_right_child())\n",
    "        if res1 and res2:\n",
    "            return opers[tree.get_root_val()](res1, res2)\n",
    "        else:\n",
    "            return tree.get_root_val()"
   ]
  },
  {
   "cell_type": "code",
   "execution_count": 141,
   "metadata": {
    "collapsed": true
   },
   "outputs": [],
   "source": [
    "T1 = BinaryTree(7)\n",
    "T1.insert_left(12)\n",
    "T1.get_left_child().insert_left(5)\n",
    "T1.get_left_child().insert_right(10)\n",
    "T1.insert_left(8)\n",
    "T1.get_left_child().insert_right(9)\n",
    "T1.insert_right(7)\n",
    "T1.get_right_child().insert_left(5)\n",
    "T1.get_right_child().insert_right(6)"
   ]
  },
  {
   "cell_type": "code",
   "execution_count": 142,
   "metadata": {},
   "outputs": [
    {
     "data": {
      "text/plain": [
       "'((((5)12(10))8(9))7((5)7(6)))'"
      ]
     },
     "execution_count": 142,
     "metadata": {},
     "output_type": "execute_result"
    }
   ],
   "source": [
    "printexp(T1)"
   ]
  },
  {
   "cell_type": "code",
   "execution_count": 143,
   "metadata": {},
   "outputs": [
    {
     "data": {
      "text/plain": [
       "'[ [ [  5  12  10  ] 8  9  ] 7 [  5  7  6  ] ]'"
      ]
     },
     "execution_count": 143,
     "metadata": {},
     "output_type": "execute_result"
    }
   ],
   "source": [
    "printexp2(T1)"
   ]
  },
  {
   "cell_type": "code",
   "execution_count": null,
   "metadata": {
    "collapsed": true
   },
   "outputs": [],
   "source": []
  }
 ],
 "metadata": {
  "kernelspec": {
   "display_name": "Python 3",
   "language": "python",
   "name": "python3"
  },
  "language_info": {
   "codemirror_mode": {
    "name": "ipython",
    "version": 3
   },
   "file_extension": ".py",
   "mimetype": "text/x-python",
   "name": "python",
   "nbconvert_exporter": "python",
   "pygments_lexer": "ipython3",
   "version": "3.6.1"
  }
 },
 "nbformat": 4,
 "nbformat_minor": 2
}
