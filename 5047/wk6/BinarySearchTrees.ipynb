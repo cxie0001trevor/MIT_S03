{
 "cells": [
  {
   "cell_type": "code",
   "execution_count": null,
   "metadata": {
    "collapsed": true
   },
   "outputs": [],
   "source": [
    "#To implement BST, our implementation will use two clases:\n",
    "#    1. TreeNode\n",
    "#    2. BinarySearchTrees\n",
    "# TreeNode is the root of the BinarySearchTrees."
   ]
  },
  {
   "cell_type": "code",
   "execution_count": 224,
   "metadata": {},
   "outputs": [],
   "source": [
    "class TreeNode:\n",
    "    def __init__(self,key,val,left=None,right=None,parent=None): \n",
    "        #Optional parameter make constructor work as overload method under different circumstances \n",
    "        self.key = key\n",
    "        self.payload = val\n",
    "        self.leftChild = left\n",
    "        self.rightChild = right\n",
    "        self.parent = parent\n",
    "\n",
    "    def hasLeftChild(self):\n",
    "        return self.leftChild\n",
    "\n",
    "    def hasRightChild(self):\n",
    "        return self.rightChild\n",
    "\n",
    "    def isLeftChild(self): #check whether it is Left child\n",
    "        return self.parent and self.parent.leftChild == self\n",
    "\n",
    "    def isRightChild(self): #check whether it is Right child\n",
    "        return self.parent and self.parent.rightChild == self\n",
    "\n",
    "    def isRoot(self): #check whether it is Root\n",
    "        return not self.parent\n",
    "\n",
    "    def isLeaf(self): #check whether it is leaf\n",
    "        return not (self.rightChild or self.leftChild)\n",
    "\n",
    "    def hasAnyChildren(self): #Check whether it has left child or right child\n",
    "        return self.rightChild or self.leftChild\n",
    "\n",
    "    def hasBothChildren(self): #Check whether it has both left and right\n",
    "        return self.rightChild and self.leftChild\n",
    "\n",
    "    def replaceNodeData(self,key,value,lc,rc):\n",
    "        self.key = key #Replace with new key\n",
    "        self.payload = value #Replace with new value\n",
    "        self.leftChild = lc #Replace with new left child\n",
    "        self.rightChild = rc #Replace with new right child\n",
    "        if self.hasLeftChild(): #If the current node has left child\n",
    "            self.leftChild.parent = self #Set the left child's parent as itself\n",
    "        if self.hasRightChild(): #If the current node has right child\n",
    "            self.rightChild.parent = self #Set the right child's parent as itself\n",
    "    \n",
    "    def __iter__(self):\n",
    "        #This is a inorder iterator.\n",
    "        #It overrides the for x in operation for iteration, so it is recursive!\n",
    "        if self:\n",
    "            if self.hasLeftChild():\n",
    "                for elem in self.leftChiLd:\n",
    "                    yield elem\n",
    "            yield self.key\n",
    "            if self.hasRightChild():\n",
    "                for elem in self.rightChild:\n",
    "                    yield elem\n",
    "                    \n",
    "    def findMin(self): \n",
    "        # Return the node with the minimum key in a subtree\n",
    "        # The left most child of the tree!\n",
    "        current = self\n",
    "        while current.hasLeftChild():\n",
    "            current = current.leftChild # Track down to the leftmost\n",
    "        return current\n",
    "    \n",
    "    def findSuccessor(self):\n",
    "        # ===========================================================\n",
    "        # This remove algorithms is a right-side replacement\n",
    "        # It starts by looking for the successor from the right subtree\n",
    "        # It aims at looking for the minimum key of the right subtree.\n",
    "        # that must be the leftmost of the right subtree \n",
    "        # ===========================================================\n",
    "        # The Left-side replacement:\n",
    "        # It starts by looking for the successor from the left subtree.\n",
    "        # It aims at looking for the maximum key of the left subtree.\n",
    "        # that must be the rightmost node of the left subtree.\n",
    "        # ===========================================================\n",
    "        # Both are correct and efficient, but \n",
    "        # ===========================================================\n",
    "        \n",
    "        # The success must not have more than one child(One or None)\n",
    "        succ = None\n",
    "        if self.hasRightChild():\n",
    "            print(\"Go Right\")\n",
    "            #if it has a rightChild, find the smallest in the right subtree as the successor\n",
    "            succ = self.rightChild.findMin()\n",
    "            print('Successor: key: %.d payload: %s' % (succ.key, succ.payload))\n",
    "            print(\"Found successor on right subtree\")\n",
    "        else:\n",
    "            #has a leftChild or No child\n",
    "            print(\"Current node doesn't have a right child\")\n",
    "            if self.parent: #if itself is not a root\n",
    "                if self.isLeftChild(): #if itself is a leftChild\n",
    "                    print(\"And itself is a left Child\")\n",
    "                    succ = self.parent #success by its parent\n",
    "                    print('Successor: key: %.d payload: %s' % (succ.key, succ.payload))\n",
    "                    print(\"Its parent as the successor\")\n",
    "                    print(\"==================================\")\n",
    "                else: #if itself is a rightChild\n",
    "                    print(\"And itself is a Right Child\")\n",
    "                    self.parent.rightChild = None #excludes itself from its parent\n",
    "                    print(\"find the successor from its parent\")\n",
    "                    succ = self.parent.findSuccessor() #find the successor of its parent\n",
    "                    self.parent.rightChild = self #replace back\n",
    "                    print(\"==================================\")\n",
    "        return succ\n",
    "\n",
    "    def spliceOut(self):\n",
    "        # Recall that successor can only have atmost 1 child (left/right).\n",
    "        # To remove the successor from its original position.\n",
    "        if self.isLeaf(): # No children\n",
    "            # Set its parent left/right child as None\n",
    "            if self.isLeftChild():\n",
    "                   self.parent.leftChild = None\n",
    "            else:\n",
    "                   self.parent.rightChild = None\n",
    "        elif self.hasAnyChildren(): # Has child\n",
    "            if self.hasLeftChild(): # Has leftChild\n",
    "                if self.isLeftChild(): #Itself is a leftChild\n",
    "                    # Set its parent's leftChild as its left child\n",
    "                    self.parent.leftChild = self.leftChild\n",
    "                else:\n",
    "                    # Set its parent's rightChild as its left child.\n",
    "                    self.parent.rightChild = self.leftChild\n",
    "                # Finally, Set its leftchild's parent as its parent.    \n",
    "                self.leftChild.parent = self.parent\n",
    "                \n",
    "            else: # Has rightChild\n",
    "                if self.isLeftChild(): # Itself is a leftChild\n",
    "                    # Set its parent's leftChild as its rightChild\n",
    "                    self.parent.leftChild = self.rightChild\n",
    "                else:\n",
    "                    # Set its parent's rightChild as its rightChild\n",
    "                    self.parent.rightChild = self.rightChild\n",
    "                # Finally, Set its rightchild's parent as its parent.\n",
    "                self.rightChild.parent = self.parent\n",
    "    \n",
    "    \n",
    "    "
   ]
  },
  {
   "cell_type": "code",
   "execution_count": 225,
   "metadata": {},
   "outputs": [],
   "source": [
    "#Test\n",
    "a = TreeNode(2, 'a')\n",
    "b = TreeNode(1, 'b', None, None, a)\n",
    "c = TreeNode(3, 'c', None, None, a)\n",
    "a.replaceNodeData(2,'a', b, c)"
   ]
  },
  {
   "cell_type": "code",
   "execution_count": 226,
   "metadata": {},
   "outputs": [
    {
     "data": {
      "text/plain": [
       "True"
      ]
     },
     "execution_count": 226,
     "metadata": {},
     "output_type": "execute_result"
    }
   ],
   "source": [
    "b.isLeftChild()"
   ]
  },
  {
   "cell_type": "code",
   "execution_count": 281,
   "metadata": {},
   "outputs": [],
   "source": [
    "class BinarySearchTree:\n",
    "    def __init__(self):\n",
    "        self.root = None\n",
    "        self.size = 0\n",
    "\n",
    "    def length(self):\n",
    "        return self.size\n",
    "\n",
    "    def __len__(self):\n",
    "        return self.size\n",
    "\n",
    "    def __iter__(self):\n",
    "        return self.root.__iter__()\n",
    "\n",
    "    \"\"\"===============================================================================\"\"\"\n",
    "    def put(self, key, val):\n",
    "        if self.root: #If it has a root\n",
    "            self._put(key, val, self.root)\n",
    "        else: #it doesn't have a root\n",
    "            self.root = TreeNode(key, val) #Create a new TreeNode, set it as the root.\n",
    "            print(\"New root with key: \" + str(key) + \" has been initialised.\")\n",
    "            print(\"==================================\")\n",
    "        self.size = self.size + 1 #Make the size incremented by 1.\n",
    "\n",
    "    def _put(self, key, val, currentNode): #the tree already has a root\n",
    "        if key < currentNode.key: #put it on the left\n",
    "            print(\"Go left\")\n",
    "            if currentNode.hasLeftChild(): #Has a left child, Go for recursive call on _put method.\n",
    "                self._put(key, val, currentNode.leftChild) \n",
    "                \n",
    "            #No left child, Create a new Node as the left child\n",
    "            else:\n",
    "                print(\"New left child with key: \" + str(key) + \" has been initialised.\")\n",
    "                print(\"==================================\")\n",
    "                currentNode.leftChild = TreeNode(key, val, parent=currentNode) \n",
    "                \n",
    "        elif key > currentNode.key:\n",
    "            #put it on the right\n",
    "            print(\"Go right\")\n",
    "            if currentNode.hasRightChild():\n",
    "                self._put(key, val, currentNode.rightChild)\n",
    "            else:\n",
    "                print(\"New right child with key: \" + str(key) + \" has been initialised.\")\n",
    "                print(\"==================================\")\n",
    "                currentNode.rightChild = TreeNode(key, val, parent=currentNode)\n",
    "        else:\n",
    "            print(\"Node (key: %.d payload: %s ) \\n has been updated by new value: %s.\" \n",
    "                  % (key, currentNode.payload, val))\n",
    "            currentNode.replaceNodeData(key, val, currentNode.leftChild, currentNode.rightChild)\n",
    "            print(\"==================================\")\n",
    "        \n",
    "    \"\"\"===============================================================================\"\"\"\n",
    "    \n",
    "    def __setitem__(self, k, v):#for overload the put with []\n",
    "        self.put(k, v)\n",
    "    \n",
    "    def get(self,key):\n",
    "        if self.root: #Has a root\n",
    "            res = self._get(key,self.root) #return a TreeNode\n",
    "            if res:\n",
    "                   return res.payload #return the payload\n",
    "            else:\n",
    "                   return None\n",
    "        else:\n",
    "            return None\n",
    "\n",
    "    def _get(self,key,currentNode): #returns a TreeNode\n",
    "        if not currentNode:\n",
    "            return None\n",
    "        elif currentNode.key == key:\n",
    "            print(\"Found!\")\n",
    "            print(\"==================================\")\n",
    "            return currentNode\n",
    "        elif key < currentNode.key:\n",
    "            print(\"Go left\")\n",
    "            return self._get(key, currentNode.leftChild) #Recursively go for the left\n",
    "        else:# key > currentNode.key\n",
    "            print(\"Go right\")\n",
    "            return self._get(key, currentNode.rightChild) #Recursively go for the right\n",
    "\n",
    "    def __getitem__(self,key):\n",
    "        return self.get(key)\n",
    "    \n",
    "    \"\"\"===============================================================================\"\"\"\n",
    "    \n",
    "    def __contains__(self,key):\n",
    "        if self._get(key,self.root):\n",
    "            return True\n",
    "        else:\n",
    "            return False\n",
    "        \n",
    "    \"\"\"===============================================================================\"\"\"\n",
    "    def __delitem__(self,key):\n",
    "        self.delete(key)\n",
    "    \n",
    "    def delete(self,key):   \n",
    "        if self.size > 1: #This a tree\n",
    "            nodeToRemove = self._get(key,self.root) #use _get to find the node\n",
    "            \"\"\"=========== It goes to the remove section ==========\"\"\"\n",
    "            if nodeToRemove: #if found\n",
    "                temp = nodeToRemove.payload\n",
    "                self.remove(nodeToRemove) # Call remove method\n",
    "                print('Node: key: %.d payload: %s \\nIt has been deleted' % (key, temp))\n",
    "                self.size = self.size - 1 # size get decremented by 1.\n",
    "                \"\"\"================================================\"\"\"\n",
    "            else: #Not found\n",
    "                raise KeyError('Error, key not in tree')\n",
    "                \n",
    "        elif self.size == 1 and self.root.key == key: # the root's key match\n",
    "            print('Root key: %d payload: %s has been deleted' % key, self.root.payload)\n",
    "            self.root = None\n",
    "            self.size = self.size - 1\n",
    "            \n",
    "        else: #it is a empty tree\n",
    "            raise KeyError('Error, key not in tree')\n",
    "        \n",
    "    def remove(self, currentNode):\n",
    "        if currentNode.isLeaf(): # Case1: No children (a leaf).\n",
    "            print(\"It is a leaf\")\n",
    "            if currentNode == currentNode.parent.leftChild: # if currentNode is a leftChild\n",
    "                currentNode.parent.leftChild = None #Remove the reference\n",
    "            else: # is a rightChild\n",
    "                currentNode.parent.rightChild = None #Remove the reference\n",
    "            print(\"==================================\")\n",
    "                  \n",
    "        elif currentNode.hasBothChildren(): #Case3: TWO children\n",
    "            print(\"It has two children\")\n",
    "            # Found the successor\n",
    "            succ = currentNode.findSuccessor()\n",
    "            # Handle the successor removal\n",
    "            succ.spliceOut()\n",
    "            # Copy the successor key and payload to the node scheduled for deletion.\n",
    "            currentNode.key = succ.key\n",
    "            currentNode.payload = succ.payload\n",
    "            print(\"==================================\")\n",
    "            \n",
    "        else: # Case2: only ONE child\n",
    "            print(\"It has only one child\")\n",
    "            if currentNode.hasLeftChild(): # Left case\n",
    "                print(\"It has a leftChild\")\n",
    "                if currentNode.isLeftChild(): \n",
    "                    print(\"Itself is a leftchild of its parent\")\n",
    "                    currentNode.leftChild.parent = currentNode.parent \n",
    "                    # Update its leftChild's parent field as its parent\n",
    "                    currentNode.parent.leftChild = currentNode.leftChild\n",
    "                    # Update its parent's leftChild as the its leftChild\n",
    "                    print(\"References have been updated.\")\n",
    "                elif currentNode.isRightChild(): \n",
    "                    print(\"Itself is a rightChild of its parent\")\n",
    "                    currentNode.leftChild.parent = currentNode.parent\n",
    "                    # Update its leftChild's parent field as its parent\n",
    "                    currentNode.parent.rightChild = currentNode.leftChild\n",
    "                    # Update its parent's leftChild as the its leftChild\n",
    "                    print(\"References have been updated.\")\n",
    "                else:\n",
    "                    print(\"Itself is a root, new node replaced\")\n",
    "                    # itself is a root, then replace with its leftChild\n",
    "                    currentNode.replaceNodeData(currentNode.leftChild.key,\n",
    "                                                currentNode.leftChild.payload,\n",
    "                                                currentNode.leftChild.leftChild,\n",
    "                                                currentNode.leftChild.rightChild)\n",
    "                    print(\"==================================\")\n",
    "                    \n",
    "            else: # Right case\n",
    "                print(\"It has a rightChild\")\n",
    "                if currentNode.isLeftChild():\n",
    "                    print(\"Itself is a leftchild of its parent\")\n",
    "                    currentNode.rightChild.parent = currentNode.parent\n",
    "                    currentNode.parent.leftChild = currentNode.rightChild\n",
    "                elif currentNode.isRightChild():\n",
    "                    print(\"Itself is a rightchild of its parent\")\n",
    "                    currentNode.rightChild.parent = currentNode.parent\n",
    "                    currentNode.parent.rightChild = currentNode.rightChild\n",
    "                else:\n",
    "                    print(\"Itself is a root, new node replaced\")\n",
    "                    currentNode.replaceNodeData(currentNode.rightChild.key,\n",
    "                                                currentNode.rightChild.payload,\n",
    "                                                currentNode.rightChild.leftChild,\n",
    "                                                currentNode.rightChild.rightChild)\n",
    "                    print(\"==================================\")"
   ]
  },
  {
   "cell_type": "code",
   "execution_count": 284,
   "metadata": {},
   "outputs": [
    {
     "name": "stdout",
     "output_type": "stream",
     "text": [
      "New root with key: 70 has been initialised.\n",
      "==================================\n",
      "Go left\n",
      "New left child with key: 31 has been initialised.\n",
      "==================================\n",
      "Go left\n",
      "Go left\n",
      "New left child with key: 14 has been initialised.\n",
      "==================================\n",
      "Go left\n",
      "Go left\n",
      "Go right\n",
      "New right child with key: 23 has been initialised.\n",
      "==================================\n",
      "Go right\n",
      "New right child with key: 93 has been initialised.\n",
      "==================================\n",
      "Go right\n",
      "Go left\n",
      "New left child with key: 73 has been initialised.\n",
      "==================================\n",
      "Go right\n",
      "Go right\n",
      "New right child with key: 100 has been initialised.\n",
      "==================================\n",
      "Go right\n",
      "Go left\n",
      "Go left\n",
      "New left child with key: 71 has been initialised.\n",
      "==================================\n",
      "Go right\n",
      "Go left\n",
      "Go right\n",
      "New right child with key: 76 has been initialised.\n",
      "==================================\n",
      "Go right\n",
      "Go right\n",
      "Go left\n",
      "New left child with key: 99 has been initialised.\n",
      "==================================\n",
      "Go right\n",
      "Go right\n",
      "Go right\n",
      "New right child with key: 110 has been initialised.\n",
      "==================================\n"
     ]
    }
   ],
   "source": [
    "aTree = BinarySearchTree()\n",
    "aTree[70]=\"70\"\n",
    "aTree[31]=\"31\"\n",
    "aTree[14]=\"14\"\n",
    "aTree[23]=\"23\"\n",
    "aTree[93]=\"93\"\n",
    "aTree[73]=\"73\"\n",
    "aTree[100]=\"100\"\n",
    "aTree[71]=\"71\"\n",
    "aTree[76]=\"76\"\n",
    "aTree[99]=\"99\"\n",
    "aTree[110]=\"110\""
   ]
  },
  {
   "cell_type": "code",
   "execution_count": 285,
   "metadata": {},
   "outputs": [
    {
     "name": "stdout",
     "output_type": "stream",
     "text": [
      "Go right\n",
      "Found!\n",
      "==================================\n",
      "It has two children\n",
      "Go Right\n",
      "Successor: key: 99 payload: 99\n",
      "Found successor on right subtree\n",
      "==================================\n",
      "Node: key: 93 payload: 93 \n",
      "It has been deleted\n"
     ]
    }
   ],
   "source": [
    "aTree.delete(93)"
   ]
  },
  {
   "cell_type": "code",
   "execution_count": 274,
   "metadata": {},
   "outputs": [
    {
     "name": "stdout",
     "output_type": "stream",
     "text": [
      "New root with key: 8 has been initialised.\n",
      "==================================\n",
      "Go right\n",
      "New right child with key: 10 has been initialised.\n",
      "==================================\n",
      "Go left\n",
      "New left child with key: 3 has been initialised.\n",
      "==================================\n",
      "Go right\n",
      "Go left\n",
      "New left child with key: 9 has been initialised.\n",
      "==================================\n",
      "Go right\n",
      "Go right\n",
      "New right child with key: 14 has been initialised.\n",
      "==================================\n"
     ]
    }
   ],
   "source": [
    "mytree = BinarySearchTree()\n",
    "mytree[8]=\"捌\"\n",
    "mytree[10]=\"拾\"\n",
    "mytree[3]=\"叁\"\n",
    "mytree[9]=\"玖\"\n",
    "mytree[14]=\"拾肆\""
   ]
  },
  {
   "cell_type": "code",
   "execution_count": 275,
   "metadata": {},
   "outputs": [
    {
     "name": "stdout",
     "output_type": "stream",
     "text": [
      "Go left\n",
      "Go left\n",
      "New left child with key: 1 has been initialised.\n",
      "==================================\n"
     ]
    }
   ],
   "source": [
    "mytree[1] = \"壹\""
   ]
  },
  {
   "cell_type": "code",
   "execution_count": 276,
   "metadata": {},
   "outputs": [
    {
     "name": "stdout",
     "output_type": "stream",
     "text": [
      "Go left\n",
      "Go left\n",
      "Node (key: 1 payload: 壹 ) \n",
      " has been updated by new value: 更新.\n",
      "==================================\n"
     ]
    }
   ],
   "source": [
    "mytree[1] = \"更新\""
   ]
  },
  {
   "cell_type": "code",
   "execution_count": 277,
   "metadata": {},
   "outputs": [
    {
     "name": "stdout",
     "output_type": "stream",
     "text": [
      "Go left\n",
      "Go left\n",
      "Found!\n",
      "==================================\n"
     ]
    },
    {
     "data": {
      "text/plain": [
       "'更新'"
      ]
     },
     "execution_count": 277,
     "metadata": {},
     "output_type": "execute_result"
    }
   ],
   "source": [
    "mytree.get(1)"
   ]
  },
  {
   "cell_type": "code",
   "execution_count": 278,
   "metadata": {},
   "outputs": [
    {
     "name": "stdout",
     "output_type": "stream",
     "text": [
      "Go right\n",
      "Found!\n",
      "==================================\n",
      "It has two children\n",
      "Go Right\n",
      "Successor: key: 14 payload: 拾肆\n",
      "Found successor on right subtree\n",
      "==================================\n",
      "Node: key: 10 payload: 拾肆 \n",
      "It has been deleted\n"
     ]
    }
   ],
   "source": [
    "mytree.delete(10)"
   ]
  },
  {
   "cell_type": "code",
   "execution_count": 279,
   "metadata": {},
   "outputs": [],
   "source": [
    "def test(key, tree):\n",
    "    if 1 in tree:\n",
    "        return True\n",
    "    else:\n",
    "        return False\n",
    "\n",
    "    "
   ]
  },
  {
   "cell_type": "code",
   "execution_count": 262,
   "metadata": {},
   "outputs": [
    {
     "name": "stdout",
     "output_type": "stream",
     "text": [
      "Go left\n",
      "Go left\n",
      "Found!\n",
      "==================================\n"
     ]
    },
    {
     "data": {
      "text/plain": [
       "True"
      ]
     },
     "execution_count": 262,
     "metadata": {},
     "output_type": "execute_result"
    }
   ],
   "source": [
    "test(1, mytree)"
   ]
  },
  {
   "cell_type": "code",
   "execution_count": 269,
   "metadata": {},
   "outputs": [
    {
     "name": "stdout",
     "output_type": "stream",
     "text": [
      "Go right\n",
      "Found!\n",
      "==================================\n",
      "拾肆\n"
     ]
    }
   ],
   "source": [
    "print(mytree[14])"
   ]
  }
 ],
 "metadata": {
  "kernelspec": {
   "display_name": "Python 3",
   "language": "python",
   "name": "python3"
  },
  "language_info": {
   "codemirror_mode": {
    "name": "ipython",
    "version": 3
   },
   "file_extension": ".py",
   "mimetype": "text/x-python",
   "name": "python",
   "nbconvert_exporter": "python",
   "pygments_lexer": "ipython3",
   "version": "3.6.1"
  }
 },
 "nbformat": 4,
 "nbformat_minor": 2
}
