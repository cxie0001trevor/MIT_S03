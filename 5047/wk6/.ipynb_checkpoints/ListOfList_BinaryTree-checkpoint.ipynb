{
 "cells": [
  {
   "cell_type": "code",
   "execution_count": 2,
   "metadata": {
    "collapsed": true
   },
   "outputs": [],
   "source": [
    "def BinaryTree(r):\n",
    "    return [r, [], []]\n",
    "\n",
    "def insertLeft(root, newBranch):\n",
    "    t = root.pop(1) \n",
    "    #removes 2nd item of the list and store it in t\n",
    "    if len(t) > 1: \n",
    "        #if it is a subtree or only a leaf\n",
    "        # len([1, [], []]) = 3\n",
    "        root.insert(1, [newBranch, t, []]) \n",
    "        #insert a new branch of the root, push t into the newbranch left subtree\n",
    "    else: \n",
    "        #if it is empty\n",
    "        root.insert(1, [newBranch, [], []])\n",
    "    return root\n",
    "\n",
    "def insertRight(root, newBranch):\n",
    "    t = root.pop(2) #removes 3nd item of the list and store it in t\n",
    "    if len(t) > 1: #if there is already has a branch\n",
    "        root.insert(2, [newBranch, [], t]) #insert a new branch of the root, push t into the newbranch right subtree\n",
    "    else: #if there is nothing\n",
    "        root.insert(2, [newBranch, [], []])\n",
    "    return root\n",
    "\n",
    "def getRoot(root):\n",
    "    return root[0]\n",
    "\n",
    "def setRoot(root, newValue):\n",
    "    root[0] = new_value\n",
    "    \n",
    "def getLeftChild(root):\n",
    "    return root[1]\n",
    "\n",
    "def getRightChild(root):\n",
    "    return root[2]"
   ]
  },
  {
   "cell_type": "code",
   "execution_count": 3,
   "metadata": {},
   "outputs": [
    {
     "data": {
      "text/plain": [
       "['a', ['b', ['d', [], []], []], []]"
      ]
     },
     "execution_count": 3,
     "metadata": {},
     "output_type": "execute_result"
    }
   ],
   "source": [
    "myTree = BinaryTree('a')\n",
    "insertLeft(myTree, 'd')\n",
    "insertLeft(myTree, 'b')"
   ]
  },
  {
   "cell_type": "code",
   "execution_count": 7,
   "metadata": {},
   "outputs": [],
   "source": [
    "def buildTree():\n",
    "    tree = BinaryTree('a')\n",
    "    insertLeft(tree, 'b')\n",
    "    insertRight(tree, 'f')\n",
    "    insertRight(tree, 'c')\n",
    "    insertLeft(getRightChild(tree), 'e')\n",
    "    insertRight(getLeftChild(tree), 'd')\n",
    "    return tree"
   ]
  },
  {
   "cell_type": "code",
   "execution_count": 8,
   "metadata": {},
   "outputs": [
    {
     "data": {
      "text/plain": [
       "['a', ['b', [], ['d', [], []]], ['c', ['e', [], []], ['f', [], []]]]"
      ]
     },
     "execution_count": 8,
     "metadata": {},
     "output_type": "execute_result"
    }
   ],
   "source": [
    "buildTree()"
   ]
  },
  {
   "cell_type": "code",
   "execution_count": null,
   "metadata": {
    "collapsed": true
   },
   "outputs": [],
   "source": []
  }
 ],
 "metadata": {
  "kernelspec": {
   "display_name": "Python 3",
   "language": "python",
   "name": "python3"
  },
  "language_info": {
   "codemirror_mode": {
    "name": "ipython",
    "version": 3
   },
   "file_extension": ".py",
   "mimetype": "text/x-python",
   "name": "python",
   "nbconvert_exporter": "python",
   "pygments_lexer": "ipython3",
   "version": "3.6.4"
  }
 },
 "nbformat": 4,
 "nbformat_minor": 2
}
