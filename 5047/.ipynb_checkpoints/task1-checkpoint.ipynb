{
 "cells": [
  {
   "cell_type": "code",
   "execution_count": 194,
   "metadata": {},
   "outputs": [],
   "source": [
    "class puzzles:\n",
    "    def __init__(self,n=3):\n",
    "        self.shape = n\n",
    "        self.puzzle = []\n",
    "        for i in range(n):\n",
    "            self.puzzle.append([])\n",
    "        self.seq = []\n",
    "        self.goal = list(self.puzzle)\n",
    "        \n",
    "    \n",
    "    def set_initial(self, initial):\n",
    "        if initial:\n",
    "            alist = [int(x) if x.isnumeric() else x for x in initial.strip().split(' ')]\n",
    "            for i in range(0,len(alist), self.shape):\n",
    "                self.puzzle[i//self.shape] = alist[i:i+self.shape]\n",
    "        else:\n",
    "            print(\"ValueError: Input can not be None\")\n",
    "    \n",
    "    def set_goal(self, goal):\n",
    "        if goal:\n",
    "            alist = [int(x) if x.isnumeric() else x for x in goal.strip().split(' ')]\n",
    "            for i in range(0,len(alist),self.shape):\n",
    "                self.goal[i//self.shape] = alist[i:i+self.shape]\n",
    "        else:\n",
    "            print(\"ValueError: Input can not be None\")\n",
    "    \n",
    "    def Up(self):\n",
    "        pass\n",
    "    \n",
    "    def Down(self):\n",
    "        pass\n",
    "    \n",
    "    def Left(self):\n",
    "        pass\n",
    "    \n",
    "    def Right(self):\n",
    "        pass\n",
    "    \n",
    "    \n",
    "class tree_search():\n",
    "    def __init__(self):\n",
    "        self.parent = []\n",
    "        self.\n",
    "        \n",
    "        \n",
    "        \n",
    "        \n",
    "        \n",
    "        \n",
    "        \n",
    "        \n",
    "        \n",
    "        \n",
    "        "
   ]
  },
  {
   "cell_type": "code",
   "execution_count": 190,
   "metadata": {},
   "outputs": [],
   "source": [
    "initial = \"1 2 3 4 5 6 7 8 9 10 12 B 13 14 11 15\"\n",
    "goal = \"1 2 3 4 5 6 7 8 9 10 11 12 13 14 15 B\""
   ]
  },
  {
   "cell_type": "code",
   "execution_count": 191,
   "metadata": {},
   "outputs": [],
   "source": [
    "new = puzzles(4)\n",
    "new.set_initial(initial)\n",
    "new.set_goal(goal)"
   ]
  },
  {
   "cell_type": "code",
   "execution_count": 192,
   "metadata": {},
   "outputs": [
    {
     "data": {
      "text/plain": [
       "[[1, 2, 3, 4], [5, 6, 7, 8], [9, 10, 12, 'B'], [13, 14, 11, 15]]"
      ]
     },
     "execution_count": 192,
     "metadata": {},
     "output_type": "execute_result"
    }
   ],
   "source": [
    "new.puzzle"
   ]
  },
  {
   "cell_type": "code",
   "execution_count": 193,
   "metadata": {},
   "outputs": [
    {
     "data": {
      "text/plain": [
       "[[1, 2, 3, 4], [5, 6, 7, 8], [9, 10, 11, 12], [13, 14, 15, 'B']]"
      ]
     },
     "execution_count": 193,
     "metadata": {},
     "output_type": "execute_result"
    }
   ],
   "source": [
    "new.goal"
   ]
  },
  {
   "cell_type": "code",
   "execution_count": 173,
   "metadata": {},
   "outputs": [
    {
     "data": {
      "text/plain": [
       "False"
      ]
     },
     "execution_count": 173,
     "metadata": {},
     "output_type": "execute_result"
    }
   ],
   "source": [
    "'B'.isnumeric()"
   ]
  },
  {
   "cell_type": "code",
   "execution_count": 195,
   "metadata": {},
   "outputs": [
    {
     "data": {
      "text/plain": [
       "True"
      ]
     },
     "execution_count": 195,
     "metadata": {},
     "output_type": "execute_result"
    }
   ],
   "source": [
    "a = {0,1,2}\n",
    "b = {2,1,0}\n",
    "a==b"
   ]
  },
  {
   "cell_type": "code",
   "execution_count": null,
   "metadata": {},
   "outputs": [],
   "source": []
  },
  {
   "cell_type": "code",
   "execution_count": null,
   "metadata": {},
   "outputs": [],
   "source": []
  },
  {
   "cell_type": "code",
   "execution_count": null,
   "metadata": {},
   "outputs": [],
   "source": []
  },
  {
   "cell_type": "code",
   "execution_count": null,
   "metadata": {},
   "outputs": [],
   "source": []
  },
  {
   "cell_type": "code",
   "execution_count": null,
   "metadata": {},
   "outputs": [],
   "source": []
  },
  {
   "cell_type": "code",
   "execution_count": null,
   "metadata": {},
   "outputs": [],
   "source": []
  },
  {
   "cell_type": "code",
   "execution_count": null,
   "metadata": {},
   "outputs": [],
   "source": []
  },
  {
   "cell_type": "code",
   "execution_count": null,
   "metadata": {},
   "outputs": [],
   "source": []
  },
  {
   "cell_type": "code",
   "execution_count": null,
   "metadata": {},
   "outputs": [],
   "source": []
  },
  {
   "cell_type": "code",
   "execution_count": null,
   "metadata": {},
   "outputs": [],
   "source": []
  },
  {
   "cell_type": "code",
   "execution_count": null,
   "metadata": {},
   "outputs": [],
   "source": []
  },
  {
   "cell_type": "code",
   "execution_count": null,
   "metadata": {},
   "outputs": [],
   "source": []
  }
 ],
 "metadata": {
  "kernelspec": {
   "display_name": "Python 3",
   "language": "python",
   "name": "python3"
  },
  "language_info": {
   "codemirror_mode": {
    "name": "ipython",
    "version": 3
   },
   "file_extension": ".py",
   "mimetype": "text/x-python",
   "name": "python",
   "nbconvert_exporter": "python",
   "pygments_lexer": "ipython3",
   "version": "3.6.4"
  }
 },
 "nbformat": 4,
 "nbformat_minor": 2
}
