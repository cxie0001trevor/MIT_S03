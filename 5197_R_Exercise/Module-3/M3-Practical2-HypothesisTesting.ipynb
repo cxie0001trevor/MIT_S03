{
 "cells": [
  {
   "cell_type": "markdown",
   "metadata": {},
   "source": [
    "# Practical 2: Hypothesis Testing\n",
    "## Background\n",
    "In this activity, we learn how hypothesis testing works. As you know, a hypothesis test is checking whether or not a certain statement or prediction about a population is correct. These statements are called hypotheses.\n",
    "\n",
    "## Steps for Practical 2:\n",
    "<ul>\n",
    "    <li> Use hypothesis test to check a single proportion. </li>\n",
    "    <li> Use hypothesis test to check a single mean. </li>\n",
    "    <li> Hypothesis test on correlation.</li>\n",
    "    <li> Use hypothesis test to compare means. </li>\n",
    "    <li> Use hypothesis test to compare paired means.</li>\n",
    "    <li> Use hypothesis test to compare proportions.</li>\n",
    "</ul>\n",
    "\n",
    "### We use the following commands defined in R to achieve the above goals.  \n",
    "1. Single proportion Hypothesis test __prop.test()__\n",
    "2. Single mean Hypothesis test  __t.test()__\n",
    "3. Hypothesis test on correlation __cor.test()__\n",
    "4. Comparing means from two independent group __t.test()__\n",
    "5. Comparing paired means __t.test()__\n",
    "6. Comparing proportions, __prop.test()__"
   ]
  },
  {
   "cell_type": "markdown",
   "metadata": {},
   "source": [
    "## 1. Single proportion: Hypothesis test and confidence interval\n",
    "\n",
    "$\n",
    "  \\begin{cases}\n",
    "    H_0: p=0.5       & \\quad \\text{Null Hypothesis}\\\\\n",
    "    H_A: p\\neq 0.5   & \\quad \\text{Alternative Hypothesis}\\\\\n",
    "  \\end{cases}\n",
    "$"
   ]
  },
  {
   "cell_type": "markdown",
   "metadata": {},
   "source": [
    "## Example\n",
    "In 162 tosses we get 98 heads. Is this significantly greater than 50%? Note that we use prop.test() command for single proportion. We need to specify the status of an alternative hypothesis. There are three options for that. It must be one of \"two.sided\" (default), \"greater\" or \"less\". "
   ]
  },
  {
   "cell_type": "code",
   "execution_count": 52,
   "metadata": {
    "collapsed": false
   },
   "outputs": [
    {
     "data": {
      "text/plain": [
       "\n",
       "\t1-sample proportions test with continuity correction\n",
       "\n",
       "data:  98 out of 162, null probability 0.5\n",
       "X-squared = 6.7222, df = 1, p-value = 0.009522\n",
       "alternative hypothesis: true p is not equal to 0.5\n",
       "95 percent confidence interval:\n",
       " 0.5249531 0.6798650\n",
       "sample estimates:\n",
       "        p \n",
       "0.6049383 \n"
      ]
     },
     "metadata": {},
     "output_type": "display_data"
    }
   ],
   "source": [
    "# 98 heads out of 162 trials (default settings)\n",
    "prop.test(98, 162) #test here is for if it is different. it is two-sided."
   ]
  },
  {
   "cell_type": "markdown",
   "metadata": {},
   "source": [
    "## Reflection\n",
    "* pay attention to the p-value\n",
    "* the significance level is $\\alpha= 0.05$. This is the default.\n",
    "* note that the p-value is 0.009522. The p_value is less than $\\alpha$. Hence, we reject the null.\n",
    "* there is 95% confidence interval as well $[0.5249531, 0.6798650]$\n",
    "* also, the sample estimate for the proportion $\\hat{p}=0.6049383$"
   ]
  },
  {
   "cell_type": "markdown",
   "metadata": {},
   "source": [
    "#### Can you investigate what is the command of $prop.test()$ in R?"
   ]
  },
  {
   "cell_type": "raw",
   "metadata": {},
   "source": [
    "prop.test(x, n, p = NULL,\n",
    "         alternative = c(\"two.sided\", \"less\", \"greater\"),\n",
    "         conf.level = 0.95)"
   ]
  },
  {
   "cell_type": "markdown",
   "metadata": {},
   "source": [
    "* you can choose two-sided or one-sided test using alternative\n",
    "* you can assign any confidence level\n",
    "* search for ?t.test for more info"
   ]
  },
  {
   "cell_type": "markdown",
   "metadata": {},
   "source": [
    "In the following example,  we need to change the default string of alternative which was “two.sided” to “greater”. "
   ]
  },
  {
   "cell_type": "markdown",
   "metadata": {},
   "source": [
    "$\n",
    "  \\begin{cases}\n",
    "    H_0: p=0.5       & \\quad \\text{Null Hypothesis}\\\\\n",
    "    H_A: p > 0.5   & \\quad \\text{Alternative Hypothesis}\\\\\n",
    "  \\end{cases}\n",
    "$"
   ]
  },
  {
   "cell_type": "code",
   "execution_count": 53,
   "metadata": {
    "collapsed": false
   },
   "outputs": [
    {
     "data": {
      "text/plain": [
       "\n",
       "\t1-sample proportions test with continuity correction\n",
       "\n",
       "data:  98 out of 162, null probability 0.5\n",
       "X-squared = 6.7222, df = 1, p-value = 0.004761\n",
       "alternative hypothesis: true p is greater than 0.5\n",
       "90 percent confidence interval:\n",
       " 0.5517784 1.0000000\n",
       "sample estimates:\n",
       "        p \n",
       "0.6049383 \n"
      ]
     },
     "metadata": {},
     "output_type": "display_data"
    }
   ],
   "source": [
    "# One-tailed test with 90% CI\n",
    "prop.test(98, 162, alt = \"greater\", conf.level = .90)"
   ]
  },
  {
   "cell_type": "markdown",
   "metadata": {},
   "source": [
    "As seen, because the p-value of 0.004761 is less than 0.05, the null hypothesis is rejected. "
   ]
  },
  {
   "cell_type": "markdown",
   "metadata": {},
   "source": [
    "## 2. Single mean: Hypothesis test and confidence interval\n",
    "The built-in quakes dataset is used in this example. The quakes dataset includes the locations of earthquakes of Fiji. It gives the locations of 1000 seismic events of MB>4.0. The events occurred in a cube near Fiji since 1964. \n",
    "    \n",
    "\t\n",
    "We use the “mag” feature which is the magnitude of earthquakes in this example. \n",
    "\n",
    "\n",
    "$\n",
    "  \\begin{cases}\n",
    "    H_0: \\mu=0       & \\quad \\text{Null Hypothesis}\\\\\n",
    "    H_A: \\mu \\neq 0   & \\quad \\text{Alternative Hypothesis}\\\\\n",
    "  \\end{cases}\n",
    "$\n",
    "\n",
    "t-test should be used for one-sample (single). The default of mean in t-test ) is zero. Note that the default status for alternative is “two.sided”. "
   ]
  },
  {
   "cell_type": "code",
   "execution_count": 55,
   "metadata": {
    "collapsed": true
   },
   "outputs": [],
   "source": [
    "#?quakes to see what the data are\n",
    "mag <- quakes$mag "
   ]
  },
  {
   "cell_type": "markdown",
   "metadata": {},
   "source": [
    "#### The following command tests the null hypothesis which is the mean of the magnitude of earthquakes against the alternative which is “two.sided” (i.e. not equal)"
   ]
  },
  {
   "cell_type": "code",
   "execution_count": 57,
   "metadata": {
    "collapsed": false
   },
   "outputs": [
    {
     "data": {
      "text/plain": [
       "\n",
       "\tOne Sample t-test\n",
       "\n",
       "data:  mag\n",
       "t = 362.76, df = 999, p-value < 2.2e-16\n",
       "alternative hypothesis: true mean is not equal to 0\n",
       "95 percent confidence interval:\n",
       " 4.595406 4.645394\n",
       "sample estimates:\n",
       "mean of x \n",
       "   4.6204 \n"
      ]
     },
     "metadata": {},
     "output_type": "display_data"
    }
   ],
   "source": [
    "t.test(mag)"
   ]
  },
  {
   "cell_type": "markdown",
   "metadata": {},
   "source": [
    "* get the p-value\n",
    "* $\\alpha=0.05$, because it is not mentioned\n",
    "* the null is rejected as p-value is less than $\\alpha$, which is 0.05.\n",
    "* 95% confidence level for the mean is $[4.595406, 4.645394]$ \n",
    "* you can check the sample mean $\\bar{x}=4.6204 $"
   ]
  },
  {
   "cell_type": "markdown",
   "metadata": {},
   "source": [
    "Note that we have access to the value of the outputs of the t.test() function by using the following command in R. "
   ]
  },
  {
   "cell_type": "code",
   "execution_count": 58,
   "metadata": {
    "collapsed": false
   },
   "outputs": [
    {
     "data": {
      "text/html": [
       "<ol class=list-inline>\n",
       "\t<li>'statistic'</li>\n",
       "\t<li>'parameter'</li>\n",
       "\t<li>'p.value'</li>\n",
       "\t<li>'conf.int'</li>\n",
       "\t<li>'estimate'</li>\n",
       "\t<li>'null.value'</li>\n",
       "\t<li>'alternative'</li>\n",
       "\t<li>'method'</li>\n",
       "\t<li>'data.name'</li>\n",
       "</ol>\n"
      ],
      "text/latex": [
       "\\begin{enumerate*}\n",
       "\\item 'statistic'\n",
       "\\item 'parameter'\n",
       "\\item 'p.value'\n",
       "\\item 'conf.int'\n",
       "\\item 'estimate'\n",
       "\\item 'null.value'\n",
       "\\item 'alternative'\n",
       "\\item 'method'\n",
       "\\item 'data.name'\n",
       "\\end{enumerate*}\n"
      ],
      "text/markdown": [
       "1. 'statistic'\n",
       "2. 'parameter'\n",
       "3. 'p.value'\n",
       "4. 'conf.int'\n",
       "5. 'estimate'\n",
       "6. 'null.value'\n",
       "7. 'alternative'\n",
       "8. 'method'\n",
       "9. 'data.name'\n",
       "\n",
       "\n"
      ],
      "text/plain": [
       "[1] \"statistic\"   \"parameter\"   \"p.value\"     \"conf.int\"    \"estimate\"   \n",
       "[6] \"null.value\"  \"alternative\" \"method\"      \"data.name\"  "
      ]
     },
     "metadata": {},
     "output_type": "display_data"
    }
   ],
   "source": [
    "T <- t.test(mag)\n",
    "names(T)"
   ]
  },
  {
   "cell_type": "markdown",
   "metadata": {},
   "source": [
    "Lets describe a little bit more about the above command. \n",
    "\n",
    "Note that the values are in a structure containing the following components: \n",
    "<ul> \n",
    "    <li> $statistic:$\tthe value of the t-statistic.</li>\n",
    "    <li> $parameter:$\tthe degrees of freedom for the t-statistic. </li>\n",
    "    <li> $p.value:$\tthe p-value for the test.</li>\n",
    "    <li> $conf.int:$\ta confidence interval for the mean appropriate to the specified alternative hypothesis.</li>\n",
    "    <li> $estimate:$\tthe estimated mean or difference in means depending on whether it was a one-sample test or a two-sample test.</li>\n",
    "    <li> $null.value:$\tthe specified hypothesized value of the mean or mean difference depending on whether it was a one-sample test or a two-sample test. </li>\n",
    "    <li> $alternative:$\ta character string describing the alternative hypothesis.</li>\n",
    "    <li> $method:$\ta character string indicating what type of t-test was performed.</li>\n",
    "    <li> $data.name:$\ta character string giving the name(s) of the data.</li>\n",
    "</ul>"
   ]
  },
  {
   "cell_type": "code",
   "execution_count": 59,
   "metadata": {
    "collapsed": false
   },
   "outputs": [
    {
     "data": {
      "text/html": [
       "0"
      ],
      "text/latex": [
       "0"
      ],
      "text/markdown": [
       "0"
      ],
      "text/plain": [
       "[1] 0"
      ]
     },
     "metadata": {},
     "output_type": "display_data"
    }
   ],
   "source": [
    "T$p.value"
   ]
  },
  {
   "cell_type": "code",
   "execution_count": 60,
   "metadata": {
    "collapsed": false
   },
   "outputs": [
    {
     "data": {
      "text/html": [
       "<strong>df:</strong> 999"
      ],
      "text/latex": [
       "\\textbf{df:} 999"
      ],
      "text/markdown": [
       "**df:** 999"
      ],
      "text/plain": [
       " df \n",
       "999 "
      ]
     },
     "metadata": {},
     "output_type": "display_data"
    }
   ],
   "source": [
    "T$parameter"
   ]
  },
  {
   "cell_type": "code",
   "execution_count": 61,
   "metadata": {
    "collapsed": false
   },
   "outputs": [
    {
     "data": {
      "text/html": [
       "<ol class=list-inline>\n",
       "\t<li>4.59540604990751</li>\n",
       "\t<li>4.64539395009249</li>\n",
       "</ol>\n"
      ],
      "text/latex": [
       "\\begin{enumerate*}\n",
       "\\item 4.59540604990751\n",
       "\\item 4.64539395009249\n",
       "\\end{enumerate*}\n"
      ],
      "text/markdown": [
       "1. 4.59540604990751\n",
       "2. 4.64539395009249\n",
       "\n",
       "\n"
      ],
      "text/plain": [
       "[1] 4.595406 4.645394\n",
       "attr(,\"conf.level\")\n",
       "[1] 0.95"
      ]
     },
     "metadata": {},
     "output_type": "display_data"
    }
   ],
   "source": [
    "T$conf.int"
   ]
  },
  {
   "cell_type": "raw",
   "metadata": {},
   "source": [
    "t.test(x, y = NULL,\n",
    "       alternative = c(\"two.sided\", \"less\", \"greater\"),\n",
    "       mu = 0, paired = FALSE, var.equal = FALSE,\n",
    "       conf.level = 0.95, ...)"
   ]
  },
  {
   "cell_type": "markdown",
   "metadata": {},
   "source": [
    "## Example:\n",
    "Perform the test for\n",
    "$\n",
    "  \\begin{cases}\n",
    "    H_0: \\mu=4       & \\quad \\text{Null Hypothesis}\\\\\n",
    "    H_A: \\mu > 4   & \\quad \\text{Alternative Hypothesis}\\\\\n",
    "  \\end{cases}\n",
    "$\n",
    "\n",
    "for mag data."
   ]
  },
  {
   "cell_type": "code",
   "execution_count": 62,
   "metadata": {
    "collapsed": false
   },
   "outputs": [
    {
     "data": {
      "text/plain": [
       "\n",
       "\tOne Sample t-test\n",
       "\n",
       "data:  mag\n",
       "t = 48.709, df = 999, p-value < 2.2e-16\n",
       "alternative hypothesis: true mean is greater than 4\n",
       "95 percent confidence interval:\n",
       " 4.59943     Inf\n",
       "sample estimates:\n",
       "mean of x \n",
       "   4.6204 \n"
      ]
     },
     "metadata": {},
     "output_type": "display_data"
    }
   ],
   "source": [
    "# One-sided t-test\n",
    "t.test(mag, alternative = \"greater\", mu = 4)"
   ]
  },
  {
   "cell_type": "markdown",
   "metadata": {},
   "source": [
    "As seen, the p-value is less than 0.05, hence the null hypothesis is rejected against “greater” status."
   ]
  },
  {
   "cell_type": "markdown",
   "metadata": {},
   "source": [
    "# 3. Hypothesis test on correlation\n",
    "The built-in Swiss dataset is used for this example. The dataset includes Swiss fertility and socioeconomic indicators for each of 47 French-speaking provinces of Switzerland at around 1888.\n",
    "\t\n",
    "We focus on Fertility and Education features of this dataset. \n",
    "\n",
    "you may want to get a hypothesis test or a confidence interval, the basic inferential statistics for the correlations. R has a built-in function called __cor.test__ that can do this for one pair of variables at a time.\n",
    "\n",
    "$\n",
    "  \\begin{cases}\n",
    "    H_0: \\rho=0       & \\quad \\text{Null Hypothesis}\\\\\n",
    "    H_A: \\rho \\neq 0   & \\quad \\text{Alternative Hypothesis}\\\\\n",
    "  \\end{cases}\n",
    "$"
   ]
  },
  {
   "cell_type": "markdown",
   "metadata": {},
   "source": [
    "Have a look at swiss data in R by using ?swiss. We want to test for correlation between swissFertility  and  swissEducation. We want to see if the correlation between them is zero or not."
   ]
  },
  {
   "cell_type": "code",
   "execution_count": 1,
   "metadata": {
    "collapsed": false
   },
   "outputs": [
    {
     "data": {
      "text/plain": [
       "\n",
       "\tPearson's product-moment correlation\n",
       "\n",
       "data:  swiss$Fertility and swiss$Education\n",
       "t = -5.9536, df = 45, p-value = 3.659e-07\n",
       "alternative hypothesis: true correlation is not equal to 0\n",
       "95 percent confidence interval:\n",
       " -0.7987075 -0.4653206\n",
       "sample estimates:\n",
       "       cor \n",
       "-0.6637889 \n"
      ]
     },
     "metadata": {},
     "output_type": "display_data"
    }
   ],
   "source": [
    "cor.test(swiss$Fertility, swiss$Education)"
   ]
  },
  {
   "cell_type": "markdown",
   "metadata": {},
   "source": [
    "* p-value is almost zero. So, we reject the Null. There is some correlation between the two variables.\n",
    "* the sample correlation is -0.6637889.\n",
    "* 95 percent confidence interval: $[-0.7987075, -0.4653206]$"
   ]
  },
  {
   "cell_type": "markdown",
   "metadata": {},
   "source": [
    "# 4. Comparing means with the t-test\n",
    "The built-in Student’s Sleep dataset is used for this example.\n",
    "\n",
    "Please run ?sleep and explore the dataset first. \n",
    "\n",
    "The following test is a two-sample t-test. It compares the means of two different groups.\n",
    "\n",
    "$\n",
    "  \\begin{cases}\n",
    "    H_0: \\mu_1 - \\mu_2=0       & \\quad \\text{Null Hypothesis}\\\\\n",
    "    H_A: \\mu_1 - \\mu_2 \\neq 0   & \\quad \\text{Alternative Hypothesis}\\\\\n",
    "  \\end{cases}\n",
    "$"
   ]
  },
  {
   "cell_type": "code",
   "execution_count": 65,
   "metadata": {
    "collapsed": false
   },
   "outputs": [
    {
     "name": "stderr",
     "output_type": "stream",
     "text": [
      "Warning message in par(oldpar):\n",
      "\"graphical parameter \"cin\" cannot be set\"Warning message in par(oldpar):\n",
      "\"graphical parameter \"cra\" cannot be set\"Warning message in par(oldpar):\n",
      "\"graphical parameter \"csi\" cannot be set\"Warning message in par(oldpar):\n",
      "\"graphical parameter \"cxy\" cannot be set\"Warning message in par(oldpar):\n",
      "\"graphical parameter \"din\" cannot be set\"Warning message in par(oldpar):\n",
      "\"graphical parameter \"page\" cannot be set\""
     ]
    },
    {
     "data": {
      "image/png": "[encoded data removed]",
      "text/plain": [
       "Plot with title \"Histogram of sd$extra\""
      ]
     },
     "metadata": {},
     "output_type": "display_data"
    }
   ],
   "source": [
    "oldpar <- par()\n",
    "sd <- sleep[, 1:2]  # Save just the first two variables\n",
    "par(mfrow=c(1,2))\n",
    "\n",
    "# Some quick plots to check data\n",
    "hist(sd$extra, col = \"lightgray\")\n",
    "boxplot(extra ~ group, data = sd)\n",
    "par(oldpar)"
   ]
  },
  {
   "cell_type": "code",
   "execution_count": 66,
   "metadata": {
    "collapsed": false
   },
   "outputs": [
    {
     "data": {
      "text/plain": [
       "\n",
       "\tWelch Two Sample t-test\n",
       "\n",
       "data:  extra by group\n",
       "t = -1.8608, df = 17.776, p-value = 0.07939\n",
       "alternative hypothesis: true difference in means is not equal to 0\n",
       "95 percent confidence interval:\n",
       " -3.3654832  0.2054832\n",
       "sample estimates:\n",
       "mean in group 1 mean in group 2 \n",
       "           0.75            2.33 \n"
      ]
     },
     "metadata": {},
     "output_type": "display_data"
    }
   ],
   "source": [
    "# Independent 2-group t-test (with defaults)\n",
    "t.test(extra ~ group, data = sd)"
   ]
  },
  {
   "cell_type": "markdown",
   "metadata": {},
   "source": [
    "As seen, the p-value is NOT less than 0.05. What does it mean? Do you agree the test could not reject the null hypothesis against the alternative one? "
   ]
  },
  {
   "cell_type": "markdown",
   "metadata": {},
   "source": [
    "### Now, let's try “less” status for the alternative. \n",
    "\n",
    "$\n",
    "  \\begin{cases}\n",
    "    H_0: \\mu_1 - \\mu_2=0       & \\quad \\text{Null Hypothesis}\\\\\n",
    "    H_A: \\mu_1 - \\mu_2 \\le 0   & \\quad \\text{Alternative Hypothesis}\\\\\n",
    "  \\end{cases}\n",
    "$\n",
    "\n",
    "Note that the confidence interval is considered 80% here, compared with that of 95%."
   ]
  },
  {
   "cell_type": "code",
   "execution_count": 67,
   "metadata": {
    "collapsed": false
   },
   "outputs": [
    {
     "data": {
      "text/plain": [
       "\n",
       "\tWelch Two Sample t-test\n",
       "\n",
       "data:  extra by group\n",
       "t = -1.8608, df = 17.776, p-value = 0.0397\n",
       "alternative hypothesis: true difference in means is less than 0\n",
       "80 percent confidence interval:\n",
       "       -Inf -0.8478191\n",
       "sample estimates:\n",
       "mean in group 1 mean in group 2 \n",
       "           0.75            2.33 \n"
      ]
     },
     "metadata": {},
     "output_type": "display_data"
    }
   ],
   "source": [
    "# t-test with options\n",
    "t.test(extra ~ group,\n",
    "       data = sd,\n",
    "       alternative = \"less\",  # One-tailed test\n",
    "       conf.level = 0.80)  # 80% CI (vs. 95%)"
   ]
  },
  {
   "cell_type": "markdown",
   "metadata": {},
   "source": [
    "What is your observation for the above information? "
   ]
  },
  {
   "cell_type": "code",
   "execution_count": 68,
   "metadata": {
    "collapsed": false
   },
   "outputs": [
    {
     "data": {
      "text/plain": [
       "\n",
       "\tWelch Two Sample t-test\n",
       "\n",
       "data:  x and y\n",
       "t = -1.5968, df = 56.571, p-value = 0.1159\n",
       "alternative hypothesis: true difference in means is not equal to 0\n",
       "95 percent confidence interval:\n",
       " -4.8228587  0.5439726\n",
       "sample estimates:\n",
       "mean of x mean of y \n",
       " 19.47920  21.61864 \n"
      ]
     },
     "metadata": {},
     "output_type": "display_data"
    }
   ],
   "source": [
    "# Create two groups of random data in separate variables\n",
    "# Good because actual difference is known\n",
    "x <- rnorm(30, mean = 20, sd = 5)\n",
    "y <- rnorm(30, mean = 22, sd = 5)\n",
    "t.test(x, y)"
   ]
  },
  {
   "cell_type": "markdown",
   "metadata": {},
   "source": [
    "# 5. Comparing means: Paired and Unpaired t.test\n",
    "In comparing means, we need to be careful regarding whether the two samples are independent or dependent. In case of dependent data, which is generally the data come from before and after a particular effect, we have a paired t.test(). For this kind of test, the size of the first sample should be the same as the second sample. In an unpaired test, the two samples do not need to have the same size. They are data regarding different groups. For example, if we record weights of people before and after taking a particular diet, then we are dealing with the same people, and we are doing paired test. However, if in a classroom if we compare their reading and writing skills, even though we have the same people, but it is not the case of before and after effect. Therefore, we are dealing with unpaired test. \n",
    "\n",
    "Here we generate two random samples. Think t1 is a normally distributed dataset with the mean of 52, and the sd of 6. We want to compare this with a sample of normally distributed data with mean 6 and sd of 12. We want to see if their difference of their means is zero or not."
   ]
  },
  {
   "cell_type": "code",
   "execution_count": 69,
   "metadata": {
    "collapsed": false
   },
   "outputs": [
    {
     "name": "stderr",
     "output_type": "stream",
     "text": [
      "Warning message in par(oldpar):\n",
      "\"graphical parameter \"cin\" cannot be set\"Warning message in par(oldpar):\n",
      "\"graphical parameter \"cra\" cannot be set\"Warning message in par(oldpar):\n",
      "\"graphical parameter \"csi\" cannot be set\"Warning message in par(oldpar):\n",
      "\"graphical parameter \"cxy\" cannot be set\"Warning message in par(oldpar):\n",
      "\"graphical parameter \"din\" cannot be set\"Warning message in par(oldpar):\n",
      "\"graphical parameter \"page\" cannot be set\""
     ]
    },
    {
     "data": {
      "image/png": "[encoded data removed]",
      "text/plain": [
       "Plot with title \"Histogram of t2\""
      ]
     },
     "metadata": {},
     "output_type": "display_data"
    }
   ],
   "source": [
    "# Create random data\n",
    "t1 <- rnorm(50, mean = 52, sd = 6)  # Time 1\n",
    "dif <- rnorm(50, mean = 6, sd = 12)  # Difference\n",
    "t2 <- t1 + dif  # Time 2\n",
    "\n",
    "# Some quick plots to check data\n",
    "par(mfrow=c(2,2))\n",
    "hist(t1)\n",
    "hist(dif)\n",
    "hist(t2)\n",
    "boxplot(t1, t2)\n",
    "par(oldpar)"
   ]
  },
  {
   "cell_type": "code",
   "execution_count": 70,
   "metadata": {
    "collapsed": false
   },
   "outputs": [
    {
     "data": {
      "text/plain": [
       "\n",
       "\tPaired t-test\n",
       "\n",
       "data:  t2 and t1\n",
       "t = 2.5642, df = 49, p-value = 0.01346\n",
       "alternative hypothesis: true difference in means is not equal to 0\n",
       "95 percent confidence interval:\n",
       " 0.8601461 7.0934831\n",
       "sample estimates:\n",
       "mean of the differences \n",
       "               3.976815 \n"
      ]
     },
     "metadata": {},
     "output_type": "display_data"
    }
   ],
   "source": [
    "# Paired t-test (with defaults)\n",
    "t.test(t2, t1, paired = TRUE)"
   ]
  },
  {
   "cell_type": "code",
   "execution_count": 71,
   "metadata": {
    "collapsed": false
   },
   "outputs": [
    {
     "data": {
      "text/plain": [
       "\n",
       "\tPaired t-test\n",
       "\n",
       "data:  t2 and t1\n",
       "t = -1.3045, df = 49, p-value = 0.9009\n",
       "alternative hypothesis: true difference in means is greater than 6\n",
       "99 percent confidence interval:\n",
       " 0.2470461       Inf\n",
       "sample estimates:\n",
       "mean of the differences \n",
       "               3.976815 \n"
      ]
     },
     "metadata": {},
     "output_type": "display_data"
    }
   ],
   "source": [
    "# Paired t-test with options\n",
    "t.test(t2, t1, \n",
    "       paired = TRUE,\n",
    "       mu = 6,  # Specify non-0 null value\n",
    "       alternative = \"greater\",  # One-tailed test\n",
    "       conf.level = 0.99)  # 99% CI (vs. 95%)"
   ]
  },
  {
   "cell_type": "markdown",
   "metadata": {},
   "source": [
    "## 6.  Comparing proportions\n",
    "to compare the proportions of several different groups"
   ]
  },
  {
   "cell_type": "code",
   "execution_count": 72,
   "metadata": {
    "collapsed": false
   },
   "outputs": [
    {
     "data": {
      "text/plain": [
       "\n",
       "\t5-sample test for equality of proportions without continuity\n",
       "\tcorrection\n",
       "\n",
       "data:  x5 out of n5\n",
       "X-squared = 10.958, df = 4, p-value = 0.02704\n",
       "alternative hypothesis: two.sided\n",
       "sample estimates:\n",
       "prop 1 prop 2 prop 3 prop 4 prop 5 \n",
       "  0.65   0.60   0.60   0.50   0.45 \n"
      ]
     },
     "metadata": {},
     "output_type": "display_data"
    }
   ],
   "source": [
    "# Need two vectors:\n",
    "# One specifies the total number of people in each group\n",
    "# This creates a vector with 5 100s in it, for 5 groups\n",
    "# Same as \"number of trials\"\n",
    "n5 <- c(rep(100, 5))\n",
    "# Another specifies the number of people who are in category\n",
    "# Same as \"number of successes\"\n",
    "x5 <- c(65, 60, 60, 50, 45)\n",
    "prop.test(x5, n5)"
   ]
  },
  {
   "cell_type": "code",
   "execution_count": 73,
   "metadata": {
    "collapsed": false
   },
   "outputs": [
    {
     "data": {
      "text/plain": [
       "\n",
       "\t2-sample test for equality of proportions with continuity correction\n",
       "\n",
       "data:  x2 out of n2\n",
       "X-squared = 4.32, df = 1, p-value = 0.03767\n",
       "alternative hypothesis: two.sided\n",
       "80 percent confidence interval:\n",
       " 0.09097213 0.40902787\n",
       "sample estimates:\n",
       "prop 1 prop 2 \n",
       "  0.75   0.50 \n"
      ]
     },
     "metadata": {},
     "output_type": "display_data"
    }
   ],
   "source": [
    "# If there are only two groups, then it gives a confidence\n",
    "# interval for the difference between the groups; \n",
    "# the default CI is .95\n",
    "n2 <- c(40, 40)  # Number of trials\n",
    "x2 <- c(30, 20)  # Number of successes\n",
    "prop.test(x2, n2, conf.level = .80)"
   ]
  }
 ],
 "metadata": {
  "anaconda-cloud": {},
  "kernelspec": {
   "display_name": "R",
   "language": "R",
   "name": "ir"
  },
  "language_info": {
   "codemirror_mode": "r",
   "file_extension": ".r",
   "mimetype": "text/x-r-source",
   "name": "R",
   "pygments_lexer": "r",
   "version": "3.4.1"
  }
 },
 "nbformat": 4,
 "nbformat_minor": 0
}
