{
 "cells": [
  {
   "cell_type": "markdown",
   "metadata": {},
   "source": [
    "# Introductory Programming in R\n",
    "By Asef Nazari\n",
    "\n",
    "asef.nazari@monash.edu\n",
    "\n",
    "Faculty of IT\n",
    "\n",
    "Monash university"
   ]
  },
  {
   "cell_type": "markdown",
   "metadata": {},
   "source": [
    "# 6. Simulation"
   ]
  },
  {
   "cell_type": "markdown",
   "metadata": {},
   "source": [
    "## 6.1 Generating Random Numbers\n",
    "Here are functions for probability distribution in R. They help us simulate variables from given probability distributions.\n",
    "* rnorm: generates random normal variables\n",
    "* pnorm: evaluate the cumulative distribution of Noraml distribtion\n",
    "* dnorm: evaluates normal probaility density\n",
    "* qnorm: quantiles\n",
    "\n",
    "For each peobability density function, there are four functions related to them:\n",
    "* d for density\n",
    "* r for random number generator\n",
    "* p for cumulative distribution\n",
    "* q for quantile function\n",
    "\n",
    "Examples:\n",
    "* dnorm(x,mean=0, sd=1, log=FALSE)\n",
    "* pnorm(q,mean=0, sd=1, lower.tail=TRUE, log.p=FALSE)\n",
    "* dnorm(p,mean=0, sd=1, lower.tail=TRUE, log.p=FALSE)\n",
    "* dnorm(n,mean=0, sd=1)\n",
    "\n",
    "If $F$ is the cumulative distribution function for a standard nor,al distribution, then $\\text{pnorm}(q)=F(q)$ and $\\text{qnorm}(p)= F^{-1}(p)$"
   ]
  },
  {
   "cell_type": "code",
   "execution_count": 2,
   "metadata": {
    "collapsed": false
   },
   "outputs": [
    {
     "data": {
      "text/html": [
       "<ol class=list-inline>\n",
       "\t<li>-1.97395795960149</li>\n",
       "\t<li>-0.199751875498052</li>\n",
       "\t<li>-0.368795353829893</li>\n",
       "\t<li>-0.643459478105241</li>\n",
       "\t<li>0.0581473567110297</li>\n",
       "\t<li>0.963896082765585</li>\n",
       "\t<li>-0.355696412168966</li>\n",
       "\t<li>1.20326265021458</li>\n",
       "\t<li>1.52158393512417</li>\n",
       "\t<li>0.3125687457627</li>\n",
       "</ol>\n"
      ],
      "text/latex": [
       "\\begin{enumerate*}\n",
       "\\item -1.97395795960149\n",
       "\\item -0.199751875498052\n",
       "\\item -0.368795353829893\n",
       "\\item -0.643459478105241\n",
       "\\item 0.0581473567110297\n",
       "\\item 0.963896082765585\n",
       "\\item -0.355696412168966\n",
       "\\item 1.20326265021458\n",
       "\\item 1.52158393512417\n",
       "\\item 0.3125687457627\n",
       "\\end{enumerate*}\n"
      ],
      "text/markdown": [
       "1. -1.97395795960149\n",
       "2. -0.199751875498052\n",
       "3. -0.368795353829893\n",
       "4. -0.643459478105241\n",
       "5. 0.0581473567110297\n",
       "6. 0.963896082765585\n",
       "7. -0.355696412168966\n",
       "8. 1.20326265021458\n",
       "9. 1.52158393512417\n",
       "10. 0.3125687457627\n",
       "\n",
       "\n"
      ],
      "text/plain": [
       " [1] -1.97395796 -0.19975188 -0.36879535 -0.64345948  0.05814736  0.96389608\n",
       " [7] -0.35569641  1.20326265  1.52158394  0.31256875"
      ]
     },
     "metadata": {},
     "output_type": "display_data"
    }
   ],
   "source": [
    "#Simulation\n",
    "# rnorm, dnorm, pnorm, \n",
    "x <- rnorm(10)\n",
    "x"
   ]
  },
  {
   "cell_type": "code",
   "execution_count": 3,
   "metadata": {
    "collapsed": false
   },
   "outputs": [
    {
     "data": {
      "text/html": [
       "<ol class=list-inline>\n",
       "\t<li>22.0181450998889</li>\n",
       "\t<li>19.1408987979729</li>\n",
       "\t<li>18.0922928327177</li>\n",
       "\t<li>21.5749277069447</li>\n",
       "\t<li>17.1193597870858</li>\n",
       "\t<li>20.8120809032987</li>\n",
       "\t<li>19.8095966643279</li>\n",
       "\t<li>20.1533468236013</li>\n",
       "\t<li>20.9811985613751</li>\n",
       "\t<li>21.6572576254477</li>\n",
       "</ol>\n"
      ],
      "text/latex": [
       "\\begin{enumerate*}\n",
       "\\item 22.0181450998889\n",
       "\\item 19.1408987979729\n",
       "\\item 18.0922928327177\n",
       "\\item 21.5749277069447\n",
       "\\item 17.1193597870858\n",
       "\\item 20.8120809032987\n",
       "\\item 19.8095966643279\n",
       "\\item 20.1533468236013\n",
       "\\item 20.9811985613751\n",
       "\\item 21.6572576254477\n",
       "\\end{enumerate*}\n"
      ],
      "text/markdown": [
       "1. 22.0181450998889\n",
       "2. 19.1408987979729\n",
       "3. 18.0922928327177\n",
       "4. 21.5749277069447\n",
       "5. 17.1193597870858\n",
       "6. 20.8120809032987\n",
       "7. 19.8095966643279\n",
       "8. 20.1533468236013\n",
       "9. 20.9811985613751\n",
       "10. 21.6572576254477\n",
       "\n",
       "\n"
      ],
      "text/plain": [
       " [1] 22.01815 19.14090 18.09229 21.57493 17.11936 20.81208 19.80960 20.15335\n",
       " [9] 20.98120 21.65726"
      ]
     },
     "metadata": {},
     "output_type": "display_data"
    }
   ],
   "source": [
    "x <- rnorm(10,20,2)\n",
    "x"
   ]
  },
  {
   "cell_type": "code",
   "execution_count": 4,
   "metadata": {
    "collapsed": false
   },
   "outputs": [
    {
     "data": {
      "text/plain": [
       "   Min. 1st Qu.  Median    Mean 3rd Qu.    Max. \n",
       "  17.12   19.31   20.48   20.14   21.43   22.02 "
      ]
     },
     "metadata": {},
     "output_type": "display_data"
    }
   ],
   "source": [
    "summary(x)"
   ]
  },
  {
   "cell_type": "code",
   "execution_count": 5,
   "metadata": {
    "collapsed": false
   },
   "outputs": [
    {
     "data": {
      "text/html": [
       "<ol class=list-inline>\n",
       "\t<li>-0.626453810742332</li>\n",
       "\t<li>0.183643324222082</li>\n",
       "\t<li>-0.835628612410047</li>\n",
       "\t<li>1.59528080213779</li>\n",
       "\t<li>0.329507771815361</li>\n",
       "</ol>\n"
      ],
      "text/latex": [
       "\\begin{enumerate*}\n",
       "\\item -0.626453810742332\n",
       "\\item 0.183643324222082\n",
       "\\item -0.835628612410047\n",
       "\\item 1.59528080213779\n",
       "\\item 0.329507771815361\n",
       "\\end{enumerate*}\n"
      ],
      "text/markdown": [
       "1. -0.626453810742332\n",
       "2. 0.183643324222082\n",
       "3. -0.835628612410047\n",
       "4. 1.59528080213779\n",
       "5. 0.329507771815361\n",
       "\n",
       "\n"
      ],
      "text/plain": [
       "[1] -0.6264538  0.1836433 -0.8356286  1.5952808  0.3295078"
      ]
     },
     "metadata": {},
     "output_type": "display_data"
    },
    {
     "data": {
      "text/html": [
       "<ol class=list-inline>\n",
       "\t<li>-0.820468384118015</li>\n",
       "\t<li>0.487429052428485</li>\n",
       "\t<li>0.738324705129217</li>\n",
       "\t<li>0.575781351653492</li>\n",
       "\t<li>-0.305388387156356</li>\n",
       "</ol>\n"
      ],
      "text/latex": [
       "\\begin{enumerate*}\n",
       "\\item -0.820468384118015\n",
       "\\item 0.487429052428485\n",
       "\\item 0.738324705129217\n",
       "\\item 0.575781351653492\n",
       "\\item -0.305388387156356\n",
       "\\end{enumerate*}\n"
      ],
      "text/markdown": [
       "1. -0.820468384118015\n",
       "2. 0.487429052428485\n",
       "3. 0.738324705129217\n",
       "4. 0.575781351653492\n",
       "5. -0.305388387156356\n",
       "\n",
       "\n"
      ],
      "text/plain": [
       "[1] -0.8204684  0.4874291  0.7383247  0.5757814 -0.3053884"
      ]
     },
     "metadata": {},
     "output_type": "display_data"
    },
    {
     "data": {
      "text/html": [
       "<ol class=list-inline>\n",
       "\t<li>-0.626453810742332</li>\n",
       "\t<li>0.183643324222082</li>\n",
       "\t<li>-0.835628612410047</li>\n",
       "\t<li>1.59528080213779</li>\n",
       "\t<li>0.329507771815361</li>\n",
       "</ol>\n"
      ],
      "text/latex": [
       "\\begin{enumerate*}\n",
       "\\item -0.626453810742332\n",
       "\\item 0.183643324222082\n",
       "\\item -0.835628612410047\n",
       "\\item 1.59528080213779\n",
       "\\item 0.329507771815361\n",
       "\\end{enumerate*}\n"
      ],
      "text/markdown": [
       "1. -0.626453810742332\n",
       "2. 0.183643324222082\n",
       "3. -0.835628612410047\n",
       "4. 1.59528080213779\n",
       "5. 0.329507771815361\n",
       "\n",
       "\n"
      ],
      "text/plain": [
       "[1] -0.6264538  0.1836433 -0.8356286  1.5952808  0.3295078"
      ]
     },
     "metadata": {},
     "output_type": "display_data"
    },
    {
     "data": {
      "text/html": [
       "<ol class=list-inline>\n",
       "\t<li>-0.820468384118015</li>\n",
       "\t<li>0.487429052428485</li>\n",
       "\t<li>0.738324705129217</li>\n",
       "\t<li>0.575781351653492</li>\n",
       "\t<li>-0.305388387156356</li>\n",
       "</ol>\n"
      ],
      "text/latex": [
       "\\begin{enumerate*}\n",
       "\\item -0.820468384118015\n",
       "\\item 0.487429052428485\n",
       "\\item 0.738324705129217\n",
       "\\item 0.575781351653492\n",
       "\\item -0.305388387156356\n",
       "\\end{enumerate*}\n"
      ],
      "text/markdown": [
       "1. -0.820468384118015\n",
       "2. 0.487429052428485\n",
       "3. 0.738324705129217\n",
       "4. 0.575781351653492\n",
       "5. -0.305388387156356\n",
       "\n",
       "\n"
      ],
      "text/plain": [
       "[1] -0.8204684  0.4874291  0.7383247  0.5757814 -0.3053884"
      ]
     },
     "metadata": {},
     "output_type": "display_data"
    }
   ],
   "source": [
    "set.seed(1)\n",
    "rnorm(5)\n",
    "rnorm(5)\n",
    "set.seed(1)\n",
    "rnorm(5)\n",
    "rnorm(5)"
   ]
  },
  {
   "cell_type": "code",
   "execution_count": 6,
   "metadata": {
    "collapsed": false
   },
   "outputs": [
    {
     "data": {
      "text/html": [
       "0.676676416183063"
      ],
      "text/latex": [
       "0.676676416183063"
      ],
      "text/markdown": [
       "0.676676416183063"
      ],
      "text/plain": [
       "[1] 0.6766764"
      ]
     },
     "metadata": {},
     "output_type": "display_data"
    },
    {
     "data": {
      "text/html": [
       "0.947346982656289"
      ],
      "text/latex": [
       "0.947346982656289"
      ],
      "text/markdown": [
       "0.947346982656289"
      ],
      "text/plain": [
       "[1] 0.947347"
      ]
     },
     "metadata": {},
     "output_type": "display_data"
    }
   ],
   "source": [
    "ppois(2,2) ##cumulative distribution\n",
    "##Pr(x<=2)\n",
    "ppois(4,2) ##Pr(x<=4)"
   ]
  },
  {
   "cell_type": "code",
   "execution_count": 7,
   "metadata": {
    "collapsed": false
   },
   "outputs": [
    {
     "data": {
      "text/plain": [
       "   Min. 1st Qu.  Median    Mean 3rd Qu.    Max. \n",
       "-6.4080 -1.5400  0.6789  0.6893  2.9300  6.5050 "
      ]
     },
     "metadata": {},
     "output_type": "display_data"
    }
   ],
   "source": [
    "set.seed(20)\n",
    "x <- rnorm(100)\n",
    "e <- rnorm(100,0,2)\n",
    "y <- 0.5+2*x+e\n",
    "summary(y)"
   ]
  },
  {
   "cell_type": "code",
   "execution_count": 8,
   "metadata": {
    "collapsed": false
   },
   "outputs": [
    {
     "data": {
      "image/png": "[encoded data removed]",
      "text/plain": [
       "plot without title"
      ]
     },
     "metadata": {},
     "output_type": "display_data"
    }
   ],
   "source": [
    "plot(x,y)"
   ]
  },
  {
   "cell_type": "markdown",
   "metadata": {},
   "source": [
    "## 6.2 Random Sampling\n",
    "The sample() fnction draws randomly from a specified set of (scalar) objects allowing you to sample from arbitrary distributions.\n",
    "\n",
    "Summary:\n",
    "* Drawing samples from specific probability distribution can be done with r- function\n",
    "* Standard distributions are Normal, Poisson, Biomial, Exponential, Gamma, etc.\n",
    "* the sample() function can be used tio draw random samples from abitrary vectors\n",
    "* Settng the random number generator via set.seed() is ritical for reproducability."
   ]
  },
  {
   "cell_type": "code",
   "execution_count": 13,
   "metadata": {
    "collapsed": false
   },
   "outputs": [
    {
     "data": {
      "text/html": [
       "<ol class=list-inline>\n",
       "\t<li>3</li>\n",
       "\t<li>4</li>\n",
       "\t<li>5</li>\n",
       "\t<li>7</li>\n",
       "</ol>\n"
      ],
      "text/latex": [
       "\\begin{enumerate*}\n",
       "\\item 3\n",
       "\\item 4\n",
       "\\item 5\n",
       "\\item 7\n",
       "\\end{enumerate*}\n"
      ],
      "text/markdown": [
       "1. 3\n",
       "2. 4\n",
       "3. 5\n",
       "4. 7\n",
       "\n",
       "\n"
      ],
      "text/plain": [
       "[1] 3 4 5 7"
      ]
     },
     "metadata": {},
     "output_type": "display_data"
    }
   ],
   "source": [
    "set.seed(1)\n",
    "sample(1:10, 4) # without replacement"
   ]
  },
  {
   "cell_type": "code",
   "execution_count": 14,
   "metadata": {
    "collapsed": false
   },
   "outputs": [
    {
     "data": {
      "text/html": [
       "<ol class=list-inline>\n",
       "\t<li>3</li>\n",
       "\t<li>9</li>\n",
       "\t<li>8</li>\n",
       "\t<li>5</li>\n",
       "</ol>\n"
      ],
      "text/latex": [
       "\\begin{enumerate*}\n",
       "\\item 3\n",
       "\\item 9\n",
       "\\item 8\n",
       "\\item 5\n",
       "\\end{enumerate*}\n"
      ],
      "text/markdown": [
       "1. 3\n",
       "2. 9\n",
       "3. 8\n",
       "4. 5\n",
       "\n",
       "\n"
      ],
      "text/plain": [
       "[1] 3 9 8 5"
      ]
     },
     "metadata": {},
     "output_type": "display_data"
    }
   ],
   "source": [
    "sample(1:10,4)"
   ]
  },
  {
   "cell_type": "code",
   "execution_count": 15,
   "metadata": {
    "collapsed": false
   },
   "outputs": [
    {
     "data": {
      "text/html": [
       "<ol class=list-inline>\n",
       "\t<li>'q'</li>\n",
       "\t<li>'b'</li>\n",
       "\t<li>'e'</li>\n",
       "\t<li>'x'</li>\n",
       "\t<li>'p'</li>\n",
       "</ol>\n"
      ],
      "text/latex": [
       "\\begin{enumerate*}\n",
       "\\item 'q'\n",
       "\\item 'b'\n",
       "\\item 'e'\n",
       "\\item 'x'\n",
       "\\item 'p'\n",
       "\\end{enumerate*}\n"
      ],
      "text/markdown": [
       "1. 'q'\n",
       "2. 'b'\n",
       "3. 'e'\n",
       "4. 'x'\n",
       "5. 'p'\n",
       "\n",
       "\n"
      ],
      "text/plain": [
       "[1] \"q\" \"b\" \"e\" \"x\" \"p\""
      ]
     },
     "metadata": {},
     "output_type": "display_data"
    }
   ],
   "source": [
    "sample(letters, 5)"
   ]
  },
  {
   "cell_type": "code",
   "execution_count": 16,
   "metadata": {
    "collapsed": false
   },
   "outputs": [
    {
     "data": {
      "text/html": [
       "<ol class=list-inline>\n",
       "\t<li>4</li>\n",
       "\t<li>7</li>\n",
       "\t<li>10</li>\n",
       "\t<li>6</li>\n",
       "\t<li>9</li>\n",
       "\t<li>2</li>\n",
       "\t<li>8</li>\n",
       "\t<li>3</li>\n",
       "\t<li>1</li>\n",
       "\t<li>5</li>\n",
       "</ol>\n"
      ],
      "text/latex": [
       "\\begin{enumerate*}\n",
       "\\item 4\n",
       "\\item 7\n",
       "\\item 10\n",
       "\\item 6\n",
       "\\item 9\n",
       "\\item 2\n",
       "\\item 8\n",
       "\\item 3\n",
       "\\item 1\n",
       "\\item 5\n",
       "\\end{enumerate*}\n"
      ],
      "text/markdown": [
       "1. 4\n",
       "2. 7\n",
       "3. 10\n",
       "4. 6\n",
       "5. 9\n",
       "6. 2\n",
       "7. 8\n",
       "8. 3\n",
       "9. 1\n",
       "10. 5\n",
       "\n",
       "\n"
      ],
      "text/plain": [
       " [1]  4  7 10  6  9  2  8  3  1  5"
      ]
     },
     "metadata": {},
     "output_type": "display_data"
    }
   ],
   "source": [
    "sample(1:10) #permutation"
   ]
  },
  {
   "cell_type": "code",
   "execution_count": 17,
   "metadata": {
    "collapsed": false
   },
   "outputs": [
    {
     "data": {
      "text/html": [
       "<ol class=list-inline>\n",
       "\t<li>2</li>\n",
       "\t<li>3</li>\n",
       "\t<li>4</li>\n",
       "\t<li>1</li>\n",
       "\t<li>9</li>\n",
       "\t<li>5</li>\n",
       "\t<li>10</li>\n",
       "\t<li>8</li>\n",
       "\t<li>6</li>\n",
       "\t<li>7</li>\n",
       "</ol>\n"
      ],
      "text/latex": [
       "\\begin{enumerate*}\n",
       "\\item 2\n",
       "\\item 3\n",
       "\\item 4\n",
       "\\item 1\n",
       "\\item 9\n",
       "\\item 5\n",
       "\\item 10\n",
       "\\item 8\n",
       "\\item 6\n",
       "\\item 7\n",
       "\\end{enumerate*}\n"
      ],
      "text/markdown": [
       "1. 2\n",
       "2. 3\n",
       "3. 4\n",
       "4. 1\n",
       "5. 9\n",
       "6. 5\n",
       "7. 10\n",
       "8. 8\n",
       "9. 6\n",
       "10. 7\n",
       "\n",
       "\n"
      ],
      "text/plain": [
       " [1]  2  3  4  1  9  5 10  8  6  7"
      ]
     },
     "metadata": {},
     "output_type": "display_data"
    }
   ],
   "source": [
    "sample(1:10)"
   ]
  },
  {
   "cell_type": "code",
   "execution_count": 18,
   "metadata": {
    "collapsed": false
   },
   "outputs": [
    {
     "data": {
      "text/html": [
       "<ol class=list-inline>\n",
       "\t<li>2</li>\n",
       "\t<li>9</li>\n",
       "\t<li>7</li>\n",
       "\t<li>8</li>\n",
       "\t<li>2</li>\n",
       "\t<li>8</li>\n",
       "\t<li>5</li>\n",
       "\t<li>9</li>\n",
       "\t<li>7</li>\n",
       "\t<li>8</li>\n",
       "</ol>\n"
      ],
      "text/latex": [
       "\\begin{enumerate*}\n",
       "\\item 2\n",
       "\\item 9\n",
       "\\item 7\n",
       "\\item 8\n",
       "\\item 2\n",
       "\\item 8\n",
       "\\item 5\n",
       "\\item 9\n",
       "\\item 7\n",
       "\\item 8\n",
       "\\end{enumerate*}\n"
      ],
      "text/markdown": [
       "1. 2\n",
       "2. 9\n",
       "3. 7\n",
       "4. 8\n",
       "5. 2\n",
       "6. 8\n",
       "7. 5\n",
       "8. 9\n",
       "9. 7\n",
       "10. 8\n",
       "\n",
       "\n"
      ],
      "text/plain": [
       " [1] 2 9 7 8 2 8 5 9 7 8"
      ]
     },
     "metadata": {},
     "output_type": "display_data"
    }
   ],
   "source": [
    "sample(1:10, replace=TRUE) #sample with replacement"
   ]
  },
  {
   "cell_type": "code",
   "execution_count": null,
   "metadata": {
    "collapsed": true
   },
   "outputs": [],
   "source": []
  }
 ],
 "metadata": {
  "anaconda-cloud": {},
  "kernelspec": {
   "display_name": "R",
   "language": "R",
   "name": "ir"
  },
  "language_info": {
   "codemirror_mode": "r",
   "file_extension": ".r",
   "mimetype": "text/x-r-source",
   "name": "R",
   "pygments_lexer": "r",
   "version": "3.2.2"
  }
 },
 "nbformat": 4,
 "nbformat_minor": 0
}
