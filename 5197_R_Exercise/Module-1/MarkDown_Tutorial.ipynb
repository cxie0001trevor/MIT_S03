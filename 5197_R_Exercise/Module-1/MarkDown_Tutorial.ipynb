{
 "cells": [
  {
   "cell_type": "markdown",
   "metadata": {},
   "source": [
    "# Introductory Programming in R\n",
    "By Asef Nazari\n",
    "\n",
    "asef.nazari@monash.edu\n",
    "\n",
    "Faculty of IT\n",
    "\n",
    "Monash university"
   ]
  },
  {
   "cell_type": "markdown",
   "metadata": {},
   "source": [
    "# 0. How to Use Markdown"
   ]
  },
  {
   "cell_type": "markdown",
   "metadata": {},
   "source": [
    "Here we will practice how to use Markdown in oredr to create well represented text. By the way, <span style=\"color:red\">double click everywhere on textx to access to the cell and see what is happening in the back</span>.\n",
    "\n",
    "To be able to use markdown, you need to change the cell type into markdown. Cells are for coding purpose by default.\n",
    "Let's start with creating headings. By adding one or more hashtags to teh beginning of a line you can convert it to a heading.\n",
    "\n",
    "# Heading 1\n",
    "## Heading 2\n",
    "### Heading 3\n",
    "#### Heading 4\n",
    "##### Heading 5\n",
    "###### Heading 6\n",
    "####### No more!\n",
    "\n",
    "You can use up to six hashtags to craete a level 6 heading. When you finish your typing, press shift and eneter together to run the cell. If you want to modify an exisitng markdown cell, double click on the cell."
   ]
  },
  {
   "cell_type": "markdown",
   "metadata": {},
   "source": [
    "## 0.1 Paragraphs\n",
    "To craete a paragraph just leave and empty line between previously typed text.\n",
    "\n",
    "Here I made a new paragraph."
   ]
  },
  {
   "cell_type": "markdown",
   "metadata": {},
   "source": [
    "## 0.2 Bulleted List\n",
    "Start each line by a star character and a space to craete bulleted list. Also, you can create nested bullet points by give some empty spaces in the next line.\n",
    "\n",
    "* One\n",
    "* Two\n",
    "  * Three\n",
    "  * Four\n",
    "    * Five\n",
    "    * Six\n",
    "  * Seven\n",
    "  * Eight\n",
    "* Ten\n",
    "\n",
    "You can do the same thing with a hyphen:\n",
    "- A\n",
    "- B\n",
    "  - C\n",
    "  - D\n",
    "    - E\n",
    "  - F\n",
    "- G\n",
    "\n",
    "The asterisk \"*\" and the hyphen \"-\" work the same"
   ]
  },
  {
   "cell_type": "markdown",
   "metadata": {},
   "source": [
    "## 0.3 Numbered List\n",
    "You can create numbered list by starting a line by a number and a dot and a space:\n",
    "\n",
    "1. One\n",
    "2. Two\n",
    "3. Three"
   ]
  },
  {
   "cell_type": "markdown",
   "metadata": {},
   "source": [
    "### Practice:\n",
    "\n",
    "1. one\n",
    "   * Two\n",
    "   * Three\n",
    "2. Four\n",
    "   1. Five\n",
    "   2. Six\n",
    "3. Seven"
   ]
  },
  {
   "cell_type": "markdown",
   "metadata": {},
   "source": [
    "## 0.4 Bold and Italic\n",
    "\n",
    "To make the text bold, add two stars to teh begining and the end of a piece of text. For example, **the text here is bold.**\n",
    "\n",
    "To make a piece of text italic, just add one star to the begining and the end. For example, *the text here is italic.*\n",
    "\n",
    "Another way to make a piece of text italic and bold is to use one or two underscores before and after the text. For example, __I am making__ this _text italic_."
   ]
  },
  {
   "cell_type": "markdown",
   "metadata": {},
   "source": [
    "## 0.5 Creating Links\n",
    "To create a link pointing somewhere else, put the link test inside a pair of square bracket and insert the URL into a pair of paranthesis. [ text ] ( link ). \n",
    "\n",
    "For example, click [here](https://cran.r-project.org/) to go to R repostory. \n",
    "\n",
    "You can provide hints for the destination of a link as well. Hover over the link below after running the cell.\n",
    "\n",
    "click [here](https://cran.r-project.org/ \"R Cran\") to go to R repostory. \n",
    "\n",
    "[Testing sample](https://sample)"
   ]
  },
  {
   "cell_type": "markdown",
   "metadata": {},
   "source": [
    "## 0.6 Acknowledgement\n",
    "Most the materials here is inspired from [here](http://nestacms.com/docs/creating-content/markdown-cheat-sheet)"
   ]
  },
  {
   "cell_type": "code",
   "execution_count": null,
   "metadata": {
    "collapsed": true
   },
   "outputs": [],
   "source": []
  }
 ],
 "metadata": {
  "anaconda-cloud": {},
  "kernelspec": {
   "display_name": "R",
   "language": "R",
   "name": "ir"
  },
  "language_info": {
   "codemirror_mode": "r",
   "file_extension": ".r",
   "mimetype": "text/x-r-source",
   "name": "R",
   "pygments_lexer": "r",
   "version": "3.4.2"
  }
 },
 "nbformat": 4,
 "nbformat_minor": 1
}
