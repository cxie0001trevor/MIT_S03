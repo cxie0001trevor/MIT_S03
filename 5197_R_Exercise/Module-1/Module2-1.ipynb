{
 "cells": [
  {
   "cell_type": "markdown",
   "metadata": {},
   "source": [
    "# Variable Type\n",
    "In this practical, we are going to have a look to one of R's built-in datasets."
   ]
  },
  {
   "cell_type": "code",
   "execution_count": 1,
   "metadata": {
    "collapsed": true
   },
   "outputs": [],
   "source": [
    "?mtcars"
   ]
  },
  {
   "cell_type": "markdown",
   "metadata": {},
   "source": [
    "The data was extracted from the 1974 Motor Trend US magazine.\n",
    "\n",
    "A data frame with 32 observations on 11 variables.\n",
    "* mpg: Miles/(US) gallon\n",
    "* cyl: Number of cylinders\n",
    "* disp: Displacement (cu.in.)\n",
    "* hp: Gross horsepower\n",
    "* drat: Rear axle ratio\n",
    "* wt: Weight (1000 lbs)\n",
    "* qsec: 1/4 mile time\n",
    "* vs: V/S\n",
    "* am: Transmission (0 = automatic, 1 = manual)\n",
    "* gear: Number of forward gears\n",
    "* carb: Number of carburetors"
   ]
  },
  {
   "cell_type": "code",
   "execution_count": 2,
   "metadata": {
    "collapsed": false
   },
   "outputs": [
    {
     "data": {
      "text/html": [
       "<table>\n",
       "<thead><tr><th></th><th scope=col>mpg</th><th scope=col>cyl</th><th scope=col>disp</th><th scope=col>hp</th><th scope=col>drat</th><th scope=col>wt</th><th scope=col>qsec</th><th scope=col>vs</th><th scope=col>am</th><th scope=col>gear</th><th scope=col>carb</th></tr></thead>\n",
       "<tbody>\n",
       "\t<tr><th scope=row>Mazda RX4</th><td>21.0 </td><td>6    </td><td>160  </td><td>110  </td><td>3.90 </td><td>2.620</td><td>16.46</td><td>0    </td><td>1    </td><td>4    </td><td>4    </td></tr>\n",
       "\t<tr><th scope=row>Mazda RX4 Wag</th><td>21.0 </td><td>6    </td><td>160  </td><td>110  </td><td>3.90 </td><td>2.875</td><td>17.02</td><td>0    </td><td>1    </td><td>4    </td><td>4    </td></tr>\n",
       "\t<tr><th scope=row>Datsun 710</th><td>22.8 </td><td>4    </td><td>108  </td><td> 93  </td><td>3.85 </td><td>2.320</td><td>18.61</td><td>1    </td><td>1    </td><td>4    </td><td>1    </td></tr>\n",
       "\t<tr><th scope=row>Hornet 4 Drive</th><td>21.4 </td><td>6    </td><td>258  </td><td>110  </td><td>3.08 </td><td>3.215</td><td>19.44</td><td>1    </td><td>0    </td><td>3    </td><td>1    </td></tr>\n",
       "\t<tr><th scope=row>Hornet Sportabout</th><td>18.7 </td><td>8    </td><td>360  </td><td>175  </td><td>3.15 </td><td>3.440</td><td>17.02</td><td>0    </td><td>0    </td><td>3    </td><td>2    </td></tr>\n",
       "\t<tr><th scope=row>Valiant</th><td>18.1 </td><td>6    </td><td>225  </td><td>105  </td><td>2.76 </td><td>3.460</td><td>20.22</td><td>1    </td><td>0    </td><td>3    </td><td>1    </td></tr>\n",
       "</tbody>\n",
       "</table>\n"
      ],
      "text/latex": [
       "\\begin{tabular}{r|lllllllllll}\n",
       "  & mpg & cyl & disp & hp & drat & wt & qsec & vs & am & gear & carb\\\\\n",
       "\\hline\n",
       "\tMazda RX4 & 21.0  & 6     & 160   & 110   & 3.90  & 2.620 & 16.46 & 0     & 1     & 4     & 4    \\\\\n",
       "\tMazda RX4 Wag & 21.0  & 6     & 160   & 110   & 3.90  & 2.875 & 17.02 & 0     & 1     & 4     & 4    \\\\\n",
       "\tDatsun 710 & 22.8  & 4     & 108   &  93   & 3.85  & 2.320 & 18.61 & 1     & 1     & 4     & 1    \\\\\n",
       "\tHornet 4 Drive & 21.4  & 6     & 258   & 110   & 3.08  & 3.215 & 19.44 & 1     & 0     & 3     & 1    \\\\\n",
       "\tHornet Sportabout & 18.7  & 8     & 360   & 175   & 3.15  & 3.440 & 17.02 & 0     & 0     & 3     & 2    \\\\\n",
       "\tValiant & 18.1  & 6     & 225   & 105   & 2.76  & 3.460 & 20.22 & 1     & 0     & 3     & 1    \\\\\n",
       "\\end{tabular}\n"
      ],
      "text/plain": [
       "                  mpg  cyl disp hp  drat wt    qsec  vs am gear carb\n",
       "Mazda RX4         21.0 6   160  110 3.90 2.620 16.46 0  1  4    4   \n",
       "Mazda RX4 Wag     21.0 6   160  110 3.90 2.875 17.02 0  1  4    4   \n",
       "Datsun 710        22.8 4   108   93 3.85 2.320 18.61 1  1  4    1   \n",
       "Hornet 4 Drive    21.4 6   258  110 3.08 3.215 19.44 1  0  3    1   \n",
       "Hornet Sportabout 18.7 8   360  175 3.15 3.440 17.02 0  0  3    2   \n",
       "Valiant           18.1 6   225  105 2.76 3.460 20.22 1  0  3    1   "
      ]
     },
     "metadata": {},
     "output_type": "display_data"
    }
   ],
   "source": [
    "# lets have a look some first cases in this dataframe\n",
    "head(mtcars) # equally mtcars[1:5, ] rows one to five, but all columns"
   ]
  },
  {
   "cell_type": "markdown",
   "metadata": {},
   "source": [
    "Let's have a lok to the structure of this dataframe:"
   ]
  },
  {
   "cell_type": "code",
   "execution_count": 3,
   "metadata": {
    "collapsed": false
   },
   "outputs": [
    {
     "name": "stdout",
     "output_type": "stream",
     "text": [
      "'data.frame':\t32 obs. of  11 variables:\n",
      " $ mpg : num  21 21 22.8 21.4 18.7 18.1 14.3 24.4 22.8 19.2 ...\n",
      " $ cyl : num  6 6 4 6 8 6 8 4 4 6 ...\n",
      " $ disp: num  160 160 108 258 360 ...\n",
      " $ hp  : num  110 110 93 110 175 105 245 62 95 123 ...\n",
      " $ drat: num  3.9 3.9 3.85 3.08 3.15 2.76 3.21 3.69 3.92 3.92 ...\n",
      " $ wt  : num  2.62 2.88 2.32 3.21 3.44 ...\n",
      " $ qsec: num  16.5 17 18.6 19.4 17 ...\n",
      " $ vs  : num  0 0 1 1 0 1 0 1 1 1 ...\n",
      " $ am  : num  1 1 1 0 0 0 0 0 0 0 ...\n",
      " $ gear: num  4 4 4 3 3 3 3 4 4 4 ...\n",
      " $ carb: num  4 4 1 1 2 1 4 2 2 4 ...\n"
     ]
    }
   ],
   "source": [
    "str(mtcars)"
   ]
  },
  {
   "cell_type": "markdown",
   "metadata": {},
   "source": [
    "There are 11 variables for 32 observations. At this stage we are only interested to identify the type of variables. It is very important that never trust the variable types suggested by R. R does not have any idea about, for example, postcodes. It will consider it as numerical. We need to be careful in this regards. we need to study the metadata of the data well to understand the true nature of the data."
   ]
  },
  {
   "cell_type": "markdown",
   "metadata": {},
   "source": [
    "* mpg: Miles/(US) gallon; __a numerical continuous variable__\n",
    "* cyl: Number of cylinders; __a numerical discrete variable__\n",
    "* disp: Displacement (cu.in.); __a numerical continuous variable__\n",
    "* hp: Gross horsepower; __a numerical continuous variable__\n",
    "* drat: Rear axle ratio; __a numerical continuous variable__\n",
    "* wt: Weight (1000 lbs); __a numerical continuous variable__\n",
    "* qsec: 1/4 mile time; __a numerical continuous variable__\n",
    "* vs: V/S. Either the car has V engine or S, straight, engin; __a categorical nominal variable__\n",
    "* am: Transmission (0 = automatic, 1 = manual); __a categorical nominal variable__\n",
    "* gear: Number of forward gears; __a numerical discrete variable__\n",
    "* carb: Number of carburetors; __a numerical discrete variable__"
   ]
  },
  {
   "cell_type": "markdown",
   "metadata": {},
   "source": [
    "# Describing Categorical Data\n",
    "* Frequency table, \n",
    "* Relative frequency table"
   ]
  },
  {
   "cell_type": "code",
   "execution_count": 32,
   "metadata": {
    "collapsed": false
   },
   "outputs": [
    {
     "name": "stdout",
     "output_type": "stream",
     "text": [
      " Factor w/ 2 levels \"0\",\"1\": 1 1 2 2 1 2 1 2 2 2 ...\n"
     ]
    }
   ],
   "source": [
    "var_vs <- factor(mtcars$vs)\n",
    "str(var_vs)"
   ]
  },
  {
   "cell_type": "code",
   "execution_count": 33,
   "metadata": {
    "collapsed": false
   },
   "outputs": [
    {
     "data": {
      "text/plain": [
       "var_vs\n",
       " 0  1 \n",
       "18 14 "
      ]
     },
     "metadata": {},
     "output_type": "display_data"
    }
   ],
   "source": [
    "table(var_vs)"
   ]
  },
  {
   "cell_type": "code",
   "execution_count": 34,
   "metadata": {
    "collapsed": false
   },
   "outputs": [
    {
     "data": {
      "text/html": [
       "<ol class=list-inline>\n",
       "\t<li>'0'</li>\n",
       "\t<li>'1'</li>\n",
       "</ol>\n"
      ],
      "text/latex": [
       "\\begin{enumerate*}\n",
       "\\item '0'\n",
       "\\item '1'\n",
       "\\end{enumerate*}\n"
      ],
      "text/markdown": [
       "1. '0'\n",
       "2. '1'\n",
       "\n",
       "\n"
      ],
      "text/plain": [
       "[1] \"0\" \"1\""
      ]
     },
     "metadata": {},
     "output_type": "display_data"
    }
   ],
   "source": [
    "levels(var_vs)"
   ]
  },
  {
   "cell_type": "code",
   "execution_count": 35,
   "metadata": {
    "collapsed": true
   },
   "outputs": [],
   "source": [
    "levels(var_vs) <- c(\"V\", \"S\")"
   ]
  },
  {
   "cell_type": "code",
   "execution_count": 36,
   "metadata": {
    "collapsed": false
   },
   "outputs": [
    {
     "data": {
      "text/plain": [
       "var_vs\n",
       " V  S \n",
       "18 14 "
      ]
     },
     "metadata": {},
     "output_type": "display_data"
    }
   ],
   "source": [
    "var_vs1 <- table(var_vs)\n",
    "var_vs1"
   ]
  },
  {
   "cell_type": "code",
   "execution_count": 37,
   "metadata": {
    "collapsed": false
   },
   "outputs": [
    {
     "data": {
      "text/plain": [
       "var_vs\n",
       " V  S \n",
       "18 14 "
      ]
     },
     "metadata": {},
     "output_type": "display_data"
    }
   ],
   "source": [
    "var_vs2 <- sort(var_vs1, decreasing = TRUE)  # Sorts by frequency, saves table\n",
    "var_vs2"
   ]
  },
  {
   "cell_type": "code",
   "execution_count": 38,
   "metadata": {
    "collapsed": false
   },
   "outputs": [
    {
     "data": {
      "text/plain": [
       "var_vs\n",
       "     V      S \n",
       "0.5625 0.4375 "
      ]
     },
     "metadata": {},
     "output_type": "display_data"
    }
   ],
   "source": [
    "prop.table(var_vs1)  # Give proportions of total ##relative frequency\n",
    "# you need to give a table as an argument"
   ]
  },
  {
   "cell_type": "code",
   "execution_count": 39,
   "metadata": {
    "collapsed": false
   },
   "outputs": [
    {
     "data": {
      "text/plain": [
       "var_vs\n",
       "     V      S \n",
       "0.5625 0.4375 "
      ]
     },
     "metadata": {},
     "output_type": "display_data"
    }
   ],
   "source": [
    "var_vs1/sum(var_vs1) # relative frequencies ## same as above"
   ]
  },
  {
   "cell_type": "code",
   "execution_count": 36,
   "metadata": {
    "collapsed": false
   },
   "outputs": [
    {
     "data": {
      "text/plain": [
       "var_vs\n",
       "   V    S \n",
       "0.56 0.44 "
      ]
     },
     "metadata": {},
     "output_type": "display_data"
    }
   ],
   "source": [
    "round(prop.table(var_vs1), 2)  # Give proportions w/2 decimal places"
   ]
  },
  {
   "cell_type": "code",
   "execution_count": 37,
   "metadata": {
    "collapsed": false
   },
   "outputs": [
    {
     "data": {
      "text/plain": [
       "var_vs\n",
       " V  S \n",
       "56 44 "
      ]
     },
     "metadata": {},
     "output_type": "display_data"
    }
   ],
   "source": [
    "round(prop.table(var_vs1), 2) * 100  # Give percentages w/o decimal places"
   ]
  },
  {
   "cell_type": "markdown",
   "metadata": {},
   "source": [
    "Category V is the modal category. It has highest frequency."
   ]
  },
  {
   "cell_type": "markdown",
   "metadata": {},
   "source": [
    "# Exrcise:\n",
    "1. Repeat the same process for am variable of mtcars\n",
    "2. What type of variables does chickwts dataset has? \n",
    "3. Summarise its feed variable using frequency and relative frequency tables."
   ]
  },
  {
   "cell_type": "markdown",
   "metadata": {},
   "source": [
    "# Graphical Summaries\n",
    "We will cover barplots and pie charts here to graphically represent single categorical variables."
   ]
  },
  {
   "cell_type": "code",
   "execution_count": 39,
   "metadata": {
    "collapsed": false
   },
   "outputs": [
    {
     "name": "stdout",
     "output_type": "stream",
     "text": [
      " Factor w/ 2 levels \"V\",\"S\": 1 1 2 2 1 2 1 2 2 2 ...\n"
     ]
    }
   ],
   "source": [
    "str(var_vs)"
   ]
  },
  {
   "cell_type": "code",
   "execution_count": 42,
   "metadata": {
    "collapsed": false
   },
   "outputs": [
    {
     "data": {
      "text/plain": [
       "var_vs\n",
       " V  S \n",
       "18 14 "
      ]
     },
     "metadata": {},
     "output_type": "display_data"
    }
   ],
   "source": [
    "t_vs <- table(var_vs)\n",
    "t_vs"
   ]
  },
  {
   "cell_type": "code",
   "execution_count": 43,
   "metadata": {
    "collapsed": false
   },
   "outputs": [
    {
     "data": {
      "image/png": "[encoded data removed]",
      "text/plain": [
       "plot without title"
      ]
     },
     "metadata": {},
     "output_type": "display_data"
    }
   ],
   "source": [
    "barplot(t_vs)"
   ]
  },
  {
   "cell_type": "code",
   "execution_count": 53,
   "metadata": {
    "collapsed": false
   },
   "outputs": [
    {
     "name": "stderr",
     "output_type": "stream",
     "text": [
      "Warning message:\n",
      "In par(old): graphical parameter \"cin\" cannot be setWarning message:\n",
      "In par(old): graphical parameter \"cra\" cannot be setWarning message:\n",
      "In par(old): graphical parameter \"csi\" cannot be setWarning message:\n",
      "In par(old): graphical parameter \"cxy\" cannot be setWarning message:\n",
      "In par(old): graphical parameter \"din\" cannot be setWarning message:\n",
      "In par(old): graphical parameter \"page\" cannot be set"
     ]
    },
    {
     "data": {
      "image/png": "[encoded data removed]",
      "text/plain": [
       "Plot with title “Relative Frequency Barplot of Engine type”"
      ]
     },
     "metadata": {},
     "output_type": "display_data"
    }
   ],
   "source": [
    "old <- par()\n",
    "par(mfrow=c(1,3))\n",
    "barplot(t_vs,\n",
    "        main=\"Frequency Barplot of Engine type\",\n",
    "        xlab=\"Engine type\",\n",
    "        ylab=\"The frequency\",\n",
    "        col=\"yellow\")\n",
    "barplot(prop.table(t_vs),\n",
    "        main=\"Relative Frequency Barplot of Engine type\",\n",
    "        xlab=\"Engine type\",\n",
    "        ylab=\"The relative frequency\",\n",
    "        col=\"green\")\n",
    "barplot(prop.table(t_vs),\n",
    "        main=\"Relative Frequency Barplot of Engine type\",\n",
    "        xlab=\"Engine type\",\n",
    "        ylab=\"The relative frequency\",\n",
    "        col=c(\"green\", \"yellow\"))\n",
    "par(old)"
   ]
  },
  {
   "cell_type": "code",
   "execution_count": 52,
   "metadata": {
    "collapsed": false
   },
   "outputs": [
    {
     "data": {
      "image/png": "[encoded data removed]",
      "text/plain": [
       "plot without title"
      ]
     },
     "metadata": {},
     "output_type": "display_data"
    }
   ],
   "source": [
    "pie(t_vs)"
   ]
  },
  {
   "cell_type": "markdown",
   "metadata": {},
   "source": [
    "# Exercise:\n",
    "Plot the bar plot and pie chart for the feed variable of chickwts."
   ]
  },
  {
   "cell_type": "markdown",
   "metadata": {},
   "source": [
    "# Describing Quantitative Data\n",
    "Graphical Summaries: Histograms and boxplot"
   ]
  },
  {
   "cell_type": "code",
   "execution_count": 60,
   "metadata": {
    "collapsed": false
   },
   "outputs": [
    {
     "name": "stdout",
     "output_type": "stream",
     "text": [
      " Time-Series [1:114] from 1821 to 1934: 269 321 585 871 1475 ...\n"
     ]
    }
   ],
   "source": [
    "str(lynx)\n",
    "#Annual numbers of lynx trappings for 1821–1934 in Canada"
   ]
  },
  {
   "cell_type": "code",
   "execution_count": 61,
   "metadata": {
    "collapsed": false
   },
   "outputs": [
    {
     "data": {
      "image/png": "[encoded data removed]",
      "text/plain": [
       "Plot with title “Histogram of lynx”"
      ]
     },
     "metadata": {},
     "output_type": "display_data"
    }
   ],
   "source": [
    "hist(lynx)"
   ]
  },
  {
   "cell_type": "code",
   "execution_count": 62,
   "metadata": {
    "collapsed": false
   },
   "outputs": [
    {
     "data": {
      "image/png": "[encoded data removed]",
      "text/plain": [
       "Plot with title “Annual Canadian Lynx Trappings through 1821-1934”"
      ]
     },
     "metadata": {},
     "output_type": "display_data"
    }
   ],
   "source": [
    "# Save histogram as object\n",
    "h <- hist(lynx,  \n",
    "          breaks = 11,  # \"Suggests\" 11 bins, but R decides if the number of bins is appropriate\n",
    "          freq = FALSE, # to show relative frequency\n",
    "          col = \"pink\", \n",
    "          main = \"Annual Canadian Lynx Trappings through 1821-1934\",\n",
    "          xlab = \"Number of Lynx Trapped\")"
   ]
  },
  {
   "cell_type": "markdown",
   "metadata": {},
   "source": [
    "The distribution is right-skewed"
   ]
  },
  {
   "cell_type": "code",
   "execution_count": 64,
   "metadata": {
    "collapsed": false
   },
   "outputs": [
    {
     "data": {
      "image/png": "[encoded data removed]",
      "text/plain": [
       "Plot with title “Annual Canadian Lynx Trappings through 1821-1934”"
      ]
     },
     "metadata": {},
     "output_type": "display_data"
    }
   ],
   "source": [
    "h <- hist(lynx,  \n",
    "          breaks = 11,  # \"Suggests\" 11 bins, but R decides if the number of bins is appropriate\n",
    "          freq = FALSE, # to show relative frequency\n",
    "          col = \"pink\", \n",
    "          main = \"Annual Canadian Lynx Trappings through 1821-1934\",\n",
    "          xlab = \"Number of Lynx Trapped\")\n",
    "# Kernel Density Plot\n",
    "lines(density(lynx), col=\"blue\", lwd=3) # overlay the density  # add a density estimate with defaults\n",
    "lines(density(lynx, adjust=2), lty=\"dotted\", col=\"red\", lwd=3)   # add another \"smoother\" density\n",
    "# IF freq = FALSE, this will draw normal distribution\n",
    "curve(dnorm(x, mean = mean(lynx), sd = sd(lynx)), \n",
    "      col = \"green\", \n",
    "      lwd = 2,\n",
    "      add = TRUE)"
   ]
  },
  {
   "cell_type": "code",
   "execution_count": 65,
   "metadata": {
    "collapsed": false
   },
   "outputs": [
    {
     "name": "stderr",
     "output_type": "stream",
     "text": [
      "Warning message:\n",
      "In par(old): graphical parameter \"cin\" cannot be setWarning message:\n",
      "In par(old): graphical parameter \"cra\" cannot be setWarning message:\n",
      "In par(old): graphical parameter \"csi\" cannot be setWarning message:\n",
      "In par(old): graphical parameter \"cxy\" cannot be setWarning message:\n",
      "In par(old): graphical parameter \"din\" cannot be setWarning message:\n",
      "In par(old): graphical parameter \"page\" cannot be set"
     ]
    },
    {
     "data": {
      "image/png": "[encoded data removed]",
      "text/plain": [
       "Plot with title “Histogram of lynx”"
      ]
     },
     "metadata": {},
     "output_type": "display_data"
    }
   ],
   "source": [
    "# the effect of number of bins\n",
    "par(mfrow=c(2,2))\n",
    "hist(lynx)\n",
    "hist(lynx, breaks=10)\n",
    "hist(lynx, breaks=50)\n",
    "hist(lynx, breaks=100)\n",
    "par(old)"
   ]
  },
  {
   "cell_type": "markdown",
   "metadata": {},
   "source": [
    "## Analyse histograms for shape and modality ??"
   ]
  },
  {
   "cell_type": "markdown",
   "metadata": {},
   "source": [
    "# Exercise\n",
    "Do the histograms for all numerical variables of mtcars data"
   ]
  },
  {
   "cell_type": "code",
   "execution_count": 80,
   "metadata": {
    "collapsed": false
   },
   "outputs": [
    {
     "name": "stdout",
     "output_type": "stream",
     "text": [
      " Named num [1:48] 11506 5500 16988 2968 16 ...\n",
      " - attr(*, \"names\")= chr [1:48] \"Africa\" \"Antarctica\" \"Asia\" \"Australia\" ...\n"
     ]
    }
   ],
   "source": [
    "str(islands)"
   ]
  },
  {
   "cell_type": "code",
   "execution_count": 79,
   "metadata": {
    "collapsed": false
   },
   "outputs": [
    {
     "name": "stderr",
     "output_type": "stream",
     "text": [
      "Warning message:\n",
      "In par(old): graphical parameter \"cin\" cannot be setWarning message:\n",
      "In par(old): graphical parameter \"cra\" cannot be setWarning message:\n",
      "In par(old): graphical parameter \"csi\" cannot be setWarning message:\n",
      "In par(old): graphical parameter \"cxy\" cannot be setWarning message:\n",
      "In par(old): graphical parameter \"din\" cannot be setWarning message:\n",
      "In par(old): graphical parameter \"page\" cannot be set"
     ]
    },
    {
     "data": {
      "image/png": "[encoded data removed]",
      "text/plain": [
       "Plot with title “Histogram of islands”"
      ]
     },
     "metadata": {},
     "output_type": "display_data"
    }
   ],
   "source": [
    "par(mfrow = c(1,2))\n",
    "hist(islands, breaks = 16)\n",
    "boxplot(islands)\n",
    "par(old)"
   ]
  },
  {
   "cell_type": "markdown",
   "metadata": {},
   "source": [
    "# Numerical Summaries for Quantitative Variables\n",
    "* mean\n",
    "* variance\n",
    "* standard deviation,\n",
    "* median\n",
    "* Q1 and Q3\n",
    "* IQR\n",
    "* range\n",
    "* min\n",
    "* max\n",
    "Getting multiple summaries:\n",
    "* summary\n",
    "* fivenum\n",
    "* boxplot.stats\n",
    "* describe, require(\"psych\")"
   ]
  },
  {
   "cell_type": "code",
   "execution_count": 68,
   "metadata": {
    "collapsed": false
   },
   "outputs": [
    {
     "data": {
      "text/html": [
       "20.090625"
      ],
      "text/latex": [
       "20.090625"
      ],
      "text/markdown": [
       "20.090625"
      ],
      "text/plain": [
       "[1] 20.09062"
      ]
     },
     "metadata": {},
     "output_type": "display_data"
    },
    {
     "data": {
      "text/html": [
       "36.3241028225806"
      ],
      "text/latex": [
       "36.3241028225806"
      ],
      "text/markdown": [
       "36.3241028225806"
      ],
      "text/plain": [
       "[1] 36.3241"
      ]
     },
     "metadata": {},
     "output_type": "display_data"
    },
    {
     "data": {
      "text/html": [
       "6.0269480520891"
      ],
      "text/latex": [
       "6.0269480520891"
      ],
      "text/markdown": [
       "6.0269480520891"
      ],
      "text/plain": [
       "[1] 6.026948"
      ]
     },
     "metadata": {},
     "output_type": "display_data"
    },
    {
     "data": {
      "text/html": [
       "TRUE"
      ],
      "text/latex": [
       "TRUE"
      ],
      "text/markdown": [
       "TRUE"
      ],
      "text/plain": [
       "[1] TRUE"
      ]
     },
     "metadata": {},
     "output_type": "display_data"
    }
   ],
   "source": [
    "mean(mtcars$mpg)\n",
    "var(mtcars$mpg)\n",
    "sd(mtcars$mpg)\n",
    "sd(mtcars$mpg)==sqrt(var(mtcars$mpg))"
   ]
  },
  {
   "cell_type": "code",
   "execution_count": 69,
   "metadata": {
    "collapsed": false
   },
   "outputs": [
    {
     "data": {
      "text/html": [
       "19.2"
      ],
      "text/latex": [
       "19.2"
      ],
      "text/markdown": [
       "19.2"
      ],
      "text/plain": [
       "[1] 19.2"
      ]
     },
     "metadata": {},
     "output_type": "display_data"
    },
    {
     "data": {
      "text/html": [
       "33.9"
      ],
      "text/latex": [
       "33.9"
      ],
      "text/markdown": [
       "33.9"
      ],
      "text/plain": [
       "[1] 33.9"
      ]
     },
     "metadata": {},
     "output_type": "display_data"
    },
    {
     "data": {
      "text/html": [
       "10.4"
      ],
      "text/latex": [
       "10.4"
      ],
      "text/markdown": [
       "10.4"
      ],
      "text/plain": [
       "[1] 10.4"
      ]
     },
     "metadata": {},
     "output_type": "display_data"
    },
    {
     "data": {
      "text/html": [
       "<ol class=list-inline>\n",
       "\t<li>10.4</li>\n",
       "\t<li>33.9</li>\n",
       "</ol>\n"
      ],
      "text/latex": [
       "\\begin{enumerate*}\n",
       "\\item 10.4\n",
       "\\item 33.9\n",
       "\\end{enumerate*}\n"
      ],
      "text/markdown": [
       "1. 10.4\n",
       "2. 33.9\n",
       "\n",
       "\n"
      ],
      "text/plain": [
       "[1] 10.4 33.9"
      ]
     },
     "metadata": {},
     "output_type": "display_data"
    }
   ],
   "source": [
    "median(mtcars$mpg)\n",
    "max(mtcars$mpg)\n",
    "min(mtcars$mpg)\n",
    "range(mtcars$mpg)"
   ]
  },
  {
   "cell_type": "markdown",
   "metadata": {},
   "source": [
    "When you want to compare several groups on the same quantitative outcomes, a really handy way to do this is with __grouped box plots__."
   ]
  },
  {
   "cell_type": "code",
   "execution_count": 1,
   "metadata": {
    "collapsed": false
   },
   "outputs": [
    {
     "name": "stdout",
     "output_type": "stream",
     "text": [
      "'data.frame':\t150 obs. of  5 variables:\n",
      " $ Sepal.Length: num  5.1 4.9 4.7 4.6 5 5.4 4.6 5 4.4 4.9 ...\n",
      " $ Sepal.Width : num  3.5 3 3.2 3.1 3.6 3.9 3.4 3.4 2.9 3.1 ...\n",
      " $ Petal.Length: num  1.4 1.4 1.3 1.5 1.4 1.7 1.4 1.5 1.4 1.5 ...\n",
      " $ Petal.Width : num  0.2 0.2 0.2 0.2 0.2 0.4 0.3 0.2 0.2 0.1 ...\n",
      " $ Species     : Factor w/ 3 levels \"setosa\",\"versicolor\",..: 1 1 1 1 1 1 1 1 1 1 ...\n"
     ]
    }
   ],
   "source": [
    "str(iris)"
   ]
  },
  {
   "cell_type": "code",
   "execution_count": 2,
   "metadata": {
    "collapsed": false
   },
   "outputs": [
    {
     "data": {
      "image/png": "[encoded data removed]",
      "text/plain": [
       "plot without title"
      ]
     },
     "metadata": {},
     "output_type": "display_data"
    }
   ],
   "source": [
    "boxplot(iris$Sepal.Length ~ iris$Species)"
   ]
  },
  {
   "cell_type": "markdown",
   "metadata": {},
   "source": [
    "## quantiles"
   ]
  },
  {
   "cell_type": "code",
   "execution_count": 14,
   "metadata": {
    "collapsed": false
   },
   "outputs": [
    {
     "data": {
      "image/png": "[encoded data removed]",
      "text/plain": [
       "Plot with title “density.default(x = mtcars$mpg)”"
      ]
     },
     "metadata": {},
     "output_type": "display_data"
    }
   ],
   "source": [
    "d <- density(mtcars$mpg) # returns the density data \n",
    "plot(d, col=\"blue\", lwd=2, ylim=c(-0.01, 0.07)) # plots the results\n",
    "text(15.42,-0.005,\"Q1\")\n",
    "abline(v=15.42, lty=1, col=\"black\")\n",
    "text(19.2,-0.005,\"Q2\")\n",
    "abline(v=19.2, lty=1, col=\"black\")\n",
    "text(22.8,-0.005,\"Q3\")\n",
    "abline(v=22.8, lty=1, col=\"black\")\n",
    "abline(h=0, lty=1, col=\"black\")\n",
    "abline(v=mean(mtcars$mpg), lty=1, col=\"red\")"
   ]
  },
  {
   "cell_type": "code",
   "execution_count": 1,
   "metadata": {
    "collapsed": false
   },
   "outputs": [
    {
     "data": {
      "text/html": [
       "<dl class=dl-horizontal>\n",
       "\t<dt>0%</dt>\n",
       "\t\t<dd>10.4</dd>\n",
       "\t<dt>25%</dt>\n",
       "\t\t<dd>15.425</dd>\n",
       "\t<dt>50%</dt>\n",
       "\t\t<dd>19.2</dd>\n",
       "\t<dt>75%</dt>\n",
       "\t\t<dd>22.8</dd>\n",
       "\t<dt>100%</dt>\n",
       "\t\t<dd>33.9</dd>\n",
       "</dl>\n"
      ],
      "text/latex": [
       "\\begin{description*}\n",
       "\\item[0\\textbackslash{}\\%] 10.4\n",
       "\\item[25\\textbackslash{}\\%] 15.425\n",
       "\\item[50\\textbackslash{}\\%] 19.2\n",
       "\\item[75\\textbackslash{}\\%] 22.8\n",
       "\\item[100\\textbackslash{}\\%] 33.9\n",
       "\\end{description*}\n"
      ],
      "text/markdown": [
       "0%\n",
       ":   10.425%\n",
       ":   15.42550%\n",
       ":   19.275%\n",
       ":   22.8100%\n",
       ":   33.9\n",
       "\n"
      ],
      "text/plain": [
       "    0%    25%    50%    75%   100% \n",
       "10.400 15.425 19.200 22.800 33.900 "
      ]
     },
     "metadata": {},
     "output_type": "display_data"
    }
   ],
   "source": [
    "quantile(mtcars$mpg)"
   ]
  },
  {
   "cell_type": "code",
   "execution_count": 5,
   "metadata": {
    "collapsed": false
   },
   "outputs": [
    {
     "data": {
      "text/html": [
       "<dl class=dl-horizontal>\n",
       "\t<dt>0%</dt>\n",
       "\t\t<dd>10.4</dd>\n",
       "\t<dt>25%</dt>\n",
       "\t\t<dd>15.425</dd>\n",
       "\t<dt>50%</dt>\n",
       "\t\t<dd>19.2</dd>\n",
       "\t<dt>75%</dt>\n",
       "\t\t<dd>22.8</dd>\n",
       "\t<dt>95%</dt>\n",
       "\t\t<dd>31.3</dd>\n",
       "\t<dt>10%</dt>\n",
       "\t\t<dd>14.34</dd>\n",
       "</dl>\n"
      ],
      "text/latex": [
       "\\begin{description*}\n",
       "\\item[0\\textbackslash{}\\%] 10.4\n",
       "\\item[25\\textbackslash{}\\%] 15.425\n",
       "\\item[50\\textbackslash{}\\%] 19.2\n",
       "\\item[75\\textbackslash{}\\%] 22.8\n",
       "\\item[95\\textbackslash{}\\%] 31.3\n",
       "\\item[10\\textbackslash{}\\%] 14.34\n",
       "\\end{description*}\n"
      ],
      "text/markdown": [
       "0%\n",
       ":   10.425%\n",
       ":   15.42550%\n",
       ":   19.275%\n",
       ":   22.895%\n",
       ":   31.310%\n",
       ":   14.34\n",
       "\n"
      ],
      "text/plain": [
       "    0%    25%    50%    75%    95%    10% \n",
       "10.400 15.425 19.200 22.800 31.300 14.340 "
      ]
     },
     "metadata": {},
     "output_type": "display_data"
    }
   ],
   "source": [
    "quantile(mtcars$mpg, probs = c(0, 0.25, 0.50, 0.75, 0.95, 0.1))"
   ]
  },
  {
   "cell_type": "code",
   "execution_count": 15,
   "metadata": {
    "collapsed": false
   },
   "outputs": [
    {
     "data": {
      "text/html": [
       "7.375"
      ],
      "text/latex": [
       "7.375"
      ],
      "text/markdown": [
       "7.375"
      ],
      "text/plain": [
       "[1] 7.375"
      ]
     },
     "metadata": {},
     "output_type": "display_data"
    }
   ],
   "source": [
    "IQR(mtcars$mpg)"
   ]
  },
  {
   "cell_type": "code",
   "execution_count": 2,
   "metadata": {
    "collapsed": false
   },
   "outputs": [
    {
     "data": {
      "text/plain": [
       "   Min. 1st Qu.  Median    Mean 3rd Qu.    Max. \n",
       "  10.40   15.42   19.20   20.09   22.80   33.90 "
      ]
     },
     "metadata": {},
     "output_type": "display_data"
    }
   ],
   "source": [
    "summary(mtcars$mpg)"
   ]
  },
  {
   "cell_type": "code",
   "execution_count": 71,
   "metadata": {
    "collapsed": false
   },
   "outputs": [
    {
     "data": {
      "text/html": [
       "<ol class=list-inline>\n",
       "\t<li>10.4</li>\n",
       "\t<li>15.35</li>\n",
       "\t<li>19.2</li>\n",
       "\t<li>22.8</li>\n",
       "\t<li>33.9</li>\n",
       "</ol>\n"
      ],
      "text/latex": [
       "\\begin{enumerate*}\n",
       "\\item 10.4\n",
       "\\item 15.35\n",
       "\\item 19.2\n",
       "\\item 22.8\n",
       "\\item 33.9\n",
       "\\end{enumerate*}\n"
      ],
      "text/markdown": [
       "1. 10.4\n",
       "2. 15.35\n",
       "3. 19.2\n",
       "4. 22.8\n",
       "5. 33.9\n",
       "\n",
       "\n"
      ],
      "text/plain": [
       "[1] 10.40 15.35 19.20 22.80 33.90"
      ]
     },
     "metadata": {},
     "output_type": "display_data"
    }
   ],
   "source": [
    "# Tukey's five-number summary: minimum, lower-hinge (Q1),\n",
    "# median (Q2), upper-hinge (Q3), maximum. No labels.\n",
    "fivenum(mtcars$mpg) #???"
   ]
  },
  {
   "cell_type": "code",
   "execution_count": 73,
   "metadata": {
    "collapsed": false
   },
   "outputs": [
    {
     "data": {
      "text/html": [
       "<dl>\n",
       "\t<dt>$stats</dt>\n",
       "\t\t<dd><ol class=list-inline>\n",
       "\t<li>10.4</li>\n",
       "\t<li>15.35</li>\n",
       "\t<li>19.2</li>\n",
       "\t<li>22.8</li>\n",
       "\t<li>33.9</li>\n",
       "</ol>\n",
       "</dd>\n",
       "\t<dt>$n</dt>\n",
       "\t\t<dd>32</dd>\n",
       "\t<dt>$conf</dt>\n",
       "\t\t<dd><ol class=list-inline>\n",
       "\t<li>17.1191615196633</li>\n",
       "\t<li>21.2808384803367</li>\n",
       "</ol>\n",
       "</dd>\n",
       "\t<dt>$out</dt>\n",
       "\t\t<dd></dd>\n",
       "</dl>\n"
      ],
      "text/latex": [
       "\\begin{description}\n",
       "\\item[\\$stats] \\begin{enumerate*}\n",
       "\\item 10.4\n",
       "\\item 15.35\n",
       "\\item 19.2\n",
       "\\item 22.8\n",
       "\\item 33.9\n",
       "\\end{enumerate*}\n",
       "\n",
       "\\item[\\$n] 32\n",
       "\\item[\\$conf] \\begin{enumerate*}\n",
       "\\item 17.1191615196633\n",
       "\\item 21.2808384803367\n",
       "\\end{enumerate*}\n",
       "\n",
       "\\item[\\$out] \n",
       "\\end{description}\n"
      ],
      "text/markdown": [
       "$stats\n",
       ":   1. 10.4\n",
       "2. 15.35\n",
       "3. 19.2\n",
       "4. 22.8\n",
       "5. 33.9\n",
       "\n",
       "\n",
       "\n",
       "$n\n",
       ":   32\n",
       "$conf\n",
       ":   1. 17.1191615196633\n",
       "2. 21.2808384803367\n",
       "\n",
       "\n",
       "\n",
       "$out\n",
       ":   \n",
       "\n",
       "\n"
      ],
      "text/plain": [
       "$stats\n",
       "[1] 10.40 15.35 19.20 22.80 33.90\n",
       "\n",
       "$n\n",
       "[1] 32\n",
       "\n",
       "$conf\n",
       "[1] 17.11916 21.28084\n",
       "\n",
       "$out\n",
       "numeric(0)\n"
      ]
     },
     "metadata": {},
     "output_type": "display_data"
    }
   ],
   "source": [
    "boxplot.stats(mtcars$mpg)"
   ]
  },
  {
   "cell_type": "markdown",
   "metadata": {},
   "source": [
    "There is no outliers here. The conf shows the confidence interval for the median. "
   ]
  },
  {
   "cell_type": "code",
   "execution_count": 27,
   "metadata": {
    "collapsed": false
   },
   "outputs": [
    {
     "data": {
      "text/html": [],
      "text/latex": [],
      "text/markdown": [],
      "text/plain": [
       "numeric(0)"
      ]
     },
     "metadata": {},
     "output_type": "display_data"
    }
   ],
   "source": [
    "boxplot.stats(mtcars$mpg)$out"
   ]
  },
  {
   "cell_type": "code",
   "execution_count": 40,
   "metadata": {
    "collapsed": false
   },
   "outputs": [
    {
     "data": {
      "text/html": [
       "<ol class=list-inline>\n",
       "\t<li>2348</li>\n",
       "\t<li>3710</li>\n",
       "\t<li>2315</li>\n",
       "\t<li>2533</li>\n",
       "\t<li>1885</li>\n",
       "</ol>\n"
      ],
      "text/latex": [
       "\\begin{enumerate*}\n",
       "\\item 2348\n",
       "\\item 3710\n",
       "\\item 2315\n",
       "\\item 2533\n",
       "\\item 1885\n",
       "\\end{enumerate*}\n"
      ],
      "text/markdown": [
       "1. 2348\n",
       "2. 3710\n",
       "3. 2315\n",
       "4. 2533\n",
       "5. 1885\n",
       "\n",
       "\n"
      ],
      "text/plain": [
       "[1] 2348 3710 2315 2533 1885"
      ]
     },
     "metadata": {},
     "output_type": "display_data"
    }
   ],
   "source": [
    "boxplot.stats(rivers, coef = 3)$out #it is 1.5 by default"
   ]
  },
  {
   "cell_type": "code",
   "execution_count": 75,
   "metadata": {
    "collapsed": false
   },
   "outputs": [
    {
     "name": "stderr",
     "output_type": "stream",
     "text": [
      "Loading required package: psych\n"
     ]
    },
    {
     "data": {
      "text/html": [
       "<table>\n",
       "<thead><tr><th></th><th scope=col>vars</th><th scope=col>n</th><th scope=col>mean</th><th scope=col>sd</th><th scope=col>median</th><th scope=col>trimmed</th><th scope=col>mad</th><th scope=col>min</th><th scope=col>max</th><th scope=col>range</th><th scope=col>skew</th><th scope=col>kurtosis</th><th scope=col>se</th></tr></thead>\n",
       "<tbody>\n",
       "\t<tr><th scope=row>X1</th><td>1        </td><td>32       </td><td>20.09062 </td><td>6.026948 </td><td>19.2     </td><td>19.69615 </td><td>5.41149  </td><td>10.4     </td><td>33.9     </td><td>23.5     </td><td>0.610655 </td><td>-0.372766</td><td>1.065424 </td></tr>\n",
       "</tbody>\n",
       "</table>\n"
      ],
      "text/latex": [
       "\\begin{tabular}{r|lllllllllllll}\n",
       "  & vars & n & mean & sd & median & trimmed & mad & min & max & range & skew & kurtosis & se\\\\\n",
       "\\hline\n",
       "\tX1 & 1         & 32        & 20.09062  & 6.026948  & 19.2      & 19.69615  & 5.41149   & 10.4      & 33.9      & 23.5      & 0.610655  & -0.372766 & 1.065424 \\\\\n",
       "\\end{tabular}\n"
      ],
      "text/plain": [
       "   vars n  mean     sd       median trimmed  mad     min  max  range skew    \n",
       "X1 1    32 20.09062 6.026948 19.2   19.69615 5.41149 10.4 33.9 23.5  0.610655\n",
       "   kurtosis  se      \n",
       "X1 -0.372766 1.065424"
      ]
     },
     "metadata": {},
     "output_type": "display_data"
    }
   ],
   "source": [
    "require(psych)\n",
    "describe(mtcars$mpg)"
   ]
  },
  {
   "cell_type": "code",
   "execution_count": 81,
   "metadata": {
    "collapsed": false
   },
   "outputs": [
    {
     "data": {
      "text/plain": [
       "   Min. 1st Qu.  Median    Mean 3rd Qu.    Max. \n",
       "   12.0    20.5    41.0  1253.0   183.2 16990.0 "
      ]
     },
     "metadata": {},
     "output_type": "display_data"
    }
   ],
   "source": [
    "summary(islands)"
   ]
  },
  {
   "cell_type": "code",
   "execution_count": 82,
   "metadata": {
    "collapsed": false
   },
   "outputs": [
    {
     "data": {
      "text/html": [
       "<dl class=dl-horizontal>\n",
       "\t<dt>Vancouver</dt>\n",
       "\t\t<dd>12</dd>\n",
       "\t<dt>Tierra del Fuego</dt>\n",
       "\t\t<dd>20</dd>\n",
       "\t<dt>Iceland</dt>\n",
       "\t\t<dd>41</dd>\n",
       "\t<dt>Sumatra</dt>\n",
       "\t\t<dd>183.5</dd>\n",
       "\t<dt>Asia</dt>\n",
       "\t\t<dd>16988</dd>\n",
       "</dl>\n"
      ],
      "text/latex": [
       "\\begin{description*}\n",
       "\\item[Vancouver] 12\n",
       "\\item[Tierra del Fuego] 20\n",
       "\\item[Iceland] 41\n",
       "\\item[Sumatra] 183.5\n",
       "\\item[Asia] 16988\n",
       "\\end{description*}\n"
      ],
      "text/markdown": [
       "Vancouver\n",
       ":   12Tierra del Fuego\n",
       ":   20Iceland\n",
       ":   41Sumatra\n",
       ":   183.5Asia\n",
       ":   16988\n",
       "\n"
      ],
      "text/plain": [
       "       Vancouver Tierra del Fuego          Iceland          Sumatra \n",
       "            12.0             20.0             41.0            183.5 \n",
       "            Asia \n",
       "         16988.0 "
      ]
     },
     "metadata": {},
     "output_type": "display_data"
    }
   ],
   "source": [
    "fivenum(islands)"
   ]
  },
  {
   "cell_type": "code",
   "execution_count": 83,
   "metadata": {
    "collapsed": false
   },
   "outputs": [
    {
     "data": {
      "text/html": [
       "<table>\n",
       "<thead><tr><th></th><th scope=col>vars</th><th scope=col>n</th><th scope=col>mean</th><th scope=col>sd</th><th scope=col>median</th><th scope=col>trimmed</th><th scope=col>mad</th><th scope=col>min</th><th scope=col>max</th><th scope=col>range</th><th scope=col>skew</th><th scope=col>kurtosis</th><th scope=col>se</th></tr></thead>\n",
       "<tbody>\n",
       "\t<tr><th scope=row>X1</th><td>1       </td><td>48      </td><td>1252.729</td><td>3371.146</td><td>41      </td><td>385.025 </td><td>39.2889 </td><td>12      </td><td>16988   </td><td>16976   </td><td>3.105819</td><td>9.604493</td><td>486.583 </td></tr>\n",
       "</tbody>\n",
       "</table>\n"
      ],
      "text/latex": [
       "\\begin{tabular}{r|lllllllllllll}\n",
       "  & vars & n & mean & sd & median & trimmed & mad & min & max & range & skew & kurtosis & se\\\\\n",
       "\\hline\n",
       "\tX1 & 1        & 48       & 1252.729 & 3371.146 & 41       & 385.025  & 39.2889  & 12       & 16988    & 16976    & 3.105819 & 9.604493 & 486.583 \\\\\n",
       "\\end{tabular}\n"
      ],
      "text/plain": [
       "   vars n  mean     sd       median trimmed mad     min max   range skew    \n",
       "X1 1    48 1252.729 3371.146 41     385.025 39.2889 12  16988 16976 3.105819\n",
       "   kurtosis se     \n",
       "X1 9.604493 486.583"
      ]
     },
     "metadata": {},
     "output_type": "display_data"
    }
   ],
   "source": [
    "describe(islands)"
   ]
  },
  {
   "cell_type": "code",
   "execution_count": 84,
   "metadata": {
    "collapsed": false
   },
   "outputs": [
    {
     "data": {
      "text/html": [
       "<dl>\n",
       "\t<dt>$stats</dt>\n",
       "\t\t<dd><dl class=dl-horizontal>\n",
       "\t<dt>Vancouver</dt>\n",
       "\t\t<dd>12</dd>\n",
       "\t<dt>Tierra del Fuego</dt>\n",
       "\t\t<dd>20</dd>\n",
       "\t<dt>Iceland</dt>\n",
       "\t\t<dd>41</dd>\n",
       "\t<dt>Sumatra</dt>\n",
       "\t\t<dd>183.5</dd>\n",
       "\t<dt>Asia</dt>\n",
       "\t\t<dd>306</dd>\n",
       "</dl>\n",
       "</dd>\n",
       "\t<dt>$n</dt>\n",
       "\t\t<dd>48</dd>\n",
       "\t<dt>$conf</dt>\n",
       "\t\t<dd><ol class=list-inline>\n",
       "\t<li>3.71327624006099</li>\n",
       "\t<li>78.286723759939</li>\n",
       "</ol>\n",
       "</dd>\n",
       "\t<dt>$out</dt>\n",
       "\t\t<dd><dl class=dl-horizontal>\n",
       "\t<dt>Africa</dt>\n",
       "\t\t<dd>11506</dd>\n",
       "\t<dt>Antarctica</dt>\n",
       "\t\t<dd>5500</dd>\n",
       "\t<dt>Asia</dt>\n",
       "\t\t<dd>16988</dd>\n",
       "\t<dt>Australia</dt>\n",
       "\t\t<dd>2968</dd>\n",
       "\t<dt>Europe</dt>\n",
       "\t\t<dd>3745</dd>\n",
       "\t<dt>Greenland</dt>\n",
       "\t\t<dd>840</dd>\n",
       "\t<dt>North America</dt>\n",
       "\t\t<dd>9390</dd>\n",
       "\t<dt>South America</dt>\n",
       "\t\t<dd>6795</dd>\n",
       "</dl>\n",
       "</dd>\n",
       "</dl>\n"
      ],
      "text/latex": [
       "\\begin{description}\n",
       "\\item[\\$stats] \\begin{description*}\n",
       "\\item[Vancouver] 12\n",
       "\\item[Tierra del Fuego] 20\n",
       "\\item[Iceland] 41\n",
       "\\item[Sumatra] 183.5\n",
       "\\item[Asia] 306\n",
       "\\end{description*}\n",
       "\n",
       "\\item[\\$n] 48\n",
       "\\item[\\$conf] \\begin{enumerate*}\n",
       "\\item 3.71327624006099\n",
       "\\item 78.286723759939\n",
       "\\end{enumerate*}\n",
       "\n",
       "\\item[\\$out] \\begin{description*}\n",
       "\\item[Africa] 11506\n",
       "\\item[Antarctica] 5500\n",
       "\\item[Asia] 16988\n",
       "\\item[Australia] 2968\n",
       "\\item[Europe] 3745\n",
       "\\item[Greenland] 840\n",
       "\\item[North America] 9390\n",
       "\\item[South America] 6795\n",
       "\\end{description*}\n",
       "\n",
       "\\end{description}\n"
      ],
      "text/markdown": [
       "$stats\n",
       ":   Vancouver\n",
       ":   12Tierra del Fuego\n",
       ":   20Iceland\n",
       ":   41Sumatra\n",
       ":   183.5Asia\n",
       ":   306\n",
       "\n",
       "\n",
       "$n\n",
       ":   48\n",
       "$conf\n",
       ":   1. 3.71327624006099\n",
       "2. 78.286723759939\n",
       "\n",
       "\n",
       "\n",
       "$out\n",
       ":   Africa\n",
       ":   11506Antarctica\n",
       ":   5500Asia\n",
       ":   16988Australia\n",
       ":   2968Europe\n",
       ":   3745Greenland\n",
       ":   840North America\n",
       ":   9390South America\n",
       ":   6795\n",
       "\n",
       "\n",
       "\n",
       "\n"
      ],
      "text/plain": [
       "$stats\n",
       "       Vancouver Tierra del Fuego          Iceland          Sumatra \n",
       "            12.0             20.0             41.0            183.5 \n",
       "            Asia \n",
       "           306.0 \n",
       "\n",
       "$n\n",
       "[1] 48\n",
       "\n",
       "$conf\n",
       "[1]  3.713276 78.286724\n",
       "\n",
       "$out\n",
       "       Africa    Antarctica          Asia     Australia        Europe \n",
       "        11506          5500         16988          2968          3745 \n",
       "    Greenland North America South America \n",
       "          840          9390          6795 \n"
      ]
     },
     "metadata": {},
     "output_type": "display_data"
    }
   ],
   "source": [
    "boxplot.stats(islands)"
   ]
  },
  {
   "cell_type": "markdown",
   "metadata": {},
   "source": [
    "# Boxplot"
   ]
  },
  {
   "cell_type": "code",
   "execution_count": 28,
   "metadata": {
    "collapsed": false
   },
   "outputs": [
    {
     "name": "stderr",
     "output_type": "stream",
     "text": [
      "Warning message:\n",
      "In par(old): graphical parameter \"cin\" cannot be setWarning message:\n",
      "In par(old): graphical parameter \"cra\" cannot be setWarning message:\n",
      "In par(old): graphical parameter \"csi\" cannot be setWarning message:\n",
      "In par(old): graphical parameter \"cxy\" cannot be setWarning message:\n",
      "In par(old): graphical parameter \"din\" cannot be setWarning message:\n",
      "In par(old): graphical parameter \"page\" cannot be set"
     ]
    },
    {
     "data": {
      "image/png": "[encoded data removed]",
      "text/plain": [
       "plot without title"
      ]
     },
     "metadata": {},
     "output_type": "display_data"
    }
   ],
   "source": [
    "par(mfrow =c(1,2))\n",
    "boxplot(mtcars$mpg, col=\"green\")\n",
    "boxplot(mtcars$mpg, horizontal = TRUE, col=\"red\")\n",
    "par(old)"
   ]
  },
  {
   "cell_type": "code",
   "execution_count": 26,
   "metadata": {
    "collapsed": false
   },
   "outputs": [
    {
     "data": {
      "image/png": "[encoded data removed]",
      "text/plain": [
       "Plot with title “my boxplot”"
      ]
     },
     "metadata": {},
     "output_type": "display_data"
    }
   ],
   "source": [
    "boxplot(mtcars$mpg, \n",
    "        horizontal=TRUE,\n",
    "        main=\"my boxplot\",\n",
    "        col=\"pink\")"
   ]
  },
  {
   "cell_type": "markdown",
   "metadata": {},
   "source": [
    "# The Empirical Rule"
   ]
  },
  {
   "cell_type": "code",
   "execution_count": 85,
   "metadata": {
    "collapsed": false
   },
   "outputs": [
    {
     "name": "stdout",
     "output_type": "stream",
     "text": [
      "'data.frame':\t272 obs. of  2 variables:\n",
      " $ eruptions: num  3.6 1.8 3.33 2.28 4.53 ...\n",
      " $ waiting  : num  79 54 74 62 85 55 88 85 51 85 ...\n"
     ]
    }
   ],
   "source": [
    "str(faithful)"
   ]
  },
  {
   "cell_type": "code",
   "execution_count": 86,
   "metadata": {
    "collapsed": false
   },
   "outputs": [
    {
     "data": {
      "text/html": [
       "<ol class=list-inline>\n",
       "\t<li>'eruptions'</li>\n",
       "\t<li>'waiting'</li>\n",
       "</ol>\n"
      ],
      "text/latex": [
       "\\begin{enumerate*}\n",
       "\\item 'eruptions'\n",
       "\\item 'waiting'\n",
       "\\end{enumerate*}\n"
      ],
      "text/markdown": [
       "1. 'eruptions'\n",
       "2. 'waiting'\n",
       "\n",
       "\n"
      ],
      "text/plain": [
       "[1] \"eruptions\" \"waiting\"  "
      ]
     },
     "metadata": {},
     "output_type": "display_data"
    }
   ],
   "source": [
    "names(faithful)"
   ]
  },
  {
   "cell_type": "code",
   "execution_count": 87,
   "metadata": {
    "collapsed": false
   },
   "outputs": [
    {
     "data": {
      "text/html": [
       "<ol class=list-inline>\n",
       "\t<li>272</li>\n",
       "\t<li>2</li>\n",
       "</ol>\n"
      ],
      "text/latex": [
       "\\begin{enumerate*}\n",
       "\\item 272\n",
       "\\item 2\n",
       "\\end{enumerate*}\n"
      ],
      "text/markdown": [
       "1. 272\n",
       "2. 2\n",
       "\n",
       "\n"
      ],
      "text/plain": [
       "[1] 272   2"
      ]
     },
     "metadata": {},
     "output_type": "display_data"
    }
   ],
   "source": [
    "dim(faithful)"
   ]
  },
  {
   "cell_type": "code",
   "execution_count": 2,
   "metadata": {
    "collapsed": false
   },
   "outputs": [
    {
     "data": {
      "image/png": "[encoded data removed]",
      "text/plain": [
       "Plot with title “Histogram of faithful$eruptions”"
      ]
     },
     "metadata": {},
     "output_type": "display_data"
    }
   ],
   "source": [
    "hist(faithful$eruptions)"
   ]
  },
  {
   "cell_type": "code",
   "execution_count": 3,
   "metadata": {
    "collapsed": false
   },
   "outputs": [
    {
     "data": {
      "image/png": "[encoded data removed]",
      "text/plain": [
       "Plot with title “Histogram of faithful$eruptions”"
      ]
     },
     "metadata": {},
     "output_type": "display_data"
    }
   ],
   "source": [
    "hist(faithful$eruptions, breaks=20)"
   ]
  },
  {
   "cell_type": "code",
   "execution_count": 6,
   "metadata": {
    "collapsed": false
   },
   "outputs": [
    {
     "data": {
      "text/html": [
       "3.49"
      ],
      "text/latex": [
       "3.49"
      ],
      "text/markdown": [
       "3.49"
      ],
      "text/plain": [
       "[1] 3.49"
      ]
     },
     "metadata": {},
     "output_type": "display_data"
    },
    {
     "data": {
      "text/html": [
       "1.14"
      ],
      "text/latex": [
       "1.14"
      ],
      "text/markdown": [
       "1.14"
      ],
      "text/plain": [
       "[1] 1.14"
      ]
     },
     "metadata": {},
     "output_type": "display_data"
    }
   ],
   "source": [
    "m <- mean(faithful$eruptions)\n",
    "round(m,2)\n",
    "s <- sd(faithful$eruptions)\n",
    "round(s,2)"
   ]
  },
  {
   "cell_type": "code",
   "execution_count": 8,
   "metadata": {
    "collapsed": false
   },
   "outputs": [
    {
     "data": {
      "text/html": [
       "150"
      ],
      "text/latex": [
       "150"
      ],
      "text/markdown": [
       "150"
      ],
      "text/plain": [
       "[1] 150"
      ]
     },
     "metadata": {},
     "output_type": "display_data"
    }
   ],
   "source": [
    "#To find the number of observations within ±1 standard deviation of the mean\n",
    "sum(abs(faithful$eruptions-m)<s)\n",
    "#sum(faithful$eruptions > m - s & faithful$eruptions < m + s)"
   ]
  },
  {
   "cell_type": "code",
   "execution_count": 15,
   "metadata": {
    "collapsed": false
   },
   "outputs": [
    {
     "data": {
      "text/html": [
       "55.15"
      ],
      "text/latex": [
       "55.15"
      ],
      "text/markdown": [
       "55.15"
      ],
      "text/plain": [
       "[1] 55.15"
      ]
     },
     "metadata": {},
     "output_type": "display_data"
    }
   ],
   "source": [
    "# percentage of observations within ±1 standard deviation of the mean by dividing by the number of observations\n",
    "round(sum(abs(faithful$eruptions-m)<s)/dim(faithful)[1],4)*100"
   ]
  },
  {
   "cell_type": "code",
   "execution_count": 16,
   "metadata": {
    "collapsed": false
   },
   "outputs": [
    {
     "data": {
      "text/html": [
       "55.15"
      ],
      "text/latex": [
       "55.15"
      ],
      "text/markdown": [
       "55.15"
      ],
      "text/plain": [
       "[1] 55.15"
      ]
     },
     "metadata": {},
     "output_type": "display_data"
    }
   ],
   "source": [
    "round(sum(abs(faithful$eruptions-m)<s)/length(faithful$eruptions),4)*100"
   ]
  },
  {
   "cell_type": "markdown",
   "metadata": {},
   "source": [
    "This means that the data set eruptions DOES NOT satisfy the Empirical rule, meaning that that the data set does not have a symmetric distribution. Thi can also be observed from the histogram."
   ]
  },
  {
   "cell_type": "markdown",
   "metadata": {},
   "source": [
    "# Exercise\n",
    "1. For the faithful data, find the number and percentage of observations within ±2 standard deviation of the mean\n",
    "2. For the faithful data, find the number and perceatge of observations within ±3 standard deviation of the mean\n",
    "3. perform the same analysis for AirPassengers and LakeHuron datasets."
   ]
  },
  {
   "cell_type": "code",
   "execution_count": 20,
   "metadata": {
    "collapsed": false
   },
   "outputs": [
    {
     "name": "stdout",
     "output_type": "stream",
     "text": [
      "'data.frame':\t50 obs. of  2 variables:\n",
      " $ speed: num  4 4 7 7 8 9 10 10 10 11 ...\n",
      " $ dist : num  2 10 4 22 16 10 18 26 34 17 ...\n"
     ]
    }
   ],
   "source": [
    "str(cars)"
   ]
  },
  {
   "cell_type": "code",
   "execution_count": 28,
   "metadata": {
    "collapsed": false
   },
   "outputs": [
    {
     "data": {
      "text/html": [
       "15.4"
      ],
      "text/latex": [
       "15.4"
      ],
      "text/markdown": [
       "15.4"
      ],
      "text/plain": [
       "[1] 15.4"
      ]
     },
     "metadata": {},
     "output_type": "display_data"
    },
    {
     "data": {
      "text/html": [
       "5.28764443523478"
      ],
      "text/latex": [
       "5.28764443523478"
      ],
      "text/markdown": [
       "5.28764443523478"
      ],
      "text/plain": [
       "[1] 5.287644"
      ]
     },
     "metadata": {},
     "output_type": "display_data"
    }
   ],
   "source": [
    "m <- mean(cars$speed)\n",
    "m\n",
    "s <- sd(cars$speed)\n",
    "s"
   ]
  },
  {
   "cell_type": "code",
   "execution_count": 29,
   "metadata": {
    "collapsed": false
   },
   "outputs": [
    {
     "data": {
      "text/html": [
       "<ol class=list-inline>\n",
       "\t<li>10.1123555647652</li>\n",
       "\t<li>4.82471112953043</li>\n",
       "\t<li>-0.462933305704352</li>\n",
       "</ol>\n"
      ],
      "text/latex": [
       "\\begin{enumerate*}\n",
       "\\item 10.1123555647652\n",
       "\\item 4.82471112953043\n",
       "\\item -0.462933305704352\n",
       "\\end{enumerate*}\n"
      ],
      "text/markdown": [
       "1. 10.1123555647652\n",
       "2. 4.82471112953043\n",
       "3. -0.462933305704352\n",
       "\n",
       "\n"
      ],
      "text/plain": [
       "[1] 10.1123556  4.8247111 -0.4629333"
      ]
     },
     "metadata": {},
     "output_type": "display_data"
    },
    {
     "data": {
      "text/html": [
       "<ol class=list-inline>\n",
       "\t<li>20.6876444352348</li>\n",
       "\t<li>25.9752888704696</li>\n",
       "\t<li>31.2629333057044</li>\n",
       "</ol>\n"
      ],
      "text/latex": [
       "\\begin{enumerate*}\n",
       "\\item 20.6876444352348\n",
       "\\item 25.9752888704696\n",
       "\\item 31.2629333057044\n",
       "\\end{enumerate*}\n"
      ],
      "text/markdown": [
       "1. 20.6876444352348\n",
       "2. 25.9752888704696\n",
       "3. 31.2629333057044\n",
       "\n",
       "\n"
      ],
      "text/plain": [
       "[1] 20.68764 25.97529 31.26293"
      ]
     },
     "metadata": {},
     "output_type": "display_data"
    }
   ],
   "source": [
    "lowerBound <- m - 1:3 *s\n",
    "lowerBound\n",
    "upperBound <- m + 1:3 *s\n",
    "upperBound"
   ]
  },
  {
   "cell_type": "code",
   "execution_count": 30,
   "metadata": {
    "collapsed": false
   },
   "outputs": [
    {
     "data": {
      "text/html": [
       "34"
      ],
      "text/latex": [
       "34"
      ],
      "text/markdown": [
       "34"
      ],
      "text/plain": [
       "[1] 34"
      ]
     },
     "metadata": {},
     "output_type": "display_data"
    },
    {
     "data": {
      "text/html": [
       "68"
      ],
      "text/latex": [
       "68"
      ],
      "text/markdown": [
       "68"
      ],
      "text/plain": [
       "[1] 68"
      ]
     },
     "metadata": {},
     "output_type": "display_data"
    }
   ],
   "source": [
    "oneSDnum = sum(cars$speed > lowerBound[1] & cars$speed < upperBound[1])\n",
    "oneSDnum\n",
    "oneSDper = mean(cars$speed > lowerBound[1] & cars$speed < upperBound[1])\n",
    "oneSDper * 100"
   ]
  },
  {
   "cell_type": "code",
   "execution_count": 31,
   "metadata": {
    "collapsed": false
   },
   "outputs": [
    {
     "data": {
      "text/html": [
       "48"
      ],
      "text/latex": [
       "48"
      ],
      "text/markdown": [
       "48"
      ],
      "text/plain": [
       "[1] 48"
      ]
     },
     "metadata": {},
     "output_type": "display_data"
    },
    {
     "data": {
      "text/html": [
       "96"
      ],
      "text/latex": [
       "96"
      ],
      "text/markdown": [
       "96"
      ],
      "text/plain": [
       "[1] 96"
      ]
     },
     "metadata": {},
     "output_type": "display_data"
    }
   ],
   "source": [
    "twoSDnum = sum(cars$speed > lowerBound[2] & cars$speed < upperBound[2])\n",
    "twoSDnum\n",
    "twoSDper = mean(cars$speed > lowerBound[2] & cars$speed < upperBound[2])\n",
    "twoSDper * 100"
   ]
  },
  {
   "cell_type": "code",
   "execution_count": 32,
   "metadata": {
    "collapsed": false
   },
   "outputs": [
    {
     "data": {
      "text/html": [
       "48"
      ],
      "text/latex": [
       "48"
      ],
      "text/markdown": [
       "48"
      ],
      "text/plain": [
       "[1] 48"
      ]
     },
     "metadata": {},
     "output_type": "display_data"
    },
    {
     "data": {
      "text/html": [
       "96"
      ],
      "text/latex": [
       "96"
      ],
      "text/markdown": [
       "96"
      ],
      "text/plain": [
       "[1] 96"
      ]
     },
     "metadata": {},
     "output_type": "display_data"
    }
   ],
   "source": [
    "threeSDnum = sum(cars$speed > lowerBound[2] & cars$speed < upperBound[2])\n",
    "threeSDnum\n",
    "threeSDper = mean(cars$speed > lowerBound[2] & cars$speed < upperBound[2])\n",
    "threeSDper * 100"
   ]
  },
  {
   "cell_type": "markdown",
   "metadata": {},
   "source": [
    "This data should be fairly symmetric!"
   ]
  },
  {
   "cell_type": "code",
   "execution_count": 30,
   "metadata": {
    "collapsed": false
   },
   "outputs": [
    {
     "data": {
      "image/png": "[encoded data removed]",
      "text/plain": [
       "Plot with title “Histogram of cars$speed”"
      ]
     },
     "metadata": {},
     "output_type": "display_data"
    }
   ],
   "source": [
    "hist(cars$speed, 10, prob=TRUE)\n",
    "# Kernel Density Plot\n",
    "lines(density(cars$speed), col=\"blue\", lwd=3) # overlay the density  # add a density estimate with defaults\n",
    "lines(density(cars$speed, adjust=2), lty=\"dotted\", col=\"red\", lwd=3)   # add another \"smoother\" density\n",
    "# IF freq = FALSE, this will draw normal distribution\n",
    "curve(dnorm(x, mean = mean(cars$speed), sd = sd(cars$speed)), \n",
    "      col = \"green\", \n",
    "      lwd = 2,\n",
    "      add = TRUE)"
   ]
  },
  {
   "cell_type": "code",
   "execution_count": null,
   "metadata": {
    "collapsed": true
   },
   "outputs": [],
   "source": []
  }
 ],
 "metadata": {
  "anaconda-cloud": {},
  "kernelspec": {
   "display_name": "R",
   "language": "R",
   "name": "ir"
  },
  "language_info": {
   "codemirror_mode": "r",
   "file_extension": ".r",
   "mimetype": "text/x-r-source",
   "name": "R",
   "pygments_lexer": "r",
   "version": "3.2.2"
  }
 },
 "nbformat": 4,
 "nbformat_minor": 0
}
