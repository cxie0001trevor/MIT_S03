{
 "cells": [
  {
   "cell_type": "markdown",
   "metadata": {},
   "source": [
    "**Title**: FIT5197 2018 S1 Assignment 1  \n",
    "**Author**: Chuangfu Xie, 27771539  \n",
    "**Date**: 13 April 2018 "
   ]
  },
  {
   "cell_type": "markdown",
   "metadata": {},
   "source": [
    "## Question 1: Calculate conditional probability of an event\n",
    "**Solution**:  \n",
    "Let ***A*** denote the event that each value appears at least once, and ***B*** the event that the outcome is alternate in numbers. To compute ***P(A|B)***, we have  \n",
    "$$P(A|B)=\\frac { P(AB) }{ P(B) }$$\n",
    "Firstly, we compute ***P(AB)***, to have the intersection of event ***A*** and ***B***:  \n",
    "1. In general, for a 7 time tossing, each tossing will yield a value contributing to the outcome. Since a dice only have 6 possible values, we have\n",
    "$${ 6 }^{ 7 }=279936$$\n",
    "1. As event ***A*** state that each value appears at least once, that is, to have a combination of 6 value without duplication, we have\n",
    "$${ A }_{ 6 }^{ 6 }=6!=720$$\n",
    "2. Then, we consider event ***B*** which state that there are no two values are adjacent. To meet this condition, as aforementioned permutation have 6 unique values, what we do is selecting a value from 1 to 6 and inserting it into 7 \"interval\" between these 6 values. we have\n",
    "$$(5+4+4+4+4+4+5)\\div2=15$$\n",
    "\n",
    "> For example, to insert a value right before the 1st value, the possible value have to be in the 5 values of which have excluded the value of following one, that is, 5 option for us to choose (Similar to inserting a value behind the 6th value). For the \"interval\" where both side have different values, on the analogy of previous reasoning, only 4 values are available for us to pick. As in the combination, there are 7 \"intervals\", only 5 \"interval\" are for this case. \n",
    ">\n",
    ">| \"Intervals\"| ${1}_{st}$ | ${2}_{nd}$ | ${3}_{rd}$ | ${4}_{th}$ | ${5}_{th}$ | ${6}_{th}$ | ${7}_{th}$ |\n",
    ">| ---------- | :--------: | :--------: | :--------: | :--------: | :--------: | :--------: | ----------:|\n",
    ">| options    |     5      |     4      |     4      |     4      |     4      |     4      |     5      |\n",
    ">\n",
    "> However, let's take a general situation as example: For 6 value combination, says (1,2,3,4,5,6), inserting a value, which is identical to the last value, into any \"interval\" from 1st to 5th, for instance, (6,1,2,3,4,5,6), is exactly the same as the situation where inserting a value right behind the tail of a given combination say (6,1,2,3,4,5), which becomes (6,1,2,3,4,5,6) in the end.  \n",
    "> Hence, the options we calculated so far have to be halved so that the total possible options for us is 15. \n",
    "\n",
    "To sum up, we have\n",
    "$$P(AB)=\\frac { 15\\times { A }_{ 6 }^{ 6 } }{ { 6 }^{ 7 } } =\\frac { 15\\times 720 }{ 279936 } =\\frac { 25 }{ 648 }\\approx 0.03858 $$\n",
    "\n",
    "Next, we are going to compute ***P(B)***:  \n",
    "According to previous reasoning, if event B occurs, that is, no two value adjacent having the same value. Hence, for each value in each position, we denote each value as ${ B }_{ i }$ where i are the position of the value. As values in each dicing are independent to others, we have\n",
    "$$B={ B }_{ 1 }{ B }_{ 2 }{ B }_{ 3 }{ B }_{ 4 }{ B }_{ 5 }{ B }_{ 6 }{ B }_{ 7 }$$\n",
    "then, we have\n",
    "$$P(B)=P({ B }_{ 1 }{ B }_{ 2 }{ B }_{ 3 }{ B }_{ 4 }{ B }_{ 5 }{ B }_{ 6 }{ B }_{ 7 })$$\n",
    "$$\\Rightarrow P(B)=P({ B }_{ 1 }{ )\\cdot P(B }_{ 2 }|{ B }_{ 1 }){ \\cdot P(B }_{ 3 }|{ B }_{ 1 }{ B }_{ 2 }){ \\cdot P(B }_{ 4 }|{ B }_{ 1 }{ B }_{ 2 }{ B }_{ 3 })\\\\ \\quad \\quad \\quad \\quad \\quad { \\cdot P(B }_{ 5 }|{ B }_{ 1 }{ B }_{ 2 }{ B }_{ 3 }{ B }_{ 4 }){ \\cdot P(B }_{ 6 }|{ B }_{ 1 }{ B }_{ 2 }{ B }_{ 3 }{ B }_{ 4 }{ B }_{ 5 })\\\\ \\quad \\quad \\quad \\quad \\quad { \\cdot P(B }_{ 7 }|{ B }_{ 1 }{ B }_{ 2 }{ B }_{ 3 }{ B }_{ 4 }{ B }_{ 5 }{ B }_{ 6 })$$\n",
    "Since we have\n",
    "$$P({ B }_{ 1 })=\\begin{pmatrix} 6 \\\\ 1 \\end{pmatrix}\\times \\cfrac { 1 }{ 6 }=1$$\n",
    "$$P({ B }_{ 2 }|{ B }_{ 1 })=\\frac { P({ B }_{ 2 }{ B }_{ 1 }) }{ P({ B }_{ 1 })}=\\cfrac { 1\\times \\cfrac { 5 }{ 6 }  }{ 1 } =\\cfrac { 5 }{ 6 } $$\n",
    "$$P({ { B }_{ 3 }|B }_{ 2 }{ B }_{ 1 })=\\frac { P({ { B }_{ 3 }B }_{ 2 }{ B }_{ 1 }) }{ P({ { B }_{ 2 }B }_{ 1 }) } =\\cfrac { \\cfrac { 5 }{ 6 } \\times \\cfrac { 5 }{ 6 }  }{ \\cfrac { 5 }{ 6 }  } =\\cfrac { 5 }{ 6 } $$\n",
    "$$\\cdots $$\n",
    "$${ P(B }_{ 7 }|{ B }_{ 1 }{ B }_{ 2 }{ B }_{ 3 }{ B }_{ 4 }{ B }_{ 5 }{ B }_{ 6 })=\\frac { P({ B }_{ 7 }{ { B }_{ 6 }{ B }_{ 5 } }{ B }_{ 4 }{ B }_{ 3 }{ B }_{ 2 }{ B }_{ 1 }) }{ P({ { B }_{ 6 }{ B }_{ 5 } }{ B }_{ 4 }{ B }_{ 3 }{ B }_{ 2 }{ B }_{ 1 }) } =\\cfrac { \\cfrac { 5 }{ 6 } \\times \\cfrac { 5 }{ 6 }  }{ \\cfrac { 5 }{ 6 }  } =\\cfrac { 5 }{ 6 } $$\n",
    "To sum up\n",
    "$${ P(B })=1\\times \\cfrac { 5 }{ 6 } \\times \\cfrac { 5 }{ 6 } \\times \\cfrac { 5 }{ 6 } \\times \\cfrac { 5 }{ 6 } \\times \\cfrac { 5 }{ 6 } \\times \\cfrac { 5 }{ 6 } \\approx 0.3349$$\n",
    "\n",
    "Finally, we can compute the ***P(A|B)***:\n",
    "$$P(A|B)=\\frac { P(AB) }{ P(B) }=\\cfrac { \\frac { 25 }{ 648 }  }{ 1\\times \\cfrac { 5 }{ 6 } \\times \\cfrac { 5 }{ 6 } \\times \\cfrac { 5 }{ 6 } \\times \\cfrac { 5 }{ 6 } \\times \\cfrac { 5 }{ 6 } \\times \\cfrac { 5 }{ 6 }  } = 0.1152$$"
   ]
  },
  {
   "cell_type": "code",
   "execution_count": 1,
   "metadata": {},
   "outputs": [
    {
     "name": "stdout",
     "output_type": "stream",
     "text": [
      "[1] \"Simulation result:\"\n",
      "[1] \"P(AB)= 0.03847\"\n",
      "[1] \"P(B)= 0.335197\"\n",
      "[1] \"P(A|B)= 0.114768330265486\"\n"
     ]
    }
   ],
   "source": [
    "nRuns = 1000000 #runs 1 million times\n",
    "AB = 0 #initialise for counting event AB\n",
    "B = 0 #initialise for counting event B\n",
    "for (i in 1:nRuns){\n",
    "    # Tossing dice is discrete uniform distribution\n",
    "    dice.roll <- sample(c(1:6), 7, replace = T )\n",
    "    # Check whether event A occurs\n",
    "    A.result <- !dice.roll %in% dice.roll[duplicated(dice.roll)]\n",
    "    # For computing p(AB)\n",
    "    if(sum(A.result) == 5){\n",
    "        AB.pre = 0\n",
    "        AB.cnt = 0\n",
    "        for(i in dice.roll){\n",
    "            if (AB.pre ==0){\n",
    "                # For first loop\n",
    "                # Initialize variable for previous value\n",
    "                AB.pre <- i \n",
    "            }else if(abs(pre-i) != 0){\n",
    "                # The second if is for checking whether event B occurs by given event A occurs\n",
    "                AB.cnt = AB.cnt + 1\n",
    "            }\n",
    "            #Store previous value\n",
    "            pre <- i\n",
    "        }\n",
    "        if(AB.cnt == 6){\n",
    "            AB = AB + 1\n",
    "        }\n",
    "    }\n",
    "    # For computing P(B)\n",
    "    B.pre = 0 \n",
    "    B.cnt = 0\n",
    "    for(i in dice.roll){\n",
    "        # Check whether event B occurs\n",
    "        if (B.pre ==0){\n",
    "            B.pre <- i\n",
    "        }else if(abs(pre-i) != 0){\n",
    "            B.cnt = B.cnt + 1\n",
    "        }\n",
    "        pre <- i \n",
    "    }\n",
    "    if(B.cnt == 6){\n",
    "        B = B + 1\n",
    "    }\n",
    "}\n",
    "print(\"Simulation result:\")\n",
    "print(paste(\"P(AB)=\",AB/nRuns))\n",
    "print(paste(\"P(B)=\",B/nRuns))\n",
    "print(paste(\"P(A|B)=\",AB/B))"
   ]
  },
  {
   "cell_type": "markdown",
   "metadata": {},
   "source": [
    "***\n",
    "## Question 2: Entropy\n",
    "**Solution**:  \n",
    "First, read data from folder:  \n",
    "> **Note**: To successfully read data from disk must have this notebook and the csv file \"FIT5197_2018_S1_Assignment1_Q2_data.csv\" in the same directory."
   ]
  },
  {
   "cell_type": "code",
   "execution_count": 2,
   "metadata": {},
   "outputs": [
    {
     "name": "stdout",
     "output_type": "stream",
     "text": [
      "[1] \"X has NAs in total:  10\"\n",
      "[1] \"Y has NAs in total:  13\"\n"
     ]
    }
   ],
   "source": [
    "data <- read.csv(file=\"./FIT5197_2018_S1_Assignment1_Q2_data.csv\", header=TRUE, sep=\",\")\n",
    "# Check how many NA in column X and Y\n",
    "print(paste(\"X has NAs in total: \",sum(is.na(data$X))))\n",
    "print(paste(\"Y has NAs in total: \",sum(is.na(data$Y))))"
   ]
  },
  {
   "cell_type": "markdown",
   "metadata": {},
   "source": [
    "**Task 1**. Handle `NA`s by mode imputation, and plot indivdual variables in a histogram with proper axis labels and title.  \n",
    "\\> **Solution**:  \n",
    "We use mode imputation to handle `NA` in our data, which is to replace the missing value by its most common value.  \n",
    "First, we compute the mode:"
   ]
  },
  {
   "cell_type": "code",
   "execution_count": 3,
   "metadata": {},
   "outputs": [
    {
     "name": "stdout",
     "output_type": "stream",
     "text": [
      "[1] \"The mode in X is:  0\"\n",
      "[1] \"The mode in Y is:  1\"\n"
     ]
    }
   ],
   "source": [
    "print(paste(\"The mode in X is: \", names(which.max(table(data$X)))))\n",
    "print(paste(\"The mode in Y is: \", names(which.max(table(data$Y)))))"
   ]
  },
  {
   "cell_type": "markdown",
   "metadata": {},
   "source": [
    "As the mode in X and Y, respectively, are 0 and 1, we assign the mode to where there are `NA`s in X and Y :"
   ]
  },
  {
   "cell_type": "code",
   "execution_count": 4,
   "metadata": {
    "scrolled": true
   },
   "outputs": [],
   "source": [
    "data$X[is.na(data$X)] <- 0\n",
    "data$Y[is.na(data$Y)] <- 1"
   ]
  },
  {
   "cell_type": "markdown",
   "metadata": {},
   "source": [
    "Double check whether any `NA` still exist:"
   ]
  },
  {
   "cell_type": "code",
   "execution_count": 5,
   "metadata": {
    "scrolled": true
   },
   "outputs": [
    {
     "name": "stdout",
     "output_type": "stream",
     "text": [
      "[1] \"X has NAs in total:  0\"\n",
      "[1] \"Y has NAs in total:  0\"\n"
     ]
    }
   ],
   "source": [
    "print(paste(\"X has NAs in total: \",sum(is.na(data$X))))\n",
    "print(paste(\"Y has NAs in total: \",sum(is.na(data$Y))))"
   ]
  },
  {
   "cell_type": "markdown",
   "metadata": {},
   "source": [
    "Now we print the histogram:"
   ]
  },
  {
   "cell_type": "code",
   "execution_count": 6,
   "metadata": {
    "scrolled": false
   },
   "outputs": [
    {
     "data": {
      "image/png": "[encoded data removed]",
      "text/plain": [
       "Plot with title “Histogram of Event X”"
      ]
     },
     "metadata": {},
     "output_type": "display_data"
    },
    {
     "data": {
      "image/png": "[encoded data removed]",
      "text/plain": [
       "Plot with title “Histogram of Event Y”"
      ]
     },
     "metadata": {},
     "output_type": "display_data"
    }
   ],
   "source": [
    "hist(data$X, xlab=\"X\", breaks=3,col=c(\"grey\",\"black\"),\n",
    "     labels=c(as.character(sum(data$X == 0)),\n",
    "              as.character(sum(data$X == 1))), \n",
    "     xaxt='n',main=\"Histogram of Event X\")\n",
    "axis(side = 1,at=seq(0,1,0.25),labels=c(\"\",0,\"\",1,\"\"))\n",
    "hist(data$Y, xlab=\"Y\", breaks=3,col=c(\"grey\",\"black\"),\n",
    "     labels=c(as.character(sum(data$Y == 0)),\n",
    "              as.character(sum(data$Y == 1))), \n",
    "     xaxt='n',main=\"Histogram of Event Y\")\n",
    "axis(side = 1,at=seq(0,1,0.25),labels=c(\"\",0,\"\",1,\"\"))"
   ]
  },
  {
   "cell_type": "markdown",
   "metadata": {},
   "source": [
    "***\n",
    "* **Task 2**. Calculate and report full tables for **P(X)**, **P(Y)**, **P(X, Y)**, **P(X|Y)**, **P(Y|X)**.  \n",
    "**Solution**:  \n",
    "Based on previous calculation, we already have all possible values of X and Y, which is the value table for each probability mass function, as we have\n",
    "$$ p(x_{i})=P_{ X }(X=x_{i}) $$\n",
    "$$ P_{ X }( 0 )=\\frac { 59 }{ 100 } =0.59 $$\n",
    "$$ P_{ X }( 1 )=\\frac { 41 }{ 100 } =0.41 $$\n",
    "$$ P_{ X }( 0 )+P_{ X }(1)=1$$\n",
    "$$ P_{ Y }( 0 )=\\frac { 40 }{ 100 } =0.40 $$\n",
    "$$ P_{ Y }( 1 )=\\frac { 60 }{ 100 } =0.60 $$\n",
    "$$ P_{ Y }( 0 )+P_{ Y }(1)=1$$\n",
    "X and Y both are discrete random variables, they also are mutual independent, thus we have:\n",
    "$$P(X,Y)=P(X)P(Y)$$\n",
    "$$ P( X|Y )=\\frac { P(X,Y) }{ P(Y) }$$ \n",
    "$$ P( Y|X )=\\frac { P(X,Y) }{ P(X) }$$ \n",
    "The result shown in table as follow: \n",
    "\n",
    "Table $ P(X) $:\n",
    "\n",
    "|  X   |  0   |   1  |\n",
    "| ---- | :--: | ---: |\n",
    "| p(x) | 0.59 | 0.41 |\n",
    "\n",
    "Table $ P(Y) $:\n",
    "\n",
    "|  Y   |  0   |   1  |\n",
    "| ---- | :--: | ---: |\n",
    "| p(x) | 0.40 | 0.60 |\n",
    "\n",
    "Table $ P(X,Y) $:\n",
    "\n",
    "|   Y\\X  |   0   |   1   | P(x=j)| \n",
    "| ------ | :---: | :---: | ----: |\n",
    "|    0   | 0.236 | 0.164 | 0.40  |\n",
    "|    1   | 0.354 | 0.246 | 0.60  |\n",
    "| P(x=i) | 0.59  | 0.41  |   1   |\n",
    "\n",
    "Table $ P( X|Y=0 ) $:\n",
    "\n",
    "|     X    |   0   |   1   | \n",
    "| -------- | :---: | ----: |\n",
    "| $ P( X|Y=0) $ | 0.575 | 0.425 |\n",
    "\n",
    "Table $ P(X|Y=1) $:\n",
    "\n",
    "|     X    |   0   |   1   |  \n",
    "| -------- | :---: | ----: |\n",
    "| $ P( X|Y=1 ) $ | 0.600 | 0.400 |\n",
    "\n",
    "Table $ P(Y|X=0) $:\n",
    "\n",
    "|     Y    |   0   |   1   | \n",
    "| -------- | :---: | ----: |\n",
    "| $ P(Y|X=0) $ | 0.390 | 0.288 |\n",
    "\n",
    "Table $P(Y|X=1)$:\n",
    "\n",
    "|     Y    |   0   |   1   | \n",
    "| -------- | :---: | ----: |\n",
    "| $ P(Y|X=1) $ | 0.878 | 0.585 |"
   ]
  },
  {
   "cell_type": "code",
   "execution_count": 7,
   "metadata": {
    "scrolled": true
   },
   "outputs": [],
   "source": [
    "X_0 = sum(data$X == 0)\n",
    "X_1 = sum(data$X == 1)\n",
    "Y_0 = sum(data$Y == 0)\n",
    "Y_1 = sum(data$Y == 1)\n",
    "XY_00 = 0\n",
    "XY_01 = 0\n",
    "XY_10 = 0\n",
    "XY_11 = 0\n",
    "\n",
    "for (row in 1:nrow(data)){\n",
    "    x <- data[row,][[1]]\n",
    "    y <- data[row,][[2]]\n",
    "    # counting F(X,Y)\n",
    "    if(x==0&y==0){\n",
    "        XY_00=XY_00+1\n",
    "    }else if(x==0&y==1){\n",
    "        XY_01=XY_01+1\n",
    "    }else if(x==1&y==0){\n",
    "        XY_10=XY_10+1\n",
    "    }else if(x==1&y==1){\n",
    "        XY_11=XY_11+1\n",
    "    }\n",
    "}"
   ]
  },
  {
   "cell_type": "code",
   "execution_count": 8,
   "metadata": {},
   "outputs": [
    {
     "name": "stdout",
     "output_type": "stream",
     "text": [
      "[1] \"P(X,Y)=P(0,0)= 0.23\"\n",
      "[1] \"P(X,Y)=P(1,0)= 0.17\"\n",
      "[1] \"P(X,Y)=P(0,1)= 0.36\"\n",
      "[1] \"P(X,Y)=P(1,1)= 0.24\"\n"
     ]
    }
   ],
   "source": [
    "print(paste(\"P(X,Y)=P(0,0)=\", XY_00/100))\n",
    "print(paste(\"P(X,Y)=P(1,0)=\", XY_10/100))\n",
    "print(paste(\"P(X,Y)=P(0,1)=\", XY_01/100))\n",
    "print(paste(\"P(X,Y)=P(1,1)=\", XY_11/100))"
   ]
  },
  {
   "cell_type": "code",
   "execution_count": 9,
   "metadata": {},
   "outputs": [
    {
     "name": "stdout",
     "output_type": "stream",
     "text": [
      "[1] \"P(X|Y)=P(0|0)= 0.575\"\n",
      "[1] \"P(X|Y)=P(1|0)= 0.425\"\n",
      "[1] \"P(X|Y)=P(0|1)= 0.6\"\n",
      "[1] \"P(X|Y)=P(1|1)= 0.4\"\n",
      "[1] \"P(Y|X)=P(0|0)= 0.389830508474576\"\n",
      "[1] \"P(Y|X)=P(1|0)= 0.288135593220339\"\n",
      "[1] \"P(Y|X)=P(0|1)= 0.878048780487805\"\n",
      "[1] \"P(Y|X)=P(1|1)= 0.585365853658537\"\n"
     ]
    }
   ],
   "source": [
    "print(paste(\"P(X|Y)=P(0|0)=\", XY_00/Y_0))\n",
    "print(paste(\"P(X|Y)=P(1|0)=\", XY_10/Y_0))\n",
    "print(paste(\"P(X|Y)=P(0|1)=\", XY_01/Y_1))\n",
    "print(paste(\"P(X|Y)=P(1|1)=\", XY_11/Y_1))\n",
    "print(paste(\"P(Y|X)=P(0|0)=\", XY_00/X_0))\n",
    "print(paste(\"P(Y|X)=P(1|0)=\", XY_10/X_0))\n",
    "print(paste(\"P(Y|X)=P(0|1)=\", XY_01/X_1))\n",
    "print(paste(\"P(Y|X)=P(1|1)=\", XY_11/X_1))"
   ]
  },
  {
   "cell_type": "markdown",
   "metadata": {},
   "source": [
    "***\n",
    "* **Task 3**. calculate and report **H(X)**, **H(Y)**, **H(X|Y)** and **H(Y|X)**.  \n",
    "**Solution**:  \n",
    "Sice we have\n",
    "$$H(X)=-\\sum _{ i=1 }^{ n }{ p_{ i }\\log _{ 2 }{ ({ p }_{ i }) }  } $$\n",
    "All results shown as follow:\n",
    "$$H(X)=H(X=0)+H(X=1)\\approx0.9765$$\n",
    "$$H(X)=H(Y=0)+H(Y=1)\\approx0.9709$$\n",
    "$$H(X|Y)=H(0|0)+H(1|0)+H(0|1)+H(1|1)\\approx1.9546$$\n",
    "$$H(Y|X)=H(0|0)+H(1|0)+H(0|1)+H(1|1)\\approx1.6641$$"
   ]
  },
  {
   "cell_type": "code",
   "execution_count": 10,
   "metadata": {},
   "outputs": [
    {
     "name": "stdout",
     "output_type": "stream",
     "text": [
      "[1] \"H(X)= 0.976500468757824\"\n",
      "[1] \"H(Y)= 0.970950594454669\"\n",
      "[1] \"H(X|Y)= 1.95465885707785\"\n",
      "[1] \"H(Y|X)= 1.66405976366414\"\n"
     ]
    }
   ],
   "source": [
    "print(paste(\"H(X)=\", -1*((X_0/100)*log2(X_0/100)+(X_1/100)*log2(X_1/100))))\n",
    "print(paste(\"H(Y)=\", -1*((Y_0/100)*log2(Y_0/100)+(Y_1/100)*log2(Y_1/100))))\n",
    "print(paste(\"H(X|Y)=\", \n",
    "            -1*((XY_00/Y_0)*log2(XY_00/Y_0)+\n",
    "            (XY_10/Y_0)*log2(XY_10/Y_0)+\n",
    "            (XY_01/Y_1)*log2(XY_01/Y_1)+\n",
    "            (XY_11/Y_1)*log2(XY_11/Y_1))))\n",
    "print(paste(\"H(Y|X)=\", \n",
    "            -1*((XY_00/X_0)*log2(XY_00/X_0)+\n",
    "            (XY_10/X_0)*log2(XY_10/X_0)+\n",
    "            (XY_01/X_1)*log2(XY_01/X_1)+\n",
    "            (XY_11/X_1)*log2(XY_11/X_1))))"
   ]
  },
  {
   "cell_type": "markdown",
   "metadata": {},
   "source": [
    "***\n",
    "## Question 3: Correlation and covariance\n",
    "**Solution**: \n",
    "As X and Y are two standard Gaussian random variables, we have\n",
    "$$X\\sim N(\\mu_{X} ,{ \\sigma_{X}  }^{ 2 })\\Rightarrow X\\sim N(0,1)$$\n",
    "$$Y\\sim N(\\mu_{Y} ,{ \\sigma_{Y}  }^{ 2 })\\Rightarrow Y\\sim N(0,1)$$\n",
    "Then\n",
    "$$ E(X)=0, D(X)=1 $$\n",
    "$$ E(Y)=0, D(Y)=1 $$\n",
    "Since X and Y are mutual independent, as we have U = X - Y adn V = 2X +3Y, we can infer that U and V are also Gaussian distributon, we have\n",
    "$$ { C }_{ 1 }{ X }_{ 1 }+{ C }_{ 2 }{ X }_{ 2 }+\\cdots +{ C }_{ n }{ X }_{ n }\\sim N(\\sum _{ i=1 }^{ n }{ { C }_{ i }\\mu _{ i } } ,\\sum _{ i=1 }^{ n }{ { C }_{ i }^{ 2 }{ \\sigma  }_{ i }^{ 2 } } ) $$\n",
    "Then\n",
    "$$ U=X-Y\\sim N(0,1) $$\n",
    "$$ V=2X+3Y\\sim N(0,13) $$\n",
    "$$ E(U)=0, D(X)=1 $$\n",
    "$$ E(V)=0, D(Y)=13 $$\n",
    "As we need to justify what is the correlation and covariance between U and V, first we calculate the covariance, we have\n",
    "$$ Cov(U,V)=E\\{ [U-E(U)][V-E(V)]\\} \\\\ =E\\{ [X-Y-E(U)][2X+3Y-E(V)]\\} \\\\ =E\\{ 2{ X }^{ 2 }+3{ Y }^{ 2 }+XY-E(U)E(V)\\} \\\\ =E(XY)-E(U)E(V)\\\\ =E(X)E(Y)-E(U)E(V)=0 $$\n",
    "If $ Cov(U,V)=0 $ that means U and V have no correlation"
   ]
  },
  {
   "cell_type": "code",
   "execution_count": 11,
   "metadata": {},
   "outputs": [
    {
     "name": "stdout",
     "output_type": "stream",
     "text": [
      "[1] \"Correlation: 5.05057912955872e-05\"\n",
      "[1] \"Covariance: 0.000607979627712678\"\n"
     ]
    }
   ],
   "source": [
    "nRuns = 100000\n",
    "total_cor = 0\n",
    "total_cov = 0\n",
    "for (i in 1:nRuns){\n",
    "    U <-rnorm(1000,mean=0,sd=1)\n",
    "    V <-rnorm(1000,mean=0,sd=13)\n",
    "    total_cor = total_cor + cor(U,V)\n",
    "    total_cov = total_cov + cov(U,V)\n",
    "}\n",
    "cor_result <- total_cor/nRuns\n",
    "cov_result <- total_cov/nRuns\n",
    "print(paste(\"Correlation:\",cor_result))\n",
    "print(paste(\"Covariance:\",cov_result))"
   ]
  },
  {
   "cell_type": "markdown",
   "metadata": {},
   "source": [
    "## Question 4: Maximum likelihood estimation of parameters\n",
    "**Solution**:  \n",
    "As data `[4,3,2,4,6,3,4,0,5,6,4,4,4,5,3,3,4,5,4,5]` comes from a Poisson distribution with unknown parameter λ, we found the parameter by its likelihood function:\n",
    "$$\\log { f({ x }_{ 1 },{ x }_{ 2 },\\dots ,{ x }_{ n }|\\lambda ) } =-n\\lambda +\\sum _{ 1 }^{ n }{ { x }_{ i }\\log { \\lambda  }  } -\\sum _{ 1 }^{ n }{ \\log { { x }_{ i }! }  } $$\n",
    "Hence, "
   ]
  },
  {
   "cell_type": "code",
   "execution_count": 12,
   "metadata": {},
   "outputs": [],
   "source": [
    "P_data <- c(4,3,2,4,6,3,4,0,5,6,4,4,4,5,3,3,4,5,4,5)"
   ]
  },
  {
   "cell_type": "code",
   "execution_count": 13,
   "metadata": {},
   "outputs": [],
   "source": [
    "L <- function(lambda, data){\n",
    "    k_list <- as.double(names(table(P_data)))\n",
    "    n <- length(k_list)\n",
    "    sum_k = 0\n",
    "    sum_log_factorial = 0\n",
    "    result = 0\n",
    "    # compute the sum\n",
    "    for (i in 1:n){\n",
    "        k = k_list[i]\n",
    "        sum_k = sum_k + k\n",
    "        sum_log_factorial = sum_log_factorial + log10(factorial(k))\n",
    "    }\n",
    "    result = sum_k*log10(lambda) - sum_log_factorial - n*lambda\n",
    "    print(result)\n",
    "    return(result)\n",
    "}"
   ]
  },
  {
   "cell_type": "code",
   "execution_count": 14,
   "metadata": {},
   "outputs": [
    {
     "name": "stdout",
     "output_type": "stream",
     "text": [
      "[1] -18.67337\n",
      "[1] -28.6577\n",
      "[1] -14.09924\n",
      "[1] -12.8688\n",
      "[1] -13.39553\n",
      "[1] -12.88563\n",
      "[1] -12.86878\n",
      "[1] -12.86854\n",
      "[1] -12.93456\n",
      "[1] -12.86853\n",
      "[1] -12.86853\n",
      "[1] -12.86853\n"
     ]
    },
    {
     "data": {
      "text/html": [
       "<dl>\n",
       "\t<dt>$maximum</dt>\n",
       "\t\t<dd>1.44762265832693</dd>\n",
       "\t<dt>$objective</dt>\n",
       "\t\t<dd>-12.8685347380454</dd>\n",
       "</dl>\n"
      ],
      "text/latex": [
       "\\begin{description}\n",
       "\\item[\\$maximum] 1.44762265832693\n",
       "\\item[\\$objective] -12.8685347380454\n",
       "\\end{description}\n"
      ],
      "text/markdown": [
       "$maximum\n",
       ":   1.44762265832693\n",
       "$objective\n",
       ":   -12.8685347380454\n",
       "\n",
       "\n"
      ],
      "text/plain": [
       "$maximum\n",
       "[1] 1.447623\n",
       "\n",
       "$objective\n",
       "[1] -12.86853\n"
      ]
     },
     "metadata": {},
     "output_type": "display_data"
    }
   ],
   "source": [
    "optimize(L, interval=c(0,10),tol=0.001, data=P_data, maximum = T)"
   ]
  },
  {
   "cell_type": "markdown",
   "metadata": {},
   "source": [
    "Also,we do the point estimation to check:"
   ]
  },
  {
   "cell_type": "code",
   "execution_count": 15,
   "metadata": {},
   "outputs": [],
   "source": [
    "#Point Estimation\n",
    "PE <- function(data){\n",
    "    cnt <- table(data)\n",
    "    n <- length(data)\n",
    "    E = 0\n",
    "    for (i in 1:nrow(cnt)){\n",
    "        print(paste(\"value\",i,\"=\",as.double(names(cnt)[i]),\",\",\"P(\",i,\")=\",as.double(cnt[[i]])/n))\n",
    "        print(paste(\"E(X=\",as.double(names(cnt)[i]), \")= \",as.double(names(cnt)[i])*as.double(cnt[[i]])/n))\n",
    "        E = E + as.double(names(cnt)[i])*as.double(cnt[[i]])/n\n",
    "    }\n",
    "    print(paste(\"E(X)=\",E))\n",
    "}"
   ]
  },
  {
   "cell_type": "code",
   "execution_count": 16,
   "metadata": {},
   "outputs": [
    {
     "name": "stdout",
     "output_type": "stream",
     "text": [
      "[1] \"value 1 = 0 , P( 1 )= 0.05\"\n",
      "[1] \"E(X= 0 )=  0\"\n",
      "[1] \"value 2 = 2 , P( 2 )= 0.05\"\n",
      "[1] \"E(X= 2 )=  0.1\"\n",
      "[1] \"value 3 = 3 , P( 3 )= 0.2\"\n",
      "[1] \"E(X= 3 )=  0.6\"\n",
      "[1] \"value 4 = 4 , P( 4 )= 0.4\"\n",
      "[1] \"E(X= 4 )=  1.6\"\n",
      "[1] \"value 5 = 5 , P( 5 )= 0.2\"\n",
      "[1] \"E(X= 5 )=  1\"\n",
      "[1] \"value 6 = 6 , P( 6 )= 0.1\"\n",
      "[1] \"E(X= 6 )=  0.6\"\n",
      "[1] \"E(X)= 3.9\"\n"
     ]
    }
   ],
   "source": [
    "PE(P_data)"
   ]
  }
 ],
 "metadata": {
  "kernelspec": {
   "display_name": "R",
   "language": "R",
   "name": "ir"
  },
  "language_info": {
   "codemirror_mode": "r",
   "file_extension": ".r",
   "mimetype": "text/x-r-source",
   "name": "R",
   "pygments_lexer": "r",
   "version": "3.4.2"
  }
 },
 "nbformat": 4,
 "nbformat_minor": 2
}
